{
 "cells": [
  {
   "cell_type": "markdown",
   "metadata": {},
   "source": [
    "# Rusty Bargain Car Price Prediction"
   ]
  },
  {
   "cell_type": "markdown",
   "metadata": {},
   "source": [
    "## Introduccion"
   ]
  },
  {
   "cell_type": "markdown",
   "metadata": {},
   "source": [
    "El servicio de venta de autos usados Rusty Bargain está desarrollando una aplicación para atraer nuevos clientes. Gracias a esa app, puedes averiguar rápidamente el valor de mercado de tu coche. Tienes acceso al historial: especificaciones técnicas, versiones de equipamiento y precios. Tienes que crear un modelo que determine el valor de mercado.\n",
    "A Rusty Bargain le interesa:\n",
    "- la calidad de la predicción;\n",
    "- la velocidad de la predicción;\n",
    "- el tiempo requerido para el entrenamiento"
   ]
  },
  {
   "cell_type": "markdown",
   "metadata": {},
   "source": [
    "## Preparacion de datos"
   ]
  },
  {
   "cell_type": "code",
   "execution_count": 50,
   "metadata": {},
   "outputs": [],
   "source": [
    "import pandas as pd\n",
    "import numpy as np\n",
    "import time\n",
    "\n",
    "from sklearn.model_selection import train_test_split\n",
    "from sklearn.preprocessing import OneHotEncoder\n",
    "from sklearn.metrics import mean_squared_error\n",
    "\n",
    "from sklearn.linear_model import LinearRegression\n",
    "from sklearn.ensemble import RandomForestRegressor\n",
    "from sklearn.tree import DecisionTreeRegressor\n",
    "from catboost import CatBoostRegressor\n",
    "from xgboost import XGBRegressor\n",
    "import time\n",
    "import plotly.express as px\n",
    "import lightgbm as lgb"
   ]
  },
  {
   "cell_type": "code",
   "execution_count": 51,
   "metadata": {},
   "outputs": [
    {
     "name": "stdout",
     "output_type": "stream",
     "text": [
      "<class 'pandas.core.frame.DataFrame'>\n",
      "RangeIndex: 354369 entries, 0 to 354368\n",
      "Data columns (total 16 columns):\n",
      " #   Column             Non-Null Count   Dtype \n",
      "---  ------             --------------   ----- \n",
      " 0   DateCrawled        354369 non-null  object\n",
      " 1   Price              354369 non-null  int64 \n",
      " 2   VehicleType        316879 non-null  object\n",
      " 3   RegistrationYear   354369 non-null  int64 \n",
      " 4   Gearbox            334536 non-null  object\n",
      " 5   Power              354369 non-null  int64 \n",
      " 6   Model              334664 non-null  object\n",
      " 7   Mileage            354369 non-null  int64 \n",
      " 8   RegistrationMonth  354369 non-null  int64 \n",
      " 9   FuelType           321474 non-null  object\n",
      " 10  Brand              354369 non-null  object\n",
      " 11  NotRepaired        283215 non-null  object\n",
      " 12  DateCreated        354369 non-null  object\n",
      " 13  NumberOfPictures   354369 non-null  int64 \n",
      " 14  PostalCode         354369 non-null  int64 \n",
      " 15  LastSeen           354369 non-null  object\n",
      "dtypes: int64(7), object(9)\n",
      "memory usage: 43.3+ MB\n"
     ]
    },
    {
     "data": {
      "text/plain": [
       "DateCrawled              0\n",
       "Price                    0\n",
       "VehicleType          37490\n",
       "RegistrationYear         0\n",
       "Gearbox              19833\n",
       "Power                    0\n",
       "Model                19705\n",
       "Mileage                  0\n",
       "RegistrationMonth        0\n",
       "FuelType             32895\n",
       "Brand                    0\n",
       "NotRepaired          71154\n",
       "DateCreated              0\n",
       "NumberOfPictures         0\n",
       "PostalCode               0\n",
       "LastSeen                 0\n",
       "dtype: int64"
      ]
     },
     "execution_count": 51,
     "metadata": {},
     "output_type": "execute_result"
    }
   ],
   "source": [
    "df = pd.read_csv('/datasets/car_data.csv')\n",
    "df.info()\n",
    "df.describe()\n",
    "df.isna().sum()"
   ]
  },
  {
   "cell_type": "markdown",
   "metadata": {},
   "source": [
    "## Limpieza de datos"
   ]
  },
  {
   "cell_type": "code",
   "execution_count": 52,
   "metadata": {},
   "outputs": [],
   "source": [
    "#Eliminacion de entradas con precio cero o extremadamente altos\n",
    "df = df.query('Price > 100 and Price < 100000')\n",
    "\n",
    "#Eliminacion de años improbables\n",
    "df = df.query('RegistrationYear >= 1990 and RegistrationYear <= 2022')\n",
    "\n",
    "#Relleno de valores faltantes\n",
    "for column in ['VehicleType', 'FuelType', 'Gearbox', 'Model', 'NotRepaired']:\n",
    "    df[column] = df[column].fillna('unknown')\n",
    "\n",
    "#Eliminacion de columnas poco utiles\n",
    "df = df.drop(columns=['DateCrawled', 'DateCreated', 'NumberOfPictures', 'PostalCode', 'LastSeen'])\n",
    "\n",
    "#Codificacion categorica\n",
    "df = pd.get_dummies(df, drop_first=True)\n",
    "\n",
    "#Separacion de variables\n",
    "target = df['Price']\n",
    "features = df.drop(columns=['Price'])\n",
    "\n",
    "X_train, X_test, y_train, y_test = train_test_split(features, target, test_size=0.2, random_state=42)"
   ]
  },
  {
   "cell_type": "markdown",
   "metadata": {},
   "source": [
    "## Definicion de metrica RECM"
   ]
  },
  {
   "cell_type": "code",
   "execution_count": 32,
   "metadata": {},
   "outputs": [],
   "source": [
    "def recm(y_true, y_pred):\n",
    "    return np.sqrt(mean_squared_error(y_true, y_pred))"
   ]
  },
  {
   "cell_type": "markdown",
   "metadata": {},
   "source": [
    "## Regresion lineal (para hacer la prueba de cordura)"
   ]
  },
  {
   "cell_type": "code",
   "execution_count": 33,
   "metadata": {},
   "outputs": [
    {
     "name": "stdout",
     "output_type": "stream",
     "text": [
      "RECM (Linear Regression): 2559.373659775109\n"
     ]
    }
   ],
   "source": [
    "model_lr = LinearRegression()\n",
    "model_lr.fit(X_train, y_train)\n",
    "pred_lr = model_lr.predict(X_test)\n",
    "print(\"RECM (Linear Regression):\", recm(y_test, pred_lr))"
   ]
  },
  {
   "cell_type": "markdown",
   "metadata": {},
   "source": [
    "## Arbol de decision y bosque aleatorio"
   ]
  },
  {
   "cell_type": "code",
   "execution_count": 36,
   "metadata": {},
   "outputs": [
    {
     "name": "stdout",
     "output_type": "stream",
     "text": [
      "RECM (Decision Tree): 1956.9194011205634\n"
     ]
    }
   ],
   "source": [
    "#Arbol\n",
    "model_tree = DecisionTreeRegressor(max_depth=10, random_state=42)\n",
    "model_tree.fit(X_train, y_train)\n",
    "pred_tree = model_tree.predict(X_test)\n",
    "print(\"RECM (Decision Tree):\", recm(y_test, pred_tree))"
   ]
  },
  {
   "cell_type": "code",
   "execution_count": 35,
   "metadata": {},
   "outputs": [
    {
     "name": "stdout",
     "output_type": "stream",
     "text": [
      "RECM (Random Forest): 1656.3337569709167\n"
     ]
    }
   ],
   "source": [
    "#Bosque Aleatorio\n",
    "model_rf = RandomForestRegressor(n_estimators=30, max_depth=15,n_jobs=1, random_state=42)\n",
    "model_rf.fit(X_train, y_train)\n",
    "pred_rf = model_rf.predict(X_test)\n",
    "print(\"RECM (Random Forest):\", recm(y_test, pred_rf))"
   ]
  },
  {
   "cell_type": "markdown",
   "metadata": {},
   "source": [
    "## LightGBM"
   ]
  },
  {
   "cell_type": "code",
   "execution_count": 37,
   "metadata": {},
   "outputs": [
    {
     "name": "stdout",
     "output_type": "stream",
     "text": [
      "RECM (LightGBM): 1881.0463170238854\n"
     ]
    }
   ],
   "source": [
    "model_lgbm = lgb.LGBMRegressor(num_leaves=31, learning_rate=0.1, n_estimators=30)\n",
    "model_lgbm.fit(X_train, y_train)\n",
    "pred_lgbm = model_lgbm.predict(X_test)\n",
    "print(\"RECM (LightGBM):\", recm(y_test, pred_lgbm))"
   ]
  },
  {
   "cell_type": "markdown",
   "metadata": {},
   "source": [
    "## CatBoost"
   ]
  },
  {
   "cell_type": "code",
   "execution_count": 38,
   "metadata": {},
   "outputs": [
    {
     "name": "stdout",
     "output_type": "stream",
     "text": [
      "RECM (CatBoost): 1791.8967313104981\n"
     ]
    }
   ],
   "source": [
    "model_cat = CatBoostRegressor(verbose=0, iterations=100, learning_rate=0.1)\n",
    "model_cat.fit(X_train, y_train)\n",
    "pred_cat = model_cat.predict(X_test)\n",
    "print(\"RECM (CatBoost):\", recm(y_test, pred_cat))"
   ]
  },
  {
   "cell_type": "markdown",
   "metadata": {},
   "source": [
    "## XGBoost"
   ]
  },
  {
   "cell_type": "code",
   "execution_count": 39,
   "metadata": {},
   "outputs": [
    {
     "name": "stdout",
     "output_type": "stream",
     "text": [
      "RECM (XGBoost): 1871.6419919348762\n"
     ]
    }
   ],
   "source": [
    "model_xgb = XGBRegressor(n_estimators=30, learning_rate=0.1, max_depth=6)\n",
    "model_xgb.fit(X_train, y_train)\n",
    "pred_xgb = model_xgb.predict(X_test)\n",
    "print(\"RECM (XGBoost):\", recm(y_test, pred_xgb))"
   ]
  },
  {
   "cell_type": "markdown",
   "metadata": {},
   "source": [
    "## Comparacion de rendimiento"
   ]
  },
  {
   "cell_type": "code",
   "execution_count": 40,
   "metadata": {},
   "outputs": [
    {
     "name": "stdout",
     "output_type": "stream",
     "text": [
      "Regresion Lineal: RECM=2559.37, Train Time=8.53s, Predict Time=0.18s\n",
      "Bosque Aleatorio: RECM=1550.23, Train Time=107.53s, Predict Time=0.99s\n"
     ]
    }
   ],
   "source": [
    "def measure_model(model, name):\n",
    "    start = time.time()\n",
    "    model.fit(X_train, y_train)\n",
    "    train_time = time.time() - start\n",
    "\n",
    "    start = time.time()\n",
    "    preds = model.predict(X_test)\n",
    "    predict_time = time.time() - start\n",
    "\n",
    "    score = recm(y_test, preds)\n",
    "    print(f\"{name}: RECM={score:.2f}, Train Time={train_time:.2f}s, Predict Time={predict_time:.2f}s\")\n",
    "\n",
    "measure_model(LinearRegression(), \"Regresion Lineal\")\n",
    "measure_model(RandomForestRegressor(n_estimators=30), \"Bosque Aleatorio\")"
   ]
  },
  {
   "cell_type": "markdown",
   "metadata": {},
   "source": [
    "## Hallazgos\n",
    "\n",
    "Desde mi punto de vista y viendo los resultados el mejor modelo en precision fue Random Forest, seguido de CatBoost y Arbol de decision.\n",
    "\n",
    "Regresion lineal tuvo el peor desempeño como se esperaba y me sirvio bien como prueba de cordura ya que cualquier modelo con peor RECM que el lineal tendria que ser reexaminado.\n",
    "\n",
    "Ahora viendo los tiempos de entrenamiento y prediccion me di cuenta que aunque el bosque aleatorio fue el mas preciso, entrenarlo fue el mas costoso en tiempo."
   ]
  },
  {
   "cell_type": "markdown",
   "metadata": {},
   "source": [
    "## Conclusion\n",
    "\n",
    "En base a los resultados obtenidos, lorge determinar que el modelo de Bosque Aleatorio logra la mejor calidad de prediccion de acuerdo a la metrica RECM.\n",
    "\n",
    "Por otro lado CatBoost y LightGBM muestran un desempeño competitivo en precision, con tiempos de entrenamiento moderados y ventajas especificas como el manejo automatico de variables categoricas.\n",
    "\n",
    "Finalmente, la Regresion Lineal cumple su funcion como prueba de cordura, ya que al tener un RECM significativamente mas alto, valida que los modelos mas sofisticados estan mejor generalizando."
   ]
  }
 ],
 "metadata": {
  "kernelspec": {
   "display_name": "Python 3 (ipykernel)",
   "language": "python",
   "name": "python3"
  },
  "language_info": {
   "codemirror_mode": {
    "name": "ipython",
    "version": 3
   },
   "file_extension": ".py",
   "mimetype": "text/x-python",
   "name": "python",
   "nbconvert_exporter": "python",
   "pygments_lexer": "ipython3",
   "version": "3.9.23"
  }
 },
 "nbformat": 4,
 "nbformat_minor": 4
}
