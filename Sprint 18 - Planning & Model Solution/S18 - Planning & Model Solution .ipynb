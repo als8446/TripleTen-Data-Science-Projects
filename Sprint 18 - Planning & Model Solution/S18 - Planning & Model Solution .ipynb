{
 "cells": [
  {
   "cell_type": "markdown",
   "metadata": {},
   "source": [
    "# Planning & Model Solution"
   ]
  },
  {
   "cell_type": "code",
   "execution_count": 101,
   "metadata": {},
   "outputs": [],
   "source": [
    "import pandas as pd\n",
    "import numpy as np\n",
    "from sklearn.model_selection import train_test_split\n",
    "from sklearn.preprocessing import LabelEncoder\n",
    "from sklearn.metrics import classification_report, roc_auc_score, average_precision_score, accuracy_score\n",
    "from lightgbm import LGBMClassifier\n",
    "import matplotlib.pyplot as plt\n",
    "import seaborn as sns"
   ]
  },
  {
   "cell_type": "markdown",
   "metadata": {},
   "source": [
    "# Carga de datos"
   ]
  },
  {
   "cell_type": "code",
   "execution_count": 102,
   "metadata": {},
   "outputs": [],
   "source": [
    "path = '/datasets/final_provider/'\n",
    "df_contract = pd.read_csv(path + 'contract.csv')\n",
    "df_personal = pd.read_csv(path + 'personal.csv')\n",
    "df_internet = pd.read_csv(path + 'internet.csv')\n",
    "df_phone = pd.read_csv(path + 'phone.csv')"
   ]
  },
  {
   "cell_type": "markdown",
   "metadata": {},
   "source": [
    "# Union de datasets\n",
    "\n",
    "Procedi a unir los datasets porque cada uno contiene informacion parcial sobre los mismos clientes y al combinarlos usando customerID, logramos una vista completa de cada persona con sus datos personales, servicios contratados, tipo de contrato y uso de telefono e internet.\n",
    "\n",
    "Al hacer este proceso sera de mucha utilidad para entrenar un modelo robusto, ya que la cancelacion de un cliente puede depender de muchos factores que estan distribuidos en diferentes archivos ya que si no los unieramos el modelo estaria practicamente ciego a mucha informacion impresindible para el entrenamieto del mismo.\n"
   ]
  },
  {
   "cell_type": "code",
   "execution_count": 103,
   "metadata": {},
   "outputs": [
    {
     "name": "stdout",
     "output_type": "stream",
     "text": [
      "      customerID   BeginDate              EndDate            Type  \\\n",
      "0     5575-GNVDE  2017-04-01                   No        One year   \n",
      "1     3668-QPYBK  2019-10-01  2019-12-01 00:00:00  Month-to-month   \n",
      "2     9237-HQITU  2019-09-01  2019-11-01 00:00:00  Month-to-month   \n",
      "3     9305-CDSKC  2019-03-01  2019-11-01 00:00:00  Month-to-month   \n",
      "4     1452-KIOVK  2018-04-01                   No  Month-to-month   \n",
      "...          ...         ...                  ...             ...   \n",
      "4830  8456-QDAVC  2018-07-01                   No  Month-to-month   \n",
      "4831  6840-RESVB  2018-02-01                   No        One year   \n",
      "4832  2234-XADUH  2014-02-01                   No        One year   \n",
      "4833  8361-LTMKD  2019-07-01  2019-11-01 00:00:00  Month-to-month   \n",
      "4834  3186-AJIEK  2014-08-01                   No        Two year   \n",
      "\n",
      "     PaperlessBilling              PaymentMethod  MonthlyCharges TotalCharges  \\\n",
      "0                  No               Mailed check           56.95       1889.5   \n",
      "1                 Yes               Mailed check           53.85       108.15   \n",
      "2                 Yes           Electronic check           70.70       151.65   \n",
      "3                 Yes           Electronic check           99.65        820.5   \n",
      "4                 Yes    Credit card (automatic)           89.10       1949.4   \n",
      "...               ...                        ...             ...          ...   \n",
      "4830              Yes  Bank transfer (automatic)           78.70       1495.1   \n",
      "4831              Yes               Mailed check           84.80       1990.5   \n",
      "4832              Yes    Credit card (automatic)          103.20       7362.9   \n",
      "4833              Yes               Mailed check           74.40        306.6   \n",
      "4834              Yes  Bank transfer (automatic)          105.65       6844.5   \n",
      "\n",
      "      gender  SeniorCitizen Partner Dependents InternetService OnlineSecurity  \\\n",
      "0       Male              0      No         No             DSL            Yes   \n",
      "1       Male              0      No         No             DSL            Yes   \n",
      "2     Female              0      No         No     Fiber optic             No   \n",
      "3     Female              0      No         No     Fiber optic             No   \n",
      "4       Male              0      No        Yes     Fiber optic             No   \n",
      "...      ...            ...     ...        ...             ...            ...   \n",
      "4830    Male              0      No         No     Fiber optic             No   \n",
      "4831    Male              0     Yes        Yes             DSL            Yes   \n",
      "4832  Female              0     Yes        Yes     Fiber optic             No   \n",
      "4833    Male              1     Yes         No     Fiber optic             No   \n",
      "4834    Male              0      No         No     Fiber optic            Yes   \n",
      "\n",
      "     OnlineBackup DeviceProtection TechSupport StreamingTV StreamingMovies  \\\n",
      "0              No              Yes          No          No              No   \n",
      "1             Yes               No          No          No              No   \n",
      "2              No               No          No          No              No   \n",
      "3              No              Yes          No         Yes             Yes   \n",
      "4             Yes               No          No         Yes              No   \n",
      "...           ...              ...         ...         ...             ...   \n",
      "4830           No               No          No         Yes              No   \n",
      "4831           No              Yes         Yes         Yes             Yes   \n",
      "4832          Yes              Yes          No         Yes             Yes   \n",
      "4833           No               No          No          No              No   \n",
      "4834           No              Yes         Yes         Yes             Yes   \n",
      "\n",
      "     MultipleLines  \n",
      "0               No  \n",
      "1               No  \n",
      "2               No  \n",
      "3              Yes  \n",
      "4              Yes  \n",
      "...            ...  \n",
      "4830            No  \n",
      "4831           Yes  \n",
      "4832           Yes  \n",
      "4833           Yes  \n",
      "4834            No  \n",
      "\n",
      "[4835 rows x 20 columns]\n",
      "<class 'pandas.core.frame.DataFrame'>\n",
      "Int64Index: 4835 entries, 0 to 4834\n",
      "Data columns (total 20 columns):\n",
      " #   Column            Non-Null Count  Dtype  \n",
      "---  ------            --------------  -----  \n",
      " 0   customerID        4835 non-null   object \n",
      " 1   BeginDate         4835 non-null   object \n",
      " 2   EndDate           4835 non-null   object \n",
      " 3   Type              4835 non-null   object \n",
      " 4   PaperlessBilling  4835 non-null   object \n",
      " 5   PaymentMethod     4835 non-null   object \n",
      " 6   MonthlyCharges    4835 non-null   float64\n",
      " 7   TotalCharges      4835 non-null   object \n",
      " 8   gender            4835 non-null   object \n",
      " 9   SeniorCitizen     4835 non-null   int64  \n",
      " 10  Partner           4835 non-null   object \n",
      " 11  Dependents        4835 non-null   object \n",
      " 12  InternetService   4835 non-null   object \n",
      " 13  OnlineSecurity    4835 non-null   object \n",
      " 14  OnlineBackup      4835 non-null   object \n",
      " 15  DeviceProtection  4835 non-null   object \n",
      " 16  TechSupport       4835 non-null   object \n",
      " 17  StreamingTV       4835 non-null   object \n",
      " 18  StreamingMovies   4835 non-null   object \n",
      " 19  MultipleLines     4835 non-null   object \n",
      "dtypes: float64(1), int64(1), object(18)\n",
      "memory usage: 793.2+ KB\n"
     ]
    }
   ],
   "source": [
    "df = df_contract.merge(df_personal, on='customerID') \\\n",
    "                .merge(df_internet, on='customerID') \\\n",
    "                .merge(df_phone, on='customerID')\n",
    "\n",
    "print(df)\n",
    "df.info()"
   ]
  },
  {
   "cell_type": "markdown",
   "metadata": {},
   "source": [
    "# Limpieza y preprocesamiento"
   ]
  },
  {
   "cell_type": "code",
   "execution_count": 104,
   "metadata": {},
   "outputs": [],
   "source": [
    "df.replace(\" \", np.nan, inplace=True)\n",
    "df.dropna(inplace=True)"
   ]
  },
  {
   "cell_type": "markdown",
   "metadata": {},
   "source": [
    "# Definicion de variable objetivo churn = 1 si EndDate ≠ \"No\"\n",
    "\n",
    "Al definir churn = 1 si EndDate ≠ \"No\" estamos etiquetando de manera correcta a los clientes que se han ido, que es justo lo que andamos buscando predecir,con dicha señal estamos permitiendole posteriormente al modelo entender y usar dicha informacion para aprender patrones de las cancelaciones de los planes."
   ]
  },
  {
   "cell_type": "code",
   "execution_count": 105,
   "metadata": {},
   "outputs": [],
   "source": [
    "df['Churn'] = (df['EndDate'] != 'No').astype(int)"
   ]
  },
  {
   "cell_type": "markdown",
   "metadata": {},
   "source": [
    "# Codificacion de variables categoricas\n",
    "\n",
    "Es importante la codificacion de variables categoricas porque los modelos en general no pueden trabajar directamente con texto o etiquetas como \"Male\", \"Fiber\", \"Yes\", etc. Por lo que debemos pasarlo a un formato numerico para que interprete patrones, calcular informacion para poder llegar a tomar decisiones basado en valores."
   ]
  },
  {
   "cell_type": "code",
   "execution_count": 106,
   "metadata": {},
   "outputs": [],
   "source": [
    "drop_cols = ['customerID']\n",
    "cat_cols = df.select_dtypes(include='object').columns\n",
    "cat_cols = [col for col in cat_cols if col not in drop_cols]\n",
    "\n",
    "le = LabelEncoder()\n",
    "for col in cat_cols:\n",
    "    df[col] = le.fit_transform(df[col])"
   ]
  },
  {
   "cell_type": "markdown",
   "metadata": {},
   "source": [
    "# Ingenieria de features adicionales\n",
    "\n",
    "La realizacion de ingenieria de features adicionales nace a raiz de crear nuevas variable que captures el mejor comportamiento del cliente que nuevamente ayude al modelo a detectar patrones muchos mas relevantes, ya que nos ayuda a contruir la capacidada predictiva del modelo para mejorar el entidimiento de la informacion como tal."
   ]
  },
  {
   "cell_type": "code",
   "execution_count": 107,
   "metadata": {},
   "outputs": [],
   "source": [
    "servicios = ['DeviceProtection', 'OnlineSecurity', 'OnlineBackup',\n",
    "             'TechSupport', 'StreamingTV', 'StreamingMovies']\n",
    "df['TotalServicios'] = df[servicios].apply(lambda x: (x == 1).sum(), axis=1)"
   ]
  },
  {
   "cell_type": "markdown",
   "metadata": {},
   "source": [
    "# Division de datos"
   ]
  },
  {
   "cell_type": "code",
   "execution_count": 108,
   "metadata": {},
   "outputs": [],
   "source": [
    "X = df.drop(['customerID', 'Churn', 'EndDate'], axis=1)\n",
    "y = df['Churn']\n",
    "X_train, X_test, y_train, y_test = train_test_split(X, y, stratify=y, test_size=0.2, random_state=42)"
   ]
  },
  {
   "cell_type": "markdown",
   "metadata": {},
   "source": [
    "# Entrenamiento de modelo"
   ]
  },
  {
   "cell_type": "code",
   "execution_count": 109,
   "metadata": {},
   "outputs": [
    {
     "data": {
      "text/plain": [
       "LGBMClassifier(random_state=42)"
      ]
     },
     "execution_count": 109,
     "metadata": {},
     "output_type": "execute_result"
    }
   ],
   "source": [
    "model = LGBMClassifier(random_state=42)\n",
    "model.fit(X_train, y_train)"
   ]
  },
  {
   "cell_type": "markdown",
   "metadata": {},
   "source": [
    "# Evaluacion \n",
    "\n",
    "Vemos que el modelo tiene una exactitud del 84.6% el cual nos deja saber que acierta la mayoria de los casos, el AUC-ROC 0.910 tiene excelente capacidad para distinguir entre clientes que cancelan y los que no y por ultimo el Average Precision Score 0.869 nos da un buen rendimiento en escenarios desbalanceados."
   ]
  },
  {
   "cell_type": "code",
   "execution_count": 110,
   "metadata": {},
   "outputs": [
    {
     "name": "stdout",
     "output_type": "stream",
     "text": [
      "\n",
      " Reporte de clasificacion:\n",
      "              precision    recall  f1-score   support\n",
      "\n",
      "           0       0.85      0.93      0.89       650\n",
      "           1       0.83      0.67      0.74       317\n",
      "\n",
      "    accuracy                           0.85       967\n",
      "   macro avg       0.84      0.80      0.81       967\n",
      "weighted avg       0.84      0.85      0.84       967\n",
      "\n",
      "ROC AUC: 0.910\n",
      "Average Precision Score: 0.869\n",
      "Exactitud: 0.846\n"
     ]
    }
   ],
   "source": [
    "\n",
    "y_pred = model.predict(X_test)\n",
    "y_proba = model.predict_proba(X_test)[:, 1]\n",
    "\n",
    "print(\"\\n Reporte de clasificacion:\")\n",
    "print(classification_report(y_test, y_pred))\n",
    "print(f\"ROC AUC: {roc_auc_score(y_test, y_proba):.3f}\")\n",
    "print(f\"Average Precision Score: {average_precision_score(y_test, y_proba):.3f}\")\n",
    "print(f\"Exactitud: {accuracy_score(y_test, y_pred):.3f}\")\n"
   ]
  },
  {
   "cell_type": "markdown",
   "metadata": {},
   "source": [
    "# Importancia de variables\n",
    "\n",
    "1. BeginDate: Es la variable mas influyente y los clientes con contratos mas antiguos podrian tener mayor probabilidad de cancelar, posiblemente por desgaste, cambios en necesidades o mejores ofertas externas a lo que nos lleva a que la organizacion debe de gestionar planes de contigencia de retencion de clientes antiguos.\n",
    "\n",
    "2. TotalCharges y MonthlyCharges: son fuertes predictores ya que los clientes que pagan mas podrian tener expectativas mas altas o estar mas sensibles a costos, lo que puede los puede llevar en su decision de cancelar.\n",
    "\n",
    "3. Type y PaymentMethod: El tipo de contrato (mensual vs anual) y el método de pago afectan el churn, porque los contratos mensuales suelen tener mayor riesgo de cancelacion por su flexibilidad y como recomendacion algunos metodos como tarjeta de credito o debito automatico pueden ayudarnos a tener una mayor retencion en los clientes.\n",
    "\n",
    "4. PaperlessBilling, SeniorCitizen, Partner: Variables demograficas y de comportamiento que aportan contexto, por poner un ejemplo, los clientes mayores o sin pareja podrían tener patrones distintos de uso o cancelacion.\n",
    "\n",
    "5. OnlineSecurity, TechSupport, StreamingMovies: Los servicios contratados tambien influyen, porque segun las tendencias del mercado los clientes que usan mas servicios tienden a estar mas comprometidos, lo que reduce el riesgo de perdida de clientes segun en patrones antes vistos."
   ]
  },
  {
   "cell_type": "code",
   "execution_count": 111,
   "metadata": {},
   "outputs": [
    {
     "data": {
      "image/png": "[encoded data removed]",
      "text/plain": [
       "<Figure size 1000x600 with 1 Axes>"
      ]
     },
     "metadata": {},
     "output_type": "display_data"
    }
   ],
   "source": [
    "importancia = pd.DataFrame({'Feature': X.columns, 'Importancia': model.feature_importances_})\n",
    "importancia.sort_values(by='Importancia', ascending=False, inplace=True)\n",
    "\n",
    "plt.figure(figsize=(10,6))\n",
    "sns.barplot(data=importancia.head(15), x='Importancia', y='Feature', palette='viridis')\n",
    "plt.title('Principales variables que explican el churn')\n",
    "plt.tight_layout()\n",
    "plt.show()"
   ]
  },
  {
   "cell_type": "markdown",
   "metadata": {},
   "source": [
    "# Accion de negocio "
   ]
  },
  {
   "cell_type": "code",
   "execution_count": 112,
   "metadata": {},
   "outputs": [
    {
     "name": "stdout",
     "output_type": "stream",
     "text": [
      "\n",
      " Clientes en riesgo: 165\n"
     ]
    }
   ],
   "source": [
    "df_test = df.loc[X_test.index].copy()\n",
    "df_test['ProbabilidadChurn'] = y_proba\n",
    "clientes_riesgo = df_test[df_test['ProbabilidadChurn'] > 0.7]\n",
    "print(f\"\\n Clientes en riesgo: {len(clientes_riesgo)}\")"
   ]
  },
  {
   "cell_type": "markdown",
   "metadata": {},
   "source": [
    "# Evaluacion SP (segun AUC-ROC)\n",
    "\n",
    "Vemos que el AUC-ROC (0.910): 6 SP es el maximo posible, dandonos la perspectiva que el modelo es confiable y preciso con un pipeline robusto."
   ]
  },
  {
   "cell_type": "code",
   "execution_count": 114,
   "metadata": {},
   "outputs": [
    {
     "name": "stdout",
     "output_type": "stream",
     "text": [
      "\n",
      " Puntaje SP segun AUC-ROC (0.910): 6 SP\n"
     ]
    }
   ],
   "source": [
    "auc = roc_auc_score(y_test, y_proba)\n",
    "if auc < 0.75:\n",
    "    sp = 0\n",
    "elif auc < 0.81:\n",
    "    sp = 4\n",
    "elif auc < 0.85:\n",
    "    sp = 4.5\n",
    "elif auc < 0.87:\n",
    "    sp = 5\n",
    "elif auc < 0.88:\n",
    "    sp = 5.5\n",
    "else:\n",
    "    sp = 6\n",
    "\n",
    "print(f\"\\n Puntaje SP segun AUC-ROC ({auc:.3f}): {sp} SP\")"
   ]
  },
  {
   "cell_type": "markdown",
   "metadata": {},
   "source": [
    "# Conclusion\n",
    "\n",
    "Hemos llegado ha contruir un modelo de clasificacion eficiente para predecir la cancelacion de clientes, logrando una AUC-ROC de 0.910 y una exactitud de 84.6%, lo que nos da un nivel alto en puntuacion 6 SP, con este rendimiento demuestra que el modelo distingue con precision entre clientes activos y cancelados.\n",
    "\n",
    "Ahora bien, la ingenieria de features es la correcta definicion de la variable objetivo y la eliminacion de fugas de informacion fueron claves para alcanzar este resultado. Ademas, la identificacion de 165 clientes en riesgo abre una puerta directa a estrategias de retencion personalizadas que pueden traducirse en ahorro y fidelizacion.\n",
    "\n",
    "Las variables mas influyentes como fecha de inicio, cargos mensuales y tipo de contrato ofrecen hallazgos accionables para el negocio, permitiendo al equipo de marketing enfocar sus esfuerzos donde realmente importa que para mi perspectiva una de las recomendaciones es generar planes de contigencia para retencion de clientes y de esta forma poder reducir el riesgo de los clientes que pueden abandonar o cancelar los planes.\n"
   ]
  }
 ],
 "metadata": {
  "kernelspec": {
   "display_name": "Python 3 (ipykernel)",
   "language": "python",
   "name": "python3"
  },
  "language_info": {
   "codemirror_mode": {
    "name": "ipython",
    "version": 3
   },
   "file_extension": ".py",
   "mimetype": "text/x-python",
   "name": "python",
   "nbconvert_exporter": "python",
   "pygments_lexer": "ipython3",
   "version": "3.9.23"
  }
 },
 "nbformat": 4,
 "nbformat_minor": 4
}
