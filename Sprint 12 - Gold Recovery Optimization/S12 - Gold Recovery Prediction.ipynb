{
 "cells": [
  {
   "cell_type": "markdown",
   "metadata": {},
   "source": [
    "# Gold Recovery Prediction"
   ]
  },
  {
   "cell_type": "markdown",
   "metadata": {},
   "source": [
    "## Carga y preparacion de los datos"
   ]
  },
  {
   "cell_type": "code",
   "execution_count": 11,
   "metadata": {},
   "outputs": [],
   "source": [
    "import pandas as pd\n",
    "import numpy as np\n",
    "import seaborn as sns\n",
    "import matplotlib.pyplot as plt\n",
    "from sklearn.ensemble import RandomForestRegressor\n",
    "from sklearn.linear_model import LinearRegression\n",
    "from sklearn.tree import DecisionTreeRegressor\n",
    "from sklearn.model_selection import cross_val_score, train_test_split, TimeSeriesSplit\n",
    "from sklearn.metrics import make_scorer\n",
    "from sklearn.impute import SimpleImputer\n",
    "from sklearn.preprocessing import StandardScaler\n",
    "from sklearn.pipeline import Pipeline\n",
    "from scipy.stats import ks_2samp"
   ]
  },
  {
   "cell_type": "code",
   "execution_count": 12,
   "metadata": {},
   "outputs": [
    {
     "name": "stdout",
     "output_type": "stream",
     "text": [
      "Train: (16860, 86)\n",
      "Test: (5856, 52)\n",
      "Full: (22716, 86)\n"
     ]
    }
   ],
   "source": [
    "# Cargar conjuntos de datos\n",
    "df_full = pd.read_csv('/datasets/gold_recovery_full.csv', index_col='date', parse_dates=True)\n",
    "df_train = pd.read_csv('/datasets/gold_recovery_train.csv', index_col='date', parse_dates=True)\n",
    "df_test = pd.read_csv('/datasets/gold_recovery_test.csv', index_col='date', parse_dates=True)\n",
    "\n",
    "print(\"Train:\", df_train.shape)\n",
    "print(\"Test:\", df_test.shape)\n",
    "print(\"Full:\", df_full.shape)\n"
   ]
  },
  {
   "cell_type": "markdown",
   "metadata": {},
   "source": [
    "## Analisis de los datos\n",
    "\n",
    "Verifique la formula de calculo para rougher.output.recovery mediante el conjunto Train como tal y el error absoluto medio brindo un resultado de 0.0000."
   ]
  },
  {
   "cell_type": "code",
   "execution_count": 13,
   "metadata": {},
   "outputs": [
    {
     "name": "stdout",
     "output_type": "stream",
     "text": [
      "Error absoluto medio: 0.0000\n"
     ]
    }
   ],
   "source": [
    "#Calculo de recuperacion y validacion\n",
    "\n",
    "def calcular_recuperacion(df):\n",
    "    with np.errstate(divide='ignore', invalid='ignore'):\n",
    "        recovery = (df['rougher.output.concentrate_au'] * \n",
    "                    (df['rougher.input.feed_au'] - df['rougher.output.tail_au'])) /                     (df['rougher.input.feed_au'] * (df['rougher.output.concentrate_au'] - df['rougher.output.tail_au'])) * 100\n",
    "        return recovery.replace([np.inf, -np.inf], np.nan)\n",
    "\n",
    "df_train['calculated_recovery'] = calcular_recuperacion(df_train)\n",
    "eam = np.mean(np.abs(df_train['calculated_recovery'] - df_train['rougher.output.recovery']))\n",
    "print(f\"Error absoluto medio: {eam:.4f}\")\n"
   ]
  },
  {
   "cell_type": "markdown",
   "metadata": {},
   "source": [
    "## Columnas ausentes\n",
    "\n",
    "Logre encontrar 34 columnas presentes en el conjunto de Train pero ausentes en el conjunto de Test en las cuales viene incluida la siguiente informacion como variables relacionadas con la recuperacion (rougher.output.recovery, final.output.recovery), variables (au_pb_ratio, sulfate_to_au_), entre otras pero esto nos lleva a que los datos de Test no tienen variables que son meramente dependientes de los resultados del procesamiento real en si, ya que ye seran usadas para predicion como tal.\n"
   ]
  },
  {
   "cell_type": "code",
   "execution_count": 14,
   "metadata": {
    "scrolled": true
   },
   "outputs": [
    {
     "name": "stdout",
     "output_type": "stream",
     "text": [
      "Columnas no presentes en test: {'rougher.calculation.au_pb_ratio', 'final.output.concentrate_pb', 'rougher.calculation.floatbank11_sulfate_to_au_feed', 'primary_cleaner.output.concentrate_pb', 'rougher.calculation.floatbank10_sulfate_to_au_feed', 'primary_cleaner.output.tail_pb', 'secondary_cleaner.output.tail_ag', 'final.output.concentrate_sol', 'rougher.output.recovery', 'final.output.concentrate_au', 'primary_cleaner.output.concentrate_ag', 'rougher.output.tail_sol', 'final.output.tail_sol', 'rougher.output.concentrate_au', 'final.output.tail_ag', 'secondary_cleaner.output.tail_au', 'rougher.output.concentrate_pb', 'primary_cleaner.output.tail_ag', 'rougher.output.concentrate_ag', 'final.output.tail_au', 'rougher.output.concentrate_sol', 'primary_cleaner.output.concentrate_au', 'secondary_cleaner.output.tail_sol', 'final.output.tail_pb', 'primary_cleaner.output.tail_sol', 'rougher.output.tail_pb', 'rougher.calculation.sulfate_to_au_concentrate', 'rougher.output.tail_ag', 'calculated_recovery', 'final.output.concentrate_ag', 'primary_cleaner.output.concentrate_sol', 'secondary_cleaner.output.tail_pb', 'rougher.output.tail_au', 'final.output.recovery', 'primary_cleaner.output.tail_au'}\n"
     ]
    }
   ],
   "source": [
    "#Exploracion de columnas ausentes\n",
    "\n",
    "col_train = set(df_train.columns)\n",
    "col_test = set(df_test.columns)\n",
    "missing_cols = col_train - col_test\n",
    "print(\"Columnas no presentes en test:\", missing_cols)"
   ]
  },
  {
   "cell_type": "code",
   "execution_count": 15,
   "metadata": {},
   "outputs": [],
   "source": [
    "#Se procede con la limpieza y procesamiento de datos\n",
    "\n",
    "df_train = df_train.dropna(subset=['rougher.output.recovery', 'final.output.recovery'])\n",
    "df_train_clean = df_train.replace([np.inf, -np.inf], np.nan)\n",
    "imputer = SimpleImputer(strategy='mean')\n",
    "df_train_clean_imputed = pd.DataFrame(imputer.fit_transform(df_train_clean), columns=df_train_clean.columns)"
   ]
  },
  {
   "cell_type": "code",
   "execution_count": 16,
   "metadata": {},
   "outputs": [],
   "source": [
    "#Realizacion de funciones metricas sMAPE\n",
    "\n",
    "def smape(y_true, y_pred):\n",
    "    denominator = (np.abs(y_true) + np.abs(y_pred)) / 2\n",
    "    diff = np.abs(y_true - y_pred)\n",
    "    return np.mean(diff / denominator) * 100\n",
    "\n",
    "def smape_final(rougher, final):\n",
    "    return 0.25 * rougher + 0.75 * final"
   ]
  },
  {
   "cell_type": "markdown",
   "metadata": {},
   "source": [
    "## Entrenamiento de modelos\n",
    "\n",
    "Utilice el modelo random forest regressor para predecir (rougher.output.recovery / final.output.recovery) y una validacion cruzada (TimeSeriesSplit), adicionalmente me dio un sMAPE total por debajo del 6% el cual es generalmente aceptable para procesos industriales como tal.\n"
   ]
  },
  {
   "cell_type": "code",
   "execution_count": 19,
   "metadata": {},
   "outputs": [
    {
     "name": "stdout",
     "output_type": "stream",
     "text": [
      "sMAPE rougher: 5.25\n",
      "sMAPE final: 5.14\n",
      "sMAPE total: 5.17\n"
     ]
    }
   ],
   "source": [
    "def build_pipeline(model):\n",
    "    return Pipeline([\n",
    "        ('imputer', SimpleImputer(strategy='mean')),\n",
    "        ('scaler', StandardScaler()),\n",
    "        ('regressor', model)\n",
    "    ])\n",
    "\n",
    "def evaluar_modelo(model, X, y):\n",
    "    pipeline = build_pipeline(model)\n",
    "    cv = TimeSeriesSplit(n_splits=3)\n",
    "    scores = -cross_val_score(pipeline, X, y, scoring=make_scorer(smape, greater_is_better=False), cv=cv)\n",
    "    return scores.mean()\n",
    "\n",
    "# Separacion de datos\n",
    "X = df_train_clean_imputed.drop(['rougher.output.recovery', 'final.output.recovery'], axis=1)\n",
    "y_rougher = df_train_clean_imputed['rougher.output.recovery']\n",
    "y_final = df_train_clean_imputed['final.output.recovery']\n",
    "\n",
    "modelo = RandomForestRegressor(n_estimators=100, random_state=42)\n",
    "s_rougher = evaluar_modelo(modelo, X, y_rougher)\n",
    "s_final = evaluar_modelo(modelo, X, y_final)\n",
    "\n",
    "print(f\"sMAPE rougher: {s_rougher:.2f}\")\n",
    "print(f\"sMAPE final: {s_final:.2f}\")\n",
    "print(f\"sMAPE total: {smape_final(s_rougher, s_final):.2f}\")\n"
   ]
  },
  {
   "cell_type": "code",
   "execution_count": 20,
   "metadata": {},
   "outputs": [
    {
     "data": {
      "image/png": "[encoded data removed]",
      "text/plain": [
       "<Figure size 640x480 with 1 Axes>"
      ]
     },
     "metadata": {},
     "output_type": "display_data"
    },
    {
     "name": "stdout",
     "output_type": "stream",
     "text": [
      "KS Test p-value: 0.0000\n"
     ]
    }
   ],
   "source": [
    "sns.kdeplot(df_train['rougher.input.feed_size'], label='Train')\n",
    "sns.kdeplot(df_test['rougher.input.feed_size'], label='Test')\n",
    "plt.title('Distribucion del tamaño de particula')\n",
    "plt.legend()\n",
    "plt.show()\n",
    "\n",
    "stat, p = ks_2samp(df_train['rougher.input.feed_size'].dropna(), df_test['rougher.input.feed_size'].dropna())\n",
    "print(f\"KS Test p-value: {p:.4f}\")"
   ]
  },
  {
   "cell_type": "markdown",
   "metadata": {},
   "source": [
    "## Conclusion\n",
    "\n",
    "El modelo utilizado y construido en este proyecto es realmente bueno para realizar las estimaciones de recuperacion de oro en un proceso industrial, ya que la calidad de los datos se volvio alta como lo demuestra el error nulo la validacion recuperacion.\n",
    "\n",
    "Adicionalmente, el modelo de Random Forest llego alcanzar un sMAPE total de 5.17%, lo que representa un muy buen rendimiento, tomando en cuenta los desafios que conlleva la mineria y procesamiento de metales, esto le permitira a nuestro cliente optimizar su operacion, no tener esa incertidumbre en la recuperacion de oro, lo que lo lleva a estar mas anuente y tomar decisiones de forma estrategica basadas en datos confiables, lo que lo lleva a tener una rentabilidad y eficacia del proceso como tal."
   ]
  }
 ],
 "metadata": {
  "kernelspec": {
   "display_name": "Python 3 (ipykernel)",
   "language": "python",
   "name": "python3"
  },
  "language_info": {
   "codemirror_mode": {
    "name": "ipython",
    "version": 3
   },
   "file_extension": ".py",
   "mimetype": "text/x-python",
   "name": "python",
   "nbconvert_exporter": "python",
   "pygments_lexer": "ipython3",
   "version": "3.9.22"
  }
 },
 "nbformat": 4,
 "nbformat_minor": 4
}
