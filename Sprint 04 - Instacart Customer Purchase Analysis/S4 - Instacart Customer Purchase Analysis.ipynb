{
 "cells": [
  {
   "cell_type": "markdown",
   "id": "3Xg_RQfnafXz",
   "metadata": {
    "id": "3Xg_RQfnafXz"
   },
   "source": [
    "# Instacart Customer Purchase Analysis"
   ]
  },
  {
   "cell_type": "markdown",
   "id": "mhIvmmkW414q",
   "metadata": {
    "id": "mhIvmmkW414q"
   },
   "source": [
    "# Introducción\n",
    "\n",
    "Instacart es una plataforma de entregas de comestibles donde la clientela puede registrar un pedido y hacer que se lo entreguen, similar a Uber Eats y Door Dash.\n",
    "El conjunto de datos que te hemos proporcionado tiene modificaciones del original. Redujimos el tamaño del conjunto para que tus cálculos se hicieran más rápido e introdujimos valores ausentes y duplicados. Tuvimos cuidado de conservar las distribuciones de los datos originales cuando hicimos los cambios.\n",
    "\n",
    "Debes completar tres pasos. Para cada uno de ellos, escribe una breve introducción que refleje con claridad cómo pretendes resolver cada paso, y escribe párrafos explicatorios que justifiquen tus decisiones al tiempo que avanzas en tu solución.  También escribe una conclusión que resuma tus hallazgos y elecciones.\n"
   ]
  },
  {
   "cell_type": "markdown",
   "id": "3MbyzpOQZ5Or",
   "metadata": {
    "id": "3MbyzpOQZ5Or"
   },
   "source": [
    "## Diccionario de datos\n",
    "\n",
    "Hay cinco tablas en el conjunto de datos, y tendrás que usarlas todas para hacer el preprocesamiento de datos y el análisis exploratorio de datos. A continuación se muestra un diccionario de datos que enumera las columnas de cada tabla y describe los datos que contienen.\n",
    "\n",
    "- `instacart_orders.csv`: cada fila corresponde a un pedido en la aplicación Instacart.\n",
    "    - `'order_id'`: número de ID que identifica de manera única cada pedido.\n",
    "    - `'user_id'`: número de ID que identifica de manera única la cuenta de cada cliente.\n",
    "    - `'order_number'`: el número de veces que este cliente ha hecho un pedido.\n",
    "    - `'order_dow'`: día de la semana en que se hizo el pedido (0 si es domingo).\n",
    "    - `'order_hour_of_day'`: hora del día en que se hizo el pedido.\n",
    "    - `'days_since_prior_order'`: número de días transcurridos desde que este cliente hizo su pedido anterior.\n",
    "- `products.csv`: cada fila corresponde a un producto único que pueden comprar los clientes.\n",
    "    - `'product_id'`: número ID que identifica de manera única cada producto.\n",
    "    - `'product_name'`: nombre del producto.\n",
    "    - `'aisle_id'`: número ID que identifica de manera única cada categoría de pasillo de víveres.\n",
    "    - `'department_id'`: número ID que identifica de manera única cada departamento de víveres.\n",
    "- `order_products.csv`: cada fila corresponde a un artículo pedido en un pedido.\n",
    "    - `'order_id'`: número de ID que identifica de manera única cada pedido.\n",
    "    - `'product_id'`: número ID que identifica de manera única cada producto.\n",
    "    - `'add_to_cart_order'`: el orden secuencial en el que se añadió cada artículo en el carrito.\n",
    "    - `'reordered'`: 0 si el cliente nunca ha pedido este producto antes, 1 si lo ha pedido.\n",
    "- `aisles.csv`\n",
    "    - `'aisle_id'`: número ID que identifica de manera única cada categoría de pasillo de víveres.\n",
    "    - `'aisle'`: nombre del pasillo.\n",
    "- `departments.csv`\n",
    "    - `'department_id'`: número ID que identifica de manera única cada departamento de víveres.\n",
    "    - `'department'`: nombre del departamento."
   ]
  },
  {
   "cell_type": "markdown",
   "id": "n3Ha_cNSZ8lK",
   "metadata": {
    "id": "n3Ha_cNSZ8lK"
   },
   "source": [
    "# Paso 1. Descripción de los datos\n",
    "\n",
    "Lee los archivos de datos (`/datasets/instacart_orders.csv`, `/datasets/products.csv`, `/datasets/aisles.csv`, `/datasets/departments.csv` y `/datasets/order_products.csv`) con `pd.read_csv()` usando los parámetros adecuados para leer los datos correctamente. Verifica la información para cada DataFrame creado.\n"
   ]
  },
  {
   "cell_type": "markdown",
   "id": "OmlQPLlyaAfR",
   "metadata": {
    "id": "OmlQPLlyaAfR"
   },
   "source": [
    "## Plan de solución\n",
    "\n",
    "Escribe aquí tu plan de solución para el Paso 1. Descripción de los datos."
   ]
  },
  {
   "cell_type": "code",
   "execution_count": 1,
   "id": "fbf1adab",
   "metadata": {
    "id": "fbf1adab",
    "trusted": false
   },
   "outputs": [],
   "source": [
    "# importar librerías\n",
    "import pandas as pd "
   ]
  },
  {
   "cell_type": "code",
   "execution_count": 2,
   "id": "ad36396d",
   "metadata": {
    "id": "ad36396d",
    "trusted": false
   },
   "outputs": [],
   "source": [
    "# leer conjuntos de datos en los DataFrames\n",
    "instacart_orders = pd.read_csv('/datasets/instacart_orders.csv', sep=\";\")\n",
    "products = pd.read_csv('/datasets/products.csv', sep=\";\")\n",
    "aisles = pd.read_csv('/datasets/aisles.csv', sep=\";\")\n",
    "departments = pd.read_csv('/datasets/departments.csv', sep=\";\")\n",
    "order_products = pd.read_csv('/datasets/order_products.csv', sep=\";\")"
   ]
  },
  {
   "cell_type": "code",
   "execution_count": 3,
   "id": "ad6a1efa",
   "metadata": {
    "id": "ad6a1efa",
    "trusted": false
   },
   "outputs": [
    {
     "name": "stdout",
     "output_type": "stream",
     "text": [
      "<class 'pandas.core.frame.DataFrame'>\n",
      "RangeIndex: 478967 entries, 0 to 478966\n",
      "Data columns (total 6 columns):\n",
      " #   Column                  Non-Null Count   Dtype  \n",
      "---  ------                  --------------   -----  \n",
      " 0   order_id                478967 non-null  int64  \n",
      " 1   user_id                 478967 non-null  int64  \n",
      " 2   order_number            478967 non-null  int64  \n",
      " 3   order_dow               478967 non-null  int64  \n",
      " 4   order_hour_of_day       478967 non-null  int64  \n",
      " 5   days_since_prior_order  450148 non-null  float64\n",
      "dtypes: float64(1), int64(5)\n",
      "memory usage: 21.9 MB\n"
     ]
    }
   ],
   "source": [
    "# mostrar información del DataFrame\n",
    "instacart_orders.info(show_counts=True)"
   ]
  },
  {
   "cell_type": "code",
   "execution_count": 4,
   "id": "5130e05e",
   "metadata": {
    "id": "5130e05e",
    "trusted": false
   },
   "outputs": [
    {
     "name": "stdout",
     "output_type": "stream",
     "text": [
      "<class 'pandas.core.frame.DataFrame'>\n",
      "RangeIndex: 49694 entries, 0 to 49693\n",
      "Data columns (total 4 columns):\n",
      " #   Column         Non-Null Count  Dtype \n",
      "---  ------         --------------  ----- \n",
      " 0   product_id     49694 non-null  int64 \n",
      " 1   product_name   48436 non-null  object\n",
      " 2   aisle_id       49694 non-null  int64 \n",
      " 3   department_id  49694 non-null  int64 \n",
      "dtypes: int64(3), object(1)\n",
      "memory usage: 1.5+ MB\n"
     ]
    }
   ],
   "source": [
    "# mostrar información del DataFrame\n",
    "products.info(show_counts=True)"
   ]
  },
  {
   "cell_type": "code",
   "execution_count": 5,
   "id": "d8370c05",
   "metadata": {
    "id": "d8370c05",
    "trusted": false
   },
   "outputs": [
    {
     "name": "stdout",
     "output_type": "stream",
     "text": [
      "<class 'pandas.core.frame.DataFrame'>\n",
      "RangeIndex: 134 entries, 0 to 133\n",
      "Data columns (total 2 columns):\n",
      " #   Column    Non-Null Count  Dtype \n",
      "---  ------    --------------  ----- \n",
      " 0   aisle_id  134 non-null    int64 \n",
      " 1   aisle     134 non-null    object\n",
      "dtypes: int64(1), object(1)\n",
      "memory usage: 2.2+ KB\n"
     ]
    }
   ],
   "source": [
    "# mostrar información del DataFrame\n",
    "aisles.info(show_counts=True)"
   ]
  },
  {
   "cell_type": "code",
   "execution_count": 6,
   "id": "59e2090f",
   "metadata": {
    "id": "59e2090f",
    "trusted": false
   },
   "outputs": [
    {
     "name": "stdout",
     "output_type": "stream",
     "text": [
      "<class 'pandas.core.frame.DataFrame'>\n",
      "RangeIndex: 21 entries, 0 to 20\n",
      "Data columns (total 2 columns):\n",
      " #   Column         Non-Null Count  Dtype \n",
      "---  ------         --------------  ----- \n",
      " 0   department_id  21 non-null     int64 \n",
      " 1   department     21 non-null     object\n",
      "dtypes: int64(1), object(1)\n",
      "memory usage: 464.0+ bytes\n"
     ]
    }
   ],
   "source": [
    "# mostrar información del DataFrame\n",
    "departments.info(show_counts=True)"
   ]
  },
  {
   "cell_type": "code",
   "execution_count": 7,
   "id": "6fc81694",
   "metadata": {
    "id": "6fc81694",
    "trusted": false
   },
   "outputs": [
    {
     "name": "stdout",
     "output_type": "stream",
     "text": [
      "<class 'pandas.core.frame.DataFrame'>\n",
      "RangeIndex: 4545007 entries, 0 to 4545006\n",
      "Data columns (total 4 columns):\n",
      " #   Column             Non-Null Count    Dtype  \n",
      "---  ------             --------------    -----  \n",
      " 0   order_id           4545007 non-null  int64  \n",
      " 1   product_id         4545007 non-null  int64  \n",
      " 2   add_to_cart_order  4544171 non-null  float64\n",
      " 3   reordered          4545007 non-null  int64  \n",
      "dtypes: float64(1), int64(3)\n",
      "memory usage: 138.7 MB\n"
     ]
    }
   ],
   "source": [
    "# mostrar información del DataFrame\n",
    "order_products.info(show_counts=True)"
   ]
  },
  {
   "cell_type": "markdown",
   "id": "t75BD19oaR5f",
   "metadata": {
    "id": "t75BD19oaR5f"
   },
   "source": [
    "## Conclusiones\n",
    "\n",
    "Escribe aquí tus conclusiones intermedias sobre el Paso 1. Descripción de los datos.\n"
   ]
  },
  {
   "cell_type": "markdown",
   "id": "8RJHqxVmaVsF",
   "metadata": {
    "id": "8RJHqxVmaVsF"
   },
   "source": [
    "# Paso 2. Preprocesamiento de los datos\n",
    "\n",
    "Preprocesa los datos de la siguiente manera:\n",
    "\n",
    "- Verifica y corrige los tipos de datos (por ejemplo, asegúrate de que las columnas de ID sean números enteros).\n",
    "- Identifica y completa los valores ausentes.\n",
    "- Identifica y elimina los valores duplicados.\n",
    "\n",
    "Asegúrate de explicar qué tipos de valores ausentes y duplicados encontraste, cómo los completaste o eliminaste y por qué usaste esos métodos. ¿Por qué crees que estos valores ausentes y duplicados pueden haber estado presentes en el conjunto de datos?"
   ]
  },
  {
   "cell_type": "markdown",
   "id": "p6poABZQaZYb",
   "metadata": {
    "id": "p6poABZQaZYb"
   },
   "source": [
    "## Plan de solución\n",
    "\n",
    "Escribe aquí tu plan para el Paso 2. Preprocesamiento de los datos."
   ]
  },
  {
   "cell_type": "markdown",
   "id": "07357848-dc64-4156-9cc3-01ff4365226d",
   "metadata": {
    "id": "07357848-dc64-4156-9cc3-01ff4365226d"
   },
   "source": [
    "## Encuentra y elimina los valores duplicados (y describe cómo tomaste tus decisiones)."
   ]
  },
  {
   "cell_type": "markdown",
   "id": "f179f0a9",
   "metadata": {
    "id": "f179f0a9"
   },
   "source": [
    "### `orders` data frame"
   ]
  },
  {
   "cell_type": "code",
   "execution_count": 8,
   "id": "b99297a5-405a-463d-8535-9adc3da4ad74",
   "metadata": {
    "id": "b99297a5-405a-463d-8535-9adc3da4ad74",
    "trusted": false
   },
   "outputs": [
    {
     "name": "stdout",
     "output_type": "stream",
     "text": [
      "Pedidos duplicados: 15\n"
     ]
    }
   ],
   "source": [
    "# Revisa si hay pedidos duplicados\n",
    "duplicates = instacart_orders.duplicated()\n",
    "print(f\"Pedidos duplicados: {duplicates.sum()}\")"
   ]
  },
  {
   "cell_type": "markdown",
   "id": "PEkwUX_gvt5A",
   "metadata": {
    "id": "PEkwUX_gvt5A"
   },
   "source": [
    "¿Tienes líneas duplicadas? Si sí, ¿qué tienen en común?\n",
    "\n",
    "Despues de la validadcion vi que hay duplicados en todas las columnas, adicional a ellos hay valores ausentes tambien."
   ]
  },
  {
   "cell_type": "code",
   "execution_count": 9,
   "id": "0d44de5d",
   "metadata": {
    "id": "0d44de5d",
    "trusted": false
   },
   "outputs": [
    {
     "name": "stdout",
     "output_type": "stream",
     "text": [
      "Pedidos realizados el miércoles a las 2:00 a.m.: 121\n"
     ]
    }
   ],
   "source": [
    "# Basándote en tus hallazgos,\n",
    "# Verifica todos los pedidos que se hicieron el miércoles a las 2:00 a.m.\n",
    "miercoles_2am_instacart_orders = instacart_orders[(instacart_orders['order_dow'] == 3) & (instacart_orders['order_hour_of_day'] == 2)]\n",
    "print(f\"Pedidos realizados el miércoles a las 2:00 a.m.: {miercoles_2am_instacart_orders.shape[0]}\")"
   ]
  },
  {
   "cell_type": "markdown",
   "id": "vu2OWyoqwOx5",
   "metadata": {
    "id": "vu2OWyoqwOx5"
   },
   "source": [
    "¿Qué sugiere este resultado?\n",
    "\n",
    "Este resultado sugiere que al ser un hora atipica para comprar los pedidos se perciben como relativamenre bajos, y que hay mu pocos clientes para estas horas nocturnas que pueden ser que trabajen a dichas horas por ende prefieren realizar los pedidos en la madrugada."
   ]
  },
  {
   "cell_type": "code",
   "execution_count": 10,
   "id": "480563c7",
   "metadata": {
    "id": "480563c7",
    "trusted": false
   },
   "outputs": [
    {
     "name": "stdout",
     "output_type": "stream",
     "text": [
      "Pedidos después de eliminar duplicados: 478952\n"
     ]
    }
   ],
   "source": [
    "# Elimina los pedidos duplicados\n",
    "orders_no_duplicates = instacart_orders.drop_duplicates()\n",
    "print(f\"Pedidos después de eliminar duplicados: {orders_no_duplicates.shape[0]}\")"
   ]
  },
  {
   "cell_type": "code",
   "execution_count": 11,
   "id": "0b2396a2",
   "metadata": {
    "id": "0b2396a2",
    "trusted": false
   },
   "outputs": [
    {
     "name": "stdout",
     "output_type": "stream",
     "text": [
      "Pedidos duplicados después de la eliminación: 0\n"
     ]
    }
   ],
   "source": [
    "# Vuelve a verificar si hay filas duplicadas\n",
    "duplicates_after_removal = orders_no_duplicates.duplicated()\n",
    "print(f\"Pedidos duplicados después de la eliminación: {duplicates_after_removal.sum()}\")"
   ]
  },
  {
   "cell_type": "code",
   "execution_count": 12,
   "id": "f6113ef1",
   "metadata": {
    "id": "f6113ef1",
    "trusted": false
   },
   "outputs": [
    {
     "name": "stdout",
     "output_type": "stream",
     "text": [
      "Pedidos con IDs duplicados después de la eliminación: 0\n"
     ]
    }
   ],
   "source": [
    "# Vuelve a verificar únicamente si hay IDs duplicados de pedidos\n",
    "duplicate_order_ids = orders_no_duplicates[orders_no_duplicates.duplicated(subset='order_id')]\n",
    "print(f\"Pedidos con IDs duplicados después de la eliminación: {duplicate_order_ids.shape[0]}\")"
   ]
  },
  {
   "cell_type": "markdown",
   "id": "5e8905ae",
   "metadata": {
    "id": "5e8905ae"
   },
   "source": [
    "Describe brevemente tus hallazgos y lo que hiciste con ellos\n",
    "\n",
    "Descubri que habian pocos pedidos duplicados, pero que era necesario depurar o de limpiar para poder evitar problemas con el inventario, y una vez ya removidos se doble valido filas y IDs para cerciorarse de que realmente estuviese limpia la data. "
   ]
  },
  {
   "cell_type": "markdown",
   "id": "45e6bc46",
   "metadata": {
    "id": "45e6bc46"
   },
   "source": [
    "### `products` data frame"
   ]
  },
  {
   "cell_type": "code",
   "execution_count": 13,
   "id": "5f526b5b-8175-46fa-a0fd-441767d50e64",
   "metadata": {
    "id": "5f526b5b-8175-46fa-a0fd-441767d50e64",
    "trusted": false
   },
   "outputs": [
    {
     "name": "stdout",
     "output_type": "stream",
     "text": [
      "Filas totalmente duplicadas: 0\n"
     ]
    }
   ],
   "source": [
    "# Verifica si hay filas totalmente duplicadas\n",
    "total_duplicates_in_products = products.duplicated()\n",
    "print(f\"Filas totalmente duplicadas: {total_duplicates_in_products.sum()}\")"
   ]
  },
  {
   "cell_type": "code",
   "execution_count": 14,
   "id": "88daa4f4",
   "metadata": {
    "id": "88daa4f4",
    "trusted": false
   },
   "outputs": [
    {
     "name": "stdout",
     "output_type": "stream",
     "text": [
      "IDs de departamentos duplicados: product_id       1234770633\n",
      "aisle_id            3366384\n",
      "department_id        582604\n",
      "dtype: int64\n"
     ]
    }
   ],
   "source": [
    "# Revisa únicamente si hay ID de departamentos duplicados\n",
    "duplicados_department_id = products[products.duplicated(subset=[\"department_id\"])]\n",
    "print(f\"IDs de departamentos duplicados: {duplicados_department_id.sum()}\")"
   ]
  },
  {
   "cell_type": "code",
   "execution_count": 15,
   "id": "c773f0bf",
   "metadata": {
    "id": "c773f0bf",
    "trusted": false
   },
   "outputs": [
    {
     "name": "stdout",
     "output_type": "stream",
     "text": [
      "Nombres duplicados de productos: 1361\n"
     ]
    }
   ],
   "source": [
    "# Revisa únicamente si hay nombres duplicados de productos (convierte los nombres a letras mayúsculas para compararlos mejor)\n",
    "products['product_name'] = products['product_name'].str.upper()\n",
    "nombres_de_duplicados_de_products = products.duplicated(subset='product_name')\n",
    "print(f\"Nombres duplicados de productos: {nombres_de_duplicados_de_products.sum()}\")"
   ]
  },
  {
   "cell_type": "code",
   "execution_count": 16,
   "id": "01efd02e",
   "metadata": {
    "id": "01efd02e",
    "trusted": false
   },
   "outputs": [
    {
     "name": "stdout",
     "output_type": "stream",
     "text": [
      "Nombres duplicados de productos no faltantes: 104\n"
     ]
    }
   ],
   "source": [
    "# Revisa si hay nombres duplicados de productos no faltantes\n",
    "nombres_de_productos_no_faltantes= products[products['product_name'].notnull()]\n",
    "nombres_de_productos_no_faltantes = nombres_de_productos_no_faltantes.duplicated(subset='product_name')\n",
    "print(f\"Nombres duplicados de productos no faltantes: {nombres_de_productos_no_faltantes.sum()}\")"
   ]
  },
  {
   "cell_type": "markdown",
   "id": "9da8d293",
   "metadata": {
    "id": "9da8d293"
   },
   "source": [
    "Describe brevemente tus hallazgos y lo que hiciste con ellos.\n",
    "\n",
    "En este data frame de products validamos si habían filas duplicadas las cuales no hubieron, pero hallamos IDs de departamentos duplicados así como nombres duplicados de productos y nombres duplicados de productos no faltantes."
   ]
  },
  {
   "cell_type": "markdown",
   "id": "60f30db1",
   "metadata": {
    "id": "60f30db1"
   },
   "source": [
    "### `departments` data frame"
   ]
  },
  {
   "cell_type": "code",
   "execution_count": 17,
   "id": "fb410ad4-0fbf-4b80-bb09-23fdea79afe3",
   "metadata": {
    "id": "fb410ad4-0fbf-4b80-bb09-23fdea79afe3",
    "trusted": false
   },
   "outputs": [
    {
     "name": "stdout",
     "output_type": "stream",
     "text": [
      "Filas totalmente duplicadas: 0\n"
     ]
    }
   ],
   "source": [
    "# Revisa si hay filas totalmente duplicadas\n",
    "total_duplicates_in_departments = departments.duplicated()\n",
    "print(f\"Filas totalmente duplicadas: {total_duplicates_in_departments.sum()}\")"
   ]
  },
  {
   "cell_type": "code",
   "execution_count": 18,
   "id": "332b12bb",
   "metadata": {
    "id": "332b12bb",
    "trusted": false
   },
   "outputs": [
    {
     "name": "stdout",
     "output_type": "stream",
     "text": [
      "IDs de departamentos duplicados: 0\n"
     ]
    }
   ],
   "source": [
    "# Revisa únicamente si hay IDs duplicadas de productos\n",
    "duplicates_department_ids = departments.duplicated(subset='department_id')\n",
    "print(f\"IDs de departamentos duplicados: {duplicates_department_ids.sum()}\")"
   ]
  },
  {
   "cell_type": "markdown",
   "id": "bd30d78e",
   "metadata": {
    "id": "bd30d78e"
   },
   "source": [
    "Describe brevemente tus hallazgos y lo que hiciste con ellos.\n",
    "\n",
    "En este data frame de departments validamos si habían filas duplicadas las cuales no hubieron ni IDs duplicados, por ende la data esta limpia."
   ]
  },
  {
   "cell_type": "markdown",
   "id": "889349c1",
   "metadata": {
    "id": "889349c1"
   },
   "source": [
    "### `aisles` data frame"
   ]
  },
  {
   "cell_type": "code",
   "execution_count": 19,
   "id": "9da89fb9-4679-40f5-ad0d-c34df753a3f8",
   "metadata": {
    "id": "9da89fb9-4679-40f5-ad0d-c34df753a3f8",
    "trusted": false
   },
   "outputs": [
    {
     "name": "stdout",
     "output_type": "stream",
     "text": [
      "Filas totalmente duplicadas: 0\n"
     ]
    }
   ],
   "source": [
    "# Revisa si hay filas totalmente duplicadas\n",
    "total_aisles_duplicates= aisles.duplicated()\n",
    "print(f\"Filas totalmente duplicadas: {total_aisles_duplicates.sum()}\")"
   ]
  },
  {
   "cell_type": "code",
   "execution_count": 20,
   "id": "da7c2822",
   "metadata": {
    "id": "da7c2822",
    "trusted": false
   },
   "outputs": [
    {
     "name": "stdout",
     "output_type": "stream",
     "text": [
      "IDs de departamentos duplicados: 0\n"
     ]
    }
   ],
   "source": [
    "# Revisa únicamente si hay IDs duplicadas de pasillos\n",
    "duplicates_aisles_ids = aisles.duplicated(subset='aisle_id')\n",
    "print(f\"IDs de departamentos duplicados: {duplicates_aisles_ids.sum()}\")"
   ]
  },
  {
   "cell_type": "markdown",
   "id": "ac63826f",
   "metadata": {
    "id": "ac63826f"
   },
   "source": [
    "Describe brevemente tus hallazgos y lo que hiciste con ellos.\n",
    "\n",
    "En este data frame de aisles validamos si habían filas duplicadas las cuales no hubieron ni IDs de pasillos duplicados, por ende la data esta limpia."
   ]
  },
  {
   "cell_type": "markdown",
   "id": "274cd06a",
   "metadata": {
    "id": "274cd06a"
   },
   "source": [
    "### `order_products` data frame"
   ]
  },
  {
   "cell_type": "code",
   "execution_count": 21,
   "id": "52326689-84a8-4b8f-a881-7c68780f62c9",
   "metadata": {
    "id": "52326689-84a8-4b8f-a881-7c68780f62c9",
    "trusted": false
   },
   "outputs": [
    {
     "name": "stdout",
     "output_type": "stream",
     "text": [
      "Filas totalmente duplicadas: 0\n"
     ]
    }
   ],
   "source": [
    "# Revisa si hay filas totalmente duplicadas\n",
    "total_order_products_duplicates= order_products.duplicated()\n",
    "print(f\"Filas totalmente duplicadas: {total_order_products_duplicates.sum()}\")"
   ]
  },
  {
   "cell_type": "code",
   "execution_count": 22,
   "id": "7b861391",
   "metadata": {
    "id": "7b861391",
    "trusted": false
   },
   "outputs": [
    {
     "name": "stdout",
     "output_type": "stream",
     "text": [
      "Duplicados engañosos en 'order_products': 0\n"
     ]
    }
   ],
   "source": [
    "# Vuelve a verificar si hay cualquier otro duplicado engañoso\n",
    "potecialmente_duplicates = order_products.duplicated(subset=['order_id', 'product_id', 'add_to_cart_order', 'reordered'])\n",
    "print(f\"Duplicados engañosos en 'order_products': {potecialmente_duplicates.sum()}\")"
   ]
  },
  {
   "cell_type": "markdown",
   "id": "0b890492",
   "metadata": {
    "id": "0b890492"
   },
   "source": [
    "Describe brevemente tus hallazgos y lo que hiciste con ellos.\n",
    "\n",
    "En este data frame de order_products validamos si habían filas duplicadas las cuales no hubieron y re validamos cuidadosamente para que no hubiese por ahi un duplicado engañoso."
   ]
  },
  {
   "cell_type": "markdown",
   "id": "1e46de76",
   "metadata": {
    "id": "1e46de76"
   },
   "source": [
    "## Encuentra y elimina los valores ausentes\n",
    "\n",
    "Al trabajar con valores duplicados, pudimos observar que también nos falta investigar valores ausentes:\n",
    "\n",
    "* La columna `'product_name'` de la tabla products.\n",
    "* La columna `'days_since_prior_order'` de la tabla orders.\n",
    "* La columna `'add_to_cart_order'` de la tabla order_productos."
   ]
  },
  {
   "cell_type": "markdown",
   "id": "c0aebd78",
   "metadata": {
    "id": "c0aebd78"
   },
   "source": [
    "### `products` data frame"
   ]
  },
  {
   "cell_type": "code",
   "execution_count": 23,
   "id": "fe4a8b0f",
   "metadata": {
    "id": "fe4a8b0f",
    "trusted": false
   },
   "outputs": [
    {
     "name": "stdout",
     "output_type": "stream",
     "text": [
      "Valores ausentes en la columna 'product_name': product_id       31706543\n",
      "product_name            0\n",
      "aisle_id           125800\n",
      "department_id       26418\n",
      "dtype: object\n"
     ]
    }
   ],
   "source": [
    "# Encuentra los valores ausentes en la columna 'product_name'\n",
    "missing_product_names = products[products['product_name'].isnull()]\n",
    "print(f\"Valores ausentes en la columna 'product_name': {missing_product_names.sum()}\")"
   ]
  },
  {
   "cell_type": "markdown",
   "id": "-A6x1AbJhjkp",
   "metadata": {
    "id": "-A6x1AbJhjkp"
   },
   "source": [
    "Describe brevemente cuáles son tus hallazgos.\n",
    "\n",
    "No se encontraron valores ausentes en la columna product_name."
   ]
  },
  {
   "cell_type": "code",
   "execution_count": 24,
   "id": "e96167bc",
   "metadata": {
    "id": "e96167bc",
    "trusted": false
   },
   "outputs": [
    {
     "name": "stdout",
     "output_type": "stream",
     "text": [
      "Cantidad de productos ausentes relacionados con 'aisle_id' 100: 1258\n"
     ]
    }
   ],
   "source": [
    "#  ¿Todos los nombres de productos ausentes están relacionados con el pasillo con ID 100?\n",
    "ausentes_product_name = products[products['product_name'].isnull()]\n",
    "\n",
    "count_aisle_100 = missing_product_names[missing_product_names['aisle_id'] == 100].shape[0]\n",
    "print(f\"Cantidad de productos ausentes relacionados con 'aisle_id' 100: {count_aisle_100}\")"
   ]
  },
  {
   "cell_type": "markdown",
   "id": "WRpIfXRphpSL",
   "metadata": {
    "id": "WRpIfXRphpSL"
   },
   "source": [
    "Describe brevemente cuáles son tus hallazgos.\n",
    "\n",
    "Por este lado se encontro la cantidad de 1258 productos ausentes en 'aisle_id' 100"
   ]
  },
  {
   "cell_type": "code",
   "execution_count": 25,
   "id": "8fd0a541",
   "metadata": {
    "id": "8fd0a541",
    "trusted": false
   },
   "outputs": [
    {
     "name": "stdout",
     "output_type": "stream",
     "text": [
      "Cantidad de productos ausentes relacionados con 'department_id' 21: 1258\n"
     ]
    }
   ],
   "source": [
    "# ¿Todos los nombres de productos ausentes están relacionados con el departamento con ID 21?\n",
    "\n",
    "count_department_21 = missing_product_names[missing_product_names['department_id'] == 21].shape[0]\n",
    "print(f\"Cantidad de productos ausentes relacionados con 'department_id' 21: {count_department_21}\")"
   ]
  },
  {
   "cell_type": "markdown",
   "id": "qDpdYn1Fht_I",
   "metadata": {
    "id": "qDpdYn1Fht_I"
   },
   "source": [
    "Describe brevemente cuáles son tus hallazgos.\n",
    "\n",
    "En 'department_id' 21 encontramos productos ausentes con la cantidad de 1258."
   ]
  },
  {
   "cell_type": "code",
   "execution_count": 26,
   "id": "325c3464",
   "metadata": {
    "id": "325c3464",
    "trusted": false
   },
   "outputs": [
    {
     "name": "stdout",
     "output_type": "stream",
     "text": [
      "Datos del pasillo con ID 100:\n",
      "    aisle_id    aisle\n",
      "99       100  missing\n",
      "Datos del departamento con ID 21:\n",
      "    department_id department\n",
      "20             21    missing\n"
     ]
    }
   ],
   "source": [
    "# Usa las tablas department y aisle para revisar los datos del pasillo con ID 100 y el departamento con ID 21.\n",
    "aisle_100 = aisles[aisles['aisle_id'] == 100]\n",
    "department_21 = departments[departments['department_id'] == 21]\n",
    "print(f\"Datos del pasillo con ID 100:\\n{aisle_100}\")\n",
    "print(f\"Datos del departamento con ID 21:\\n{department_21}\")"
   ]
  },
  {
   "cell_type": "markdown",
   "id": "nqhSTUPhhvEJ",
   "metadata": {
    "id": "nqhSTUPhhvEJ"
   },
   "source": [
    "Describe brevemente cuáles son tus hallazgos.\n",
    "\n",
    "Desde mi perspectiva veo que la tabla aisles el pasillos con con aisle_id 100 tiene el valor de \"missing\" lo que me da entender que no hay informacion sobre de dicho pasillo, y lo mismo para la tabla deparments para deparment_id 21."
   ]
  },
  {
   "cell_type": "code",
   "execution_count": 27,
   "id": "6b295120",
   "metadata": {
    "id": "6b295120",
    "trusted": false
   },
   "outputs": [
    {
     "name": "stdout",
     "output_type": "stream",
     "text": [
      "Valores ausentes en la columna 'product_name' después de completar: 0\n"
     ]
    }
   ],
   "source": [
    "# Completa los nombres de productos ausentes con 'Unknown'\n",
    "products['product_name'].fillna('Unknown', inplace=True)\n",
    "print(f\"Valores ausentes en la columna 'product_name' después de completar: {products['product_name'].isnull().sum()}\")"
   ]
  },
  {
   "cell_type": "markdown",
   "id": "fc70e5ad",
   "metadata": {
    "id": "fc70e5ad"
   },
   "source": [
    "Describe brevemente tus hallazgos y lo que hiciste con ellos.\n",
    "\n",
    "En esta seccion realizamos los cambios sugeridos de cambiar los valores ausentes por 'Unknown', y validamos que no hubieran mas valores ausentes."
   ]
  },
  {
   "cell_type": "markdown",
   "id": "7eb45c86",
   "metadata": {
    "id": "7eb45c86"
   },
   "source": [
    "### `orders` data frame"
   ]
  },
  {
   "cell_type": "code",
   "execution_count": 28,
   "id": "93e41d96",
   "metadata": {
    "id": "93e41d96",
    "trusted": false
   },
   "outputs": [
    {
     "name": "stdout",
     "output_type": "stream",
     "text": [
      "Valores ausentes por columna:\n",
      "order_id                      0\n",
      "user_id                       0\n",
      "order_number                  0\n",
      "order_dow                     0\n",
      "order_hour_of_day             0\n",
      "days_since_prior_order    28819\n",
      "dtype: int64\n"
     ]
    }
   ],
   "source": [
    "# Encuentra los valores ausentes\n",
    "valores_ausentes_en_instacart_orders = instacart_orders.isnull().sum()\n",
    "print(f\"Valores ausentes por columna:\\n{valores_ausentes_en_instacart_orders}\")"
   ]
  },
  {
   "cell_type": "code",
   "execution_count": 29,
   "id": "166e5a86",
   "metadata": {
    "id": "166e5a86",
    "trusted": false
   },
   "outputs": [
    {
     "name": "stdout",
     "output_type": "stream",
     "text": [
      "No hay valores ausentes en 'days_since_prior_order' que no sean el primer pedido del cliente.\n"
     ]
    }
   ],
   "source": [
    "# ¿Hay algún valor ausente que no sea el primer pedido del cliente?\n",
    "no_first_orders = instacart_orders[instacart_orders['order_number'] != 1]\n",
    "missing_no_first_orders = no_first_orders[no_first_orders['days_since_prior_order'].isnull()]\n",
    "\n",
    "if missing_no_first_orders.shape[0] > 0:\n",
    "    print(\"Hay valores ausentes en 'days_since_prior_order' que no son el primer pedido del cliente.\")\n",
    "else:\n",
    "    print(\"No hay valores ausentes en 'days_since_prior_order' que no sean el primer pedido del cliente.\")"
   ]
  },
  {
   "cell_type": "markdown",
   "id": "4e23d089",
   "metadata": {
    "id": "4e23d089"
   },
   "source": [
    "Describe brevemente tus hallazgos y lo que hiciste con ellos.\n",
    "\n",
    "Validamos valores ausentes en el data frame 'orders' en la cual no encontramos ninguno y no hay valores aunsentes que no sean desde el primer pedido."
   ]
  },
  {
   "cell_type": "markdown",
   "id": "69dc9ca4",
   "metadata": {
    "id": "69dc9ca4"
   },
   "source": [
    "### `order_products` data frame"
   ]
  },
  {
   "cell_type": "code",
   "execution_count": 30,
   "id": "b8240253",
   "metadata": {
    "id": "b8240253",
    "trusted": false
   },
   "outputs": [
    {
     "name": "stdout",
     "output_type": "stream",
     "text": [
      "Valores ausentes por columna:\n",
      "order_id               0\n",
      "product_id             0\n",
      "add_to_cart_order    836\n",
      "reordered              0\n",
      "dtype: int64\n"
     ]
    }
   ],
   "source": [
    "# Encuentra los valores ausentes\n",
    "valores_ausentes_en_order_products = order_products.isnull().sum()\n",
    "print(f\"Valores ausentes por columna:\\n{valores_ausentes_en_order_products}\")"
   ]
  },
  {
   "cell_type": "code",
   "execution_count": 31,
   "id": "9a78e5ee",
   "metadata": {
    "id": "9a78e5ee",
    "trusted": false
   },
   "outputs": [
    {
     "name": "stdout",
     "output_type": "stream",
     "text": [
      "Valor mínimo en 'add_to_cart_order': 1.0\n",
      "Valor máximo en 'add_to_cart_order': 64.0\n"
     ]
    }
   ],
   "source": [
    "# ¿Cuáles son los valores mínimos y máximos en esta columna?\n",
    "min_value = order_products['add_to_cart_order'].min()\n",
    "max_value = order_products['add_to_cart_order'].max()\n",
    "print(f\"Valor mínimo en 'add_to_cart_order': {min_value}\")\n",
    "print(f\"Valor máximo en 'add_to_cart_order': {max_value}\")"
   ]
  },
  {
   "cell_type": "markdown",
   "id": "-Z2Ja215jW78",
   "metadata": {
    "id": "-Z2Ja215jW78"
   },
   "source": [
    "Describe brevemente cuáles son tus hallazgos.\n",
    "\n",
    "Se encontro valores ausentes en 'add_to_cart_order', posteriormente se valido los valores minimos y maximos la cual nos dio un resultado de 1 para minimo y 64 para maximo."
   ]
  },
  {
   "cell_type": "code",
   "execution_count": 32,
   "id": "ab9d0c2b",
   "metadata": {
    "id": "ab9d0c2b",
    "trusted": false
   },
   "outputs": [
    {
     "name": "stdout",
     "output_type": "stream",
     "text": [
      "IDs de pedidos con valores ausentes en 'add_to_cart_order': [2449164 1968313 2926893 1717990 1959075  844733   61355  936852  264710\n",
      " 1564093  129627  293169 2849370 1386261 3308010  903110 2136777 3347453\n",
      " 1888628  165801 2094761 1038146 2997021  813364 2256933  171934 2409109\n",
      " 1730767 1169835  733526  404157 3125735  747668 1800005 1961723  871281\n",
      "  388234 1648217 1477139  102236 1021563 1832957 2721963  678116 1220886\n",
      " 1673227 2999801 1633337 2470674 2625444 1677118 2479011 3383594 1183255\n",
      " 1713430 2652650 1598369 1916118  854647 1302315  888470  180546 2621907\n",
      " 1308785 2729254    9310 2170451 2979697 1625713 1529171]\n"
     ]
    }
   ],
   "source": [
    "# Guarda todas las IDs de pedidos que tengan un valor ausente en 'add_to_cart_order'\n",
    "missing_add_to_cart_order_ids = order_products[order_products['add_to_cart_order'].isnull()]['order_id'].unique()\n",
    "print(f\"IDs de pedidos con valores ausentes en 'add_to_cart_order': {missing_add_to_cart_order_ids}\")"
   ]
  },
  {
   "cell_type": "code",
   "execution_count": 33,
   "id": "54c31695",
   "metadata": {
    "id": "54c31695",
    "trusted": false
   },
   "outputs": [
    {
     "name": "stdout",
     "output_type": "stream",
     "text": [
      "Todos los pedidos con valores ausentes tienen más de 64 productos: True\n",
      "Valor mínimo del conteo de 'product_id' en pedidos con datos ausentes: 65\n"
     ]
    }
   ],
   "source": [
    "# ¿Todos los pedidos con valores ausentes tienen más de 64 productos?\n",
    "orders_with_missing_add_to_cart = order_products[order_products['order_id'].isin(missing_add_to_cart_order_ids)]\n",
    "orders_with_more_than_64_products = orders_with_missing_add_to_cart.groupby('order_id').size() > 64\n",
    "print(f\"Todos los pedidos con valores ausentes tienen más de 64 productos: {orders_with_more_than_64_products.all()}\")\n",
    "\n",
    "# Agrupa todos los pedidos con datos ausentes por su ID de pedido.\n",
    "grouped_orders_with_missing = orders_with_missing_add_to_cart.groupby('order_id').size()\n",
    "\n",
    "# Cuenta el número de 'product_id' en cada pedido y revisa el valor mínimo del conteo.\n",
    "min_products_in_missing_orders = grouped_orders_with_missing.min()\n",
    "print(f\"Valor mínimo del conteo de 'product_id' en pedidos con datos ausentes: {min_products_in_missing_orders}\")"
   ]
  },
  {
   "cell_type": "markdown",
   "id": "p9V6pddtjglj",
   "metadata": {
    "id": "p9V6pddtjglj"
   },
   "source": [
    "Describe brevemente cuáles son tus hallazgos.\n",
    "\n",
    "Se encontro que todos los pedidos que cuentan con valores ausentes tiene mas de 64 productos y el conteo de 'product_id' en pedidos con datos ausentes fue de 65."
   ]
  },
  {
   "cell_type": "code",
   "execution_count": 34,
   "id": "7a987d08",
   "metadata": {
    "id": "7a987d08",
    "trusted": false
   },
   "outputs": [
    {
     "name": "stdout",
     "output_type": "stream",
     "text": [
      "Valores ausentes en 'add_to_cart_order' después de reemplazar: 0\n"
     ]
    }
   ],
   "source": [
    "# Remplaza los valores ausentes en la columna 'add_to_cart? con 999 y convierte la columna al tipo entero.\n",
    "order_products['add_to_cart_order'].fillna(999, inplace=True)\n",
    "order_products['add_to_cart_order'] = order_products['add_to_cart_order'].astype(int)\n",
    "print(f\"Valores ausentes en 'add_to_cart_order' después de reemplazar: {order_products['add_to_cart_order'].isnull().sum()}\")"
   ]
  },
  {
   "cell_type": "markdown",
   "id": "fea4bcc7",
   "metadata": {
    "id": "fea4bcc7"
   },
   "source": [
    "Describe brevemente tus hallazgos y lo que hiciste con ellos.\n",
    "\n",
    "Ya posterior a realizar los cambios solicitados en la columna 'add_to_cart' no hubo valores ausentes."
   ]
  },
  {
   "cell_type": "markdown",
   "id": "RnplPFY1gSrb",
   "metadata": {
    "id": "RnplPFY1gSrb"
   },
   "source": [
    "## Conclusiones\n",
    "\n",
    "Escribe aquí tus conclusiones intermedias sobre el Paso 2. Preprocesamiento de los datos\n"
   ]
  },
  {
   "cell_type": "markdown",
   "id": "UjrOIwTcz3ri",
   "metadata": {
    "id": "UjrOIwTcz3ri"
   },
   "source": [
    "# Paso 3. Análisis de los datos\n",
    "\n",
    "Una vez los datos estén procesados y listos, haz el siguiente análisis:"
   ]
  },
  {
   "cell_type": "markdown",
   "id": "turkish-kidney",
   "metadata": {
    "id": "turkish-kidney"
   },
   "source": [
    "# [A] Fácil (deben completarse todos para aprobar)\n",
    "\n",
    "1. Verifica que los valores en las columnas `'order_hour_of_day'` y `'order_dow'` en la tabla orders sean razonables (es decir, `'order_hour_of_day'` oscile entre 0 y 23 y `'order_dow'` oscile entre 0 y 6).\n",
    "2. Crea un gráfico que muestre el número de personas que hacen pedidos dependiendo de la hora del día.\n",
    "3. Crea un gráfico que muestre qué día de la semana la gente hace sus compras.\n",
    "4. Crea un gráfico que muestre el tiempo que la gente espera hasta hacer su siguiente pedido, y comenta sobre los valores mínimos y máximos."
   ]
  },
  {
   "cell_type": "markdown",
   "id": "short-capability",
   "metadata": {
    "id": "short-capability"
   },
   "source": [
    "### [A1] Verifica que los valores sean sensibles"
   ]
  },
  {
   "cell_type": "code",
   "execution_count": 35,
   "id": "growing-fruit",
   "metadata": {
    "id": "growing-fruit",
    "scrolled": true,
    "trusted": false
   },
   "outputs": [
    {
     "name": "stdout",
     "output_type": "stream",
     "text": [
      "Valores inválidos en 'order_hour_of_day': 0\n",
      "Valores inválidos en 'order_dow': 0\n"
     ]
    }
   ],
   "source": [
    "import matplotlib.pyplot as plt\n",
    "\n",
    "\n",
    "invalid_order_hours = instacart_orders[(instacart_orders['order_hour_of_day'] < 0) | (instacart_orders['order_hour_of_day'] > 23)]\n",
    "print(f\"Valores inválidos en 'order_hour_of_day': {invalid_order_hours.shape[0]}\")\n",
    "\n",
    "if invalid_order_hours.shape[0] > 0:\n",
    "    print(f\"Filas con valores inválidos en 'order_hour_of_day':\\n{invalid_order_hours}\")\n",
    "\n",
    "\n",
    "invalid_order_days = instacart_orders[(instacart_orders['order_dow'] < 0) | (instacart_orders['order_dow'] > 6)]\n",
    "print(f\"Valores inválidos en 'order_dow': {invalid_order_days.shape[0]}\")\n",
    "if invalid_order_days.shape[0] > 0:\n",
    "    print(f\"Filas con valores inválidos en 'order_dow':\\n{invalid_order_days}\")\n"
   ]
  },
  {
   "cell_type": "markdown",
   "id": "hmR2GNQ6lCsX",
   "metadata": {
    "id": "hmR2GNQ6lCsX"
   },
   "source": [
    "Escribe aquí tus conclusiones\n",
    "\n",
    "Despues de realizar la verificacion solicitada no se encontraron valores invalidos para 'order_hour_of_day' como 'order_dow'.\n"
   ]
  },
  {
   "cell_type": "markdown",
   "id": "a6743a70",
   "metadata": {
    "id": "a6743a70"
   },
   "source": [
    "### [A2] Para cada hora del día, ¿cuántas personas hacen órdenes?"
   ]
  },
  {
   "cell_type": "code",
   "execution_count": 36,
   "id": "a36cca27",
   "metadata": {
    "id": "a36cca27",
    "trusted": false
   },
   "outputs": [
    {
     "data": {
      "image/png": "[encoded data removed]",
      "text/plain": [
       "<Figure size 1200x600 with 1 Axes>"
      ]
     },
     "metadata": {},
     "output_type": "display_data"
    }
   ],
   "source": [
    "users_per_hour = instacart_orders.groupby('order_hour_of_day')['user_id'].nunique()\n",
    "\n",
    "plt.figure(figsize=(12, 6))\n",
    "users_per_hour.plot(kind='bar')\n",
    "\n",
    "\n",
    "plt.xlabel('Hora del día')\n",
    "plt.ylabel('Número de usuarios únicos')\n",
    "plt.title('Número de personas que hacen pedidos según la hora del día')\n",
    "\n",
    "plt.show()"
   ]
  },
  {
   "cell_type": "markdown",
   "id": "11270eed",
   "metadata": {
    "id": "11270eed"
   },
   "source": [
    "Escribe aquí tus conclusiones\n",
    "\n",
    "Según la grafica arriba en las horas 0 hay 2500 personas realizando pedidos, entre las horas 1 y 5 hay un promedio de 1000 personas, entre las horas 6 y 10 van subiendo de 5000 por cada hora las personas que hacen pedidos yendo de 5000 hasta alcanzar 30000 personas, ya después entre las horas 11 y 14 se mantiene una cantidad de personas de 32500,y ya posteriormente entre las horas 15 y 23 comienza a caer las cantidad de personas que realizan compras que va entre 30000 bajando cada hora 5000 personas y quedándose en la hora 23 con 2500 personas."
   ]
  },
  {
   "cell_type": "markdown",
   "id": "documented-command",
   "metadata": {
    "id": "documented-command"
   },
   "source": [
    "### [A3] ¿Qué día de la semana compran víveres las personas?"
   ]
  },
  {
   "cell_type": "code",
   "execution_count": 37,
   "id": "chief-digit",
   "metadata": {
    "id": "chief-digit",
    "trusted": false
   },
   "outputs": [
    {
     "name": "stdout",
     "output_type": "stream",
     "text": [
      "Segun la tendencia las personas compran mas los viveres en domingo y lunes.\n"
     ]
    },
    {
     "data": {
      "image/png": "[encoded data removed]",
      "text/plain": [
       "<Figure size 1200x600 with 1 Axes>"
      ]
     },
     "metadata": {},
     "output_type": "display_data"
    }
   ],
   "source": [
    "print(f\"Segun la tendencia las personas compran mas los viveres en domingo y lunes.\")\n",
    "plt.figure(figsize=(12, 6))\n",
    "instacart_orders['order_dow'].value_counts().sort_index().plot(kind='bar')\n",
    "plt.xlabel('Día de la semana (0 = Domingo, 6 = Sábado)')\n",
    "plt.ylabel('Número de pedidos')\n",
    "plt.title('Número de pedidos por día de la semana')\n",
    "plt.show()"
   ]
  },
  {
   "cell_type": "markdown",
   "id": "dominant-lightning",
   "metadata": {
    "id": "dominant-lightning"
   },
   "source": [
    "Escribe aquí tus conclusiones\n",
    "\n",
    "Según la tendencia, las personas compran más víveres los domingos y lunes, con los mayores números de aproximadamente 80,000 pedidos en estos dos días; posteriormente, en el resto de la semana, desde el martes hasta el sábado, los pedidos se mantienen constantes en alrededor de 60,000 por día."
   ]
  },
  {
   "cell_type": "markdown",
   "id": "cutting-concert",
   "metadata": {
    "id": "cutting-concert"
   },
   "source": [
    "### [A4] ¿Cuánto tiempo esperan las personas hasta hacer otro pedido? Comenta sobre los valores mínimos y máximos."
   ]
  },
  {
   "cell_type": "code",
   "execution_count": 38,
   "id": "c231f523",
   "metadata": {
    "id": "c231f523",
    "scrolled": false,
    "trusted": false
   },
   "outputs": [
    {
     "name": "stdout",
     "output_type": "stream",
     "text": [
      "Podemos decir que las personas tardan en promedio de 8 a 30 dias para realizar otro pedido.\n"
     ]
    },
    {
     "data": {
      "image/png": "[encoded data removed]",
      "text/plain": [
       "<Figure size 1200x600 with 1 Axes>"
      ]
     },
     "metadata": {},
     "output_type": "display_data"
    },
    {
     "name": "stdout",
     "output_type": "stream",
     "text": [
      "Valor mínimo de 'days_since_prior_order': 0.0\n",
      "Valor máximo de 'days_since_prior_order': 30.0\n"
     ]
    }
   ],
   "source": [
    "print(f\"Podemos decir que las personas tardan en promedio de 8 a 30 dias para realizar otro pedido.\")\n",
    "plt.figure(figsize=(12, 6))\n",
    "instacart_orders['days_since_prior_order'].dropna().plot(kind='hist', bins=30)\n",
    "plt.xlabel('Días desde el pedido anterior')\n",
    "plt.ylabel('Número de pedidos')\n",
    "plt.title('Tiempo de espera hasta el siguiente pedido')\n",
    "plt.show()\n",
    "\n",
    "min_days_since_prior_order = instacart_orders['days_since_prior_order'].min()\n",
    "max_days_since_prior_order = instacart_orders['days_since_prior_order'].max()\n",
    "print(f\"Valor mínimo de 'days_since_prior_order': {min_days_since_prior_order}\")\n",
    "print(f\"Valor máximo de 'days_since_prior_order': {max_days_since_prior_order}\")"
   ]
  },
  {
   "cell_type": "markdown",
   "id": "discrete-vertex",
   "metadata": {
    "id": "discrete-vertex"
   },
   "source": [
    "Escribe aquí tus conclusiones\n",
    "\n",
    "Podemos decir que las personas están constantemente realizando pedidos a durante todo el mes pero si hay una alza en el día 8 como en el día 30, ahora bien la grafica nos muestra que los pedidos son contantes al inicio del mes y posteriormente decae, lo que me deja con una suposición u hipótesis de que la personas se realizan mas al principio de mes así como el día final por el pago de sus empleadores realizan cada quincena, pero como te comente es solo una teoria de la caul podria haber diferente variables del tiempo que toma para que cada persona vuelva a realizar otro pedido, por lo que le dejaria esta tarea a la area administrativa para que realicen un estudio del mismo e incentiven las ventas de los pedidos."
   ]
  },
  {
   "cell_type": "markdown",
   "id": "tight-staff",
   "metadata": {
    "id": "tight-staff"
   },
   "source": [
    "# [B] Intermedio (deben completarse todos para aprobar)\n",
    "\n",
    "1. ¿Existe alguna diferencia entre las distribuciones `'order_hour_of_day'` de los miércoles y los sábados? Traza gráficos de barra de `'order_hour_of_day'` para ambos días en la misma figura y describe las diferencias que observes.\n",
    "2. Grafica la distribución para el número de órdenes que hacen los clientes (es decir, cuántos clientes hicieron solo 1 pedido, cuántos hicieron 2, cuántos 3, y así sucesivamente...).\n",
    "3. ¿Cuáles son los 20 principales productos que se piden con más frecuencia (muestra su identificación y nombre)?"
   ]
  },
  {
   "cell_type": "markdown",
   "id": "packed-classic",
   "metadata": {
    "id": "packed-classic"
   },
   "source": [
    "### [B1] Diferencia entre miércoles y sábados para  `'order_hour_of_day'`. Traza gráficos de barra para los dos días y describe las diferencias que veas."
   ]
  },
  {
   "cell_type": "code",
   "execution_count": 39,
   "id": "d89b8403",
   "metadata": {
    "id": "d89b8403",
    "trusted": false
   },
   "outputs": [
    {
     "name": "stdout",
     "output_type": "stream",
     "text": [
      "En conclusion entre las 0-5 horas el sabado tiene ligeramente mas ventas, entre las 10-15 horas los sabados siguen teniendo un poco mas de ventas y entre 16-20 horas los sabados siguen tienen ligeramente mas ventas pero vandisminuyendo e ambos dias.\n"
     ]
    },
    {
     "data": {
      "image/png": "[encoded data removed]",
      "text/plain": [
       "<Figure size 1200x600 with 1 Axes>"
      ]
     },
     "metadata": {},
     "output_type": "display_data"
    }
   ],
   "source": [
    "miercoles_orders = instacart_orders[instacart_orders['order_dow'] == 3]\n",
    "sabados_orders = instacart_orders[instacart_orders['order_dow'] == 6]\n",
    "\n",
    "plt.figure(figsize=(12, 6))\n",
    "plt.hist([miercoles_orders['order_hour_of_day'], sabados_orders['order_hour_of_day']],\n",
    "         bins=24, label=['Miércoles', 'Sábado'], alpha=0.7, rwidth=0.85)\n",
    "plt.xlabel('Hora del día')\n",
    "plt.ylabel('Número de pedidos')\n",
    "plt.title('Distribución de pedidos por hora del día (Miércoles vs Sábado)')\n",
    "plt.legend(loc='upper right')\n",
    "\n",
    "print(f\"En conclusion entre las 0-5 horas el sabado tiene ligeramente mas ventas, entre las 10-15 horas los sabados siguen teniendo un poco mas de ventas y entre 16-20 horas los sabados siguen tienen ligeramente mas ventas pero vandisminuyendo e ambos dias.\")"
   ]
  },
  {
   "cell_type": "markdown",
   "id": "charitable-congo",
   "metadata": {
    "id": "charitable-congo"
   },
   "source": [
    "Escribe aquí tus conclusiones\n",
    "\n",
    "En conclusión entre las 0-5 horas el sábado tiene ligeramente mas ventas, entre las 10-15 horas los sábados siguen teniendo un poco mas de ventas y entre 16-20 horas los sábados siguen tienen ligeramente mas ventas; en resumen tanto en la madrugada y noche los sábados tienen una tendencia a tener mas pedidos, mientras que para el día miércoles en la mañana hay un aumento y tarde comienza a demostrar una disminución rápida."
   ]
  },
  {
   "cell_type": "markdown",
   "id": "e3891143",
   "metadata": {
    "id": "e3891143"
   },
   "source": [
    "### [B2] ¿Cuál es la distribución para el número de pedidos por cliente?"
   ]
  },
  {
   "cell_type": "code",
   "execution_count": 40,
   "id": "d8c26c23",
   "metadata": {
    "id": "d8c26c23",
    "trusted": false
   },
   "outputs": [
    {
     "data": {
      "image/png": "[encoded data removed]",
      "text/plain": [
       "<Figure size 1200x600 with 1 Axes>"
      ]
     },
     "metadata": {},
     "output_type": "display_data"
    },
    {
     "name": "stdout",
     "output_type": "stream",
     "text": [
      "1     55355\n",
      "2     36508\n",
      "3     21548\n",
      "4     13498\n",
      "5      8778\n",
      "6      6012\n",
      "7      4240\n",
      "8      3016\n",
      "9      2153\n",
      "10     1646\n",
      "11     1308\n",
      "12      948\n",
      "13      701\n",
      "14      514\n",
      "15      437\n",
      "16      263\n",
      "17      184\n",
      "18      121\n",
      "19       85\n",
      "20       52\n",
      "21       22\n",
      "22       23\n",
      "23       19\n",
      "24        3\n",
      "25        1\n",
      "26        1\n",
      "28        1\n",
      "Name: user_id, dtype: int64\n"
     ]
    }
   ],
   "source": [
    "order_counts = instacart_orders['user_id'].value_counts()\n",
    "\n",
    "\n",
    "plt.figure(figsize=(12, 6))\n",
    "order_counts.plot(kind='hist', bins=range(1, order_counts.max() + 1), edgecolor='black')\n",
    "plt.xlabel('Número de órdenes')\n",
    "plt.ylabel('Número de clientes')\n",
    "plt.title('Distribución del número de órdenes por cliente')\n",
    "plt.show()\n",
    "\n",
    "tabla_de_distrubucion = order_counts.value_counts().sort_index()\n",
    "print(tabla_de_distrubucion)"
   ]
  },
  {
   "cell_type": "markdown",
   "id": "d2eff7d5",
   "metadata": {
    "id": "d2eff7d5"
   },
   "source": [
    "Escribe aquí tus conclusiones\n",
    "\n",
    "En conclusion, la mayoría de los clientes han realizado entre 1 y 5 pedidos, con un número decreciente de clientes a medida que aumenta el número de pedidos realizados."
   ]
  },
  {
   "cell_type": "markdown",
   "id": "54a0319c",
   "metadata": {
    "id": "54a0319c"
   },
   "source": [
    "### [B3] ¿Cuáles son los 20 productos más populares (muestra su ID y nombre)?"
   ]
  },
  {
   "cell_type": "code",
   "execution_count": 41,
   "id": "exterior-arizona",
   "metadata": {
    "id": "exterior-arizona",
    "scrolled": false,
    "trusted": false
   },
   "outputs": [
    {
     "name": "stdout",
     "output_type": "stream",
     "text": [
      "    product_id              product_name\n",
      "0        24852                    BANANA\n",
      "1        13176    BAG OF ORGANIC BANANAS\n",
      "2        21137      ORGANIC STRAWBERRIES\n",
      "3        21903      ORGANIC BABY SPINACH\n",
      "4        47209      ORGANIC HASS AVOCADO\n",
      "5        47766           ORGANIC AVOCADO\n",
      "6        47626               LARGE LEMON\n",
      "7        16797              STRAWBERRIES\n",
      "8        26209                     LIMES\n",
      "9        27845        ORGANIC WHOLE MILK\n",
      "10       27966       ORGANIC RASPBERRIES\n",
      "11       22935      ORGANIC YELLOW ONION\n",
      "12       24964            ORGANIC GARLIC\n",
      "13       45007          ORGANIC ZUCCHINI\n",
      "14       39275       ORGANIC BLUEBERRIES\n",
      "15       49683            CUCUMBER KIRBY\n",
      "16       28204        ORGANIC FUJI APPLE\n",
      "17        5876             ORGANIC LEMON\n",
      "18        8277  APPLE HONEYCRISP ORGANIC\n",
      "19       40706    ORGANIC GRAPE TOMATOES\n",
      "\n"
     ]
    },
    {
     "data": {
      "image/png": "[encoded data removed]",
      "text/plain": [
       "<Figure size 1200x800 with 1 Axes>"
      ]
     },
     "metadata": {},
     "output_type": "display_data"
    }
   ],
   "source": [
    "top_products = order_products['product_id'].value_counts().head(20)\n",
    "\n",
    "top_products_df = top_products.reset_index()\n",
    "top_products_df.columns = ['product_id', 'count']\n",
    "\n",
    "top_products_df = top_products_df.merge(products[['product_id', 'product_name']],\n",
    "                                        on='product_id',\n",
    "                                        how='left')\n",
    "print(top_products_df[['product_id', 'product_name']])\n",
    "\n",
    "print()\n",
    "\n",
    "plt.figure(figsize=(12, 8))\n",
    "plt.bar(top_products_df['product_name'], top_products_df['count'])\n",
    "plt.xlabel('Nombre del producto')\n",
    "plt.ylabel('Cantidad de pedidos')\n",
    "plt.title('20 principales productos más pedidos')\n",
    "plt.xticks(rotation=90)\n",
    "plt.show()"
   ]
  },
  {
   "cell_type": "markdown",
   "id": "gross-theme",
   "metadata": {
    "id": "gross-theme"
   },
   "source": [
    "# [C] Difícil (deben completarse todos para aprobar)\n",
    "\n",
    "1. ¿Cuántos artículos suelen comprar las personas en un pedido? ¿Cómo es la distribución?\n",
    "2. ¿Cuáles son los 20 principales artículos que vuelven a pedirse con mayor frecuencia (muestra sus nombres e IDs de los productos)?\n",
    "3. Para cada producto, ¿cuál es la tasa de repetición del pedido (número de repeticiones de pedido/total de pedidos?\n",
    "4. Para cada cliente, ¿qué proporción de los productos que pidió ya los había pedido? Calcula la tasa de repetición de pedido para cada usuario en lugar de para cada producto.\n",
    "5. ¿Cuáles son los 20 principales artículos que la gente pone primero en sus carritos (muestra las IDs de los productos, sus nombres, y el número de veces en que fueron el primer artículo en añadirse al carrito)?"
   ]
  },
  {
   "cell_type": "markdown",
   "id": "romantic-deposit",
   "metadata": {
    "id": "romantic-deposit"
   },
   "source": [
    "### [C1] ¿Cuántos artículos compran normalmente las personas en un pedido? ¿Cómo es la distribución?"
   ]
  },
  {
   "cell_type": "code",
   "execution_count": 42,
   "id": "virtual-punch",
   "metadata": {
    "id": "virtual-punch",
    "trusted": false
   },
   "outputs": [
    {
     "name": "stdout",
     "output_type": "stream",
     "text": [
      "Se realizaron un total de 450046, en promedio las persoanas compran 10 articulos por perdido, el 25% de los pedidos contienen 5 o menos productos,la mediana es de 8 lo que nos indica que el 50% de los pedidos tienen 8 o menos producto, el 75% de los pedidos contienen 14 o menos productos, y por ultimo el pedido con mayor cantidad de productos tiene 127.\n"
     ]
    },
    {
     "data": {
      "image/png": "[encoded data removed]",
      "text/plain": [
       "<Figure size 1200x600 with 1 Axes>"
      ]
     },
     "metadata": {},
     "output_type": "display_data"
    },
    {
     "name": "stdout",
     "output_type": "stream",
     "text": [
      "count    450046.000000\n",
      "mean         10.098983\n",
      "std           7.540206\n",
      "min           1.000000\n",
      "25%           5.000000\n",
      "50%           8.000000\n",
      "75%          14.000000\n",
      "max         127.000000\n",
      "Name: order_id, dtype: float64\n",
      "\n"
     ]
    }
   ],
   "source": [
    "print(f\"Se realizaron un total de {450046}, en promedio las persoanas compran {10} articulos por perdido, el {25}% de los pedidos contienen {5} o menos productos,la mediana es de {8} lo que nos indica que el {50}% de los pedidos tienen {8} o menos producto, el {75}% de los pedidos contienen 14 o menos productos, y por ultimo el pedido con mayor cantidad de productos tiene 127.\")\n",
    "products_per_order = order_products['order_id'].value_counts()\n",
    "\n",
    "\n",
    "plt.figure(figsize=(12, 6))\n",
    "products_per_order.plot(kind='hist', bins=range(1, products_per_order.max() + 1), edgecolor='black')\n",
    "plt.xlabel('Número de productos por pedido')\n",
    "plt.ylabel('Número de pedidos')\n",
    "plt.title('Distribución del número de productos por pedido')\n",
    "plt.show()\n",
    "\n",
    "\n",
    "products_per_order_stats = products_per_order.describe()\n",
    "print(products_per_order_stats)\n",
    "print()"
   ]
  },
  {
   "cell_type": "markdown",
   "id": "designed-mortality",
   "metadata": {
    "id": "designed-mortality"
   },
   "source": [
    "Escribe aquí tus conclusiones\n",
    "\n",
    "En conclusion, se realizaron un total de 450046, en promedio las persoanas compran 10 articulos por perdido, el 25% de los pedidos contienen 5 o menos productos,la mediana es de 8 lo que nos indica que el 50% de los pedidos tienen 8 o menos producto, el 75% de los pedidos contienen 14 o menos productos, y por ultimo el pedido con mayor cantidad de productos tiene 127."
   ]
  },
  {
   "cell_type": "markdown",
   "id": "5e6b5537",
   "metadata": {
    "id": "5e6b5537"
   },
   "source": [
    "### [C2] ¿Cuáles son los 20 principales artículos que vuelven a pedirse con mayor frecuencia (muestra sus nombres e IDs de los productos)?"
   ]
  },
  {
   "cell_type": "code",
   "execution_count": 43,
   "id": "9374e55a",
   "metadata": {
    "id": "9374e55a",
    "trusted": false
   },
   "outputs": [
    {
     "name": "stdout",
     "output_type": "stream",
     "text": [
      "    product_id              product_name\n",
      "0        24852                    BANANA\n",
      "1        13176    BAG OF ORGANIC BANANAS\n",
      "2        21137      ORGANIC STRAWBERRIES\n",
      "3        21903      ORGANIC BABY SPINACH\n",
      "4        47209      ORGANIC HASS AVOCADO\n",
      "5        47766           ORGANIC AVOCADO\n",
      "6        27845        ORGANIC WHOLE MILK\n",
      "7        47626               LARGE LEMON\n",
      "8        27966       ORGANIC RASPBERRIES\n",
      "9        16797              STRAWBERRIES\n",
      "10       26209                     LIMES\n",
      "11       22935      ORGANIC YELLOW ONION\n",
      "12       24964            ORGANIC GARLIC\n",
      "13       45007          ORGANIC ZUCCHINI\n",
      "14       49683            CUCUMBER KIRBY\n",
      "15       28204        ORGANIC FUJI APPLE\n",
      "16        8277  APPLE HONEYCRISP ORGANIC\n",
      "17       39275       ORGANIC BLUEBERRIES\n",
      "18        5876             ORGANIC LEMON\n",
      "19       49235       ORGANIC HALF & HALF\n",
      "\n"
     ]
    },
    {
     "data": {
      "image/png": "[encoded data removed]",
      "text/plain": [
       "<Figure size 1200x800 with 1 Axes>"
      ]
     },
     "metadata": {},
     "output_type": "display_data"
    }
   ],
   "source": [
    "reordered_products = order_products[order_products['reordered'] == 1]\n",
    "\n",
    "\n",
    "top_reordered_products = reordered_products['product_id'].value_counts().head(20)\n",
    "\n",
    "\n",
    "top_reordered_df = top_reordered_products.reset_index()\n",
    "top_reordered_df.columns = ['product_id', 'count']\n",
    "\n",
    "\n",
    "top_reordered_df = top_reordered_df.merge(products[['product_id', 'product_name']],\n",
    "                                          on='product_id',\n",
    "                                          how='left')\n",
    "\n",
    "\n",
    "print(top_reordered_df[['product_id', 'product_name']])\n",
    "\n",
    "print()\n",
    "plt.figure(figsize=(12, 8))\n",
    "plt.bar(top_reordered_df['product_name'], top_reordered_df['count'])\n",
    "plt.xlabel('Nombre del producto')\n",
    "plt.ylabel('Cantidad de reordenes')\n",
    "plt.title('20 principales productos más reordenados')\n",
    "plt.xticks(rotation=90)\n",
    "plt.show()"
   ]
  },
  {
   "cell_type": "markdown",
   "id": "80e70c74",
   "metadata": {
    "id": "80e70c74"
   },
   "source": [
    "Escribe aquí tus conclusiones\n",
    "\n",
    "Los clientes muestras una gran preferencia por los productos organicos y frescos, ya que son productos de uso basicos que se utilizan en las cocinas regularmente, dichos productos en su mayoria son las frutas y verduras."
   ]
  },
  {
   "cell_type": "markdown",
   "id": "9d312b14",
   "metadata": {
    "id": "9d312b14"
   },
   "source": [
    "### [C3] Para cada producto, ¿cuál es la proporción de las veces que se pide y que se vuelve a pedir?"
   ]
  },
  {
   "cell_type": "code",
   "execution_count": 44,
   "id": "8ae9f4b1",
   "metadata": {
    "id": "8ae9f4b1",
    "trusted": false
   },
   "outputs": [
    {
     "name": "stdout",
     "output_type": "stream",
     "text": [
      "       product_id                                       product_name  \\\n",
      "0               1                         CHOCOLATE SANDWICH COOKIES   \n",
      "1               2                                   ALL-SEASONS SALT   \n",
      "2               3               ROBUST GOLDEN UNSWEETENED OOLONG TEA   \n",
      "3               4  SMART ONES CLASSIC FAVORITES MINI RIGATONI WIT...   \n",
      "4               7                     PURE COCONUT WATER WITH ORANGE   \n",
      "...           ...                                                ...   \n",
      "45568       49690                      HIGH PERFORMANCE ENERGY DRINK   \n",
      "45569       49691                      ORIGINAL PANCAKE & WAFFLE MIX   \n",
      "45570       49692    ORGANIC INSTANT OATMEAL LIGHT MAPLE BROWN SUGAR   \n",
      "45571       49693                             SPRING WATER BODY WASH   \n",
      "45572       49694                            BURRITO- STEAK & CHEESE   \n",
      "\n",
      "       total_orders  reorders  reorder_proportion  \n",
      "0               280     158.0            0.564286  \n",
      "1                11       0.0            0.000000  \n",
      "2                42      31.0            0.738095  \n",
      "3                49      25.0            0.510204  \n",
      "4                 2       1.0            0.500000  \n",
      "...             ...       ...                 ...  \n",
      "45568             5       4.0            0.800000  \n",
      "45569            72      31.0            0.430556  \n",
      "45570            12       5.0            0.416667  \n",
      "45571            25      11.0            0.440000  \n",
      "45572             9       3.0            0.333333  \n",
      "\n",
      "[45573 rows x 5 columns]\n",
      "Promedio total de órdenes: 99.73025695038729\n",
      "Promedio total de reordenes: 58.89096614223334\n"
     ]
    }
   ],
   "source": [
    "total_orders_per_product = order_products['product_id'].value_counts()\n",
    "\n",
    "\n",
    "reorders_per_product = order_products[order_products['reordered'] == 1]['product_id'].value_counts()\n",
    "\n",
    "proportion_de_order_products = pd.DataFrame({\n",
    "    'total_orders': total_orders_per_product,\n",
    "    'reorders': reorders_per_product\n",
    "})\n",
    "\n",
    "proportion_de_order_products['reorders'] = proportion_de_order_products['reorders'].fillna(0)\n",
    "\n",
    "proportion_de_order_products['reorder_proportion'] = proportion_de_order_products['reorders'] / proportion_de_order_products['total_orders']\n",
    "\n",
    "proportion_de_order_products = proportion_de_order_products.reset_index().merge(products[['product_id', 'product_name']],\n",
    "                                                  left_on='index', right_on='product_id',\n",
    "                                                  how='left')\n",
    "\n",
    "mean_total_de_las_orders = proportion_de_order_products['total_orders'].mean()\n",
    "mean_de_las_reorders = proportion_de_order_products['reorders'].mean()\n",
    "\n",
    "print(proportion_de_order_products[['product_id', 'product_name', 'total_orders', 'reorders', 'reorder_proportion']])\n",
    "print(f\"Promedio total de órdenes: {mean_total_de_las_orders}\")\n",
    "print(f\"Promedio total de reordenes: {mean_de_las_reorders}\")"
   ]
  },
  {
   "cell_type": "markdown",
   "id": "I10dEIAyldcO",
   "metadata": {
    "id": "I10dEIAyldcO"
   },
   "source": [
    "Escribe aquí tus conclusiones\n",
    "\n",
    "Basandonos en los resultados las porciones que se pide y ques e vuelven a pedir son bastantes bajas y ocilan entre 0 y 1, sin embargo podemos decir que el promedio total de reordenes es de un 58.90%."
   ]
  },
  {
   "cell_type": "markdown",
   "id": "subject-boxing",
   "metadata": {
    "id": "subject-boxing"
   },
   "source": [
    "### [C4] Para cada cliente, ¿qué proporción de sus productos ya los había pedido?"
   ]
  },
  {
   "cell_type": "code",
   "execution_count": 45,
   "id": "medical-couple",
   "metadata": {
    "id": "medical-couple",
    "scrolled": true,
    "trusted": false
   },
   "outputs": [
    {
     "name": "stdout",
     "output_type": "stream",
     "text": [
      "        total_products  reordered_products  reorder_proportion\n",
      "2                   26                 1.0            0.038462\n",
      "4                    2                 0.0            0.000000\n",
      "5                   12                 8.0            0.666667\n",
      "6                    4                 0.0            0.000000\n",
      "7                   14                13.0            0.928571\n",
      "...                ...                 ...                 ...\n",
      "206203              27                 6.0            0.222222\n",
      "206206              21                15.0            0.714286\n",
      "206207              46                41.0            0.891304\n",
      "206208             125                87.0            0.696000\n",
      "206209              25                 8.0            0.320000\n",
      "\n",
      "[149626 rows x 3 columns]\n",
      "Promedio total de productos por usuario: 30.3767593867376\n",
      "Promedio total de productos reordenados por usuario: 17.937450710438025\n"
     ]
    }
   ],
   "source": [
    "merged_df = order_products.merge(instacart_orders[['order_id', 'user_id']], on='order_id', how='left')\n",
    "\n",
    "total_products_por_usuario = merged_df['user_id'].value_counts()\n",
    "\n",
    "reordered_products_por_usuario = merged_df[merged_df['reordered'] == 1]['user_id'].value_counts()\n",
    "\n",
    "proportion_por_usuario= pd.DataFrame({\n",
    "    'total_products': total_products_por_usuario,\n",
    "    'reordered_products': reordered_products_por_usuario\n",
    "})\n",
    "\n",
    "proportion_por_usuario['reordered_products'] = proportion_por_usuario['reordered_products'].fillna(0)\n",
    "\n",
    "proportion_por_usuario['reorder_proportion'] = proportion_por_usuario['reordered_products'] / proportion_por_usuario['total_products']\n",
    "\n",
    "mean_total_de_los_products = proportion_por_usuario['total_products'].mean()\n",
    "mean_reordered_de_los_products = proportion_por_usuario['reordered_products'].mean()\n",
    "\n",
    "print(proportion_por_usuario)\n",
    "print(f\"Promedio total de productos por usuario: {mean_total_de_los_products}\")\n",
    "print(f\"Promedio total de productos reordenados por usuario: {mean_reordered_de_los_products}\")"
   ]
  },
  {
   "cell_type": "markdown",
   "id": "BgJSvXDsleXz",
   "metadata": {
    "id": "BgJSvXDsleXz"
   },
   "source": [
    "Escribe aquí tus conclusiones\n",
    "\n",
    "En esta seccion se vuelve a repetir el patron donde las porciones son muy pequeñas que van entre 0 y 1 pero el promedio toatl de los productos reordenados por los clientes es de 17.93%."
   ]
  },
  {
   "cell_type": "markdown",
   "id": "92d35137",
   "metadata": {
    "id": "92d35137"
   },
   "source": [
    "### [C5] ¿Cuáles son los 20 principales artículos que las personas ponen primero en sus carritos?"
   ]
  },
  {
   "cell_type": "code",
   "execution_count": 46,
   "id": "0ae57274",
   "metadata": {
    "id": "0ae57274",
    "scrolled": false,
    "trusted": false
   },
   "outputs": [
    {
     "name": "stdout",
     "output_type": "stream",
     "text": [
      "    product_id                 product_name\n",
      "0        24852                       BANANA\n",
      "1        13176       BAG OF ORGANIC BANANAS\n",
      "2        27845           ORGANIC WHOLE MILK\n",
      "3        21137         ORGANIC STRAWBERRIES\n",
      "4        47209         ORGANIC HASS AVOCADO\n",
      "5        21903         ORGANIC BABY SPINACH\n",
      "6        47766              ORGANIC AVOCADO\n",
      "7        19660                 SPRING WATER\n",
      "8        16797                 STRAWBERRIES\n",
      "9        27966          ORGANIC RASPBERRIES\n",
      "10       44632   SPARKLING WATER GRAPEFRUIT\n",
      "11       49235          ORGANIC HALF & HALF\n",
      "12       47626                  LARGE LEMON\n",
      "13         196                         SODA\n",
      "14       38689     ORGANIC REDUCED FAT MILK\n",
      "15       26209                        LIMES\n",
      "16       12341                HASS AVOCADOS\n",
      "17        5785  ORGANIC REDUCED FAT 2% MILK\n",
      "18       27086                  HALF & HALF\n",
      "19       22935         ORGANIC YELLOW ONION\n",
      "\n"
     ]
    },
    {
     "data": {
      "image/png": "[encoded data removed]",
      "text/plain": [
       "<Figure size 1200x800 with 1 Axes>"
      ]
     },
     "metadata": {},
     "output_type": "display_data"
    }
   ],
   "source": [
    "first_added_products = order_products[order_products['add_to_cart_order'] == 1]\n",
    "\n",
    "top_first_added_products = first_added_products['product_id'].value_counts().head(20)\n",
    "\n",
    "top_first_added_df = top_first_added_products.reset_index()\n",
    "top_first_added_df.columns = ['product_id', 'count']\n",
    "\n",
    "top_first_added_df = top_first_added_df.merge(products[['product_id', 'product_name']],\n",
    "                                              on='product_id',\n",
    "                                              how='left')\n",
    "\n",
    "print(top_first_added_df[['product_id', 'product_name']])\n",
    "print()\n",
    "plt.figure(figsize=(12, 8))\n",
    "plt.bar(top_first_added_df['product_name'], top_first_added_df['count'])\n",
    "plt.xlabel('Nombre del producto')\n",
    "plt.ylabel('Cantidad de veces añadido primero al carrito')\n",
    "plt.title('20 principales productos añadidos primero al carrito')\n",
    "plt.xticks(rotation=90)\n",
    "plt.show()"
   ]
  },
  {
   "cell_type": "markdown",
   "id": "28ce9872",
   "metadata": {
    "id": "28ce9872"
   },
   "source": [
    "Escribe aquí tus conclusiones"
   ]
  },
  {
   "cell_type": "markdown",
   "id": "uITbFCEoDosC",
   "metadata": {
    "id": "uITbFCEoDosC"
   },
   "source": [
    "### Conclusion general del proyecto:"
   ]
  },
  {
   "cell_type": "markdown",
   "id": "3fc64b97",
   "metadata": {
    "id": "Nk-4GS7mDwqY"
   },
   "source": [
    "El análisis revela patrones claros en el comportamiento de los clientes de Instacart. La mayoría de los pedidos se concentran en determinados días y horarios, y los clientes tienden a repetir productos esenciales en cada compra. La información obtenida puede ser útil para la optimización de inventarios, estrategias de marketing y personalización de la experiencia del usuario en la plataforma.\n",
    "\n",
    "Los patrones de compra según la información nos indican que la mayoría de los pedidos se realizan entre las 10 y 16 horas, con un pico alrededor del mediodía y los días con mayor volumen de pedidos son domingo y lunes, por lo que podemos decir que los clientes tienen tendencia a realizar las compras con mayor frecuencia al inicio de la semana.\n",
    "\n",
    "También el tiempo de espera entre pedidos varía, pero la mayoría de los clientes realizan un nuevo pedido entre 8 y 30 días después del anterior.\n",
    "\n",
    "En la comparación entre los días miércoles y sábado vemos que los sábados tienden a tener un volumen de compras mayor ligeramente hablando.\n",
    "\n",
    "Al analizar los primeros productos añadidos al carrito, se encontró que los bananos, la leche y el agua son de los más frecuentes en la primera posición, lo que sugiere que son productos esenciales para los clientes.\n"
   ]
  }
 ],
 "metadata": {
  "ExecuteTimeLog": [
   {
    "duration": 277,
    "start_time": "2025-01-31T15:04:53.809Z"
   },
   {
    "duration": 4,
    "start_time": "2025-01-31T15:05:19.724Z"
   },
   {
    "duration": 2,
    "start_time": "2025-01-31T15:05:30.682Z"
   },
   {
    "duration": 3,
    "start_time": "2025-01-31T15:05:32.564Z"
   },
   {
    "duration": 4,
    "start_time": "2025-01-31T15:05:45.357Z"
   },
   {
    "duration": 3,
    "start_time": "2025-01-31T15:07:54.827Z"
   },
   {
    "duration": 4,
    "start_time": "2025-01-31T15:09:59.376Z"
   },
   {
    "duration": 4,
    "start_time": "2025-01-31T15:10:12.822Z"
   },
   {
    "duration": 4,
    "start_time": "2025-01-31T15:10:16.334Z"
   },
   {
    "duration": 5,
    "start_time": "2025-01-31T15:11:12.669Z"
   },
   {
    "duration": 3,
    "start_time": "2025-01-31T15:11:32.208Z"
   },
   {
    "duration": 3,
    "start_time": "2025-01-31T15:11:37.719Z"
   },
   {
    "duration": 2,
    "start_time": "2025-01-31T15:11:46.383Z"
   },
   {
    "duration": 3,
    "start_time": "2025-01-31T15:11:48.082Z"
   },
   {
    "duration": 287,
    "start_time": "2025-01-31T15:12:04.852Z"
   },
   {
    "duration": 2,
    "start_time": "2025-01-31T15:12:09.954Z"
   },
   {
    "duration": 267,
    "start_time": "2025-01-31T15:13:07.815Z"
   },
   {
    "duration": 51,
    "start_time": "2025-01-31T15:13:09.052Z"
   },
   {
    "duration": 7,
    "start_time": "2025-01-31T15:13:10.274Z"
   },
   {
    "duration": 510,
    "start_time": "2025-01-31T15:13:11.145Z"
   },
   {
    "duration": 1929,
    "start_time": "2025-01-31T15:13:11.738Z"
   },
   {
    "duration": 7,
    "start_time": "2025-01-31T15:13:29.750Z"
   },
   {
    "duration": 21,
    "start_time": "2025-01-31T15:18:57.474Z"
   },
   {
    "duration": 6,
    "start_time": "2025-01-31T15:19:37.855Z"
   },
   {
    "duration": 9,
    "start_time": "2025-01-31T15:19:43.181Z"
   },
   {
    "duration": 9,
    "start_time": "2025-01-31T15:19:47.249Z"
   },
   {
    "duration": 7,
    "start_time": "2025-01-31T15:19:49.026Z"
   },
   {
    "duration": 20,
    "start_time": "2025-01-31T15:20:12.323Z"
   },
   {
    "duration": 10,
    "start_time": "2025-01-31T15:20:32.820Z"
   },
   {
    "duration": 7,
    "start_time": "2025-01-31T15:20:48.219Z"
   },
   {
    "duration": 10,
    "start_time": "2025-01-31T15:21:01.042Z"
   },
   {
    "duration": 20,
    "start_time": "2025-01-31T15:21:07.227Z"
   },
   {
    "duration": 8,
    "start_time": "2025-01-31T15:21:47.549Z"
   },
   {
    "duration": 2370,
    "start_time": "2025-01-31T15:36:04.192Z"
   },
   {
    "duration": 168,
    "start_time": "2025-01-31T15:37:59.591Z"
   },
   {
    "duration": 13,
    "start_time": "2025-01-31T15:40:36.291Z"
   },
   {
    "duration": 12,
    "start_time": "2025-01-31T15:40:44.925Z"
   },
   {
    "duration": 12,
    "start_time": "2025-01-31T15:40:50.910Z"
   },
   {
    "duration": 169,
    "start_time": "2025-01-31T15:43:26.058Z"
   },
   {
    "duration": 600,
    "start_time": "2025-01-31T15:48:59.511Z"
   },
   {
    "duration": 204,
    "start_time": "2025-01-31T15:51:47.412Z"
   },
   {
    "duration": 196,
    "start_time": "2025-01-31T15:57:57.183Z"
   },
   {
    "duration": 180,
    "start_time": "2025-01-31T16:06:04.698Z"
   },
   {
    "duration": 2,
    "start_time": "2025-01-31T16:06:21.174Z"
   },
   {
    "duration": 188,
    "start_time": "2025-01-31T16:09:18.034Z"
   },
   {
    "duration": 194,
    "start_time": "2025-01-31T16:13:18.978Z"
   },
   {
    "duration": 197,
    "start_time": "2025-01-31T16:15:23.664Z"
   },
   {
    "duration": 192,
    "start_time": "2025-01-31T16:15:39.792Z"
   },
   {
    "duration": 203,
    "start_time": "2025-01-31T16:15:49.465Z"
   },
   {
    "duration": 194,
    "start_time": "2025-01-31T16:16:23.063Z"
   },
   {
    "duration": 179,
    "start_time": "2025-01-31T16:17:09.695Z"
   },
   {
    "duration": 183,
    "start_time": "2025-01-31T16:17:32.729Z"
   },
   {
    "duration": 194,
    "start_time": "2025-01-31T16:17:41.021Z"
   },
   {
    "duration": 2107,
    "start_time": "2025-01-31T16:23:16.998Z"
   },
   {
    "duration": 86,
    "start_time": "2025-01-31T16:23:31.016Z"
   },
   {
    "duration": 10,
    "start_time": "2025-01-31T16:23:54.598Z"
   },
   {
    "duration": 921,
    "start_time": "2025-01-31T16:24:37.318Z"
   },
   {
    "duration": 10,
    "start_time": "2025-01-31T16:24:40.630Z"
   },
   {
    "duration": 9,
    "start_time": "2025-01-31T16:24:44.173Z"
   },
   {
    "duration": 9,
    "start_time": "2025-01-31T16:24:47.458Z"
   },
   {
    "duration": 7,
    "start_time": "2025-01-31T16:24:50.419Z"
   },
   {
    "duration": 88,
    "start_time": "2025-01-31T16:30:37.259Z"
   },
   {
    "duration": 84,
    "start_time": "2025-01-31T16:32:27.234Z"
   },
   {
    "duration": 87,
    "start_time": "2025-01-31T16:32:30.416Z"
   },
   {
    "duration": 90,
    "start_time": "2025-01-31T16:32:37.207Z"
   },
   {
    "duration": 82,
    "start_time": "2025-01-31T16:32:38.736Z"
   },
   {
    "duration": 20,
    "start_time": "2025-01-31T16:36:35.212Z"
   },
   {
    "duration": 8,
    "start_time": "2025-01-31T16:36:43.455Z"
   },
   {
    "duration": 7,
    "start_time": "2025-01-31T16:37:02.362Z"
   },
   {
    "duration": 7,
    "start_time": "2025-01-31T16:37:11.498Z"
   },
   {
    "duration": 4,
    "start_time": "2025-01-31T16:37:39.041Z"
   },
   {
    "duration": 18,
    "start_time": "2025-01-31T16:37:47.487Z"
   },
   {
    "duration": 7,
    "start_time": "2025-01-31T16:39:07.400Z"
   },
   {
    "duration": 82,
    "start_time": "2025-01-31T16:39:25.956Z"
   },
   {
    "duration": 89,
    "start_time": "2025-01-31T16:39:27.212Z"
   },
   {
    "duration": 30,
    "start_time": "2025-01-31T16:40:34.333Z"
   },
   {
    "duration": 2,
    "start_time": "2025-01-31T16:41:11.616Z"
   },
   {
    "duration": 853,
    "start_time": "2025-01-31T16:41:11.621Z"
   },
   {
    "duration": 10,
    "start_time": "2025-01-31T16:41:12.476Z"
   },
   {
    "duration": 9,
    "start_time": "2025-01-31T16:41:12.488Z"
   },
   {
    "duration": 8,
    "start_time": "2025-01-31T16:41:12.500Z"
   },
   {
    "duration": 26,
    "start_time": "2025-01-31T16:41:12.509Z"
   },
   {
    "duration": 7,
    "start_time": "2025-01-31T16:41:12.537Z"
   },
   {
    "duration": 94,
    "start_time": "2025-01-31T16:41:12.545Z"
   },
   {
    "duration": 7,
    "start_time": "2025-01-31T16:41:12.640Z"
   },
   {
    "duration": 63,
    "start_time": "2025-01-31T16:42:20.202Z"
   },
   {
    "duration": 181,
    "start_time": "2025-01-31T16:44:27.135Z"
   },
   {
    "duration": 142,
    "start_time": "2025-01-31T16:44:37.090Z"
   },
   {
    "duration": 142,
    "start_time": "2025-01-31T16:44:44.796Z"
   },
   {
    "duration": 132,
    "start_time": "2025-01-31T16:44:54.545Z"
   },
   {
    "duration": 76,
    "start_time": "2025-01-31T16:44:58.155Z"
   },
   {
    "duration": 89,
    "start_time": "2025-01-31T16:45:01.549Z"
   },
   {
    "duration": 67,
    "start_time": "2025-01-31T16:45:03.715Z"
   },
   {
    "duration": 2,
    "start_time": "2025-01-31T16:45:09.973Z"
   },
   {
    "duration": 835,
    "start_time": "2025-01-31T16:45:09.977Z"
   },
   {
    "duration": 10,
    "start_time": "2025-01-31T16:45:10.814Z"
   },
   {
    "duration": 12,
    "start_time": "2025-01-31T16:45:10.826Z"
   },
   {
    "duration": 7,
    "start_time": "2025-01-31T16:45:10.841Z"
   },
   {
    "duration": 8,
    "start_time": "2025-01-31T16:45:10.850Z"
   },
   {
    "duration": 6,
    "start_time": "2025-01-31T16:45:10.859Z"
   },
   {
    "duration": 99,
    "start_time": "2025-01-31T16:45:10.867Z"
   },
   {
    "duration": 7,
    "start_time": "2025-01-31T16:45:10.968Z"
   },
   {
    "duration": 135,
    "start_time": "2025-01-31T16:45:10.977Z"
   },
   {
    "duration": 74,
    "start_time": "2025-01-31T16:45:11.115Z"
   },
   {
    "duration": 71,
    "start_time": "2025-01-31T16:45:11.191Z"
   },
   {
    "duration": 12,
    "start_time": "2025-01-31T16:45:11.264Z"
   },
   {
    "duration": 2,
    "start_time": "2025-01-31T16:45:11.278Z"
   },
   {
    "duration": 3,
    "start_time": "2025-01-31T16:45:11.281Z"
   },
   {
    "duration": 5,
    "start_time": "2025-01-31T16:45:11.285Z"
   },
   {
    "duration": 3,
    "start_time": "2025-01-31T16:45:11.291Z"
   },
   {
    "duration": 3,
    "start_time": "2025-01-31T16:45:11.296Z"
   },
   {
    "duration": 3,
    "start_time": "2025-01-31T16:45:11.301Z"
   },
   {
    "duration": 3,
    "start_time": "2025-01-31T16:45:11.332Z"
   },
   {
    "duration": 3,
    "start_time": "2025-01-31T16:45:11.336Z"
   },
   {
    "duration": 3,
    "start_time": "2025-01-31T16:45:11.340Z"
   },
   {
    "duration": 3,
    "start_time": "2025-01-31T16:45:11.345Z"
   },
   {
    "duration": 4,
    "start_time": "2025-01-31T16:45:11.349Z"
   },
   {
    "duration": 13,
    "start_time": "2025-01-31T16:45:11.354Z"
   },
   {
    "duration": 2,
    "start_time": "2025-01-31T16:45:11.369Z"
   },
   {
    "duration": 3,
    "start_time": "2025-01-31T16:45:11.373Z"
   },
   {
    "duration": 3,
    "start_time": "2025-01-31T16:45:11.378Z"
   },
   {
    "duration": 1,
    "start_time": "2025-01-31T16:45:11.385Z"
   },
   {
    "duration": 3,
    "start_time": "2025-01-31T16:45:11.388Z"
   },
   {
    "duration": 39,
    "start_time": "2025-01-31T16:45:11.392Z"
   },
   {
    "duration": 3,
    "start_time": "2025-01-31T16:45:11.433Z"
   },
   {
    "duration": 3,
    "start_time": "2025-01-31T16:45:11.437Z"
   },
   {
    "duration": 3,
    "start_time": "2025-01-31T16:45:11.442Z"
   },
   {
    "duration": 11,
    "start_time": "2025-01-31T16:45:47.383Z"
   },
   {
    "duration": 19,
    "start_time": "2025-01-31T16:46:18.875Z"
   },
   {
    "duration": 18,
    "start_time": "2025-01-31T16:46:52.050Z"
   },
   {
    "duration": 8,
    "start_time": "2025-01-31T16:48:56.402Z"
   },
   {
    "duration": 16,
    "start_time": "2025-01-31T17:03:41.599Z"
   },
   {
    "duration": 15,
    "start_time": "2025-01-31T17:03:52.472Z"
   },
   {
    "duration": 14,
    "start_time": "2025-01-31T17:17:19.627Z"
   },
   {
    "duration": 17,
    "start_time": "2025-01-31T17:17:39.796Z"
   },
   {
    "duration": 8,
    "start_time": "2025-01-31T17:17:47.125Z"
   },
   {
    "duration": 5,
    "start_time": "2025-01-31T17:20:49.498Z"
   },
   {
    "duration": 3,
    "start_time": "2025-01-31T17:21:04.454Z"
   },
   {
    "duration": 11,
    "start_time": "2025-01-31T17:21:09.796Z"
   },
   {
    "duration": 2,
    "start_time": "2025-01-31T18:10:01.300Z"
   },
   {
    "duration": 4,
    "start_time": "2025-01-31T18:10:39.783Z"
   },
   {
    "duration": 12,
    "start_time": "2025-01-31T18:11:14.180Z"
   },
   {
    "duration": 12,
    "start_time": "2025-01-31T18:11:27.070Z"
   },
   {
    "duration": 4,
    "start_time": "2025-01-31T18:11:43.683Z"
   },
   {
    "duration": 3,
    "start_time": "2025-01-31T18:13:00.439Z"
   },
   {
    "duration": 5,
    "start_time": "2025-01-31T18:13:13.602Z"
   },
   {
    "duration": 4,
    "start_time": "2025-01-31T18:14:17.298Z"
   },
   {
    "duration": 113,
    "start_time": "2025-01-31T19:18:47.379Z"
   },
   {
    "duration": 73,
    "start_time": "2025-01-31T19:18:48.424Z"
   },
   {
    "duration": 77,
    "start_time": "2025-01-31T19:18:49.113Z"
   },
   {
    "duration": 19,
    "start_time": "2025-01-31T19:18:53.490Z"
   },
   {
    "duration": 14,
    "start_time": "2025-01-31T19:18:56.951Z"
   },
   {
    "duration": 3,
    "start_time": "2025-01-31T19:29:26.600Z"
   },
   {
    "duration": 813,
    "start_time": "2025-01-31T19:29:26.605Z"
   },
   {
    "duration": 17,
    "start_time": "2025-01-31T19:29:27.420Z"
   },
   {
    "duration": 9,
    "start_time": "2025-01-31T19:29:27.440Z"
   },
   {
    "duration": 11,
    "start_time": "2025-01-31T19:29:27.453Z"
   },
   {
    "duration": 13,
    "start_time": "2025-01-31T19:29:27.466Z"
   },
   {
    "duration": 8,
    "start_time": "2025-01-31T19:29:27.481Z"
   },
   {
    "duration": 3,
    "start_time": "2025-01-31T19:29:27.491Z"
   },
   {
    "duration": 7,
    "start_time": "2025-01-31T19:29:27.496Z"
   },
   {
    "duration": 2,
    "start_time": "2025-01-31T19:29:27.507Z"
   },
   {
    "duration": 5,
    "start_time": "2025-01-31T19:29:27.531Z"
   },
   {
    "duration": 9,
    "start_time": "2025-01-31T19:29:27.538Z"
   },
   {
    "duration": 21,
    "start_time": "2025-01-31T19:29:27.549Z"
   },
   {
    "duration": 10,
    "start_time": "2025-01-31T19:29:27.573Z"
   },
   {
    "duration": 18,
    "start_time": "2025-01-31T19:29:27.585Z"
   },
   {
    "duration": 2,
    "start_time": "2025-01-31T19:29:27.605Z"
   },
   {
    "duration": 26,
    "start_time": "2025-01-31T19:29:27.609Z"
   },
   {
    "duration": 3,
    "start_time": "2025-01-31T19:29:27.636Z"
   },
   {
    "duration": 6,
    "start_time": "2025-01-31T19:29:27.641Z"
   },
   {
    "duration": 8,
    "start_time": "2025-01-31T19:29:27.649Z"
   },
   {
    "duration": 8,
    "start_time": "2025-01-31T19:29:27.659Z"
   },
   {
    "duration": 2,
    "start_time": "2025-01-31T19:29:27.669Z"
   },
   {
    "duration": 2,
    "start_time": "2025-01-31T19:29:27.674Z"
   },
   {
    "duration": 2,
    "start_time": "2025-01-31T19:29:27.678Z"
   },
   {
    "duration": 2,
    "start_time": "2025-01-31T19:29:27.683Z"
   },
   {
    "duration": 3,
    "start_time": "2025-01-31T19:29:27.687Z"
   },
   {
    "duration": 3,
    "start_time": "2025-01-31T19:29:27.693Z"
   },
   {
    "duration": 4,
    "start_time": "2025-01-31T19:29:27.733Z"
   },
   {
    "duration": 3,
    "start_time": "2025-01-31T19:29:27.739Z"
   },
   {
    "duration": 3,
    "start_time": "2025-01-31T19:29:27.743Z"
   },
   {
    "duration": 2,
    "start_time": "2025-01-31T19:29:27.748Z"
   },
   {
    "duration": 2,
    "start_time": "2025-01-31T19:29:27.752Z"
   },
   {
    "duration": 4,
    "start_time": "2025-01-31T19:29:27.756Z"
   },
   {
    "duration": 3,
    "start_time": "2025-01-31T19:29:27.761Z"
   },
   {
    "duration": 15,
    "start_time": "2025-01-31T19:29:57.718Z"
   },
   {
    "duration": 70,
    "start_time": "2025-01-31T19:31:24.687Z"
   },
   {
    "duration": 13,
    "start_time": "2025-01-31T19:32:04.278Z"
   },
   {
    "duration": 12,
    "start_time": "2025-01-31T19:32:36.431Z"
   },
   {
    "duration": 6,
    "start_time": "2025-01-31T19:32:43.703Z"
   },
   {
    "duration": 73,
    "start_time": "2025-01-31T19:34:47.430Z"
   },
   {
    "duration": 72,
    "start_time": "2025-01-31T19:35:16.488Z"
   },
   {
    "duration": 5,
    "start_time": "2025-01-31T19:35:30.439Z"
   },
   {
    "duration": 4,
    "start_time": "2025-01-31T19:35:42.572Z"
   },
   {
    "duration": 41,
    "start_time": "2025-01-31T19:36:01.044Z"
   },
   {
    "duration": 12,
    "start_time": "2025-01-31T19:40:10.688Z"
   },
   {
    "duration": 11,
    "start_time": "2025-01-31T19:41:45.832Z"
   },
   {
    "duration": 17,
    "start_time": "2025-01-31T19:42:07.728Z"
   },
   {
    "duration": 10,
    "start_time": "2025-01-31T19:42:45.785Z"
   },
   {
    "duration": 10,
    "start_time": "2025-01-31T19:43:11.929Z"
   },
   {
    "duration": 9,
    "start_time": "2025-01-31T19:43:51.144Z"
   },
   {
    "duration": 9,
    "start_time": "2025-01-31T19:44:14.092Z"
   },
   {
    "duration": 4,
    "start_time": "2025-01-31T19:44:28.853Z"
   },
   {
    "duration": 18,
    "start_time": "2025-01-31T19:44:36.618Z"
   },
   {
    "duration": 12,
    "start_time": "2025-01-31T19:44:59.927Z"
   },
   {
    "duration": 10,
    "start_time": "2025-01-31T19:45:21.721Z"
   },
   {
    "duration": 15,
    "start_time": "2025-01-31T19:47:04.092Z"
   },
   {
    "duration": 34,
    "start_time": "2025-01-31T19:47:14.760Z"
   },
   {
    "duration": 23,
    "start_time": "2025-01-31T19:47:48.384Z"
   },
   {
    "duration": 24,
    "start_time": "2025-01-31T19:48:24.882Z"
   },
   {
    "duration": 23,
    "start_time": "2025-01-31T19:49:35.436Z"
   },
   {
    "duration": 18,
    "start_time": "2025-01-31T19:50:39.396Z"
   },
   {
    "duration": 16,
    "start_time": "2025-01-31T19:50:47.222Z"
   },
   {
    "duration": 4,
    "start_time": "2025-01-31T19:52:54.906Z"
   },
   {
    "duration": 4,
    "start_time": "2025-01-31T19:53:17.326Z"
   },
   {
    "duration": 13,
    "start_time": "2025-01-31T19:54:43.618Z"
   },
   {
    "duration": 4,
    "start_time": "2025-01-31T19:54:53.452Z"
   },
   {
    "duration": 4,
    "start_time": "2025-01-31T19:56:16.768Z"
   },
   {
    "duration": 4,
    "start_time": "2025-01-31T19:58:24.176Z"
   },
   {
    "duration": 716,
    "start_time": "2025-01-31T19:59:28.268Z"
   },
   {
    "duration": 664,
    "start_time": "2025-01-31T20:02:08.361Z"
   },
   {
    "duration": 708,
    "start_time": "2025-01-31T20:02:19.311Z"
   },
   {
    "duration": 735,
    "start_time": "2025-01-31T20:02:51.036Z"
   },
   {
    "duration": 12,
    "start_time": "2025-01-31T20:07:42.733Z"
   },
   {
    "duration": 9,
    "start_time": "2025-01-31T20:08:32.097Z"
   },
   {
    "duration": 5,
    "start_time": "2025-01-31T20:11:44.876Z"
   },
   {
    "duration": 6,
    "start_time": "2025-01-31T20:12:34.650Z"
   },
   {
    "duration": 7,
    "start_time": "2025-01-31T20:13:22.842Z"
   },
   {
    "duration": 6,
    "start_time": "2025-01-31T20:13:39.755Z"
   },
   {
    "duration": 6,
    "start_time": "2025-01-31T20:13:42.697Z"
   },
   {
    "duration": 147,
    "start_time": "2025-01-31T20:14:40.396Z"
   },
   {
    "duration": 27,
    "start_time": "2025-01-31T20:15:08.372Z"
   },
   {
    "duration": 28,
    "start_time": "2025-01-31T20:16:00.897Z"
   },
   {
    "duration": 4,
    "start_time": "2025-01-31T20:16:36.356Z"
   },
   {
    "duration": 28,
    "start_time": "2025-01-31T20:16:58.925Z"
   },
   {
    "duration": 5,
    "start_time": "2025-01-31T20:17:27.149Z"
   },
   {
    "duration": 4,
    "start_time": "2025-01-31T20:17:39.459Z"
   },
   {
    "duration": 31,
    "start_time": "2025-01-31T20:17:53.314Z"
   },
   {
    "duration": 6,
    "start_time": "2025-01-31T20:18:05.622Z"
   },
   {
    "duration": 6,
    "start_time": "2025-01-31T20:19:13.796Z"
   },
   {
    "duration": 6,
    "start_time": "2025-01-31T20:23:07.279Z"
   },
   {
    "duration": 4,
    "start_time": "2025-01-31T20:23:18.885Z"
   },
   {
    "duration": 4,
    "start_time": "2025-01-31T20:23:24.468Z"
   },
   {
    "duration": 4,
    "start_time": "2025-01-31T20:23:43.031Z"
   },
   {
    "duration": 5,
    "start_time": "2025-01-31T20:26:35.339Z"
   },
   {
    "duration": 8,
    "start_time": "2025-01-31T20:26:49.762Z"
   },
   {
    "duration": 7,
    "start_time": "2025-01-31T20:27:58.482Z"
   },
   {
    "duration": 5,
    "start_time": "2025-01-31T20:42:39.639Z"
   },
   {
    "duration": 4,
    "start_time": "2025-01-31T20:43:23.360Z"
   },
   {
    "duration": 3,
    "start_time": "2025-01-31T20:43:30.622Z"
   },
   {
    "duration": 14,
    "start_time": "2025-01-31T21:05:42.191Z"
   },
   {
    "duration": 13,
    "start_time": "2025-01-31T21:06:04.555Z"
   },
   {
    "duration": 2,
    "start_time": "2025-01-31T21:06:23.592Z"
   },
   {
    "duration": 826,
    "start_time": "2025-01-31T21:06:23.596Z"
   },
   {
    "duration": 13,
    "start_time": "2025-01-31T21:06:24.424Z"
   },
   {
    "duration": 10,
    "start_time": "2025-01-31T21:06:24.439Z"
   },
   {
    "duration": 7,
    "start_time": "2025-01-31T21:06:24.451Z"
   },
   {
    "duration": 8,
    "start_time": "2025-01-31T21:06:24.460Z"
   },
   {
    "duration": 6,
    "start_time": "2025-01-31T21:06:24.470Z"
   },
   {
    "duration": 111,
    "start_time": "2025-01-31T21:06:24.478Z"
   },
   {
    "duration": 5,
    "start_time": "2025-01-31T21:06:24.591Z"
   },
   {
    "duration": 94,
    "start_time": "2025-01-31T21:06:24.598Z"
   },
   {
    "duration": 74,
    "start_time": "2025-01-31T21:06:24.695Z"
   },
   {
    "duration": 40,
    "start_time": "2025-01-31T21:06:24.771Z"
   },
   {
    "duration": 26,
    "start_time": "2025-01-31T21:06:24.813Z"
   },
   {
    "duration": 9,
    "start_time": "2025-01-31T21:06:24.841Z"
   },
   {
    "duration": 22,
    "start_time": "2025-01-31T21:06:24.852Z"
   },
   {
    "duration": 16,
    "start_time": "2025-01-31T21:06:24.877Z"
   },
   {
    "duration": 4,
    "start_time": "2025-01-31T21:06:24.895Z"
   },
   {
    "duration": 36,
    "start_time": "2025-01-31T21:06:24.900Z"
   },
   {
    "duration": 4,
    "start_time": "2025-01-31T21:06:24.938Z"
   },
   {
    "duration": 4,
    "start_time": "2025-01-31T21:06:24.944Z"
   },
   {
    "duration": 777,
    "start_time": "2025-01-31T21:06:24.949Z"
   },
   {
    "duration": 822,
    "start_time": "2025-01-31T21:06:25.731Z"
   },
   {
    "duration": 10,
    "start_time": "2025-01-31T21:06:26.556Z"
   },
   {
    "duration": 11,
    "start_time": "2025-01-31T21:06:26.570Z"
   },
   {
    "duration": 10,
    "start_time": "2025-01-31T21:06:26.583Z"
   },
   {
    "duration": 7,
    "start_time": "2025-01-31T21:06:26.596Z"
   },
   {
    "duration": 8,
    "start_time": "2025-01-31T21:06:26.605Z"
   },
   {
    "duration": 13,
    "start_time": "2025-01-31T21:06:26.631Z"
   },
   {
    "duration": 0,
    "start_time": "2025-01-31T21:06:26.645Z"
   },
   {
    "duration": 0,
    "start_time": "2025-01-31T21:06:26.647Z"
   },
   {
    "duration": 0,
    "start_time": "2025-01-31T21:06:26.648Z"
   },
   {
    "duration": 0,
    "start_time": "2025-01-31T21:06:26.650Z"
   },
   {
    "duration": 0,
    "start_time": "2025-01-31T21:06:26.651Z"
   },
   {
    "duration": 0,
    "start_time": "2025-01-31T21:06:26.653Z"
   },
   {
    "duration": 8,
    "start_time": "2025-01-31T21:07:24.823Z"
   },
   {
    "duration": 4,
    "start_time": "2025-01-31T21:08:07.813Z"
   },
   {
    "duration": 13,
    "start_time": "2025-01-31T21:08:14.013Z"
   },
   {
    "duration": 22,
    "start_time": "2025-01-31T21:09:33.313Z"
   },
   {
    "duration": 13,
    "start_time": "2025-01-31T21:09:44.292Z"
   },
   {
    "duration": 15,
    "start_time": "2025-01-31T21:10:24.986Z"
   },
   {
    "duration": 32,
    "start_time": "2025-01-31T21:13:08.916Z"
   },
   {
    "duration": 3,
    "start_time": "2025-01-31T21:13:32.157Z"
   },
   {
    "duration": 13,
    "start_time": "2025-01-31T21:14:01.663Z"
   },
   {
    "duration": 4,
    "start_time": "2025-01-31T21:14:03.206Z"
   },
   {
    "duration": 63,
    "start_time": "2025-01-31T21:14:26.007Z"
   },
   {
    "duration": 63,
    "start_time": "2025-01-31T21:15:06.863Z"
   },
   {
    "duration": 27,
    "start_time": "2025-01-31T21:15:37.304Z"
   },
   {
    "duration": 2022,
    "start_time": "2025-01-31T21:17:32.423Z"
   },
   {
    "duration": 30,
    "start_time": "2025-01-31T21:18:47.187Z"
   },
   {
    "duration": 530,
    "start_time": "2025-01-31T21:20:08.756Z"
   },
   {
    "duration": 7,
    "start_time": "2025-01-31T21:26:45.978Z"
   },
   {
    "duration": 204,
    "start_time": "2025-01-31T21:27:21.462Z"
   },
   {
    "duration": 135,
    "start_time": "2025-01-31T21:27:50.529Z"
   },
   {
    "duration": 138,
    "start_time": "2025-01-31T21:27:57.214Z"
   },
   {
    "duration": 6,
    "start_time": "2025-01-31T21:29:04.913Z"
   },
   {
    "duration": 197,
    "start_time": "2025-01-31T21:29:12.803Z"
   },
   {
    "duration": 5,
    "start_time": "2025-01-31T21:29:56.755Z"
   },
   {
    "duration": 5,
    "start_time": "2025-01-31T21:30:46.845Z"
   },
   {
    "duration": 7,
    "start_time": "2025-01-31T21:31:08.374Z"
   },
   {
    "duration": 7,
    "start_time": "2025-01-31T21:34:37.040Z"
   },
   {
    "duration": 18,
    "start_time": "2025-01-31T21:36:46.002Z"
   },
   {
    "duration": 186,
    "start_time": "2025-01-31T21:38:04.912Z"
   },
   {
    "duration": 193,
    "start_time": "2025-01-31T21:38:50.318Z"
   },
   {
    "duration": 15,
    "start_time": "2025-01-31T21:40:03.241Z"
   },
   {
    "duration": 158,
    "start_time": "2025-01-31T21:40:22.918Z"
   },
   {
    "duration": 155,
    "start_time": "2025-01-31T21:41:04.998Z"
   },
   {
    "duration": 339,
    "start_time": "2025-01-31T21:41:37.551Z"
   },
   {
    "duration": 46,
    "start_time": "2025-01-31T21:42:59.006Z"
   },
   {
    "duration": 2,
    "start_time": "2025-01-31T21:43:29.850Z"
   },
   {
    "duration": 818,
    "start_time": "2025-01-31T21:43:29.855Z"
   },
   {
    "duration": 11,
    "start_time": "2025-01-31T21:43:30.674Z"
   },
   {
    "duration": 9,
    "start_time": "2025-01-31T21:43:30.688Z"
   },
   {
    "duration": 7,
    "start_time": "2025-01-31T21:43:30.699Z"
   },
   {
    "duration": 30,
    "start_time": "2025-01-31T21:43:30.708Z"
   },
   {
    "duration": 7,
    "start_time": "2025-01-31T21:43:30.740Z"
   },
   {
    "duration": 84,
    "start_time": "2025-01-31T21:43:30.750Z"
   },
   {
    "duration": 5,
    "start_time": "2025-01-31T21:43:30.837Z"
   },
   {
    "duration": 92,
    "start_time": "2025-01-31T21:43:30.844Z"
   },
   {
    "duration": 71,
    "start_time": "2025-01-31T21:43:30.938Z"
   },
   {
    "duration": 51,
    "start_time": "2025-01-31T21:43:31.011Z"
   },
   {
    "duration": 12,
    "start_time": "2025-01-31T21:43:31.064Z"
   },
   {
    "duration": 9,
    "start_time": "2025-01-31T21:43:31.078Z"
   },
   {
    "duration": 53,
    "start_time": "2025-01-31T21:43:31.088Z"
   },
   {
    "duration": 16,
    "start_time": "2025-01-31T21:43:31.143Z"
   },
   {
    "duration": 4,
    "start_time": "2025-01-31T21:43:31.161Z"
   },
   {
    "duration": 4,
    "start_time": "2025-01-31T21:43:31.167Z"
   },
   {
    "duration": 4,
    "start_time": "2025-01-31T21:43:31.172Z"
   },
   {
    "duration": 5,
    "start_time": "2025-01-31T21:43:31.178Z"
   },
   {
    "duration": 749,
    "start_time": "2025-01-31T21:43:31.185Z"
   },
   {
    "duration": 708,
    "start_time": "2025-01-31T21:43:31.936Z"
   },
   {
    "duration": 6,
    "start_time": "2025-01-31T21:43:32.646Z"
   },
   {
    "duration": 6,
    "start_time": "2025-01-31T21:43:32.656Z"
   },
   {
    "duration": 3,
    "start_time": "2025-01-31T21:43:32.664Z"
   },
   {
    "duration": 5,
    "start_time": "2025-01-31T21:43:32.669Z"
   },
   {
    "duration": 7,
    "start_time": "2025-01-31T21:43:32.676Z"
   },
   {
    "duration": 6,
    "start_time": "2025-01-31T21:43:32.685Z"
   },
   {
    "duration": 50,
    "start_time": "2025-01-31T21:43:32.693Z"
   },
   {
    "duration": 17,
    "start_time": "2025-01-31T21:43:32.745Z"
   },
   {
    "duration": 33,
    "start_time": "2025-01-31T21:43:32.764Z"
   },
   {
    "duration": 32,
    "start_time": "2025-01-31T21:43:32.799Z"
   },
   {
    "duration": 64,
    "start_time": "2025-01-31T21:43:32.833Z"
   },
   {
    "duration": 42,
    "start_time": "2025-01-31T21:43:32.899Z"
   },
   {
    "duration": 7,
    "start_time": "2025-01-31T21:43:32.943Z"
   },
   {
    "duration": 207,
    "start_time": "2025-01-31T21:43:32.952Z"
   },
   {
    "duration": 145,
    "start_time": "2025-01-31T21:43:33.161Z"
   },
   {
    "duration": 200,
    "start_time": "2025-01-31T21:43:33.308Z"
   },
   {
    "duration": 198,
    "start_time": "2025-01-31T21:43:33.510Z"
   },
   {
    "duration": 155,
    "start_time": "2025-01-31T21:43:33.710Z"
   },
   {
    "duration": 45,
    "start_time": "2025-01-31T21:43:33.867Z"
   },
   {
    "duration": 85,
    "start_time": "2025-01-31T22:03:59.823Z"
   },
   {
    "duration": 86,
    "start_time": "2025-01-31T22:04:03.192Z"
   },
   {
    "duration": 4,
    "start_time": "2025-01-31T22:04:39.628Z"
   },
   {
    "duration": 4,
    "start_time": "2025-01-31T22:04:49.776Z"
   },
   {
    "duration": 88,
    "start_time": "2025-01-31T22:05:02.201Z"
   },
   {
    "duration": 91,
    "start_time": "2025-01-31T22:05:17.327Z"
   },
   {
    "duration": 156,
    "start_time": "2025-01-31T22:06:54.155Z"
   },
   {
    "duration": 162,
    "start_time": "2025-01-31T22:06:58.913Z"
   },
   {
    "duration": 160,
    "start_time": "2025-01-31T22:08:04.551Z"
   },
   {
    "duration": 122,
    "start_time": "2025-01-31T23:37:19.257Z"
   },
   {
    "duration": 503,
    "start_time": "2025-01-31T23:48:19.771Z"
   },
   {
    "duration": 256,
    "start_time": "2025-01-31T23:49:50.797Z"
   },
   {
    "duration": 239,
    "start_time": "2025-01-31T23:50:08.603Z"
   },
   {
    "duration": 262,
    "start_time": "2025-01-31T23:50:17.248Z"
   },
   {
    "duration": 633,
    "start_time": "2025-01-31T23:52:47.515Z"
   },
   {
    "duration": 497,
    "start_time": "2025-01-31T23:53:45.775Z"
   },
   {
    "duration": 483,
    "start_time": "2025-01-31T23:54:09.378Z"
   },
   {
    "duration": 459,
    "start_time": "2025-01-31T23:54:16.987Z"
   },
   {
    "duration": 494,
    "start_time": "2025-01-31T23:54:31.579Z"
   },
   {
    "duration": 505,
    "start_time": "2025-01-31T23:56:30.332Z"
   },
   {
    "duration": 4,
    "start_time": "2025-02-01T00:09:13.954Z"
   },
   {
    "duration": 4,
    "start_time": "2025-02-01T00:09:40.239Z"
   },
   {
    "duration": 6,
    "start_time": "2025-02-01T00:09:58.503Z"
   },
   {
    "duration": 631,
    "start_time": "2025-02-01T00:10:54.634Z"
   },
   {
    "duration": 498,
    "start_time": "2025-02-01T00:15:55.283Z"
   },
   {
    "duration": 489,
    "start_time": "2025-02-01T00:16:39.191Z"
   },
   {
    "duration": 6,
    "start_time": "2025-02-01T00:19:19.020Z"
   },
   {
    "duration": 149,
    "start_time": "2025-02-01T00:20:16.448Z"
   },
   {
    "duration": 100,
    "start_time": "2025-02-01T00:21:38.493Z"
   },
   {
    "duration": 191,
    "start_time": "2025-02-01T00:24:54.235Z"
   },
   {
    "duration": 189,
    "start_time": "2025-02-01T00:28:17.834Z"
   },
   {
    "duration": 190,
    "start_time": "2025-02-01T00:29:46.841Z"
   },
   {
    "duration": 182,
    "start_time": "2025-02-01T00:30:03.624Z"
   },
   {
    "duration": 15,
    "start_time": "2025-02-01T00:34:15.326Z"
   },
   {
    "duration": 16,
    "start_time": "2025-02-01T00:34:54.165Z"
   },
   {
    "duration": 994,
    "start_time": "2025-02-01T00:36:14.572Z"
   },
   {
    "duration": 1066,
    "start_time": "2025-02-01T00:37:33.381Z"
   },
   {
    "duration": 1167,
    "start_time": "2025-02-01T00:38:12.626Z"
   },
   {
    "duration": 40,
    "start_time": "2025-02-01T00:39:23.036Z"
   },
   {
    "duration": 53,
    "start_time": "2025-02-01T00:39:52.212Z"
   },
   {
    "duration": 289,
    "start_time": "2025-02-01T00:40:31.381Z"
   },
   {
    "duration": 201,
    "start_time": "2025-02-01T00:40:42.321Z"
   },
   {
    "duration": 8,
    "start_time": "2025-02-01T00:40:53.164Z"
   },
   {
    "duration": 2,
    "start_time": "2025-02-01T00:42:33.356Z"
   },
   {
    "duration": 859,
    "start_time": "2025-02-01T00:42:33.360Z"
   },
   {
    "duration": 15,
    "start_time": "2025-02-01T00:42:34.221Z"
   },
   {
    "duration": 10,
    "start_time": "2025-02-01T00:42:34.238Z"
   },
   {
    "duration": 9,
    "start_time": "2025-02-01T00:42:34.251Z"
   },
   {
    "duration": 9,
    "start_time": "2025-02-01T00:42:34.262Z"
   },
   {
    "duration": 7,
    "start_time": "2025-02-01T00:42:34.273Z"
   },
   {
    "duration": 104,
    "start_time": "2025-02-01T00:42:34.282Z"
   },
   {
    "duration": 6,
    "start_time": "2025-02-01T00:42:34.388Z"
   },
   {
    "duration": 97,
    "start_time": "2025-02-01T00:42:34.396Z"
   },
   {
    "duration": 96,
    "start_time": "2025-02-01T00:42:34.497Z"
   },
   {
    "duration": 45,
    "start_time": "2025-02-01T00:42:34.595Z"
   },
   {
    "duration": 14,
    "start_time": "2025-02-01T00:42:34.643Z"
   },
   {
    "duration": 10,
    "start_time": "2025-02-01T00:42:34.659Z"
   },
   {
    "duration": 27,
    "start_time": "2025-02-01T00:42:34.671Z"
   },
   {
    "duration": 52,
    "start_time": "2025-02-01T00:42:34.700Z"
   },
   {
    "duration": 5,
    "start_time": "2025-02-01T00:42:34.753Z"
   },
   {
    "duration": 5,
    "start_time": "2025-02-01T00:42:34.759Z"
   },
   {
    "duration": 6,
    "start_time": "2025-02-01T00:42:34.766Z"
   },
   {
    "duration": 6,
    "start_time": "2025-02-01T00:42:34.774Z"
   },
   {
    "duration": 800,
    "start_time": "2025-02-01T00:42:34.783Z"
   },
   {
    "duration": 874,
    "start_time": "2025-02-01T00:42:35.586Z"
   },
   {
    "duration": 5,
    "start_time": "2025-02-01T00:42:36.462Z"
   },
   {
    "duration": 8,
    "start_time": "2025-02-01T00:42:36.469Z"
   },
   {
    "duration": 4,
    "start_time": "2025-02-01T00:42:36.478Z"
   },
   {
    "duration": 6,
    "start_time": "2025-02-01T00:42:36.485Z"
   },
   {
    "duration": 38,
    "start_time": "2025-02-01T00:42:36.493Z"
   },
   {
    "duration": 7,
    "start_time": "2025-02-01T00:42:36.533Z"
   },
   {
    "duration": 14,
    "start_time": "2025-02-01T00:42:36.545Z"
   },
   {
    "duration": 20,
    "start_time": "2025-02-01T00:42:36.560Z"
   },
   {
    "duration": 62,
    "start_time": "2025-02-01T00:42:36.582Z"
   },
   {
    "duration": 13,
    "start_time": "2025-02-01T00:42:36.646Z"
   },
   {
    "duration": 80,
    "start_time": "2025-02-01T00:42:36.662Z"
   },
   {
    "duration": 26,
    "start_time": "2025-02-01T00:42:36.744Z"
   },
   {
    "duration": 9,
    "start_time": "2025-02-01T00:42:36.773Z"
   },
   {
    "duration": 249,
    "start_time": "2025-02-01T00:42:36.784Z"
   },
   {
    "duration": 157,
    "start_time": "2025-02-01T00:42:37.035Z"
   },
   {
    "duration": 193,
    "start_time": "2025-02-01T00:42:37.195Z"
   },
   {
    "duration": 198,
    "start_time": "2025-02-01T00:42:37.390Z"
   },
   {
    "duration": 189,
    "start_time": "2025-02-01T00:42:37.590Z"
   },
   {
    "duration": 105,
    "start_time": "2025-02-01T00:42:37.780Z"
   },
   {
    "duration": 700,
    "start_time": "2025-02-01T00:42:37.887Z"
   },
   {
    "duration": 167,
    "start_time": "2025-02-01T00:42:38.590Z"
   },
   {
    "duration": 208,
    "start_time": "2025-02-01T00:42:38.759Z"
   },
   {
    "duration": 1081,
    "start_time": "2025-02-01T00:42:38.968Z"
   },
   {
    "duration": 48,
    "start_time": "2025-02-01T00:42:40.053Z"
   },
   {
    "duration": 193,
    "start_time": "2025-02-01T00:51:08.005Z"
   },
   {
    "duration": 186,
    "start_time": "2025-02-01T01:03:30.135Z"
   },
   {
    "duration": 185,
    "start_time": "2025-02-01T01:03:53.426Z"
   },
   {
    "duration": 190,
    "start_time": "2025-02-01T01:06:57.812Z"
   },
   {
    "duration": 186,
    "start_time": "2025-02-01T01:07:14.170Z"
   },
   {
    "duration": 187,
    "start_time": "2025-02-01T01:07:27.413Z"
   },
   {
    "duration": 134,
    "start_time": "2025-02-01T01:08:59.656Z"
   },
   {
    "duration": 140,
    "start_time": "2025-02-01T01:09:20.048Z"
   },
   {
    "duration": 182,
    "start_time": "2025-02-01T01:09:30.713Z"
   },
   {
    "duration": 182,
    "start_time": "2025-02-01T01:09:36.699Z"
   },
   {
    "duration": 487,
    "start_time": "2025-02-01T01:10:55.421Z"
   },
   {
    "duration": 2,
    "start_time": "2025-02-01T01:21:06.520Z"
   },
   {
    "duration": 3,
    "start_time": "2025-02-01T01:21:39.390Z"
   },
   {
    "duration": 7,
    "start_time": "2025-02-01T01:30:48.446Z"
   },
   {
    "duration": 3,
    "start_time": "2025-02-01T01:32:11.518Z"
   },
   {
    "duration": 322,
    "start_time": "2025-02-02T00:05:41.192Z"
   },
   {
    "duration": 1020,
    "start_time": "2025-02-02T00:05:41.517Z"
   },
   {
    "duration": 11,
    "start_time": "2025-02-02T00:05:42.538Z"
   },
   {
    "duration": 10,
    "start_time": "2025-02-02T00:05:42.551Z"
   },
   {
    "duration": 8,
    "start_time": "2025-02-02T00:05:42.564Z"
   },
   {
    "duration": 10,
    "start_time": "2025-02-02T00:05:42.574Z"
   },
   {
    "duration": 6,
    "start_time": "2025-02-02T00:05:42.585Z"
   },
   {
    "duration": 124,
    "start_time": "2025-02-02T00:05:42.594Z"
   },
   {
    "duration": 6,
    "start_time": "2025-02-02T00:05:42.720Z"
   },
   {
    "duration": 116,
    "start_time": "2025-02-02T00:05:42.727Z"
   },
   {
    "duration": 99,
    "start_time": "2025-02-02T00:05:42.845Z"
   },
   {
    "duration": 57,
    "start_time": "2025-02-02T00:05:42.946Z"
   },
   {
    "duration": 11,
    "start_time": "2025-02-02T00:05:43.005Z"
   },
   {
    "duration": 27,
    "start_time": "2025-02-02T00:05:43.020Z"
   },
   {
    "duration": 22,
    "start_time": "2025-02-02T00:05:43.048Z"
   },
   {
    "duration": 14,
    "start_time": "2025-02-02T00:05:43.072Z"
   },
   {
    "duration": 3,
    "start_time": "2025-02-02T00:05:43.088Z"
   },
   {
    "duration": 4,
    "start_time": "2025-02-02T00:05:43.093Z"
   },
   {
    "duration": 4,
    "start_time": "2025-02-02T00:05:43.099Z"
   },
   {
    "duration": 39,
    "start_time": "2025-02-02T00:05:43.105Z"
   },
   {
    "duration": 757,
    "start_time": "2025-02-02T00:05:43.145Z"
   },
   {
    "duration": 766,
    "start_time": "2025-02-02T00:05:43.904Z"
   },
   {
    "duration": 5,
    "start_time": "2025-02-02T00:05:44.672Z"
   },
   {
    "duration": 195,
    "start_time": "2025-02-02T00:05:44.679Z"
   },
   {
    "duration": 0,
    "start_time": "2025-02-02T00:05:44.876Z"
   },
   {
    "duration": 0,
    "start_time": "2025-02-02T00:05:44.877Z"
   },
   {
    "duration": 0,
    "start_time": "2025-02-02T00:05:44.878Z"
   },
   {
    "duration": 0,
    "start_time": "2025-02-02T00:05:44.879Z"
   },
   {
    "duration": 0,
    "start_time": "2025-02-02T00:05:44.880Z"
   },
   {
    "duration": 0,
    "start_time": "2025-02-02T00:05:44.881Z"
   },
   {
    "duration": 0,
    "start_time": "2025-02-02T00:05:44.882Z"
   },
   {
    "duration": 0,
    "start_time": "2025-02-02T00:05:44.883Z"
   },
   {
    "duration": 0,
    "start_time": "2025-02-02T00:05:44.884Z"
   },
   {
    "duration": 0,
    "start_time": "2025-02-02T00:05:44.885Z"
   },
   {
    "duration": 0,
    "start_time": "2025-02-02T00:05:44.886Z"
   },
   {
    "duration": 0,
    "start_time": "2025-02-02T00:05:44.887Z"
   },
   {
    "duration": 0,
    "start_time": "2025-02-02T00:05:44.889Z"
   },
   {
    "duration": 0,
    "start_time": "2025-02-02T00:05:44.891Z"
   },
   {
    "duration": 0,
    "start_time": "2025-02-02T00:05:44.892Z"
   },
   {
    "duration": 0,
    "start_time": "2025-02-02T00:05:44.893Z"
   },
   {
    "duration": 0,
    "start_time": "2025-02-02T00:05:44.895Z"
   },
   {
    "duration": 0,
    "start_time": "2025-02-02T00:05:44.896Z"
   },
   {
    "duration": 0,
    "start_time": "2025-02-02T00:05:44.897Z"
   },
   {
    "duration": 0,
    "start_time": "2025-02-02T00:05:44.899Z"
   },
   {
    "duration": 0,
    "start_time": "2025-02-02T00:05:44.899Z"
   },
   {
    "duration": 0,
    "start_time": "2025-02-02T00:05:44.901Z"
   },
   {
    "duration": 0,
    "start_time": "2025-02-02T00:05:44.902Z"
   },
   {
    "duration": 13,
    "start_time": "2025-02-02T00:12:48.400Z"
   },
   {
    "duration": 6,
    "start_time": "2025-02-02T00:12:56.113Z"
   },
   {
    "duration": 8,
    "start_time": "2025-02-02T00:13:25.932Z"
   },
   {
    "duration": 6,
    "start_time": "2025-02-02T00:13:25.942Z"
   },
   {
    "duration": 16,
    "start_time": "2025-02-02T00:13:25.949Z"
   },
   {
    "duration": 22,
    "start_time": "2025-02-02T00:13:25.967Z"
   },
   {
    "duration": 55,
    "start_time": "2025-02-02T00:13:25.992Z"
   },
   {
    "duration": 13,
    "start_time": "2025-02-02T00:13:26.049Z"
   },
   {
    "duration": 64,
    "start_time": "2025-02-02T00:13:26.064Z"
   },
   {
    "duration": 24,
    "start_time": "2025-02-02T00:13:26.144Z"
   },
   {
    "duration": 1973,
    "start_time": "2025-02-02T00:13:26.170Z"
   },
   {
    "duration": 215,
    "start_time": "2025-02-02T00:13:28.144Z"
   },
   {
    "duration": 175,
    "start_time": "2025-02-02T00:13:28.361Z"
   },
   {
    "duration": 201,
    "start_time": "2025-02-02T00:13:28.542Z"
   },
   {
    "duration": 185,
    "start_time": "2025-02-02T00:13:28.745Z"
   },
   {
    "duration": 168,
    "start_time": "2025-02-02T00:13:28.934Z"
   },
   {
    "duration": 111,
    "start_time": "2025-02-02T00:13:29.104Z"
   },
   {
    "duration": 508,
    "start_time": "2025-02-02T00:13:29.216Z"
   },
   {
    "duration": 171,
    "start_time": "2025-02-02T00:13:29.726Z"
   },
   {
    "duration": 218,
    "start_time": "2025-02-02T00:13:29.899Z"
   },
   {
    "duration": 1112,
    "start_time": "2025-02-02T00:13:30.119Z"
   },
   {
    "duration": 46,
    "start_time": "2025-02-02T00:13:31.233Z"
   },
   {
    "duration": 4,
    "start_time": "2025-02-02T00:13:31.282Z"
   },
   {
    "duration": 168,
    "start_time": "2025-02-02T00:32:05.415Z"
   },
   {
    "duration": 13,
    "start_time": "2025-02-02T00:32:23.760Z"
   },
   {
    "duration": 12,
    "start_time": "2025-02-02T00:41:46.998Z"
   },
   {
    "duration": 15,
    "start_time": "2025-02-02T00:42:30.763Z"
   },
   {
    "duration": 12,
    "start_time": "2025-02-02T00:42:40.174Z"
   },
   {
    "duration": 12,
    "start_time": "2025-02-02T00:44:35.362Z"
   },
   {
    "duration": 14,
    "start_time": "2025-02-02T00:46:25.017Z"
   },
   {
    "duration": 32,
    "start_time": "2025-02-02T00:46:31.690Z"
   },
   {
    "duration": 12,
    "start_time": "2025-02-02T00:46:44.197Z"
   },
   {
    "duration": 13,
    "start_time": "2025-02-02T01:00:09.432Z"
   },
   {
    "duration": 12,
    "start_time": "2025-02-02T01:00:36.869Z"
   },
   {
    "duration": 11,
    "start_time": "2025-02-02T01:01:04.769Z"
   },
   {
    "duration": 13,
    "start_time": "2025-02-02T01:01:13.047Z"
   },
   {
    "duration": 291,
    "start_time": "2025-02-02T01:01:23.419Z"
   },
   {
    "duration": 1005,
    "start_time": "2025-02-02T01:01:23.713Z"
   },
   {
    "duration": 13,
    "start_time": "2025-02-02T01:01:24.720Z"
   },
   {
    "duration": 9,
    "start_time": "2025-02-02T01:01:24.735Z"
   },
   {
    "duration": 8,
    "start_time": "2025-02-02T01:01:24.746Z"
   },
   {
    "duration": 7,
    "start_time": "2025-02-02T01:01:24.756Z"
   },
   {
    "duration": 6,
    "start_time": "2025-02-02T01:01:24.765Z"
   },
   {
    "duration": 127,
    "start_time": "2025-02-02T01:01:24.773Z"
   },
   {
    "duration": 7,
    "start_time": "2025-02-02T01:01:24.901Z"
   },
   {
    "duration": 115,
    "start_time": "2025-02-02T01:01:24.909Z"
   },
   {
    "duration": 101,
    "start_time": "2025-02-02T01:01:25.026Z"
   },
   {
    "duration": 56,
    "start_time": "2025-02-02T01:01:25.129Z"
   },
   {
    "duration": 12,
    "start_time": "2025-02-02T01:01:25.187Z"
   },
   {
    "duration": 23,
    "start_time": "2025-02-02T01:01:25.202Z"
   },
   {
    "duration": 22,
    "start_time": "2025-02-02T01:01:25.227Z"
   },
   {
    "duration": 14,
    "start_time": "2025-02-02T01:01:25.251Z"
   },
   {
    "duration": 3,
    "start_time": "2025-02-02T01:01:25.267Z"
   },
   {
    "duration": 4,
    "start_time": "2025-02-02T01:01:25.272Z"
   },
   {
    "duration": 4,
    "start_time": "2025-02-02T01:01:25.278Z"
   },
   {
    "duration": 42,
    "start_time": "2025-02-02T01:01:25.283Z"
   },
   {
    "duration": 799,
    "start_time": "2025-02-02T01:01:25.327Z"
   },
   {
    "duration": 785,
    "start_time": "2025-02-02T01:01:26.128Z"
   },
   {
    "duration": 14,
    "start_time": "2025-02-02T01:01:26.915Z"
   },
   {
    "duration": 402,
    "start_time": "2025-02-02T01:01:26.930Z"
   },
   {
    "duration": 0,
    "start_time": "2025-02-02T01:01:27.334Z"
   },
   {
    "duration": 0,
    "start_time": "2025-02-02T01:01:27.335Z"
   },
   {
    "duration": 0,
    "start_time": "2025-02-02T01:01:27.337Z"
   },
   {
    "duration": 0,
    "start_time": "2025-02-02T01:01:27.338Z"
   },
   {
    "duration": 0,
    "start_time": "2025-02-02T01:01:27.340Z"
   },
   {
    "duration": 0,
    "start_time": "2025-02-02T01:01:27.341Z"
   },
   {
    "duration": 0,
    "start_time": "2025-02-02T01:01:27.342Z"
   },
   {
    "duration": 0,
    "start_time": "2025-02-02T01:01:27.344Z"
   },
   {
    "duration": 0,
    "start_time": "2025-02-02T01:01:27.346Z"
   },
   {
    "duration": 0,
    "start_time": "2025-02-02T01:01:27.347Z"
   },
   {
    "duration": 0,
    "start_time": "2025-02-02T01:01:27.349Z"
   },
   {
    "duration": 1,
    "start_time": "2025-02-02T01:01:27.350Z"
   },
   {
    "duration": 0,
    "start_time": "2025-02-02T01:01:27.352Z"
   },
   {
    "duration": 0,
    "start_time": "2025-02-02T01:01:27.353Z"
   },
   {
    "duration": 0,
    "start_time": "2025-02-02T01:01:27.355Z"
   },
   {
    "duration": 0,
    "start_time": "2025-02-02T01:01:27.356Z"
   },
   {
    "duration": 0,
    "start_time": "2025-02-02T01:01:27.358Z"
   },
   {
    "duration": 0,
    "start_time": "2025-02-02T01:01:27.360Z"
   },
   {
    "duration": 0,
    "start_time": "2025-02-02T01:01:27.361Z"
   },
   {
    "duration": 0,
    "start_time": "2025-02-02T01:01:27.362Z"
   },
   {
    "duration": 0,
    "start_time": "2025-02-02T01:01:27.364Z"
   },
   {
    "duration": 0,
    "start_time": "2025-02-02T01:01:27.366Z"
   },
   {
    "duration": 15,
    "start_time": "2025-02-02T01:02:24.935Z"
   },
   {
    "duration": 15,
    "start_time": "2025-02-02T01:02:35.759Z"
   },
   {
    "duration": 8,
    "start_time": "2025-02-02T01:02:46.958Z"
   },
   {
    "duration": 17,
    "start_time": "2025-02-02T01:03:12.978Z"
   },
   {
    "duration": 8,
    "start_time": "2025-02-02T01:03:15.888Z"
   },
   {
    "duration": 7,
    "start_time": "2025-02-02T01:03:18.028Z"
   },
   {
    "duration": 21,
    "start_time": "2025-02-02T01:09:26.754Z"
   },
   {
    "duration": 26,
    "start_time": "2025-02-02T01:09:42.917Z"
   },
   {
    "duration": 17,
    "start_time": "2025-02-02T01:10:32.459Z"
   },
   {
    "duration": 51,
    "start_time": "2025-02-02T01:10:49.768Z"
   },
   {
    "duration": 3,
    "start_time": "2025-02-02T01:11:09.600Z"
   },
   {
    "duration": 875,
    "start_time": "2025-02-02T01:11:09.613Z"
   },
   {
    "duration": 11,
    "start_time": "2025-02-02T01:11:10.490Z"
   },
   {
    "duration": 22,
    "start_time": "2025-02-02T01:11:10.503Z"
   },
   {
    "duration": 7,
    "start_time": "2025-02-02T01:11:10.528Z"
   },
   {
    "duration": 7,
    "start_time": "2025-02-02T01:11:10.537Z"
   },
   {
    "duration": 7,
    "start_time": "2025-02-02T01:11:10.545Z"
   },
   {
    "duration": 100,
    "start_time": "2025-02-02T01:11:10.553Z"
   },
   {
    "duration": 5,
    "start_time": "2025-02-02T01:11:10.655Z"
   },
   {
    "duration": 92,
    "start_time": "2025-02-02T01:11:10.661Z"
   },
   {
    "duration": 92,
    "start_time": "2025-02-02T01:11:10.757Z"
   },
   {
    "duration": 38,
    "start_time": "2025-02-02T01:11:10.851Z"
   },
   {
    "duration": 11,
    "start_time": "2025-02-02T01:11:10.891Z"
   },
   {
    "duration": 25,
    "start_time": "2025-02-02T01:11:10.904Z"
   },
   {
    "duration": 21,
    "start_time": "2025-02-02T01:11:10.930Z"
   },
   {
    "duration": 12,
    "start_time": "2025-02-02T01:11:10.953Z"
   },
   {
    "duration": 3,
    "start_time": "2025-02-02T01:11:10.967Z"
   },
   {
    "duration": 4,
    "start_time": "2025-02-02T01:11:10.971Z"
   },
   {
    "duration": 4,
    "start_time": "2025-02-02T01:11:10.977Z"
   },
   {
    "duration": 5,
    "start_time": "2025-02-02T01:11:10.982Z"
   },
   {
    "duration": 760,
    "start_time": "2025-02-02T01:11:11.024Z"
   },
   {
    "duration": 757,
    "start_time": "2025-02-02T01:11:11.786Z"
   },
   {
    "duration": 8,
    "start_time": "2025-02-02T01:11:12.545Z"
   },
   {
    "duration": 7,
    "start_time": "2025-02-02T01:11:12.554Z"
   },
   {
    "duration": 4,
    "start_time": "2025-02-02T01:11:12.562Z"
   },
   {
    "duration": 7,
    "start_time": "2025-02-02T01:11:12.568Z"
   },
   {
    "duration": 8,
    "start_time": "2025-02-02T01:11:12.576Z"
   },
   {
    "duration": 43,
    "start_time": "2025-02-02T01:11:12.585Z"
   },
   {
    "duration": 10,
    "start_time": "2025-02-02T01:11:12.633Z"
   },
   {
    "duration": 15,
    "start_time": "2025-02-02T01:11:12.645Z"
   },
   {
    "duration": 32,
    "start_time": "2025-02-02T01:11:12.661Z"
   },
   {
    "duration": 39,
    "start_time": "2025-02-02T01:11:12.696Z"
   },
   {
    "duration": 63,
    "start_time": "2025-02-02T01:11:12.737Z"
   },
   {
    "duration": 37,
    "start_time": "2025-02-02T01:11:12.801Z"
   },
   {
    "duration": 1912,
    "start_time": "2025-02-02T01:11:12.840Z"
   },
   {
    "duration": 213,
    "start_time": "2025-02-02T01:11:14.753Z"
   },
   {
    "duration": 143,
    "start_time": "2025-02-02T01:11:14.968Z"
   },
   {
    "duration": 204,
    "start_time": "2025-02-02T01:11:15.112Z"
   },
   {
    "duration": 189,
    "start_time": "2025-02-02T01:11:15.318Z"
   },
   {
    "duration": 236,
    "start_time": "2025-02-02T01:11:15.509Z"
   },
   {
    "duration": 106,
    "start_time": "2025-02-02T01:11:15.747Z"
   },
   {
    "duration": 488,
    "start_time": "2025-02-02T01:11:15.855Z"
   },
   {
    "duration": 165,
    "start_time": "2025-02-02T01:11:16.345Z"
   },
   {
    "duration": 242,
    "start_time": "2025-02-02T01:11:16.513Z"
   },
   {
    "duration": 1060,
    "start_time": "2025-02-02T01:11:16.757Z"
   },
   {
    "duration": 38,
    "start_time": "2025-02-02T01:11:17.873Z"
   },
   {
    "duration": 20,
    "start_time": "2025-02-02T01:29:11.065Z"
   },
   {
    "duration": 10,
    "start_time": "2025-02-02T01:29:33.046Z"
   },
   {
    "duration": 11,
    "start_time": "2025-02-02T01:29:34.007Z"
   },
   {
    "duration": 8,
    "start_time": "2025-02-02T01:29:37.359Z"
   },
   {
    "duration": 8,
    "start_time": "2025-02-02T01:29:39.496Z"
   },
   {
    "duration": 18,
    "start_time": "2025-02-02T01:29:41.588Z"
   },
   {
    "duration": 10,
    "start_time": "2025-02-02T01:57:40.364Z"
   },
   {
    "duration": 6,
    "start_time": "2025-02-02T01:58:56.391Z"
   },
   {
    "duration": 261,
    "start_time": "2025-02-02T02:24:33.685Z"
   },
   {
    "duration": 258,
    "start_time": "2025-02-02T02:25:25.077Z"
   },
   {
    "duration": 255,
    "start_time": "2025-02-02T02:25:46.075Z"
   },
   {
    "duration": 264,
    "start_time": "2025-02-02T02:25:51.757Z"
   },
   {
    "duration": 544,
    "start_time": "2025-02-02T02:26:06.172Z"
   },
   {
    "duration": 256,
    "start_time": "2025-02-02T02:26:13.218Z"
   },
   {
    "duration": 268,
    "start_time": "2025-02-02T02:26:23.600Z"
   },
   {
    "duration": 270,
    "start_time": "2025-02-02T02:26:42.308Z"
   },
   {
    "duration": 182,
    "start_time": "2025-02-02T02:40:28.154Z"
   },
   {
    "duration": 159,
    "start_time": "2025-02-02T02:40:36.809Z"
   },
   {
    "duration": 188,
    "start_time": "2025-02-02T02:40:48.153Z"
   },
   {
    "duration": 111,
    "start_time": "2025-02-02T04:14:25.480Z"
   },
   {
    "duration": 329,
    "start_time": "2025-02-02T04:14:36.496Z"
   },
   {
    "duration": 337,
    "start_time": "2025-02-02T04:14:47.699Z"
   },
   {
    "duration": 417,
    "start_time": "2025-02-02T04:17:39.995Z"
   },
   {
    "duration": 7,
    "start_time": "2025-02-02T04:26:28.721Z"
   },
   {
    "duration": 202,
    "start_time": "2025-02-02T04:26:42.963Z"
   },
   {
    "duration": 955,
    "start_time": "2025-02-02T04:28:34.626Z"
   },
   {
    "duration": 6,
    "start_time": "2025-02-02T04:29:31.493Z"
   },
   {
    "duration": 5,
    "start_time": "2025-02-02T04:30:00.385Z"
   },
   {
    "duration": 4,
    "start_time": "2025-02-02T04:30:17.759Z"
   },
   {
    "duration": 5,
    "start_time": "2025-02-02T04:30:31.072Z"
   },
   {
    "duration": 5,
    "start_time": "2025-02-02T04:30:46.509Z"
   },
   {
    "duration": 4,
    "start_time": "2025-02-02T04:30:53.449Z"
   },
   {
    "duration": 1033,
    "start_time": "2025-02-02T04:31:05.697Z"
   },
   {
    "duration": 9,
    "start_time": "2025-02-02T04:31:58.414Z"
   },
   {
    "duration": 1037,
    "start_time": "2025-02-02T04:32:04.639Z"
   },
   {
    "duration": 1095,
    "start_time": "2025-02-02T04:32:37.218Z"
   },
   {
    "duration": 1047,
    "start_time": "2025-02-02T04:33:09.502Z"
   },
   {
    "duration": 276,
    "start_time": "2025-02-02T04:39:45.988Z"
   },
   {
    "duration": 292,
    "start_time": "2025-02-02T18:15:13.168Z"
   },
   {
    "duration": 859,
    "start_time": "2025-02-02T18:15:13.463Z"
   },
   {
    "duration": 11,
    "start_time": "2025-02-02T18:15:14.324Z"
   },
   {
    "duration": 10,
    "start_time": "2025-02-02T18:15:14.338Z"
   },
   {
    "duration": 8,
    "start_time": "2025-02-02T18:15:14.369Z"
   },
   {
    "duration": 8,
    "start_time": "2025-02-02T18:15:14.379Z"
   },
   {
    "duration": 23,
    "start_time": "2025-02-02T18:15:14.388Z"
   },
   {
    "duration": 100,
    "start_time": "2025-02-02T18:15:14.413Z"
   },
   {
    "duration": 6,
    "start_time": "2025-02-02T18:15:14.515Z"
   },
   {
    "duration": 107,
    "start_time": "2025-02-02T18:15:14.524Z"
   },
   {
    "duration": 92,
    "start_time": "2025-02-02T18:15:14.634Z"
   },
   {
    "duration": 59,
    "start_time": "2025-02-02T18:15:14.728Z"
   },
   {
    "duration": 13,
    "start_time": "2025-02-02T18:15:14.789Z"
   },
   {
    "duration": 8,
    "start_time": "2025-02-02T18:15:14.803Z"
   },
   {
    "duration": 22,
    "start_time": "2025-02-02T18:15:14.812Z"
   },
   {
    "duration": 39,
    "start_time": "2025-02-02T18:15:14.835Z"
   },
   {
    "duration": 4,
    "start_time": "2025-02-02T18:15:14.876Z"
   },
   {
    "duration": 4,
    "start_time": "2025-02-02T18:15:14.881Z"
   },
   {
    "duration": 4,
    "start_time": "2025-02-02T18:15:14.887Z"
   },
   {
    "duration": 4,
    "start_time": "2025-02-02T18:15:14.893Z"
   },
   {
    "duration": 831,
    "start_time": "2025-02-02T18:15:14.898Z"
   },
   {
    "duration": 796,
    "start_time": "2025-02-02T18:15:15.731Z"
   },
   {
    "duration": 9,
    "start_time": "2025-02-02T18:15:16.529Z"
   },
   {
    "duration": 13,
    "start_time": "2025-02-02T18:15:16.539Z"
   },
   {
    "duration": 16,
    "start_time": "2025-02-02T18:15:16.554Z"
   },
   {
    "duration": 8,
    "start_time": "2025-02-02T18:15:16.572Z"
   },
   {
    "duration": 8,
    "start_time": "2025-02-02T18:15:16.581Z"
   },
   {
    "duration": 6,
    "start_time": "2025-02-02T18:15:16.593Z"
   },
   {
    "duration": 16,
    "start_time": "2025-02-02T18:15:16.600Z"
   },
   {
    "duration": 16,
    "start_time": "2025-02-02T18:15:16.618Z"
   },
   {
    "duration": 31,
    "start_time": "2025-02-02T18:15:16.669Z"
   },
   {
    "duration": 13,
    "start_time": "2025-02-02T18:15:16.702Z"
   },
   {
    "duration": 83,
    "start_time": "2025-02-02T18:15:16.717Z"
   },
   {
    "duration": 25,
    "start_time": "2025-02-02T18:15:16.802Z"
   },
   {
    "duration": 150,
    "start_time": "2025-02-02T18:15:16.829Z"
   },
   {
    "duration": 326,
    "start_time": "2025-02-02T18:15:16.982Z"
   },
   {
    "duration": 140,
    "start_time": "2025-02-02T18:15:17.310Z"
   },
   {
    "duration": 199,
    "start_time": "2025-02-02T18:15:17.452Z"
   },
   {
    "duration": 194,
    "start_time": "2025-02-02T18:15:17.653Z"
   },
   {
    "duration": 169,
    "start_time": "2025-02-02T18:15:17.848Z"
   },
   {
    "duration": 328,
    "start_time": "2025-02-02T18:15:18.019Z"
   },
   {
    "duration": 494,
    "start_time": "2025-02-02T18:15:18.349Z"
   },
   {
    "duration": 381,
    "start_time": "2025-02-02T18:15:18.845Z"
   },
   {
    "duration": 217,
    "start_time": "2025-02-02T18:15:19.228Z"
   },
   {
    "duration": 1050,
    "start_time": "2025-02-02T18:15:19.447Z"
   },
   {
    "duration": 281,
    "start_time": "2025-02-02T18:15:20.499Z"
   }
  ],
  "colab": {
   "provenance": []
  },
  "kernelspec": {
   "display_name": "Python 3 (ipykernel)",
   "language": "python",
   "name": "python3"
  },
  "language_info": {
   "codemirror_mode": {
    "name": "ipython",
    "version": 3
   },
   "file_extension": ".py",
   "mimetype": "text/x-python",
   "name": "python",
   "nbconvert_exporter": "python",
   "pygments_lexer": "ipython3",
   "version": "3.9.19"
  },
  "toc": {
   "base_numbering": 1,
   "nav_menu": {},
   "number_sections": true,
   "sideBar": true,
   "skip_h1_title": true,
   "title_cell": "Table of Contents",
   "title_sidebar": "Contents",
   "toc_cell": false,
   "toc_position": {},
   "toc_section_display": true,
   "toc_window_display": false
  },
  "vscode": {
   "interpreter": {
    "hash": "01a7be9ec63e704a62cefc5fe7a4756944464ee731be31632bdf42a4cb4688cf"
   }
  }
 },
 "nbformat": 4,
 "nbformat_minor": 5
}
