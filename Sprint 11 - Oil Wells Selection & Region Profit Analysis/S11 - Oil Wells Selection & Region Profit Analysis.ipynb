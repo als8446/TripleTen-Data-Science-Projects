{
 "cells": [
  {
   "cell_type": "markdown",
   "metadata": {},
   "source": [
    "# Oil Wells Selection & Region Profit Analysis (OilyGiant)"
   ]
  },
  {
   "cell_type": "markdown",
   "metadata": {},
   "source": [
    "## Carga y preparación de los datos\n",
    "\n",
    "Los datos se limpiaron correctamente, sin valores nulos ni duplicados lo cual lo hacen adecuados para entrenar modelo."
   ]
  },
  {
   "cell_type": "code",
   "execution_count": 20,
   "metadata": {},
   "outputs": [],
   "source": [
    "import pandas as pd\n",
    "import numpy as np\n",
    "from sklearn.model_selection import train_test_split\n",
    "from sklearn.linear_model import LinearRegression\n",
    "from sklearn.metrics import mean_squared_error\n",
    "from scipy import stats as st\n",
    "\n",
    "PRICE_PER_UNIT = 4500\n",
    "TOTAL_BUDGET = 100_000_000\n",
    "\n",
    "file_paths = ['/datasets/geo_data_0.csv', '/datasets/geo_data_1.csv', '/datasets/geo_data_2.csv']\n",
    "\n",
    "def load_data(file_path):\n",
    "    data = pd.read_csv(file_path)\n",
    "    return data"
   ]
  },
  {
   "cell_type": "markdown",
   "metadata": {},
   "source": [
    "## Entrenamiento y evaluacion del modelo\n",
    "\n",
    "1. Se uso regresion lineal para predecir el volumen de reservas (product) por region.\n",
    "2. Division del conjunto: 75% entrenamiento, 25% validacion.\n",
    "\n",
    "Se obtuvieron los siguientes RMSE:\n",
    "1. geo_data_0: 37.76\n",
    "2. geo_data_1: 0.89\n",
    "3. geo_data_2: 40.15\n",
    "\n",
    "Se calcularon promedios de prediccion e intervalos de confianza."
   ]
  },
  {
   "cell_type": "code",
   "execution_count": 21,
   "metadata": {},
   "outputs": [],
   "source": [
    "#Entreno y evaluo el modelo\n",
    "def train_and_evaluate(data):\n",
    "    features = data.drop(columns=['id', 'product'])\n",
    "    target = data['product']\n",
    "    \n",
    "    features_train, features_valid, target_train, target_valid = train_test_split(\n",
    "        features, target, test_size=0.25, random_state=42\n",
    "    )\n",
    "    \n",
    "    model = LinearRegression()\n",
    "    model.fit(features_train, target_train)\n",
    "    target_pred = model.predict(features_valid)\n",
    "    \n",
    "    rmse = mean_squared_error(target_valid, target_pred, squared=False)\n",
    "    mean_product = target_pred.mean()\n",
    "    conf_interval = st.t.interval(\n",
    "        0.95, df=len(target_valid)-1, loc=np.mean(target_pred), scale=st.sem(target_pred)\n",
    "    )\n",
    "\n",
    "    return model, target_pred, target_valid, rmse, mean_product, conf_interval"
   ]
  },
  {
   "cell_type": "markdown",
   "metadata": {},
   "source": [
    "## Preparacion para el calculo de ganancias"
   ]
  },
  {
   "cell_type": "code",
   "execution_count": 22,
   "metadata": {},
   "outputs": [],
   "source": [
    "#Vamos a seleccionar los valores reales de los 200 pozos con mayor prediccion\n",
    "def get_top_200_targets(target_pred, target_real):\n",
    "    top_200_indices = target_pred.argsort()[-200:]\n",
    "    return target_real.iloc[top_200_indices]"
   ]
  },
  {
   "cell_type": "markdown",
   "metadata": {},
   "source": [
    "## Calculo de ganancias esperadas\n",
    "\n",
    "Se eligieron los 200 pozos con mayor prediccion y se calcularon sus ganancias reales.\n",
    "\n",
    "Ganancias estimadas:\n",
    "\n",
    "• geo_data_0: $38.97M\n",
    "\n",
    "• geo_data_1: $24.87M\n",
    "    \n",
    "• geo_data_2: $33.78M"
   ]
  },
  {
   "cell_type": "code",
   "execution_count": 23,
   "metadata": {},
   "outputs": [],
   "source": [
    "#Calculamos las ganancias\n",
    "def calculate_profit_from_real(target_real_top200, price_per_unit=4500, total_budget=100_000_000):\n",
    "    total_revenue = target_real_top200.sum() * price_per_unit\n",
    "    return total_revenue - total_budget"
   ]
  },
  {
   "cell_type": "markdown",
   "metadata": {},
   "source": [
    "## Evaluacion de riesgos y ganancias (Bootstrapping)\n",
    "\n",
    "Se aplico bootstrapping con 1000 simulaciones por region:\n",
    "\n",
    "1. En cada iteracion se extrajeron 500 pozos aleatorios y se evaluo la ganancia real de los 200 mejores por prediccion.\n",
    "   \n",
    "2. Se calcularon los beneficios promedio, intervalos de confianza y el riesgo de perdida.\n"
   ]
  },
  {
   "cell_type": "code",
   "execution_count": 30,
   "metadata": {},
   "outputs": [],
   "source": [
    "def calculate_profit(target_pred, wells_selected=200, price_per_unit=4500, total_budget=100_000_000):\n",
    "    \n",
    "    selected_reserves = np.sort(target_pred)[-wells_selected:]\n",
    "    total_revenue = selected_reserves.sum() * price_per_unit\n",
    "    avg_profit = total_revenue - total_budget\n",
    "    return avg_profit\n",
    "\n",
    "#Proceso de bootstrapping usando valores reales\n",
    "def bootstrap_risk(target_valid, target_pred, n_samples=1000, sample_size=500, wells_selected=200):\n",
    "    \n",
    "    profits = []\n",
    "    \n",
    "#Unimos las predicciones y valores reales en un DataFrame\n",
    "    df = pd.DataFrame({\n",
    "        'target': target_valid,\n",
    "        'prediction': target_pred\n",
    "    }).reset_index(drop=True)\n",
    "    \n",
    "    for _ in range(n_samples):\n",
    "#Realizo el muestreo con reemplazo de 500 pozos como indicaste\n",
    "        sample = df.sample(n=sample_size, replace=True, random_state=None)\n",
    "        \n",
    "#Seleccione el top200 con por prediccion\n",
    "        top_sample = sample.sort_values(by='prediction', ascending=False).head(wells_selected)\n",
    "        \n",
    "        total_reserve = top_sample['target'].sum()\n",
    "        total_revenue = total_reserve * PRICE_PER_UNIT\n",
    "        profit = total_revenue - TOTAL_BUDGET\n",
    "        \n",
    "        profits.append(profit)\n",
    "    \n",
    "    profits = np.array(profits)\n",
    "    mean_profit = profits.mean()\n",
    "    conf_interval = np.percentile(profits, [2.5, 97.5])\n",
    "    risk = (profits < 0).mean() * 100\n",
    "    \n",
    "    return mean_profit, conf_interval, risk"
   ]
  },
  {
   "cell_type": "code",
   "execution_count": 33,
   "metadata": {},
   "outputs": [],
   "source": [
    "#Evaluamos cada region\n",
    "results = []\n",
    "\n",
    "for file_path in file_paths:\n",
    "    data = load_data(file_path)\n",
    "    model, target_pred, target_valid, rmse, mean_product, conf_interval_pred = train_and_evaluate(data)\n",
    "    \n",
    "    \n",
    "    avg_profit = calculate_profit(target_pred)\n",
    "    mean_bootstrap_profit, conf_interval_bootstrap, risk = bootstrap_risk(target_valid, target_pred)\n",
    "\n",
    "    results.append({\n",
    "        'Archivo': file_path,\n",
    "        'RMSE': rmse,\n",
    "        'Promedio de reservas predicho': mean_product,\n",
    "        'Intervalo de confianza de reservas': conf_interval_pred,\n",
    "        'Ganancia esperada (real)': avg_profit,\n",
    "        'Ganancia promedio bootstrapping': mean_bootstrap_profit,\n",
    "        'Intervalo de confianza de ganancias': conf_interval_bootstrap,\n",
    "        'Riesgo de perdidas (%)': risk\n",
    "    })"
   ]
  },
  {
   "cell_type": "code",
   "execution_count": 34,
   "metadata": {},
   "outputs": [
    {
     "name": "stdout",
     "output_type": "stream",
     "text": [
      "                    Archivo       RMSE  Promedio de reservas predicho  \\\n",
      "0  /datasets/geo_data_0.csv  37.756600                      92.398800   \n",
      "1  /datasets/geo_data_1.csv   0.890280                      68.712878   \n",
      "2  /datasets/geo_data_2.csv  40.145872                      94.771024   \n",
      "\n",
      "       Intervalo de confianza de reservas  Ganancia esperada (real)  \\\n",
      "0  (92.11098337245197, 92.68661644070339)              3.896658e+07   \n",
      "1  (68.14330007695061, 69.28245600132463)              2.486938e+07   \n",
      "2  (94.52399415145041, 95.01805360386837)              3.377982e+07   \n",
      "\n",
      "   Ganancia promedio bootstrapping       Intervalo de confianza de ganancias  \\\n",
      "0                     4.037700e+06  [-1273697.2622262007, 9056058.292635318]   \n",
      "1                     4.429336e+06    [659342.8325417899, 8581004.732780475]   \n",
      "2                     3.813170e+06   [-1438289.5286008578, 8735198.30563424]   \n",
      "\n",
      "   Riesgo de perdidas (%)  \n",
      "0                     5.9  \n",
      "1                     1.3  \n",
      "2                     7.6  \n"
     ]
    }
   ],
   "source": [
    "#Mostramos los resultados\n",
    "data_results = pd.DataFrame(results)\n",
    "print(data_results)"
   ]
  },
  {
   "cell_type": "markdown",
   "metadata": {},
   "source": [
    "## Conclusion\n",
    "\n",
    "Desoues de realizar el entrenamiento de modelos de regresion lineal, estimando ganancias reales y analizar el riesgo mediante bootstrapping, llegue a la conclusion que la region mas rentable es la region geo_data_0 porque ofrece la mayor ganancia real como tal esperada, pero la region geo_data_1 presenta el menor riesgo de pérdida (1.3%) y una ganancia promedio competitiva, por lo cual me lleva a brindar la recomendacion de seleccionar la region geo_data_1 ya que nos da el mejor equilibrio de rentabilidad y seguridad, la que la convierte en las mas confiable para realizar inversiones en la apertura de 200 pozos nuevos y de esta forma nuestro cliente reduce el riesgo a nivel financiero sin sacrificar la ganacias potencialmente significativas.\n"
   ]
  }
 ],
 "metadata": {
  "kernelspec": {
   "display_name": "Python 3 (ipykernel)",
   "language": "python",
   "name": "python3"
  },
  "language_info": {
   "codemirror_mode": {
    "name": "ipython",
    "version": 3
   },
   "file_extension": ".py",
   "mimetype": "text/x-python",
   "name": "python",
   "nbconvert_exporter": "python",
   "pygments_lexer": "ipython3",
   "version": "3.9.22"
  }
 },
 "nbformat": 4,
 "nbformat_minor": 4
}
