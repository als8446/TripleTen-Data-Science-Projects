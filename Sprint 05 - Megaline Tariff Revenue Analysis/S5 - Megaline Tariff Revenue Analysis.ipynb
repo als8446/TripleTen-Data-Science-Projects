{
 "cells": [
  {
   "cell_type": "markdown",
   "metadata": {},
   "source": [
    "# Megaline Tariff Revenue Analysis"
   ]
  },
  {
   "cell_type": "markdown",
   "metadata": {},
   "source": [
    "## Introduccion"
   ]
  },
  {
   "cell_type": "markdown",
   "metadata": {
    "id": "3rYiDeEH0q0f"
   },
   "source": [
    "# ¿Cuál es la mejor tarifa?\n",
    "\n",
    "Trabajas como analista para el operador de telecomunicaciones Megaline. La empresa ofrece a sus clientes dos tarifas de prepago, Surf y Ultimate. El departamento comercial quiere saber cuál de las tarifas genera más ingresos para poder ajustar el presupuesto de publicidad.\n",
    "\n",
    "Vas a realizar un análisis preliminar de las tarifas basado en una selección de clientes relativamente pequeña. Tendrás los datos de 500 clientes de Megaline: quiénes son los clientes, de dónde son, qué tarifa usan, así como la cantidad de llamadas que hicieron y los mensajes de texto que enviaron en 2018. Tu trabajo es analizar el comportamiento de los clientes y determinar qué tarifa de prepago genera más ingresos."
   ]
  },
  {
   "cell_type": "markdown",
   "metadata": {
    "id": "VNddPNRQ0q0w"
   },
   "source": [
    "[Te proporcionamos algunos comentarios para orientarte mientras completas este proyecto. Pero debes asegurarte de eliminar todos los comentarios entre corchetes antes de entregar tu proyecto.]\n",
    "\n",
    "[Antes de sumergirte en el análisis de datos, explica por tu propia cuenta el propósito del proyecto y las acciones que planeas realizar.]\n",
    "\n",
    "[Ten en cuenta que estudiar, modificar y analizar datos es un proceso iterativo. Es normal volver a los pasos anteriores y corregirlos/ampliarlos para permitir nuevos pasos.]"
   ]
  },
  {
   "cell_type": "markdown",
   "metadata": {
    "id": "MQi4IPy70q0y"
   },
   "source": [
    "## Inicialización"
   ]
  },
  {
   "cell_type": "code",
   "execution_count": 340,
   "metadata": {
    "id": "MtYIuBxu0q0z",
    "trusted": true
   },
   "outputs": [],
   "source": [
    "# Cargar todas las librerías\n",
    "import pandas as pd\n",
    "import math as mt\n",
    "from scipy import stats as st\n",
    "import numpy as np\n",
    "import matplotlib.pyplot as plt\n",
    "from scipy.stats import ttest_ind\n"
   ]
  },
  {
   "cell_type": "markdown",
   "metadata": {
    "id": "4ysWWC5i0q00"
   },
   "source": [
    "## Cargar datos"
   ]
  },
  {
   "cell_type": "code",
   "execution_count": 341,
   "metadata": {
    "id": "CCqPW7rS0q01",
    "trusted": true
   },
   "outputs": [],
   "source": [
    "# Carga los archivos de datos en diferentes DataFrames\n",
    "\n",
    "llamadas = pd.read_csv('/datasets/megaline_calls.csv')\n",
    "internet = pd.read_csv('/datasets/megaline_internet.csv')\n",
    "mensajes = pd.read_csv('/datasets/megaline_messages.csv')\n",
    "tarifas = pd.read_csv('/datasets/megaline_plans.csv')\n",
    "users = pd.read_csv('/datasets/megaline_users.csv')"
   ]
  },
  {
   "cell_type": "markdown",
   "metadata": {
    "id": "69qqoJ3r0q01"
   },
   "source": [
    "## Preparar los datos"
   ]
  },
  {
   "cell_type": "markdown",
   "metadata": {
    "id": "vUuZw80S0q01"
   },
   "source": [
    "[Los datos para este proyecto se dividen en varias tablas. Explora cada una para tener una comprensión inicial de los datos. Si es necesario, haz las correcciones requeridas en cada tabla.]"
   ]
  },
  {
   "cell_type": "markdown",
   "metadata": {
    "id": "ohBhimvH0q01"
   },
   "source": [
    "## Tarifas"
   ]
  },
  {
   "cell_type": "code",
   "execution_count": 342,
   "metadata": {
    "id": "GptqP3Q40q02",
    "trusted": true
   },
   "outputs": [
    {
     "name": "stdout",
     "output_type": "stream",
     "text": [
      "<class 'pandas.core.frame.DataFrame'>\n",
      "RangeIndex: 2 entries, 0 to 1\n",
      "Data columns (total 8 columns):\n",
      " #   Column                 Non-Null Count  Dtype  \n",
      "---  ------                 --------------  -----  \n",
      " 0   messages_included      2 non-null      int64  \n",
      " 1   mb_per_month_included  2 non-null      int64  \n",
      " 2   minutes_included       2 non-null      int64  \n",
      " 3   usd_monthly_pay        2 non-null      int64  \n",
      " 4   usd_per_gb             2 non-null      int64  \n",
      " 5   usd_per_message        2 non-null      float64\n",
      " 6   usd_per_minute         2 non-null      float64\n",
      " 7   plan_name              2 non-null      object \n",
      "dtypes: float64(2), int64(5), object(1)\n",
      "memory usage: 256.0+ bytes\n",
      "None\n"
     ]
    }
   ],
   "source": [
    "# Imprime la información general/resumida sobre el DataFrame de las tarifas\n",
    "print(tarifas.info())\n"
   ]
  },
  {
   "cell_type": "code",
   "execution_count": 343,
   "metadata": {
    "id": "64xzjwL70q02",
    "trusted": true
   },
   "outputs": [
    {
     "data": {
      "text/html": [
       "<div>\n",
       "<style scoped>\n",
       "    .dataframe tbody tr th:only-of-type {\n",
       "        vertical-align: middle;\n",
       "    }\n",
       "\n",
       "    .dataframe tbody tr th {\n",
       "        vertical-align: top;\n",
       "    }\n",
       "\n",
       "    .dataframe thead th {\n",
       "        text-align: right;\n",
       "    }\n",
       "</style>\n",
       "<table border=\"1\" class=\"dataframe\">\n",
       "  <thead>\n",
       "    <tr style=\"text-align: right;\">\n",
       "      <th></th>\n",
       "      <th>messages_included</th>\n",
       "      <th>mb_per_month_included</th>\n",
       "      <th>minutes_included</th>\n",
       "      <th>usd_monthly_pay</th>\n",
       "      <th>usd_per_gb</th>\n",
       "      <th>usd_per_message</th>\n",
       "      <th>usd_per_minute</th>\n",
       "      <th>plan_name</th>\n",
       "    </tr>\n",
       "  </thead>\n",
       "  <tbody>\n",
       "    <tr>\n",
       "      <th>1</th>\n",
       "      <td>1000</td>\n",
       "      <td>30720</td>\n",
       "      <td>3000</td>\n",
       "      <td>70</td>\n",
       "      <td>7</td>\n",
       "      <td>0.01</td>\n",
       "      <td>0.01</td>\n",
       "      <td>ultimate</td>\n",
       "    </tr>\n",
       "    <tr>\n",
       "      <th>0</th>\n",
       "      <td>50</td>\n",
       "      <td>15360</td>\n",
       "      <td>500</td>\n",
       "      <td>20</td>\n",
       "      <td>10</td>\n",
       "      <td>0.03</td>\n",
       "      <td>0.03</td>\n",
       "      <td>surf</td>\n",
       "    </tr>\n",
       "  </tbody>\n",
       "</table>\n",
       "</div>"
      ],
      "text/plain": [
       "   messages_included  mb_per_month_included  minutes_included  \\\n",
       "1               1000                  30720              3000   \n",
       "0                 50                  15360               500   \n",
       "\n",
       "   usd_monthly_pay  usd_per_gb  usd_per_message  usd_per_minute plan_name  \n",
       "1               70           7             0.01            0.01  ultimate  \n",
       "0               20          10             0.03            0.03      surf  "
      ]
     },
     "execution_count": 343,
     "metadata": {},
     "output_type": "execute_result"
    }
   ],
   "source": [
    "# Imprime una muestra de los datos para las tarifas\n",
    "tarifas.sample(2)\n"
   ]
  },
  {
   "cell_type": "markdown",
   "metadata": {
    "id": "mEc_3_hs0q02"
   },
   "source": [
    "[Describe lo que ves y observas en la información general y en la muestra de datos impresa para el precio de datos anterior. ¿Hay algún problema (tipos de datos no adecuados, datos ausentes, etc.) que pudieran necesitar investigación y cambios adicionales? ¿Cómo se puede arreglar?]\n",
    "\n",
    "Desde mi perspectiva veo que tanto \"usd_per_message\" como \"usd_per_minute\" tiene los costos erroneos, de aceurdo a la tabla de precios de los 2 planes esas 2 caisllas estan erroneas, por lo cual se necesita reemplazar con la informacion correcta.\n",
    "\n",
    "Plan Surf si se exceden los límites del paquete el costo correcto seria:\n",
    "1 minuto: 3 centavos.\n",
    "1 SMS: 3 centavos.\n",
    "\n",
    "Plan Ultimate si se exceden los límites del paquete el costo correcto seria:\n",
    "1 minuto: 1 centavo.\n",
    "1 SMS: 1 centavo.\n",
    "\n",
    "Tambien quiero pasar los valores que tienen decimales a valores enteros"
   ]
  },
  {
   "cell_type": "markdown",
   "metadata": {
    "id": "R3C05i1l0q03"
   },
   "source": [
    "## Corregir datos"
   ]
  },
  {
   "cell_type": "markdown",
   "metadata": {
    "id": "bIi8StZI0q03"
   },
   "source": [
    "[Corrige los problemas obvios con los datos basándote en las observaciones iniciales.]"
   ]
  },
  {
   "cell_type": "code",
   "execution_count": 344,
   "metadata": {
    "id": "Y7SVmjGn0q03",
    "trusted": true
   },
   "outputs": [
    {
     "name": "stdout",
     "output_type": "stream",
     "text": [
      "<bound method DataFrame.info of    messages_included  mb_per_month_included  minutes_included  \\\n",
      "0                 50                  15360               500   \n",
      "1               1000                  30720              3000   \n",
      "\n",
      "   usd_monthly_pay  usd_per_gb  usd_per_message  usd_per_minute plan_name  \n",
      "0               20          10              3.0             3.0      surf  \n",
      "1               70           7              1.0             1.0  ultimate  >\n"
     ]
    }
   ],
   "source": [
    "tarifas.loc[0, 'usd_per_message'] = 3\n",
    "tarifas.loc[0, 'usd_per_minute'] = 3\n",
    "tarifas.loc[1, 'usd_per_message'] = 1\n",
    "tarifas.loc[1, 'usd_per_minute'] = 1\n",
    "\n",
    "\n",
    "print(tarifas.info)"
   ]
  },
  {
   "cell_type": "markdown",
   "metadata": {
    "id": "LJir7bml0q03"
   },
   "source": [
    "## Enriquecer los datos"
   ]
  },
  {
   "cell_type": "markdown",
   "metadata": {
    "id": "eqADpCfg0q04"
   },
   "source": [
    "[Agrega factores adicionales a los datos si crees que pudieran ser útiles.]"
   ]
  },
  {
   "cell_type": "code",
   "execution_count": 345,
   "metadata": {
    "id": "gfcIEuXV0q04",
    "trusted": true
   },
   "outputs": [
    {
     "name": "stdout",
     "output_type": "stream",
     "text": [
      "<bound method DataFrame.info of    messages_included  mb_per_month_included  minutes_included  \\\n",
      "0                 50                  15360               500   \n",
      "1               1000                  30720              3000   \n",
      "\n",
      "   usd_monthly_pay  usd_per_gb  usd_per_message  usd_per_minute plan_name  \n",
      "0               20          10                3               3      surf  \n",
      "1               70           7                1               1  ultimate  >\n",
      "  plan_name  mb_per_month_included  gb_per_month_included\n",
      "0      surf                  15360                     15\n",
      "1  ultimate                  30720                     30\n"
     ]
    }
   ],
   "source": [
    "#Pasar los valores de decimales a valores enteros\n",
    "tarifas['usd_per_message'] = tarifas['usd_per_message'].astype(int)\n",
    "tarifas['usd_per_minute'] = tarifas['usd_per_minute'].astype(int)\n",
    "\n",
    "\n",
    "print(tarifas.info)\n",
    "\n",
    "#Aqui converti los mb a GB y lo pase a valores enteros\n",
    "tarifas['gb_per_month_included'] = (tarifas['mb_per_month_included'] / 1024).round(2).astype(int)\n",
    "\n",
    "\n",
    "print(tarifas[['plan_name', 'mb_per_month_included', 'gb_per_month_included']])"
   ]
  },
  {
   "cell_type": "markdown",
   "metadata": {
    "id": "1n2X6WXf0q04"
   },
   "source": [
    "## Usuarios/as"
   ]
  },
  {
   "cell_type": "code",
   "execution_count": 346,
   "metadata": {
    "id": "2NgjWFqx0q05",
    "trusted": true
   },
   "outputs": [
    {
     "name": "stdout",
     "output_type": "stream",
     "text": [
      "<class 'pandas.core.frame.DataFrame'>\n",
      "RangeIndex: 500 entries, 0 to 499\n",
      "Data columns (total 8 columns):\n",
      " #   Column      Non-Null Count  Dtype \n",
      "---  ------      --------------  ----- \n",
      " 0   user_id     500 non-null    int64 \n",
      " 1   first_name  500 non-null    object\n",
      " 2   last_name   500 non-null    object\n",
      " 3   age         500 non-null    int64 \n",
      " 4   city        500 non-null    object\n",
      " 5   reg_date    500 non-null    object\n",
      " 6   plan        500 non-null    object\n",
      " 7   churn_date  34 non-null     object\n",
      "dtypes: int64(2), object(6)\n",
      "memory usage: 31.4+ KB\n",
      "None\n"
     ]
    }
   ],
   "source": [
    "# Imprime la información general/resumida sobre el DataFrame de usuarios\n",
    "print(users.info())"
   ]
  },
  {
   "cell_type": "code",
   "execution_count": 347,
   "metadata": {
    "id": "1IN1L9uh0q05",
    "trusted": true
   },
   "outputs": [
    {
     "data": {
      "text/html": [
       "<div>\n",
       "<style scoped>\n",
       "    .dataframe tbody tr th:only-of-type {\n",
       "        vertical-align: middle;\n",
       "    }\n",
       "\n",
       "    .dataframe tbody tr th {\n",
       "        vertical-align: top;\n",
       "    }\n",
       "\n",
       "    .dataframe thead th {\n",
       "        text-align: right;\n",
       "    }\n",
       "</style>\n",
       "<table border=\"1\" class=\"dataframe\">\n",
       "  <thead>\n",
       "    <tr style=\"text-align: right;\">\n",
       "      <th></th>\n",
       "      <th>user_id</th>\n",
       "      <th>first_name</th>\n",
       "      <th>last_name</th>\n",
       "      <th>age</th>\n",
       "      <th>city</th>\n",
       "      <th>reg_date</th>\n",
       "      <th>plan</th>\n",
       "      <th>churn_date</th>\n",
       "    </tr>\n",
       "  </thead>\n",
       "  <tbody>\n",
       "    <tr>\n",
       "      <th>475</th>\n",
       "      <td>1475</td>\n",
       "      <td>Arlen</td>\n",
       "      <td>Sutton</td>\n",
       "      <td>66</td>\n",
       "      <td>Dallas-Fort Worth-Arlington, TX MSA</td>\n",
       "      <td>2018-05-28</td>\n",
       "      <td>ultimate</td>\n",
       "      <td>NaN</td>\n",
       "    </tr>\n",
       "    <tr>\n",
       "      <th>273</th>\n",
       "      <td>1273</td>\n",
       "      <td>Hermila</td>\n",
       "      <td>Ryan</td>\n",
       "      <td>25</td>\n",
       "      <td>Baton Rouge, LA MSA</td>\n",
       "      <td>2018-10-13</td>\n",
       "      <td>ultimate</td>\n",
       "      <td>NaN</td>\n",
       "    </tr>\n",
       "    <tr>\n",
       "      <th>484</th>\n",
       "      <td>1484</td>\n",
       "      <td>Delpha</td>\n",
       "      <td>Baldwin</td>\n",
       "      <td>46</td>\n",
       "      <td>Dallas-Fort Worth-Arlington, TX MSA</td>\n",
       "      <td>2018-11-29</td>\n",
       "      <td>surf</td>\n",
       "      <td>NaN</td>\n",
       "    </tr>\n",
       "    <tr>\n",
       "      <th>263</th>\n",
       "      <td>1263</td>\n",
       "      <td>Lucio</td>\n",
       "      <td>Duffy</td>\n",
       "      <td>39</td>\n",
       "      <td>Boston-Cambridge-Newton, MA-NH MSA</td>\n",
       "      <td>2018-03-06</td>\n",
       "      <td>surf</td>\n",
       "      <td>NaN</td>\n",
       "    </tr>\n",
       "    <tr>\n",
       "      <th>4</th>\n",
       "      <td>1004</td>\n",
       "      <td>Leonila</td>\n",
       "      <td>Thompson</td>\n",
       "      <td>40</td>\n",
       "      <td>Seattle-Tacoma-Bellevue, WA MSA</td>\n",
       "      <td>2018-05-23</td>\n",
       "      <td>surf</td>\n",
       "      <td>NaN</td>\n",
       "    </tr>\n",
       "  </tbody>\n",
       "</table>\n",
       "</div>"
      ],
      "text/plain": [
       "     user_id first_name last_name  age                                 city  \\\n",
       "475     1475      Arlen    Sutton   66  Dallas-Fort Worth-Arlington, TX MSA   \n",
       "273     1273    Hermila      Ryan   25                  Baton Rouge, LA MSA   \n",
       "484     1484     Delpha   Baldwin   46  Dallas-Fort Worth-Arlington, TX MSA   \n",
       "263     1263      Lucio     Duffy   39   Boston-Cambridge-Newton, MA-NH MSA   \n",
       "4       1004    Leonila  Thompson   40      Seattle-Tacoma-Bellevue, WA MSA   \n",
       "\n",
       "       reg_date      plan churn_date  \n",
       "475  2018-05-28  ultimate        NaN  \n",
       "273  2018-10-13  ultimate        NaN  \n",
       "484  2018-11-29      surf        NaN  \n",
       "263  2018-03-06      surf        NaN  \n",
       "4    2018-05-23      surf        NaN  "
      ]
     },
     "execution_count": 347,
     "metadata": {},
     "output_type": "execute_result"
    }
   ],
   "source": [
    "# Imprime una muestra de datos para usuarios\n",
    "users.sample(5)"
   ]
  },
  {
   "cell_type": "markdown",
   "metadata": {
    "id": "dCZoUq4f0q06"
   },
   "source": [
    "[Describe lo que ves y observas en la información general y en la muestra de datos impresa para el precio de datos anterior. ¿Hay algún problema (tipos de datos no adecuados, datos ausentes, etc.) que pudieran necesitar investigación y cambios adicionales? ¿Cómo se puede arreglar?]\n",
    "\n",
    "A groso modo lo que veo es que este dataframe en la seccion \"churn_date\" hay datos ausentes, por lo que se vuelve informacion que no tenemos certeza del todo, y debemos de reemplazarla por el valor \"unknown\" para donde tengamos NaN, ya que son valores que no podemos recolectar.\n",
    "\n",
    "Y para la seccion 'reg_date' cambiamos el formato para que este alineado en cuanto formato con los demas dataframes."
   ]
  },
  {
   "cell_type": "markdown",
   "metadata": {
    "id": "BX5FQh_I0q06"
   },
   "source": [
    "### Corregir los datos"
   ]
  },
  {
   "cell_type": "markdown",
   "metadata": {
    "id": "8OdKMwJv0q06"
   },
   "source": [
    "[Corrige los problemas obvios con los datos basándote en las observaciones iniciales.]"
   ]
  },
  {
   "cell_type": "code",
   "execution_count": 348,
   "metadata": {
    "id": "yUqX-K0C0q07",
    "trusted": true
   },
   "outputs": [],
   "source": [
    "users['reg_date'] = pd.to_datetime(users['reg_date']).dt.strftime('%d-%m-%Y')\n",
    "users['churn_date'] = pd.to_datetime(users['churn_date']).dt.strftime('%d-%m-%Y')"
   ]
  },
  {
   "cell_type": "markdown",
   "metadata": {
    "id": "ycwuARJp0q07"
   },
   "source": [
    "### Enriquecer los datos"
   ]
  },
  {
   "cell_type": "markdown",
   "metadata": {
    "id": "96NIh4CJ0q08"
   },
   "source": [
    "[Agrega factores adicionales a los datos si crees que pudieran ser útiles.]"
   ]
  },
  {
   "cell_type": "code",
   "execution_count": 349,
   "metadata": {
    "id": "iq0AaBS90q08",
    "trusted": true
   },
   "outputs": [
    {
     "data": {
      "text/html": [
       "<div>\n",
       "<style scoped>\n",
       "    .dataframe tbody tr th:only-of-type {\n",
       "        vertical-align: middle;\n",
       "    }\n",
       "\n",
       "    .dataframe tbody tr th {\n",
       "        vertical-align: top;\n",
       "    }\n",
       "\n",
       "    .dataframe thead th {\n",
       "        text-align: right;\n",
       "    }\n",
       "</style>\n",
       "<table border=\"1\" class=\"dataframe\">\n",
       "  <thead>\n",
       "    <tr style=\"text-align: right;\">\n",
       "      <th></th>\n",
       "      <th>user_id</th>\n",
       "      <th>first_name</th>\n",
       "      <th>last_name</th>\n",
       "      <th>age</th>\n",
       "      <th>city</th>\n",
       "      <th>reg_date</th>\n",
       "      <th>plan</th>\n",
       "      <th>churn_date</th>\n",
       "    </tr>\n",
       "  </thead>\n",
       "  <tbody>\n",
       "    <tr>\n",
       "      <th>26</th>\n",
       "      <td>1026</td>\n",
       "      <td>Meggan</td>\n",
       "      <td>Hamilton</td>\n",
       "      <td>49</td>\n",
       "      <td>Houston-The Woodlands-Sugar Land, TX MSA</td>\n",
       "      <td>20-07-2018</td>\n",
       "      <td>ultimate</td>\n",
       "      <td>unknown</td>\n",
       "    </tr>\n",
       "    <tr>\n",
       "      <th>365</th>\n",
       "      <td>1365</td>\n",
       "      <td>Milford</td>\n",
       "      <td>Rush</td>\n",
       "      <td>19</td>\n",
       "      <td>Grand Rapids-Kentwood, MI MSA</td>\n",
       "      <td>09-02-2018</td>\n",
       "      <td>surf</td>\n",
       "      <td>unknown</td>\n",
       "    </tr>\n",
       "    <tr>\n",
       "      <th>111</th>\n",
       "      <td>1111</td>\n",
       "      <td>Booker</td>\n",
       "      <td>Hahn</td>\n",
       "      <td>75</td>\n",
       "      <td>Urban Honolulu, HI MSA</td>\n",
       "      <td>17-09-2018</td>\n",
       "      <td>surf</td>\n",
       "      <td>unknown</td>\n",
       "    </tr>\n",
       "    <tr>\n",
       "      <th>37</th>\n",
       "      <td>1037</td>\n",
       "      <td>Reena</td>\n",
       "      <td>Velazquez</td>\n",
       "      <td>20</td>\n",
       "      <td>Seattle-Tacoma-Bellevue, WA MSA</td>\n",
       "      <td>11-08-2018</td>\n",
       "      <td>ultimate</td>\n",
       "      <td>unknown</td>\n",
       "    </tr>\n",
       "    <tr>\n",
       "      <th>480</th>\n",
       "      <td>1480</td>\n",
       "      <td>Jasper</td>\n",
       "      <td>Buchanan</td>\n",
       "      <td>46</td>\n",
       "      <td>St. Louis, MO-IL MSA</td>\n",
       "      <td>13-12-2018</td>\n",
       "      <td>surf</td>\n",
       "      <td>unknown</td>\n",
       "    </tr>\n",
       "  </tbody>\n",
       "</table>\n",
       "</div>"
      ],
      "text/plain": [
       "     user_id first_name  last_name  age  \\\n",
       "26      1026     Meggan   Hamilton   49   \n",
       "365     1365    Milford       Rush   19   \n",
       "111     1111     Booker       Hahn   75   \n",
       "37      1037      Reena  Velazquez   20   \n",
       "480     1480     Jasper   Buchanan   46   \n",
       "\n",
       "                                         city    reg_date      plan churn_date  \n",
       "26   Houston-The Woodlands-Sugar Land, TX MSA  20-07-2018  ultimate    unknown  \n",
       "365             Grand Rapids-Kentwood, MI MSA  09-02-2018      surf    unknown  \n",
       "111                    Urban Honolulu, HI MSA  17-09-2018      surf    unknown  \n",
       "37            Seattle-Tacoma-Bellevue, WA MSA  11-08-2018  ultimate    unknown  \n",
       "480                      St. Louis, MO-IL MSA  13-12-2018      surf    unknown  "
      ]
     },
     "execution_count": 349,
     "metadata": {},
     "output_type": "execute_result"
    }
   ],
   "source": [
    "users['churn_date'] = users['churn_date'].fillna('unknown')\n",
    "\n",
    "users.sample(5)"
   ]
  },
  {
   "cell_type": "markdown",
   "metadata": {
    "id": "o7MeKCid0q08"
   },
   "source": [
    "## Llamadas"
   ]
  },
  {
   "cell_type": "code",
   "execution_count": 350,
   "metadata": {
    "id": "6dDlnoDm0q08",
    "trusted": true
   },
   "outputs": [
    {
     "name": "stdout",
     "output_type": "stream",
     "text": [
      "<class 'pandas.core.frame.DataFrame'>\n",
      "RangeIndex: 137735 entries, 0 to 137734\n",
      "Data columns (total 4 columns):\n",
      " #   Column     Non-Null Count   Dtype  \n",
      "---  ------     --------------   -----  \n",
      " 0   id         137735 non-null  object \n",
      " 1   user_id    137735 non-null  int64  \n",
      " 2   call_date  137735 non-null  object \n",
      " 3   duration   137735 non-null  float64\n",
      "dtypes: float64(1), int64(1), object(2)\n",
      "memory usage: 4.2+ MB\n",
      "None\n"
     ]
    }
   ],
   "source": [
    "# Imprime la información general/resumida sobre el DataFrame de las llamadas\n",
    "print(llamadas.info())\n"
   ]
  },
  {
   "cell_type": "code",
   "execution_count": 351,
   "metadata": {
    "id": "kuh1vlNB0q09",
    "trusted": true
   },
   "outputs": [
    {
     "data": {
      "text/html": [
       "<div>\n",
       "<style scoped>\n",
       "    .dataframe tbody tr th:only-of-type {\n",
       "        vertical-align: middle;\n",
       "    }\n",
       "\n",
       "    .dataframe tbody tr th {\n",
       "        vertical-align: top;\n",
       "    }\n",
       "\n",
       "    .dataframe thead th {\n",
       "        text-align: right;\n",
       "    }\n",
       "</style>\n",
       "<table border=\"1\" class=\"dataframe\">\n",
       "  <thead>\n",
       "    <tr style=\"text-align: right;\">\n",
       "      <th></th>\n",
       "      <th>id</th>\n",
       "      <th>user_id</th>\n",
       "      <th>call_date</th>\n",
       "      <th>duration</th>\n",
       "    </tr>\n",
       "  </thead>\n",
       "  <tbody>\n",
       "    <tr>\n",
       "      <th>49522</th>\n",
       "      <td>1179_181</td>\n",
       "      <td>1179</td>\n",
       "      <td>2018-10-18</td>\n",
       "      <td>1.81</td>\n",
       "    </tr>\n",
       "    <tr>\n",
       "      <th>55472</th>\n",
       "      <td>1199_0</td>\n",
       "      <td>1199</td>\n",
       "      <td>2018-12-09</td>\n",
       "      <td>4.39</td>\n",
       "    </tr>\n",
       "    <tr>\n",
       "      <th>118052</th>\n",
       "      <td>1412_336</td>\n",
       "      <td>1412</td>\n",
       "      <td>2018-09-25</td>\n",
       "      <td>2.26</td>\n",
       "    </tr>\n",
       "    <tr>\n",
       "      <th>132157</th>\n",
       "      <td>1476_83</td>\n",
       "      <td>1476</td>\n",
       "      <td>2018-07-14</td>\n",
       "      <td>8.01</td>\n",
       "    </tr>\n",
       "    <tr>\n",
       "      <th>116757</th>\n",
       "      <td>1408_406</td>\n",
       "      <td>1408</td>\n",
       "      <td>2018-04-12</td>\n",
       "      <td>13.13</td>\n",
       "    </tr>\n",
       "  </tbody>\n",
       "</table>\n",
       "</div>"
      ],
      "text/plain": [
       "              id  user_id   call_date  duration\n",
       "49522   1179_181     1179  2018-10-18      1.81\n",
       "55472     1199_0     1199  2018-12-09      4.39\n",
       "118052  1412_336     1412  2018-09-25      2.26\n",
       "132157   1476_83     1476  2018-07-14      8.01\n",
       "116757  1408_406     1408  2018-04-12     13.13"
      ]
     },
     "execution_count": 351,
     "metadata": {},
     "output_type": "execute_result"
    }
   ],
   "source": [
    "# Imprime una muestra de datos para las llamadas\n",
    "\n",
    "llamadas.sample(5)"
   ]
  },
  {
   "cell_type": "markdown",
   "metadata": {
    "id": "DOAxYJSx0q09"
   },
   "source": [
    "[Describe lo que ves y observas en la información general y en la muestra de datos impresa para el precio de datos anterior. ¿Hay algún problema (tipos de datos no adecuados, datos ausentes, etc.) que pudieran necesitar investigación y cambios adicionales? ¿Cómo se puede arreglar?]\n",
    "\n",
    "Para este dataframe veo 3 situaciones que podemos correguir y por el otro lado enriqueser\n",
    "\n",
    "1-Para la seccion de id como es un valor unico por llamada podemos quitarle el guion bajo (\"_\") para que sea mas legible \n",
    "\n",
    "2-Ahora para seccion duration como a la hora de ser cobrado siempre se redondea para arriba aun que se haya pasado por un segundo lo ideal es que los redondemos todos y le quitemos lo decimales, lo cual nos ayudara mas adelante para poder realizar lo calculos de la mejor manera y poder tomar una desicion mas certera.\n",
    "\n",
    "3-Veo valioso de cambiar es el formato de la fecha ya segun detallo esta (aa-mm-dd) para lo que debemos establecer un unico formato para la fecha para que todos lo dataframes podamos tener coincidencia en la informacion cuando necesitamos buscarla por fecha.\n"
   ]
  },
  {
   "cell_type": "markdown",
   "metadata": {
    "id": "S7hzxmbX0q0-"
   },
   "source": [
    "### Corregir los datos"
   ]
  },
  {
   "cell_type": "markdown",
   "metadata": {
    "id": "YxWyAjD20q0-"
   },
   "source": [
    "[Corrige los problemas obvios con los datos basándote en las observaciones iniciales.]"
   ]
  },
  {
   "cell_type": "code",
   "execution_count": 352,
   "metadata": {
    "id": "S2r8xA4f0q0-",
    "trusted": true
   },
   "outputs": [],
   "source": [
    "llamadas['id'] = llamadas['id'].str.replace('_', '')\n",
    "\n",
    "llamadas['call_date'] = pd.to_datetime(llamadas['call_date']).dt.strftime('%d-%m-%Y')"
   ]
  },
  {
   "cell_type": "markdown",
   "metadata": {
    "id": "KrMgTrlG0q0_"
   },
   "source": [
    "### Enriquecer los datos"
   ]
  },
  {
   "cell_type": "markdown",
   "metadata": {
    "id": "a9MbmEvE0q0_"
   },
   "source": [
    "[Agrega factores adicionales a los datos si crees que pudieran ser útiles.]"
   ]
  },
  {
   "cell_type": "code",
   "execution_count": 353,
   "metadata": {
    "id": "iZ1avpA_0q0_",
    "trusted": true
   },
   "outputs": [
    {
     "data": {
      "text/html": [
       "<div>\n",
       "<style scoped>\n",
       "    .dataframe tbody tr th:only-of-type {\n",
       "        vertical-align: middle;\n",
       "    }\n",
       "\n",
       "    .dataframe tbody tr th {\n",
       "        vertical-align: top;\n",
       "    }\n",
       "\n",
       "    .dataframe thead th {\n",
       "        text-align: right;\n",
       "    }\n",
       "</style>\n",
       "<table border=\"1\" class=\"dataframe\">\n",
       "  <thead>\n",
       "    <tr style=\"text-align: right;\">\n",
       "      <th></th>\n",
       "      <th>id</th>\n",
       "      <th>user_id</th>\n",
       "      <th>call_date</th>\n",
       "      <th>duration</th>\n",
       "    </tr>\n",
       "  </thead>\n",
       "  <tbody>\n",
       "    <tr>\n",
       "      <th>33498</th>\n",
       "      <td>1126183</td>\n",
       "      <td>1126</td>\n",
       "      <td>30-11-2018</td>\n",
       "      <td>20</td>\n",
       "    </tr>\n",
       "    <tr>\n",
       "      <th>103425</th>\n",
       "      <td>1365621</td>\n",
       "      <td>1365</td>\n",
       "      <td>21-09-2018</td>\n",
       "      <td>13</td>\n",
       "    </tr>\n",
       "    <tr>\n",
       "      <th>85859</th>\n",
       "      <td>1316103</td>\n",
       "      <td>1316</td>\n",
       "      <td>19-11-2018</td>\n",
       "      <td>0</td>\n",
       "    </tr>\n",
       "    <tr>\n",
       "      <th>2077</th>\n",
       "      <td>1009499</td>\n",
       "      <td>1009</td>\n",
       "      <td>26-07-2018</td>\n",
       "      <td>5</td>\n",
       "    </tr>\n",
       "    <tr>\n",
       "      <th>83286</th>\n",
       "      <td>130260</td>\n",
       "      <td>1302</td>\n",
       "      <td>03-11-2018</td>\n",
       "      <td>12</td>\n",
       "    </tr>\n",
       "  </tbody>\n",
       "</table>\n",
       "</div>"
      ],
      "text/plain": [
       "             id  user_id   call_date  duration\n",
       "33498   1126183     1126  30-11-2018        20\n",
       "103425  1365621     1365  21-09-2018        13\n",
       "85859   1316103     1316  19-11-2018         0\n",
       "2077    1009499     1009  26-07-2018         5\n",
       "83286    130260     1302  03-11-2018        12"
      ]
     },
     "execution_count": 353,
     "metadata": {},
     "output_type": "execute_result"
    }
   ],
   "source": [
    "llamadas['duration'] = np.ceil(llamadas['duration']).astype(int)\n",
    "\n",
    "llamadas.sample(5)"
   ]
  },
  {
   "cell_type": "markdown",
   "metadata": {},
   "source": [
    "<div class=\"alert alert-block alert-success\">\n",
    "<b>Comentario del revisor</b> <a class=\"tocSkip\"></a>\n",
    "\n",
    "Muy buen trabajo en redondear la duración de las llamadas.\n",
    "    \n",
    "</div>"
   ]
  },
  {
   "cell_type": "markdown",
   "metadata": {
    "id": "mOUZSi180q0_"
   },
   "source": [
    "## Mensajes"
   ]
  },
  {
   "cell_type": "code",
   "execution_count": 354,
   "metadata": {
    "id": "R-bYJpdV0q1A",
    "trusted": true
   },
   "outputs": [
    {
     "name": "stdout",
     "output_type": "stream",
     "text": [
      "<class 'pandas.core.frame.DataFrame'>\n",
      "RangeIndex: 76051 entries, 0 to 76050\n",
      "Data columns (total 3 columns):\n",
      " #   Column        Non-Null Count  Dtype \n",
      "---  ------        --------------  ----- \n",
      " 0   id            76051 non-null  object\n",
      " 1   user_id       76051 non-null  int64 \n",
      " 2   message_date  76051 non-null  object\n",
      "dtypes: int64(1), object(2)\n",
      "memory usage: 1.7+ MB\n",
      "None\n"
     ]
    }
   ],
   "source": [
    "# Imprime la información general/resumida sobre el DataFrame de los mensajes\n",
    "\n",
    "print(mensajes.info())"
   ]
  },
  {
   "cell_type": "code",
   "execution_count": 355,
   "metadata": {
    "id": "mCEl2iGE0q1A",
    "trusted": true
   },
   "outputs": [
    {
     "data": {
      "text/html": [
       "<div>\n",
       "<style scoped>\n",
       "    .dataframe tbody tr th:only-of-type {\n",
       "        vertical-align: middle;\n",
       "    }\n",
       "\n",
       "    .dataframe tbody tr th {\n",
       "        vertical-align: top;\n",
       "    }\n",
       "\n",
       "    .dataframe thead th {\n",
       "        text-align: right;\n",
       "    }\n",
       "</style>\n",
       "<table border=\"1\" class=\"dataframe\">\n",
       "  <thead>\n",
       "    <tr style=\"text-align: right;\">\n",
       "      <th></th>\n",
       "      <th>id</th>\n",
       "      <th>user_id</th>\n",
       "      <th>message_date</th>\n",
       "    </tr>\n",
       "  </thead>\n",
       "  <tbody>\n",
       "    <tr>\n",
       "      <th>44416</th>\n",
       "      <td>1295_49</td>\n",
       "      <td>1295</td>\n",
       "      <td>2018-10-29</td>\n",
       "    </tr>\n",
       "    <tr>\n",
       "      <th>9228</th>\n",
       "      <td>1067_87</td>\n",
       "      <td>1067</td>\n",
       "      <td>2018-10-22</td>\n",
       "    </tr>\n",
       "    <tr>\n",
       "      <th>40057</th>\n",
       "      <td>1259_80</td>\n",
       "      <td>1259</td>\n",
       "      <td>2018-11-24</td>\n",
       "    </tr>\n",
       "    <tr>\n",
       "      <th>71998</th>\n",
       "      <td>1467_330</td>\n",
       "      <td>1467</td>\n",
       "      <td>2018-06-03</td>\n",
       "    </tr>\n",
       "    <tr>\n",
       "      <th>22284</th>\n",
       "      <td>1133_272</td>\n",
       "      <td>1133</td>\n",
       "      <td>2018-11-14</td>\n",
       "    </tr>\n",
       "  </tbody>\n",
       "</table>\n",
       "</div>"
      ],
      "text/plain": [
       "             id  user_id message_date\n",
       "44416   1295_49     1295   2018-10-29\n",
       "9228    1067_87     1067   2018-10-22\n",
       "40057   1259_80     1259   2018-11-24\n",
       "71998  1467_330     1467   2018-06-03\n",
       "22284  1133_272     1133   2018-11-14"
      ]
     },
     "execution_count": 355,
     "metadata": {},
     "output_type": "execute_result"
    }
   ],
   "source": [
    "# Imprime una muestra de datos para los mensajes\n",
    "\n",
    "mensajes.sample(5)"
   ]
  },
  {
   "cell_type": "markdown",
   "metadata": {
    "id": "04xDj7KH0q1A"
   },
   "source": [
    "[Describe lo que ves y observas en la información general y en la muestra de datos impresa para el precio de datos anterior. ¿Hay algún problema (tipos de datos no adecuados, datos ausentes, etc.) que pudieran necesitar investigación y cambios adicionales? ¿Cómo se puede arreglar?]\n",
    "\n",
    "1-veo valioso de cambiar es el formato de la fecha ya segun detallo esta (aa-mm-dd) para lo que debemos establecer un unico formato para la fecha para que todos lo dataframes podamos tener coincidencia en la informacion cuando necesitamos buscarla por fecha.\n",
    "\n",
    "2-Se corrige en la seccion 'id' el guion bajo en medio de los numeros."
   ]
  },
  {
   "cell_type": "markdown",
   "metadata": {
    "id": "Sprfak900q1B"
   },
   "source": [
    "### Corregir los datos"
   ]
  },
  {
   "cell_type": "markdown",
   "metadata": {
    "id": "eGw7d9j10q1B"
   },
   "source": [
    "[Corrige los problemas obvios con los datos basándote en las observaciones iniciales.]"
   ]
  },
  {
   "cell_type": "code",
   "execution_count": 356,
   "metadata": {
    "id": "vsllvkoa0q1B",
    "trusted": true
   },
   "outputs": [],
   "source": [
    "mensajes['id'] = mensajes['id'].str.replace('_', '')"
   ]
  },
  {
   "cell_type": "markdown",
   "metadata": {
    "id": "HvLid7iD0q1B"
   },
   "source": [
    "### Enriquecer los datos"
   ]
  },
  {
   "cell_type": "markdown",
   "metadata": {
    "id": "8nhPFKIe0q1C"
   },
   "source": [
    "[Agrega factores adicionales a los datos si crees que pudieran ser útiles.]"
   ]
  },
  {
   "cell_type": "code",
   "execution_count": 357,
   "metadata": {
    "id": "zYEXZac10q1C",
    "trusted": true
   },
   "outputs": [
    {
     "data": {
      "text/html": [
       "<div>\n",
       "<style scoped>\n",
       "    .dataframe tbody tr th:only-of-type {\n",
       "        vertical-align: middle;\n",
       "    }\n",
       "\n",
       "    .dataframe tbody tr th {\n",
       "        vertical-align: top;\n",
       "    }\n",
       "\n",
       "    .dataframe thead th {\n",
       "        text-align: right;\n",
       "    }\n",
       "</style>\n",
       "<table border=\"1\" class=\"dataframe\">\n",
       "  <thead>\n",
       "    <tr style=\"text-align: right;\">\n",
       "      <th></th>\n",
       "      <th>id</th>\n",
       "      <th>user_id</th>\n",
       "      <th>message_date</th>\n",
       "    </tr>\n",
       "  </thead>\n",
       "  <tbody>\n",
       "    <tr>\n",
       "      <th>51752</th>\n",
       "      <td>1335343</td>\n",
       "      <td>1335</td>\n",
       "      <td>18-08-2018</td>\n",
       "    </tr>\n",
       "    <tr>\n",
       "      <th>15648</th>\n",
       "      <td>110312</td>\n",
       "      <td>1103</td>\n",
       "      <td>17-12-2018</td>\n",
       "    </tr>\n",
       "    <tr>\n",
       "      <th>63128</th>\n",
       "      <td>140151</td>\n",
       "      <td>1401</td>\n",
       "      <td>27-12-2018</td>\n",
       "    </tr>\n",
       "    <tr>\n",
       "      <th>42581</th>\n",
       "      <td>128068</td>\n",
       "      <td>1280</td>\n",
       "      <td>24-11-2018</td>\n",
       "    </tr>\n",
       "    <tr>\n",
       "      <th>19173</th>\n",
       "      <td>112460</td>\n",
       "      <td>1124</td>\n",
       "      <td>22-11-2018</td>\n",
       "    </tr>\n",
       "  </tbody>\n",
       "</table>\n",
       "</div>"
      ],
      "text/plain": [
       "            id  user_id message_date\n",
       "51752  1335343     1335   18-08-2018\n",
       "15648   110312     1103   17-12-2018\n",
       "63128   140151     1401   27-12-2018\n",
       "42581   128068     1280   24-11-2018\n",
       "19173   112460     1124   22-11-2018"
      ]
     },
     "execution_count": 357,
     "metadata": {},
     "output_type": "execute_result"
    }
   ],
   "source": [
    "mensajes['message_date'] = pd.to_datetime(mensajes['message_date']).dt.strftime('%d-%m-%Y')\n",
    "\n",
    "mensajes.sample(5)"
   ]
  },
  {
   "cell_type": "markdown",
   "metadata": {
    "id": "bStkaxn40q1C"
   },
   "source": [
    "## Internet"
   ]
  },
  {
   "cell_type": "code",
   "execution_count": 358,
   "metadata": {
    "id": "e-Uz5qyn0q1C",
    "trusted": true
   },
   "outputs": [
    {
     "name": "stdout",
     "output_type": "stream",
     "text": [
      "<class 'pandas.core.frame.DataFrame'>\n",
      "RangeIndex: 104825 entries, 0 to 104824\n",
      "Data columns (total 4 columns):\n",
      " #   Column        Non-Null Count   Dtype  \n",
      "---  ------        --------------   -----  \n",
      " 0   id            104825 non-null  object \n",
      " 1   user_id       104825 non-null  int64  \n",
      " 2   session_date  104825 non-null  object \n",
      " 3   mb_used       104825 non-null  float64\n",
      "dtypes: float64(1), int64(1), object(2)\n",
      "memory usage: 3.2+ MB\n",
      "None\n"
     ]
    }
   ],
   "source": [
    "# Imprime la información general/resumida sobre el DataFrame de internet\n",
    "print(internet.info())"
   ]
  },
  {
   "cell_type": "code",
   "execution_count": 359,
   "metadata": {
    "id": "9r3x_XLw0q1C",
    "trusted": true
   },
   "outputs": [
    {
     "data": {
      "text/html": [
       "<div>\n",
       "<style scoped>\n",
       "    .dataframe tbody tr th:only-of-type {\n",
       "        vertical-align: middle;\n",
       "    }\n",
       "\n",
       "    .dataframe tbody tr th {\n",
       "        vertical-align: top;\n",
       "    }\n",
       "\n",
       "    .dataframe thead th {\n",
       "        text-align: right;\n",
       "    }\n",
       "</style>\n",
       "<table border=\"1\" class=\"dataframe\">\n",
       "  <thead>\n",
       "    <tr style=\"text-align: right;\">\n",
       "      <th></th>\n",
       "      <th>id</th>\n",
       "      <th>user_id</th>\n",
       "      <th>session_date</th>\n",
       "      <th>mb_used</th>\n",
       "    </tr>\n",
       "  </thead>\n",
       "  <tbody>\n",
       "    <tr>\n",
       "      <th>60845</th>\n",
       "      <td>1277_148</td>\n",
       "      <td>1277</td>\n",
       "      <td>2018-12-20</td>\n",
       "      <td>604.29</td>\n",
       "    </tr>\n",
       "    <tr>\n",
       "      <th>7252</th>\n",
       "      <td>1041_92</td>\n",
       "      <td>1041</td>\n",
       "      <td>2018-10-11</td>\n",
       "      <td>590.23</td>\n",
       "    </tr>\n",
       "    <tr>\n",
       "      <th>95735</th>\n",
       "      <td>1446_279</td>\n",
       "      <td>1446</td>\n",
       "      <td>2018-09-17</td>\n",
       "      <td>498.03</td>\n",
       "    </tr>\n",
       "    <tr>\n",
       "      <th>76956</th>\n",
       "      <td>1360_30</td>\n",
       "      <td>1360</td>\n",
       "      <td>2018-12-29</td>\n",
       "      <td>624.56</td>\n",
       "    </tr>\n",
       "    <tr>\n",
       "      <th>12179</th>\n",
       "      <td>1059_288</td>\n",
       "      <td>1059</td>\n",
       "      <td>2018-12-03</td>\n",
       "      <td>517.07</td>\n",
       "    </tr>\n",
       "  </tbody>\n",
       "</table>\n",
       "</div>"
      ],
      "text/plain": [
       "             id  user_id session_date  mb_used\n",
       "60845  1277_148     1277   2018-12-20   604.29\n",
       "7252    1041_92     1041   2018-10-11   590.23\n",
       "95735  1446_279     1446   2018-09-17   498.03\n",
       "76956   1360_30     1360   2018-12-29   624.56\n",
       "12179  1059_288     1059   2018-12-03   517.07"
      ]
     },
     "execution_count": 359,
     "metadata": {},
     "output_type": "execute_result"
    }
   ],
   "source": [
    "#Imprime una muestra de datos para el tráfico de internet\n",
    "internet.sample(5)"
   ]
  },
  {
   "cell_type": "markdown",
   "metadata": {
    "id": "EzOG5ik30q1D"
   },
   "source": [
    "[Describe lo que ves y observas en la información general y en la muestra de datos impresa para el precio de datos anterior. ¿Hay algún problema (tipos de datos no adecuados, datos ausentes, etc.) que pudieran necesitar investigación y cambios adicionales? ¿Cómo se puede arreglar?]\n",
    "\n",
    "\n",
    "1-De acuerdo a la descripcion de las tarifas para el trafico web \"mb_used\" si un cliente se pasa por tan solo un megabyte se redondea hacia arriba por ende tambien lo convertiremos a numeros enteros.\n",
    "\n",
    "2-Otro punto que veo valioso de cambiar es el formato de la fecha ya segun detallo esta (aa-mm-dd) para lo que debemos establecer un unico formato (dd, mm, aa) para la fecha para que todos lo dataframes podamos tener coincidencia en la informacion cuando necesitamos buscarla por fecha.\n",
    "\n",
    "3-Para la seccion de id como es un valor unico por llamada podemos quitarle el guion bajo (\"_\") para que sea mas legible "
   ]
  },
  {
   "cell_type": "markdown",
   "metadata": {
    "id": "yA0tkPFg0q1D"
   },
   "source": [
    "### Corregir los datos"
   ]
  },
  {
   "cell_type": "markdown",
   "metadata": {
    "id": "zlZMuIEK0q1D"
   },
   "source": [
    "[Corrige los problemas obvios con los datos basándote en las observaciones iniciales.]"
   ]
  },
  {
   "cell_type": "code",
   "execution_count": 360,
   "metadata": {
    "id": "zVeanzdd0q1E",
    "trusted": true
   },
   "outputs": [],
   "source": [
    "internet['id'] = internet['id'].str.replace('_', '')\n",
    "\n",
    "internet['session_date'] = pd.to_datetime(internet['session_date']).dt.strftime('%d-%m-%Y')"
   ]
  },
  {
   "cell_type": "markdown",
   "metadata": {
    "id": "e8_mLF4a0q1E"
   },
   "source": [
    "### Enriquecer los datos"
   ]
  },
  {
   "cell_type": "markdown",
   "metadata": {
    "id": "xhNdn2tE0q1E"
   },
   "source": [
    "[Agrega factores adicionales a los datos si crees que pudieran ser útiles.]"
   ]
  },
  {
   "cell_type": "code",
   "execution_count": 361,
   "metadata": {
    "id": "ESiYPIEK0q1E",
    "trusted": true
   },
   "outputs": [
    {
     "name": "stdout",
     "output_type": "stream",
     "text": [
      "\n",
      "        user_id session_date  mb_used  gb_used\n",
      "0          1000   29-12-2018       90        0\n",
      "1          1000   31-12-2018        0        0\n",
      "2          1000   28-12-2018      661        1\n",
      "3          1000   26-12-2018      271        0\n",
      "4          1000   27-12-2018      881        1\n",
      "...         ...          ...      ...      ...\n",
      "104820     1499   20-10-2018      219        0\n",
      "104821     1499   30-12-2018      305        0\n",
      "104822     1499   22-09-2018      293        0\n",
      "104823     1499   07-12-2018        0        0\n",
      "104824     1499   24-12-2018      759        1\n",
      "\n",
      "[104825 rows x 4 columns]\n"
     ]
    }
   ],
   "source": [
    "internet['mb_used'] = np.ceil(internet['mb_used']).astype(int)\n",
    "internet.sample(5)\n",
    "\n",
    "print()\n",
    "\n",
    "internet['gb_used'] = (internet['mb_used'] / 1024).round(0).astype(int)\n",
    "\n",
    "# Imprimir el DataFrame actualizado para verificar los cambios\n",
    "print(internet[['user_id', 'session_date', 'mb_used', 'gb_used']])"
   ]
  },
  {
   "cell_type": "markdown",
   "metadata": {},
   "source": [
    "<div class=\"alert alert-block alert-warning\">\n",
    "<b>Comentario del revisor</b> <a class=\"tocSkip\"></a>\n",
    "\n",
    "Muy buen trabajo en redondear la variable. Solamente recuerda que debemos de hacerlo una vez que hagamos la transformación de mb a gb\n",
    "    \n",
    "</div>"
   ]
  },
  {
   "cell_type": "markdown",
   "metadata": {
    "id": "3UA2cqIW0q1E"
   },
   "source": [
    "## Estudiar las condiciones de las tarifas"
   ]
  },
  {
   "cell_type": "markdown",
   "metadata": {
    "id": "T86Sqltq0q1F"
   },
   "source": [
    "[Es sumamente importante entender cómo funcionan las tarifas, cómo se les cobra a los usuarios en función de su plan de suscripción. Así que te sugerimos imprimir la información de la tarifa para ver una vez más sus condiciones.]"
   ]
  },
  {
   "cell_type": "code",
   "execution_count": 362,
   "metadata": {
    "id": "i409op8p0q1F",
    "trusted": true
   },
   "outputs": [
    {
     "name": "stdout",
     "output_type": "stream",
     "text": [
      "Tarifa: surf\n",
      "Pago mensual: $20\n",
      "Minutos incluidos al mes: 500 minutos\n",
      "SMS incluidos al mes: 50 SMS\n",
      "Datos incluidos al mes: 15.0 GB\n",
      "Costo adicional por minuto: $3 centavos\n",
      "Costo adicional por SMS: $3 centavos\n",
      "Costo adicional por GB: $10 dólares\n",
      "----------------------------------------\n",
      "Tarifa: ultimate\n",
      "Pago mensual: $70\n",
      "Minutos incluidos al mes: 3000 minutos\n",
      "SMS incluidos al mes: 1000 SMS\n",
      "Datos incluidos al mes: 30.0 GB\n",
      "Costo adicional por minuto: $1 centavos\n",
      "Costo adicional por SMS: $1 centavos\n",
      "Costo adicional por GB: $7 dólares\n",
      "----------------------------------------\n",
      "Nota: Megaline redondea los segundos a minutos y los megabytes a gigabytes.\n",
      "Cada llamada individual se redondea: incluso si la llamada duró solo un segundo, se contara como un minuto.\n",
      "Para el tráfico web, las sesiones web individuales no se redondean. En vez de esto, el total del mes se redondea hacia arriba. Si alguien usa 1025 megabytes este mes, se le cobrarán 2 gigabytes.\n"
     ]
    }
   ],
   "source": [
    "# Imprime las condiciones de la tarifa y asegúrate de que te quedan claras\n",
    "for i, row in tarifas.iterrows():\n",
    "    print(f\"Tarifa: {row['plan_name']}\")\n",
    "    print(f\"Pago mensual: ${row['usd_monthly_pay']}\")\n",
    "    print(f\"Minutos incluidos al mes: {row['minutes_included']} minutos\")\n",
    "    print(f\"SMS incluidos al mes: {row['messages_included']} SMS\")\n",
    "    print(f\"Datos incluidos al mes: {row['mb_per_month_included'] / 1024} GB\")\n",
    "    print(f\"Costo adicional por minuto: ${row['usd_per_minute']} centavos\")\n",
    "    print(f\"Costo adicional por SMS: ${row['usd_per_message']} centavos\")\n",
    "    print(f\"Costo adicional por GB: ${row['usd_per_gb']} dólares\")\n",
    "    print(\"-\" * 40)\n",
    "\n",
    "\n",
    "print(\"Nota: Megaline redondea los segundos a minutos y los megabytes a gigabytes.\")\n",
    "print(\"Cada llamada individual se redondea: incluso si la llamada duró solo un segundo, se contara como un minuto.\")\n",
    "print(\"Para el tráfico web, las sesiones web individuales no se redondean. En vez de esto, el total del mes se redondea hacia arriba. Si alguien usa 1025 megabytes este mes, se le cobrarán 2 gigabytes.\")\n"
   ]
  },
  {
   "cell_type": "markdown",
   "metadata": {
    "id": "hMR1tP5d0q1F"
   },
   "source": [
    "## Agregar datos por usuario\n",
    "\n",
    "[Ahora que los datos están limpios, agrega los datos por usuario y por periodo para que solo haya un registro por usuario y por periodo. Esto facilitará mucho el análisis posterior.]"
   ]
  },
  {
   "cell_type": "code",
   "execution_count": 379,
   "metadata": {
    "id": "A332cedB0q1G",
    "trusted": true
   },
   "outputs": [
    {
     "name": "stdout",
     "output_type": "stream",
     "text": [
      "      user_id       month  total_duration  call_count\n",
      "4571     1456  28-02-2018              62           7\n",
      "3822     1385  31-12-2018             480          65\n",
      "789      1081  30-04-2018              74          12\n",
      "1160     1120  31-12-2018             445          54\n",
      "4784     1477  30-06-2018              20           3\n"
     ]
    }
   ],
   "source": [
    "# Calcula el número de llamadas hechas por cada usuario al mes. Guarda el resultado.\n",
    "llamadas['call_date'] = pd.to_datetime(llamadas['call_date'])\n",
    "llamadas['month'] = llamadas['call_date'].dt.to_period('M').dt.strftime('%d-%m-%Y')\n",
    "\n",
    "pivot_llamadas = llamadas.pivot_table(index=['user_id', 'month'],\n",
    "                            values=['duration'],\n",
    "                            aggfunc=['sum', 'count']).reset_index()\n",
    "\n",
    "pivot_llamadas.columns = ['user_id', 'month', 'total_duration', 'call_count']\n",
    "\n",
    "\n",
    "print(pivot_llamadas.sample(5))"
   ]
  },
  {
   "cell_type": "code",
   "execution_count": 364,
   "metadata": {
    "id": "aw2cmuql0q1G",
    "trusted": true
   },
   "outputs": [
    {
     "data": {
      "text/html": [
       "<div>\n",
       "<style scoped>\n",
       "    .dataframe tbody tr th:only-of-type {\n",
       "        vertical-align: middle;\n",
       "    }\n",
       "\n",
       "    .dataframe tbody tr th {\n",
       "        vertical-align: top;\n",
       "    }\n",
       "\n",
       "    .dataframe thead th {\n",
       "        text-align: right;\n",
       "    }\n",
       "</style>\n",
       "<table border=\"1\" class=\"dataframe\">\n",
       "  <thead>\n",
       "    <tr style=\"text-align: right;\">\n",
       "      <th></th>\n",
       "      <th>id</th>\n",
       "      <th>user_id</th>\n",
       "      <th>call_date</th>\n",
       "      <th>duration</th>\n",
       "      <th>month</th>\n",
       "      <th>total_minutos</th>\n",
       "    </tr>\n",
       "  </thead>\n",
       "  <tbody>\n",
       "    <tr>\n",
       "      <th>133283</th>\n",
       "      <td>148366</td>\n",
       "      <td>1483</td>\n",
       "      <td>2018-10-22</td>\n",
       "      <td>6</td>\n",
       "      <td>31-10-2018</td>\n",
       "      <td>345</td>\n",
       "    </tr>\n",
       "    <tr>\n",
       "      <th>75328</th>\n",
       "      <td>126750</td>\n",
       "      <td>1267</td>\n",
       "      <td>2018-12-19</td>\n",
       "      <td>0</td>\n",
       "      <td>31-12-2018</td>\n",
       "      <td>986</td>\n",
       "    </tr>\n",
       "    <tr>\n",
       "      <th>73103</th>\n",
       "      <td>1259123</td>\n",
       "      <td>1259</td>\n",
       "      <td>2018-10-30</td>\n",
       "      <td>10</td>\n",
       "      <td>31-10-2018</td>\n",
       "      <td>112</td>\n",
       "    </tr>\n",
       "    <tr>\n",
       "      <th>114913</th>\n",
       "      <td>1402159</td>\n",
       "      <td>1402</td>\n",
       "      <td>2018-10-23</td>\n",
       "      <td>7</td>\n",
       "      <td>31-10-2018</td>\n",
       "      <td>213</td>\n",
       "    </tr>\n",
       "    <tr>\n",
       "      <th>93802</th>\n",
       "      <td>133530</td>\n",
       "      <td>1335</td>\n",
       "      <td>2018-06-17</td>\n",
       "      <td>16</td>\n",
       "      <td>30-06-2018</td>\n",
       "      <td>305</td>\n",
       "    </tr>\n",
       "  </tbody>\n",
       "</table>\n",
       "</div>"
      ],
      "text/plain": [
       "             id  user_id  call_date  duration       month  total_minutos\n",
       "133283   148366     1483 2018-10-22         6  31-10-2018            345\n",
       "75328    126750     1267 2018-12-19         0  31-12-2018            986\n",
       "73103   1259123     1259 2018-10-30        10  31-10-2018            112\n",
       "114913  1402159     1402 2018-10-23         7  31-10-2018            213\n",
       "93802    133530     1335 2018-06-17        16  30-06-2018            305"
      ]
     },
     "execution_count": 364,
     "metadata": {},
     "output_type": "execute_result"
    }
   ],
   "source": [
    "# Calcula la cantidad de minutos usados por cada usuario al mes. Guarda el resultado.\n",
    "minutos_por_mes = llamadas.groupby(['user_id', 'month'])['duration'].sum().reset_index(name='total_minutos')\n",
    "llamadas = llamadas.merge(minutos_por_mes, on=['user_id', 'month'], how='left')\n",
    "\n",
    "llamadas.sample(5)"
   ]
  },
  {
   "cell_type": "code",
   "execution_count": 365,
   "metadata": {
    "id": "CcQvNHn60q1G",
    "trusted": true
   },
   "outputs": [
    {
     "data": {
      "text/html": [
       "<div>\n",
       "<style scoped>\n",
       "    .dataframe tbody tr th:only-of-type {\n",
       "        vertical-align: middle;\n",
       "    }\n",
       "\n",
       "    .dataframe tbody tr th {\n",
       "        vertical-align: top;\n",
       "    }\n",
       "\n",
       "    .dataframe thead th {\n",
       "        text-align: right;\n",
       "    }\n",
       "</style>\n",
       "<table border=\"1\" class=\"dataframe\">\n",
       "  <thead>\n",
       "    <tr style=\"text-align: right;\">\n",
       "      <th></th>\n",
       "      <th>id</th>\n",
       "      <th>user_id</th>\n",
       "      <th>message_date</th>\n",
       "      <th>month</th>\n",
       "      <th>num_mensajes</th>\n",
       "    </tr>\n",
       "  </thead>\n",
       "  <tbody>\n",
       "    <tr>\n",
       "      <th>3224</th>\n",
       "      <td>103659</td>\n",
       "      <td>1036</td>\n",
       "      <td>2018-06-25</td>\n",
       "      <td>30-06-2018</td>\n",
       "      <td>38</td>\n",
       "    </tr>\n",
       "    <tr>\n",
       "      <th>24454</th>\n",
       "      <td>1145309</td>\n",
       "      <td>1145</td>\n",
       "      <td>2018-07-08</td>\n",
       "      <td>31-07-2018</td>\n",
       "      <td>61</td>\n",
       "    </tr>\n",
       "    <tr>\n",
       "      <th>41560</th>\n",
       "      <td>126771</td>\n",
       "      <td>1267</td>\n",
       "      <td>2018-11-29</td>\n",
       "      <td>30-11-2018</td>\n",
       "      <td>18</td>\n",
       "    </tr>\n",
       "    <tr>\n",
       "      <th>5021</th>\n",
       "      <td>104683</td>\n",
       "      <td>1046</td>\n",
       "      <td>2018-06-30</td>\n",
       "      <td>30-06-2018</td>\n",
       "      <td>26</td>\n",
       "    </tr>\n",
       "    <tr>\n",
       "      <th>56065</th>\n",
       "      <td>135531</td>\n",
       "      <td>1355</td>\n",
       "      <td>2018-11-10</td>\n",
       "      <td>30-11-2018</td>\n",
       "      <td>62</td>\n",
       "    </tr>\n",
       "  </tbody>\n",
       "</table>\n",
       "</div>"
      ],
      "text/plain": [
       "            id  user_id message_date       month  num_mensajes\n",
       "3224    103659     1036   2018-06-25  30-06-2018            38\n",
       "24454  1145309     1145   2018-07-08  31-07-2018            61\n",
       "41560   126771     1267   2018-11-29  30-11-2018            18\n",
       "5021    104683     1046   2018-06-30  30-06-2018            26\n",
       "56065   135531     1355   2018-11-10  30-11-2018            62"
      ]
     },
     "execution_count": 365,
     "metadata": {},
     "output_type": "execute_result"
    }
   ],
   "source": [
    "# Calcula el número de mensajes enviados por cada usuario al mes. Guarda el resultado.\n",
    "mensajes['message_date'] = pd.to_datetime(mensajes['message_date'])\n",
    "mensajes['month'] = mensajes['message_date'].dt.to_period('M').dt.strftime('%d-%m-%Y')\n",
    "mensajes_por_mes = mensajes.groupby(['user_id', 'month']).size().reset_index(name='num_mensajes')\n",
    "mensajes = mensajes.drop(columns=['num_mensajes'], errors='ignore')\n",
    "mensajes = mensajes.merge(mensajes_por_mes, on=['user_id', 'month'], how='left')\n",
    "\n",
    "mensajes.sample(5)"
   ]
  },
  {
   "cell_type": "code",
   "execution_count": 366,
   "metadata": {
    "id": "H1AqN2eG0q1H",
    "trusted": true
   },
   "outputs": [
    {
     "data": {
      "text/html": [
       "<div>\n",
       "<style scoped>\n",
       "    .dataframe tbody tr th:only-of-type {\n",
       "        vertical-align: middle;\n",
       "    }\n",
       "\n",
       "    .dataframe tbody tr th {\n",
       "        vertical-align: top;\n",
       "    }\n",
       "\n",
       "    .dataframe thead th {\n",
       "        text-align: right;\n",
       "    }\n",
       "</style>\n",
       "<table border=\"1\" class=\"dataframe\">\n",
       "  <thead>\n",
       "    <tr style=\"text-align: right;\">\n",
       "      <th></th>\n",
       "      <th>id</th>\n",
       "      <th>user_id</th>\n",
       "      <th>session_date</th>\n",
       "      <th>mb_used</th>\n",
       "      <th>gb_used</th>\n",
       "      <th>month</th>\n",
       "      <th>total_gb_usado</th>\n",
       "    </tr>\n",
       "  </thead>\n",
       "  <tbody>\n",
       "    <tr>\n",
       "      <th>70702</th>\n",
       "      <td>133087</td>\n",
       "      <td>1330</td>\n",
       "      <td>2018-11-16</td>\n",
       "      <td>0</td>\n",
       "      <td>0</td>\n",
       "      <td>30-11-2018</td>\n",
       "      <td>5</td>\n",
       "    </tr>\n",
       "    <tr>\n",
       "      <th>16879</th>\n",
       "      <td>1076495</td>\n",
       "      <td>1076</td>\n",
       "      <td>2018-03-12</td>\n",
       "      <td>523</td>\n",
       "      <td>1</td>\n",
       "      <td>31-03-2018</td>\n",
       "      <td>4</td>\n",
       "    </tr>\n",
       "    <tr>\n",
       "      <th>41130</th>\n",
       "      <td>1185167</td>\n",
       "      <td>1185</td>\n",
       "      <td>2018-04-25</td>\n",
       "      <td>73</td>\n",
       "      <td>0</td>\n",
       "      <td>30-04-2018</td>\n",
       "      <td>22</td>\n",
       "    </tr>\n",
       "    <tr>\n",
       "      <th>15374</th>\n",
       "      <td>1069357</td>\n",
       "      <td>1069</td>\n",
       "      <td>2018-11-14</td>\n",
       "      <td>830</td>\n",
       "      <td>1</td>\n",
       "      <td>30-11-2018</td>\n",
       "      <td>7</td>\n",
       "    </tr>\n",
       "    <tr>\n",
       "      <th>22833</th>\n",
       "      <td>11066</td>\n",
       "      <td>1106</td>\n",
       "      <td>2018-12-23</td>\n",
       "      <td>419</td>\n",
       "      <td>0</td>\n",
       "      <td>31-12-2018</td>\n",
       "      <td>18</td>\n",
       "    </tr>\n",
       "  </tbody>\n",
       "</table>\n",
       "</div>"
      ],
      "text/plain": [
       "            id  user_id session_date  mb_used  gb_used       month  \\\n",
       "70702   133087     1330   2018-11-16        0        0  30-11-2018   \n",
       "16879  1076495     1076   2018-03-12      523        1  31-03-2018   \n",
       "41130  1185167     1185   2018-04-25       73        0  30-04-2018   \n",
       "15374  1069357     1069   2018-11-14      830        1  30-11-2018   \n",
       "22833    11066     1106   2018-12-23      419        0  31-12-2018   \n",
       "\n",
       "       total_gb_usado  \n",
       "70702               5  \n",
       "16879               4  \n",
       "41130              22  \n",
       "15374               7  \n",
       "22833              18  "
      ]
     },
     "execution_count": 366,
     "metadata": {},
     "output_type": "execute_result"
    }
   ],
   "source": [
    "# Calcula el volumen del tráfico de Internet usado por cada usuario al mes. Guarda el resultado.\n",
    "internet['session_date'] = pd.to_datetime(internet['session_date'])\n",
    "internet['month'] = internet['session_date'].dt.to_period('M').dt.strftime('%d-%m-%Y')\n",
    "datos_por_mes = internet.groupby(['user_id', 'month'])['gb_used'].sum().reset_index(name='total_gb_usado')\n",
    "internet = internet.drop(columns=['num_mb_used'], errors='ignore')\n",
    "internet = internet.merge(datos_por_mes, on=['user_id', 'month'], how='left')\n",
    "\n",
    "internet.sample(5)"
   ]
  },
  {
   "cell_type": "markdown",
   "metadata": {
    "id": "VDfYXnj80q1H"
   },
   "source": [
    "[Junta los datos agregados en un DataFrame para que haya un registro que represente lo que consumió un usuario único en un mes determinado.]"
   ]
  },
  {
   "cell_type": "code",
   "execution_count": 367,
   "metadata": {
    "id": "FW99ykyf0q1H",
    "trusted": true
   },
   "outputs": [
    {
     "data": {
      "text/html": [
       "<div>\n",
       "<style scoped>\n",
       "    .dataframe tbody tr th:only-of-type {\n",
       "        vertical-align: middle;\n",
       "    }\n",
       "\n",
       "    .dataframe tbody tr th {\n",
       "        vertical-align: top;\n",
       "    }\n",
       "\n",
       "    .dataframe thead th {\n",
       "        text-align: right;\n",
       "    }\n",
       "</style>\n",
       "<table border=\"1\" class=\"dataframe\">\n",
       "  <thead>\n",
       "    <tr style=\"text-align: right;\">\n",
       "      <th></th>\n",
       "      <th>user_id</th>\n",
       "      <th>month</th>\n",
       "      <th>total_minutos</th>\n",
       "      <th>num_mensajes</th>\n",
       "      <th>total_gb_usado</th>\n",
       "    </tr>\n",
       "  </thead>\n",
       "  <tbody>\n",
       "    <tr>\n",
       "      <th>1343</th>\n",
       "      <td>1142</td>\n",
       "      <td>30-09-2018</td>\n",
       "      <td>372.0</td>\n",
       "      <td>22.0</td>\n",
       "      <td>8.0</td>\n",
       "    </tr>\n",
       "    <tr>\n",
       "      <th>5127</th>\n",
       "      <td>1315</td>\n",
       "      <td>30-04-2018</td>\n",
       "      <td>NaN</td>\n",
       "      <td>1.0</td>\n",
       "      <td>NaN</td>\n",
       "    </tr>\n",
       "    <tr>\n",
       "      <th>161</th>\n",
       "      <td>1018</td>\n",
       "      <td>31-05-2018</td>\n",
       "      <td>86.0</td>\n",
       "      <td>1.0</td>\n",
       "      <td>0.0</td>\n",
       "    </tr>\n",
       "    <tr>\n",
       "      <th>2821</th>\n",
       "      <td>1288</td>\n",
       "      <td>31-01-2018</td>\n",
       "      <td>15.0</td>\n",
       "      <td>NaN</td>\n",
       "      <td>0.0</td>\n",
       "    </tr>\n",
       "    <tr>\n",
       "      <th>4747</th>\n",
       "      <td>1474</td>\n",
       "      <td>30-04-2018</td>\n",
       "      <td>39.0</td>\n",
       "      <td>5.0</td>\n",
       "      <td>1.0</td>\n",
       "    </tr>\n",
       "  </tbody>\n",
       "</table>\n",
       "</div>"
      ],
      "text/plain": [
       "      user_id       month  total_minutos  num_mensajes  total_gb_usado\n",
       "1343     1142  30-09-2018          372.0          22.0             8.0\n",
       "5127     1315  30-04-2018            NaN           1.0             NaN\n",
       "161      1018  31-05-2018           86.0           1.0             0.0\n",
       "2821     1288  31-01-2018           15.0           NaN             0.0\n",
       "4747     1474  30-04-2018           39.0           5.0             1.0"
      ]
     },
     "execution_count": 367,
     "metadata": {},
     "output_type": "execute_result"
    }
   ],
   "source": [
    "# Fusiona los datos de llamadas, minutos, mensajes e Internet con base en user_id y month\n",
    "\n",
    "llamadas['call_date'] = pd.to_datetime(llamadas['call_date'])\n",
    "mensajes['message_date'] = pd.to_datetime(mensajes['message_date'])\n",
    "internet['session_date'] = pd.to_datetime(internet['session_date'])\n",
    "\n",
    "llamadas['month'] = llamadas['call_date'].dt.to_period('M').dt.strftime('%d-%m-%Y')\n",
    "mensajes['month'] = mensajes['message_date'].dt.to_period('M').dt.strftime('%d-%m-%Y')\n",
    "internet['month'] = internet['session_date'].dt.to_period('M').dt.strftime('%d-%m-%Y')\n",
    "\n",
    "llamadas_por_mes = llamadas.groupby(['user_id', 'month'])['duration'].sum().reset_index(name='total_minutos')\n",
    "mensajes_por_mes = mensajes.groupby(['user_id', 'month']).size().reset_index(name='num_mensajes')\n",
    "datos_por_mes = internet.groupby(['user_id', 'month'])['gb_used'].sum().reset_index(name='total_gb_usado')\n",
    "\n",
    "datos_agregados = pd.merge(llamadas_por_mes, mensajes_por_mes, on=['user_id', 'month'], how='outer')\n",
    "datos_agregados = pd.merge(datos_agregados, datos_por_mes, on=['user_id', 'month'], how='outer')\n",
    "\n",
    "\n",
    "datos_agregados.sample(5)\n"
   ]
  },
  {
   "cell_type": "code",
   "execution_count": 368,
   "metadata": {
    "id": "0dNOXHag0q1H",
    "trusted": true
   },
   "outputs": [],
   "source": [
    "# Añade la información de la tarifa\n",
    "limites = {\n",
    "    'Surf': {'minutos': 500, 'mensajes': 50, 'datos': 15},\n",
    "    'Ultimate': {'minutos': 3000, 'mensajes': 1000, 'datos': 30}\n",
    "}"
   ]
  },
  {
   "cell_type": "markdown",
   "metadata": {
    "id": "1IwGo4wg0q1I"
   },
   "source": [
    "[Calcula los ingresos mensuales por usuario (resta el límite del paquete gratuito del número total de llamadas, mensajes de texto y datos; multiplica el resultado por el valor del plan de llamadas; añade la tarifa mensual en función del plan de llamadas). Nota: Dadas las condiciones del plan, ¡esto podría no ser tan trivial como un par de líneas! Así que no pasa nada si dedicas algo de tiempo a ello.]"
   ]
  },
  {
   "cell_type": "code",
   "execution_count": 369,
   "metadata": {
    "id": "5FGCf_c60q1I",
    "trusted": true
   },
   "outputs": [
    {
     "data": {
      "text/html": [
       "<div>\n",
       "<style scoped>\n",
       "    .dataframe tbody tr th:only-of-type {\n",
       "        vertical-align: middle;\n",
       "    }\n",
       "\n",
       "    .dataframe tbody tr th {\n",
       "        vertical-align: top;\n",
       "    }\n",
       "\n",
       "    .dataframe thead th {\n",
       "        text-align: right;\n",
       "    }\n",
       "</style>\n",
       "<table border=\"1\" class=\"dataframe\">\n",
       "  <thead>\n",
       "    <tr style=\"text-align: right;\">\n",
       "      <th></th>\n",
       "      <th>user_id</th>\n",
       "      <th>month</th>\n",
       "      <th>total_minutos</th>\n",
       "      <th>num_mensajes</th>\n",
       "      <th>total_gb_usado</th>\n",
       "      <th>plan</th>\n",
       "      <th>city</th>\n",
       "      <th>messages_included</th>\n",
       "      <th>mb_per_month_included</th>\n",
       "      <th>minutes_included</th>\n",
       "      <th>usd_monthly_pay</th>\n",
       "      <th>usd_per_gb</th>\n",
       "      <th>usd_per_message</th>\n",
       "      <th>usd_per_minute</th>\n",
       "      <th>plan_name</th>\n",
       "      <th>gb_per_month_included</th>\n",
       "      <th>cargos_adicionales</th>\n",
       "      <th>ingreso_mensual</th>\n",
       "    </tr>\n",
       "  </thead>\n",
       "  <tbody>\n",
       "    <tr>\n",
       "      <th>2330</th>\n",
       "      <td>1240</td>\n",
       "      <td>30-09-2018</td>\n",
       "      <td>817.0</td>\n",
       "      <td>7.0</td>\n",
       "      <td>25.0</td>\n",
       "      <td>surf</td>\n",
       "      <td>Baton Rouge, LA MSA</td>\n",
       "      <td>50</td>\n",
       "      <td>15360</td>\n",
       "      <td>500</td>\n",
       "      <td>20</td>\n",
       "      <td>10</td>\n",
       "      <td>3</td>\n",
       "      <td>3</td>\n",
       "      <td>surf</td>\n",
       "      <td>15</td>\n",
       "      <td>1051.0</td>\n",
       "      <td>1071.0</td>\n",
       "    </tr>\n",
       "    <tr>\n",
       "      <th>4335</th>\n",
       "      <td>1433</td>\n",
       "      <td>31-12-2018</td>\n",
       "      <td>580.0</td>\n",
       "      <td>91.0</td>\n",
       "      <td>16.0</td>\n",
       "      <td>ultimate</td>\n",
       "      <td>Philadelphia-Camden-Wilmington, PA-NJ-DE-MD MSA</td>\n",
       "      <td>1000</td>\n",
       "      <td>30720</td>\n",
       "      <td>3000</td>\n",
       "      <td>70</td>\n",
       "      <td>7</td>\n",
       "      <td>1</td>\n",
       "      <td>1</td>\n",
       "      <td>ultimate</td>\n",
       "      <td>30</td>\n",
       "      <td>0.0</td>\n",
       "      <td>70.0</td>\n",
       "    </tr>\n",
       "    <tr>\n",
       "      <th>1484</th>\n",
       "      <td>1155</td>\n",
       "      <td>28-02-2018</td>\n",
       "      <td>185.0</td>\n",
       "      <td>19.0</td>\n",
       "      <td>11.0</td>\n",
       "      <td>ultimate</td>\n",
       "      <td>Miami-Fort Lauderdale-West Palm Beach, FL MSA</td>\n",
       "      <td>1000</td>\n",
       "      <td>30720</td>\n",
       "      <td>3000</td>\n",
       "      <td>70</td>\n",
       "      <td>7</td>\n",
       "      <td>1</td>\n",
       "      <td>1</td>\n",
       "      <td>ultimate</td>\n",
       "      <td>30</td>\n",
       "      <td>0.0</td>\n",
       "      <td>70.0</td>\n",
       "    </tr>\n",
       "    <tr>\n",
       "      <th>3429</th>\n",
       "      <td>1348</td>\n",
       "      <td>31-05-2018</td>\n",
       "      <td>76.0</td>\n",
       "      <td>7.0</td>\n",
       "      <td>1.0</td>\n",
       "      <td>surf</td>\n",
       "      <td>Detroit-Warren-Dearborn, MI MSA</td>\n",
       "      <td>50</td>\n",
       "      <td>15360</td>\n",
       "      <td>500</td>\n",
       "      <td>20</td>\n",
       "      <td>10</td>\n",
       "      <td>3</td>\n",
       "      <td>3</td>\n",
       "      <td>surf</td>\n",
       "      <td>15</td>\n",
       "      <td>0.0</td>\n",
       "      <td>20.0</td>\n",
       "    </tr>\n",
       "    <tr>\n",
       "      <th>242</th>\n",
       "      <td>1028</td>\n",
       "      <td>31-07-2018</td>\n",
       "      <td>41.0</td>\n",
       "      <td>77.0</td>\n",
       "      <td>39.0</td>\n",
       "      <td>ultimate</td>\n",
       "      <td>Philadelphia-Camden-Wilmington, PA-NJ-DE-MD MSA</td>\n",
       "      <td>1000</td>\n",
       "      <td>30720</td>\n",
       "      <td>3000</td>\n",
       "      <td>70</td>\n",
       "      <td>7</td>\n",
       "      <td>1</td>\n",
       "      <td>1</td>\n",
       "      <td>ultimate</td>\n",
       "      <td>30</td>\n",
       "      <td>63.0</td>\n",
       "      <td>133.0</td>\n",
       "    </tr>\n",
       "  </tbody>\n",
       "</table>\n",
       "</div>"
      ],
      "text/plain": [
       "      user_id       month  total_minutos  num_mensajes  total_gb_usado  \\\n",
       "2330     1240  30-09-2018          817.0           7.0            25.0   \n",
       "4335     1433  31-12-2018          580.0          91.0            16.0   \n",
       "1484     1155  28-02-2018          185.0          19.0            11.0   \n",
       "3429     1348  31-05-2018           76.0           7.0             1.0   \n",
       "242      1028  31-07-2018           41.0          77.0            39.0   \n",
       "\n",
       "          plan                                             city  \\\n",
       "2330      surf                              Baton Rouge, LA MSA   \n",
       "4335  ultimate  Philadelphia-Camden-Wilmington, PA-NJ-DE-MD MSA   \n",
       "1484  ultimate    Miami-Fort Lauderdale-West Palm Beach, FL MSA   \n",
       "3429      surf                  Detroit-Warren-Dearborn, MI MSA   \n",
       "242   ultimate  Philadelphia-Camden-Wilmington, PA-NJ-DE-MD MSA   \n",
       "\n",
       "      messages_included  mb_per_month_included  minutes_included  \\\n",
       "2330                 50                  15360               500   \n",
       "4335               1000                  30720              3000   \n",
       "1484               1000                  30720              3000   \n",
       "3429                 50                  15360               500   \n",
       "242                1000                  30720              3000   \n",
       "\n",
       "      usd_monthly_pay  usd_per_gb  usd_per_message  usd_per_minute plan_name  \\\n",
       "2330               20          10                3               3      surf   \n",
       "4335               70           7                1               1  ultimate   \n",
       "1484               70           7                1               1  ultimate   \n",
       "3429               20          10                3               3      surf   \n",
       "242                70           7                1               1  ultimate   \n",
       "\n",
       "      gb_per_month_included  cargos_adicionales  ingreso_mensual  \n",
       "2330                     15              1051.0           1071.0  \n",
       "4335                     30                 0.0             70.0  \n",
       "1484                     30                 0.0             70.0  \n",
       "3429                     15                 0.0             20.0  \n",
       "242                      30                63.0            133.0  "
      ]
     },
     "execution_count": 369,
     "metadata": {},
     "output_type": "execute_result"
    }
   ],
   "source": [
    "# Calcula el ingreso mensual para cada usuario\n",
    "\n",
    "llamadas['call_date'] = pd.to_datetime(llamadas['call_date'])\n",
    "mensajes['message_date'] = pd.to_datetime(mensajes['message_date'])\n",
    "internet['session_date'] = pd.to_datetime(internet['session_date'])\n",
    "\n",
    "\n",
    "llamadas['month'] = llamadas['call_date'].dt.to_period('M').dt.strftime('%d-%m-%Y')\n",
    "mensajes['month'] = mensajes['message_date'].dt.to_period('M').dt.strftime('%d-%m-%Y')\n",
    "internet['month'] = internet['session_date'].dt.to_period('M').dt.strftime('%d-%m-%Y')\n",
    "\n",
    "\n",
    "llamadas_por_mes = llamadas.groupby(['user_id', 'month'])['duration'].sum().reset_index(name='total_minutos')\n",
    "mensajes_por_mes = mensajes.groupby(['user_id', 'month']).size().reset_index(name='num_mensajes')\n",
    "datos_por_mes = internet.groupby(['user_id', 'month'])['gb_used'].sum().reset_index(name='total_gb_usado')\n",
    "\n",
    "\n",
    "datos_agregados = pd.merge(llamadas_por_mes, mensajes_por_mes, on=['user_id', 'month'], how='outer')\n",
    "datos_agregados = pd.merge(datos_agregados, datos_por_mes, on=['user_id', 'month'], how='outer')\n",
    "\n",
    "\n",
    "datos_agregados = datos_agregados.fillna(0)\n",
    "\n",
    "\n",
    "datos_agregados = pd.merge(datos_agregados, users[['user_id', 'plan', 'city']], on='user_id', how='left')\n",
    "\n",
    "datos_agregados = pd.merge(datos_agregados, tarifas, left_on='plan', right_on='plan_name', how='left')\n",
    "\n",
    "\n",
    "datos_agregados['plan'] = datos_agregados['plan'].str.lower()\n",
    "\n",
    "\n",
    "limites = {\n",
    "    'surf': {'minutos': 500, 'mensajes': 50, 'datos': 15},\n",
    "    'ultimate': {'minutos': 3000, 'mensajes': 1000, 'datos': 30}\n",
    "}\n",
    "\n",
    "\n",
    "def calcular_cargos(row):\n",
    "    plan = row['plan']\n",
    "    cargos_minutos = max(0, row['total_minutos'] - limites[plan]['minutos']) * row['usd_per_minute']\n",
    "    cargos_mensajes = max(0, row['num_mensajes'] - limites[plan]['mensajes']) * row['usd_per_message']\n",
    "    cargos_datos = max(0, row['total_gb_usado'] - limites[plan]['datos']) * row['usd_per_gb']\n",
    "    return cargos_minutos + cargos_mensajes + cargos_datos\n",
    "\n",
    "\n",
    "datos_agregados['cargos_adicionales'] = datos_agregados.apply(calcular_cargos, axis=1)\n",
    "\n",
    "\n",
    "datos_agregados['ingreso_mensual'] = datos_agregados['usd_monthly_pay'] + datos_agregados['cargos_adicionales']\n",
    "\n",
    "\n",
    "datos_agregados.sample(5)"
   ]
  },
  {
   "cell_type": "markdown",
   "metadata": {
    "id": "-jtyHzJb0q1I"
   },
   "source": [
    "## Estudia el comportamiento de usuario"
   ]
  },
  {
   "cell_type": "markdown",
   "metadata": {
    "id": "AxU3Y0N70q1J"
   },
   "source": [
    "[Calcula algunas estadísticas descriptivas para los datos agregados y fusionados que nos sean útiles y que muestren un panorama general captado por los datos. Dibuja gráficos útiles para facilitar la comprensión. Dado que la tarea principal es comparar las tarifas y decidir cuál es más rentable, las estadísticas y gráficas deben calcularse por tarifa.]\n",
    "\n",
    "[En los comentarios hallarás pistas relevantes para las llamadas, pero no las hay para los mensajes e Internet. Sin embargo, el principio del estudio estadístico que se aplica para ellos es el mismo que para las llamadas.]"
   ]
  },
  {
   "cell_type": "markdown",
   "metadata": {
    "id": "vtW4CJEe0q1J"
   },
   "source": [
    "### Llamadas"
   ]
  },
  {
   "cell_type": "code",
   "execution_count": 370,
   "metadata": {
    "id": "Jf5v5--k0q1J",
    "trusted": true
   },
   "outputs": [
    {
     "name": "stdout",
     "output_type": "stream",
     "text": [
      "        plan       month  total_minutos\n",
      "9       surf  31-08-2018     211.123333\n",
      "17  ultimate  31-01-2018      71.631579\n",
      "7       surf  31-05-2018     136.903780\n",
      "5       surf  31-01-2018      71.031469\n",
      "6       surf  31-03-2018      88.127586\n"
     ]
    },
    {
     "data": {
      "image/png": "[encoded data removed]",
      "text/plain": [
       "<Figure size 1200x600 with 1 Axes>"
      ]
     },
     "metadata": {},
     "output_type": "display_data"
    }
   ],
   "source": [
    "# Compara la duración promedio de llamadas por cada plan y por cada mes. Traza un gráfico de barras para visualizarla.\n",
    "\n",
    "duracion_promedio_llamadas = datos_agregados.groupby(['plan', 'month'])['total_minutos'].mean().reset_index()\n",
    "print(duracion_promedio_llamadas.sample(5))\n",
    "\n",
    "plt.figure(figsize=(12, 6))\n",
    "for plan in duracion_promedio_llamadas['plan'].unique():\n",
    "    subset = duracion_promedio_llamadas[duracion_promedio_llamadas['plan'] == plan]\n",
    "    plt.bar(subset['month'].astype(str), subset['total_minutos'], label=plan)\n",
    "\n",
    "plt.xlabel('Mes')\n",
    "plt.ylabel('Duración Promedio de Llamadas (minutos)')\n",
    "plt.title('Duración Promedio de Llamadas por Plan y por Mes')\n",
    "plt.legend(title='Plan')\n",
    "plt.xticks(rotation=45)\n",
    "plt.tight_layout()\n",
    "plt.show()"
   ]
  },
  {
   "cell_type": "code",
   "execution_count": 371,
   "metadata": {
    "id": "QoLqW1S_0q1J",
    "trusted": true
   },
   "outputs": [
    {
     "name": "stdout",
     "output_type": "stream",
     "text": [
      "          plan  total_minutos\n",
      "1078  ultimate          695.0\n",
      "3828      surf           12.0\n",
      "1901      surf           71.0\n",
      "3206      surf          408.0\n",
      "3210      surf          735.0\n"
     ]
    },
    {
     "data": {
      "image/png": "[encoded data removed]",
      "text/plain": [
       "<Figure size 1200x600 with 1 Axes>"
      ]
     },
     "metadata": {},
     "output_type": "display_data"
    }
   ],
   "source": [
    "# Compara el número de minutos mensuales que necesitan los usuarios de cada plan. Traza un histograma.\n",
    "\n",
    "minutos_mensuales_por_plan = datos_agregados[['plan', 'total_minutos']]\n",
    "\n",
    "print(minutos_mensuales_por_plan.sample(5))\n",
    "\n",
    "\n",
    "plt.figure(figsize=(12, 6))\n",
    "\n",
    "for plan in minutos_mensuales_por_plan['plan'].unique():\n",
    "    subset = minutos_mensuales_por_plan[minutos_mensuales_por_plan['plan'] == plan]\n",
    "    plt.hist(subset['total_minutos'], bins=30, alpha=0.5, label=plan)\n",
    "\n",
    "plt.xlabel('Minutos Mensuales')\n",
    "plt.ylabel('Frecuencia')\n",
    "plt.title('Distribución del Numero de Minutos Mensuales por Plan')\n",
    "plt.legend(title='Plan')\n",
    "plt.tight_layout()\n",
    "plt.show()"
   ]
  },
  {
   "cell_type": "markdown",
   "metadata": {
    "id": "bLS9T8OH0q1K"
   },
   "source": [
    "[Calcula la media y la variable de la duración de las llamadas para averiguar si los usuarios de los distintos planes se comportan de forma diferente al realizar sus llamadas.]"
   ]
  },
  {
   "cell_type": "code",
   "execution_count": 372,
   "metadata": {
    "id": "oSndbAnt0q1K",
    "trusted": true
   },
   "outputs": [
    {
     "name": "stdout",
     "output_type": "stream",
     "text": [
      "       plan        mean           var\n",
      "0      surf  189.125911  41029.486246\n",
      "1  ultimate  186.588802  41407.667561\n"
     ]
    }
   ],
   "source": [
    "# Calcula la media y la varianza de la duración mensual de llamadas.\n",
    "estadisticas_llamadas = datos_agregados.groupby('plan')['total_minutos'].agg(['mean', 'var']).reset_index()\n",
    "\n",
    "print(estadisticas_llamadas)\n"
   ]
  },
  {
   "cell_type": "code",
   "execution_count": 373,
   "metadata": {
    "id": "nZzoRUKc0q1K",
    "trusted": true
   },
   "outputs": [
    {
     "name": "stdout",
     "output_type": "stream",
     "text": [
      "          plan  total_minutos\n",
      "5087      surf            0.0\n",
      "598   ultimate          302.0\n",
      "2796      surf          290.0\n",
      "4420  ultimate           56.0\n",
      "4588  ultimate           13.0\n"
     ]
    },
    {
     "data": {
      "text/plain": [
       "<Figure size 1000x600 with 0 Axes>"
      ]
     },
     "metadata": {},
     "output_type": "display_data"
    },
    {
     "data": {
      "image/png": "[encoded data removed]",
      "text/plain": [
       "<Figure size 640x480 with 1 Axes>"
      ]
     },
     "metadata": {},
     "output_type": "display_data"
    }
   ],
   "source": [
    "# Traza un diagrama de caja para visualizar la distribución de la duración mensual de llamadas\n",
    "llamadas_por_plan = datos_agregados[['plan', 'total_minutos']]\n",
    "\n",
    "print(llamadas_por_plan.sample(5))\n",
    "\n",
    "plt.figure(figsize=(10, 6))\n",
    "llamadas_por_plan.boxplot(column='total_minutos', by='plan', grid=False)\n",
    "\n",
    "\n",
    "plt.xlabel('Plan')\n",
    "plt.ylabel('Duración Mensual de Llamadas (minutos)')\n",
    "plt.title('Distribución de la Duración Mensual de Llamadas por Plan')\n",
    "plt.suptitle('')  \n",
    "plt.tight_layout()\n",
    "plt.show()\n"
   ]
  },
  {
   "cell_type": "markdown",
   "metadata": {
    "id": "r627zBO50q1K"
   },
   "source": [
    "[Elabora las conclusiones sobre el comportamiento de los usuarios con respecto a las llamadas. ¿Su comportamiento varía en función del plan?]\n",
    "\n",
    "Desde mi perspectiva los datas me dicen que el comportamiento de los usuarios con respecto a las llamadas no tiene una cambio significativo en funcion del plan que tiene cada uno, ya que tanto la duracion promedio como la varianza de las llamadas son muy similares entre los dos planes. La alta variabilidad me dice que otros factores que van mas alla del tipo de plan, podrian estar influyendo en la duracion de las llamadas de los usuarios como tal."
   ]
  },
  {
   "cell_type": "markdown",
   "metadata": {
    "id": "8idKy8Wh0q1L"
   },
   "source": [
    "### Mensajes"
   ]
  },
  {
   "cell_type": "code",
   "execution_count": 374,
   "metadata": {
    "id": "NXLxiTit0q1L",
    "trusted": true
   },
   "outputs": [
    {
     "name": "stdout",
     "output_type": "stream",
     "text": [
      "        plan       month       mean         var\n",
      "4       surf  30-11-2018  23.680921  602.310394\n",
      "21  ultimate  31-08-2018  17.919708  618.515565\n",
      "14  ultimate  30-06-2018  12.735294  406.536819\n",
      "0       surf  28-02-2018   5.100346   54.173923\n",
      "1       surf  30-04-2018   7.051724  164.381398\n"
     ]
    },
    {
     "data": {
      "image/png": "[encoded data removed]",
      "text/plain": [
       "<Figure size 1200x600 with 1 Axes>"
      ]
     },
     "metadata": {},
     "output_type": "display_data"
    },
    {
     "data": {
      "image/png": "[encoded data removed]",
      "text/plain": [
       "<Figure size 1200x600 with 1 Axes>"
      ]
     },
     "metadata": {},
     "output_type": "display_data"
    }
   ],
   "source": [
    "# Comprara el número de mensajes que tienden a enviar cada mes los usuarios de cada plan\n",
    "\n",
    "estadisticas_mensajes = datos_agregados.groupby(['plan', 'month'])['num_mensajes'].agg(['mean', 'var']).reset_index()\n",
    "\n",
    "print(estadisticas_mensajes.sample(5))\n",
    "\n",
    "plt.figure(figsize=(12, 6))\n",
    "for plan in estadisticas_mensajes['plan'].unique():\n",
    "    subset = estadisticas_mensajes[estadisticas_mensajes['plan'] == plan]\n",
    "    plt.bar(subset['month'].astype(str), subset['mean'], label=plan)\n",
    "\n",
    "plt.xlabel('Mes')\n",
    "plt.ylabel('Media de Mensajes Enviados')\n",
    "plt.title('Media de Mensajes Enviados por Plan y por Mes')\n",
    "plt.legend(title='Plan')\n",
    "plt.xticks(rotation=45)\n",
    "plt.tight_layout()\n",
    "plt.show()\n",
    "\n",
    "plt.figure(figsize=(12, 6))\n",
    "\n",
    "for plan in datos_agregados['plan'].unique():\n",
    "    subset = datos_agregados[datos_agregados['plan'] == plan]\n",
    "    plt.hist(subset['num_mensajes'], bins=30, alpha=0.5, label=plan)\n",
    "\n",
    "plt.xlabel('Número de Mensajes Mensuales')\n",
    "plt.ylabel('Frecuencia')\n",
    "plt.title('Distribución del Número de Mensajes Mensuales por Plan')\n",
    "plt.legend(title='Plan')\n",
    "plt.tight_layout()\n",
    "plt.show()"
   ]
  },
  {
   "cell_type": "code",
   "execution_count": 375,
   "metadata": {
    "id": "GRI_R7xF0q1L",
    "trusted": true
   },
   "outputs": [
    {
     "name": "stdout",
     "output_type": "stream",
     "text": [
      "        plan       month      mean        var\n",
      "20  ultimate  31-07-2018  5.977941  53.843954\n",
      "3       surf  30-09-2018  7.510067  48.890471\n",
      "18  ultimate  31-03-2018  2.948529  26.493627\n",
      "4       surf  30-11-2018  9.779605  41.980969\n",
      "2       surf  30-06-2018  4.627986  35.830310\n"
     ]
    },
    {
     "data": {
      "image/png": "[encoded data removed]",
      "text/plain": [
       "<Figure size 1200x600 with 1 Axes>"
      ]
     },
     "metadata": {},
     "output_type": "display_data"
    },
    {
     "name": "stdout",
     "output_type": "stream",
     "text": [
      "\n"
     ]
    },
    {
     "data": {
      "image/png": "[encoded data removed]",
      "text/plain": [
       "<Figure size 1200x600 with 1 Axes>"
      ]
     },
     "metadata": {},
     "output_type": "display_data"
    }
   ],
   "source": [
    "# Compara la cantidad de tráfico de Internet consumido por usuarios por plan\n",
    "estadisticas_internet = datos_agregados.groupby(['plan', 'month'])['total_gb_usado'].agg(['mean', 'var']).reset_index()\n",
    "\n",
    "\n",
    "print(estadisticas_internet.sample(5))\n",
    "\n",
    "plt.figure(figsize=(12, 6))\n",
    "for plan in estadisticas_internet['plan'].unique():\n",
    "    subset = estadisticas_internet[estadisticas_internet['plan'] == plan]\n",
    "    plt.bar(subset['month'].astype(str), subset['mean'], label=plan)\n",
    "\n",
    "plt.xlabel('Mes')\n",
    "plt.ylabel('Media del Tráfico de Internet Consumido (GB)')\n",
    "plt.title('Media del Tráfico de Internet Consumido por Plan y por Mes')\n",
    "plt.legend(title='Plan')\n",
    "plt.xticks(rotation=45)\n",
    "plt.tight_layout()\n",
    "plt.show()    \n",
    "\n",
    "print()\n",
    "plt.figure(figsize=(12, 6))\n",
    "\n",
    "for plan in datos_agregados['plan'].unique():\n",
    "    subset = datos_agregados[datos_agregados['plan'] == plan]\n",
    "    plt.hist(subset['total_gb_usado'], bins=30, alpha=0.5, label=plan)\n",
    "\n",
    "plt.xlabel('Tráfico de Internet Mensual (GB)')\n",
    "plt.ylabel('Frecuencia')\n",
    "plt.title('Distribución del Tráfico de Internet Mensual por Plan')\n",
    "plt.legend(title='Plan')\n",
    "plt.tight_layout()\n",
    "plt.show()"
   ]
  },
  {
   "cell_type": "markdown",
   "metadata": {
    "id": "390SSL480q1M"
   },
   "source": [
    "[Elabora las conclusiones sobre el comportamiento de los usuarios con respecto a los mensajes. ¿Su comportamiento varía en función del plan?]\n",
    "\n",
    "Ahora bien, puedo decir que si, el comportamiento de los usuarios con respecto a los mensajes varía en función del plan, ya que los usuarios del plan Surf muestran una mayor tendencia a enviar mas mensajes y presentan una mayor variabilidad en su comportamiento con respecto a los mensajes enviados, pero si vemos en comparacion con los usuarios del plan Ultimate que son los que tienden a enviar menos mensajes de manera mas consistente.Ahora bien, puedo decir que los usuarios del plan Surf muestran una mayor tendencia a enviar mas mensajes y presentan una mayor variabilidad en su comportamiento con respecto a los mensajes enviados, pero si vemos en comparacion con los usuarios del plan Ultimate que son los que tienden a enviar menos mensajes de manera mas consistente."
   ]
  },
  {
   "cell_type": "markdown",
   "metadata": {
    "id": "42YSypXz0q1M"
   },
   "source": [
    "### Internet"
   ]
  },
  {
   "cell_type": "markdown",
   "metadata": {
    "id": "UN9zwuMP0q1N"
   },
   "source": [
    "[Elabora las conclusiones sobre cómo los usuarios tienden a consumir el tráfico de Internet. ¿Su comportamiento varía en función del plan?]\n",
    "\n",
    "Puedo decir que si, que dicho compartamiento de los usuarios con respecto al consumo de trafico de internet cambia en funcion del plan que tengan, ya que los usuarios del plan Ultimate tienen una tendencia a consumir mas trafico de internet en promedio, y ambos planes muestran una alta variabilidad en el consumo de datos por lo cual esto nos dice que los usuarios tienen comportamientos muy diferentes en terminos de consumo de internet, lo cual puede estar influenciado por las diferentes caracteristicas y beneficios ofrecidos por cada plan."
   ]
  },
  {
   "cell_type": "markdown",
   "metadata": {
    "id": "tCijq3260q1N"
   },
   "source": [
    "## Ingreso"
   ]
  },
  {
   "cell_type": "markdown",
   "metadata": {
    "id": "9nq5IAcy0q1O"
   },
   "source": [
    "[Del mismo modo que has estudiado el comportamiento de los usuarios, describe estadísticamente los ingresos de los planes.]"
   ]
  },
  {
   "cell_type": "code",
   "execution_count": 376,
   "metadata": {
    "id": "tz-dq_V00q1O",
    "trusted": true
   },
   "outputs": [
    {
     "name": "stdout",
     "output_type": "stream",
     "text": [
      "       plan  ingreso_mensual\n",
      "0      surf         237015.0\n",
      "1  ultimate         116802.0\n",
      "\n",
      "       plan       mean           var   min     max  median  count   25%   50%  \\\n",
      "0      surf  66.465227  33476.927122  20.0  2347.0    20.0   3566  20.0  20.0   \n",
      "1  ultimate  70.320289     13.652775  70.0   140.0    70.0   1661  70.0  70.0   \n",
      "\n",
      "    75%  \n",
      "0  20.0  \n",
      "1  70.0  \n"
     ]
    }
   ],
   "source": [
    "ingreso_total_por_plan = datos_agregados.groupby('plan')['ingreso_mensual'].sum().reset_index()\n",
    "\n",
    "# Imprimir los ingresos totales por plan\n",
    "print(ingreso_total_por_plan)\n",
    "\n",
    "print()\n",
    "\n",
    "\n",
    "estadisticas_ingresos = datos_agregados.groupby('plan')['ingreso_mensual'].agg(['mean', 'var', 'min', 'max', 'median', 'count']).reset_index()\n",
    "percentiles = datos_agregados.groupby('plan')['ingreso_mensual'].quantile([0.25, 0.5, 0.75]).unstack().reset_index()\n",
    "estadisticas_completas = pd.merge(estadisticas_ingresos, percentiles, on='plan', suffixes=('', '_percentile'))\n",
    "estadisticas_completas.rename(columns={0.25: '25%', 0.5: '50%', 0.75: '75%'}, inplace=True)\n",
    "\n",
    "print(estadisticas_completas)"
   ]
  },
  {
   "cell_type": "markdown",
   "metadata": {
    "id": "KAFidcXZ0q1P"
   },
   "source": [
    "[Elabora las conclusiones sobre cómo difiere el ingreso entre los planes.]\n",
    "\n",
    "El ingreso entre ambos planes tiene una diferencia significativamente, ya que el plan Surf se vuelve mas resntable si hablamos de ingresos totakes como tal, ahora bien, por el otro lado el plan Ultimate tiende a generar mas ingresos de forma consitente por usuario pero vemos que lo ingresos son menos que los del plan Surf, por lo que dichos resultados nos dice que el plan Surf viene a ser mas rentable por lo general si de ingresos hablamos pero el plan Ultimate nos da ingresos predecibles que no da un respaldo a nivel de organizacion como tal."
   ]
  },
  {
   "cell_type": "markdown",
   "metadata": {
    "id": "ajJ7VKeI0q1Q"
   },
   "source": [
    "## Prueba las hipótesis estadísticas"
   ]
  },
  {
   "cell_type": "markdown",
   "metadata": {
    "id": "AdXAZ-yL0q1Q"
   },
   "source": [
    "[Prueba la hipótesis de que son diferentes los ingresos promedio procedentes de los usuarios de los planes de llamada Ultimate y Surf.]"
   ]
  },
  {
   "cell_type": "markdown",
   "metadata": {
    "id": "IQwa_hsh0q1Q"
   },
   "source": [
    "[Elabora las hipótesis nula y alternativa, escoge la prueba estadística, determina el valor alfa.]"
   ]
  },
  {
   "cell_type": "code",
   "execution_count": 377,
   "metadata": {
    "id": "nFoPNlPq0q1R",
    "trusted": true
   },
   "outputs": [
    {
     "name": "stdout",
     "output_type": "stream",
     "text": [
      "Estadistico t: 1.2576482244274017\n",
      "Valor p: 0.20860123514825077\n",
      "No podemos rechazar la hipotesis nula: No hay evidencia suficiente para afirmar que los ingresos promedio son diferentes entre los planes Ultimate y Surf.\n"
     ]
    }
   ],
   "source": [
    "# Prueba las hipótesis\n",
    "ingresos_ultimate = datos_agregados[datos_agregados['plan'] == 'ultimate']['ingreso_mensual']\n",
    "ingresos_surf = datos_agregados[datos_agregados['plan'] == 'surf']['ingreso_mensual']\n",
    "\n",
    "\n",
    "t_stat, p_value = ttest_ind(ingresos_ultimate, ingresos_surf, equal_var=False)\n",
    "\n",
    "\n",
    "print(f\"Estadistico t: {t_stat}\")\n",
    "print(f\"Valor p: {p_value}\")\n",
    "\n",
    "\n",
    "alpha = 0.05\n",
    "if p_value < alpha:\n",
    "    print(\"Rechazamos la hipotesis nula: Los ingresos promedio son diferentes entre los planes Ultimate y Surf.\")\n",
    "else:\n",
    "    print(\"No podemos rechazar la hipotesis nula: No hay evidencia suficiente para afirmar que los ingresos promedio son diferentes entre los planes Ultimate y Surf.\")"
   ]
  },
  {
   "cell_type": "markdown",
   "metadata": {
    "id": "tCcAruM60q1R"
   },
   "source": [
    "[Prueba la hipótesis de que el ingreso promedio de los usuarios del área NY-NJ es diferente al de los usuarios de otras regiones.]"
   ]
  },
  {
   "cell_type": "markdown",
   "metadata": {
    "id": "LsBgitqj0q1R"
   },
   "source": [
    "[Elabora las hipótesis nula y alternativa, escoge la prueba estadística, determina el valor alfa.]"
   ]
  },
  {
   "cell_type": "code",
   "execution_count": 378,
   "metadata": {
    "id": "Cqcj7wrZ0q1S",
    "trusted": true
   },
   "outputs": [
    {
     "name": "stdout",
     "output_type": "stream",
     "text": [
      "Estadistico t: -2.3365426533711586\n",
      "Valor p: 0.019594753211933283\n",
      "Rechazamos la hipotesis nula: Los ingresos promedio son diferentes entre el area NY-NJ y otras regiones.\n"
     ]
    }
   ],
   "source": [
    "# Prueba las hipótesis\n",
    "ny_nj_cities = ['New York-Newark-Jersey City, NY-NJ-PA MSA']\n",
    "\n",
    "ingresos_ny_nj = datos_agregados[datos_agregados['city'].isin(ny_nj_cities)]['ingreso_mensual']\n",
    "ingresos_otras_regiones = datos_agregados[~datos_agregados['city'].isin(ny_nj_cities)]['ingreso_mensual']\n",
    "\n",
    "t_stat, p_value = ttest_ind(ingresos_ny_nj, ingresos_otras_regiones, equal_var=False)\n",
    "\n",
    "print(f\"Estadistico t: {t_stat}\")\n",
    "print(f\"Valor p: {p_value}\")\n",
    "\n",
    "alpha = 0.05\n",
    "if p_value < alpha:\n",
    "    print(\"Rechazamos la hipotesis nula: Los ingresos promedio son diferentes entre el area NY-NJ y otras regiones.\")\n",
    "else:\n",
    "    print(\"No podemos rechazar la hipotesis nula: No hay evidencia suficiente para afirmar que los ingresos promedio son diferentes entre el area NY-NJ y otras regiones.\")\n",
    "\n"
   ]
  },
  {
   "cell_type": "markdown",
   "metadata": {
    "id": "bbTR8UQO0q1T"
   },
   "source": [
    "## Conclusión general\n",
    "\n",
    "[En esta sección final, enumera tus conclusiones importantes. Asegúrate de que estas abarquen todas las decisiones (suposiciones) importantes que adoptaste y que determinaron la forma elegida para procesar y analizar los datos.]\n",
    "\n",
    "Conclusion General\n",
    "\n",
    "Para las decisiones  y suposiciones importantes se realizaron varios pasos como la union de datos, calculo de ingresos mensuales, estadisticas descriptivas y pruebas de hipotesis, con o que obtuve un conjunto de informacion completa, la cual se utilizo para calcular los ingresos mensuales por usuario como tal teniendo en consideracion cargos adicionales que con el conjunto de datos nos permitio realizar un analisis del comportamiento de los usuarios y la rentabilidad de los planes.\n",
    "\n",
    "Desde mi perspectiva los puntos claves fueron los siguientes:\n",
    "\n",
    "1-Llamadas: ya que no hay diferencia significativa en la duracion promedio entre los planes (Surf y Ultimate), los dos planes nos muestran una alta variabilidad en cuanto duracion hablamos.\n",
    "\n",
    "2-Mensajes: notamos que los usuarios del plan Surf envian mas mensajes en promedio y presentan mayor variabiliada en el numero de mensajes enviados como tal.\n",
    "\n",
    "3-Internet: los usuarios del plan Ultimate consumen mas internet los que nos dice que hay y una gran diferencia de consumo los que no lleva a la consuclusion la relevante diferencia de enconsumo entre ambos planes.\n",
    "\n",
    "4-Ingresos: como habia comentado anteriormente el pla Surf nos da mas ingresos totales siendo el pkan con ingresos mas altos, pero tiene una variabilidad mayor, pero el plan Ultimate no da una estabilidad y confianza de ingresos.\n",
    "\n",
    "5-Pruebas de hipotesis: logamos confirmar que una diferencia realmente significativa en los ingresos entre los planes, pero no entre las ciudades de NY, NJ y otras ciudades.\n",
    "\n",
    "Con toda la informacion recolectada y analizada nos da una vision bastante general del comportamiento de los usuarios y la rentabilidad de los planes, que nos puede llevar a la toma de decisiones de forma estretegica sobre las taridas y el enfoque le podriamos dar al servicio para incrementar lo ingresos, ya que nos dimos que nuestro plan Surf fue el mas rentable, y sabemos que los ingresos no son tan predecibles como quisieramos pero tenemos el plan Ultimate nos da la estabiliadad gracias al comportamiento de nuestro usuarios a nivel general dandonos ingresos mas estables."
   ]
  }
 ],
 "metadata": {
  "ExecuteTimeLog": [
   {
    "duration": 828,
    "start_time": "2021-11-16T09:21:11.304Z"
   },
   {
    "duration": 893,
    "start_time": "2021-11-16T09:21:17.728Z"
   },
   {
    "duration": 1150,
    "start_time": "2021-11-16T09:21:29.568Z"
   },
   {
    "duration": 3,
    "start_time": "2021-11-16T09:24:14.495Z"
   },
   {
    "duration": 120,
    "start_time": "2021-11-16T09:24:46.630Z"
   },
   {
    "duration": 3,
    "start_time": "2021-11-16T09:28:27.882Z"
   },
   {
    "duration": 4,
    "start_time": "2021-11-16T09:29:54.281Z"
   },
   {
    "duration": 3,
    "start_time": "2021-11-16T09:30:45.936Z"
   },
   {
    "duration": 4,
    "start_time": "2021-11-16T09:31:06.300Z"
   },
   {
    "duration": 113,
    "start_time": "2021-11-16T09:31:37.208Z"
   },
   {
    "duration": 143,
    "start_time": "2021-11-16T09:31:48.656Z"
   },
   {
    "duration": 98,
    "start_time": "2021-11-16T09:31:55.678Z"
   },
   {
    "duration": 3,
    "start_time": "2021-11-16T09:32:08.535Z"
   },
   {
    "duration": 111,
    "start_time": "2021-11-16T09:32:10.120Z"
   },
   {
    "duration": 3,
    "start_time": "2021-11-16T09:32:15.732Z"
   },
   {
    "duration": 4,
    "start_time": "2021-11-16T09:32:29.423Z"
   },
   {
    "duration": 3,
    "start_time": "2021-11-16T10:03:03.074Z"
   },
   {
    "duration": 3,
    "start_time": "2021-11-16T10:10:01.288Z"
   },
   {
    "duration": 3,
    "start_time": "2021-11-16T10:10:46.923Z"
   },
   {
    "duration": 121,
    "start_time": "2021-11-16T10:37:46.494Z"
   },
   {
    "duration": 125,
    "start_time": "2021-11-16T10:38:20.632Z"
   },
   {
    "duration": 112,
    "start_time": "2021-11-16T10:46:53.001Z"
   },
   {
    "duration": 110,
    "start_time": "2021-11-16T10:48:25.775Z"
   },
   {
    "duration": 3,
    "start_time": "2021-11-16T10:50:18.720Z"
   },
   {
    "duration": 4,
    "start_time": "2021-11-16T10:50:37.649Z"
   },
   {
    "duration": 2,
    "start_time": "2021-11-16T10:50:51.884Z"
   },
   {
    "duration": 3,
    "start_time": "2021-11-16T10:51:56.237Z"
   },
   {
    "duration": 101,
    "start_time": "2021-11-16T10:53:13.791Z"
   },
   {
    "duration": 3,
    "start_time": "2021-11-16T10:55:59.186Z"
   },
   {
    "duration": 3,
    "start_time": "2021-11-16T10:56:10.751Z"
   },
   {
    "duration": 3,
    "start_time": "2021-11-16T10:56:49.038Z"
   },
   {
    "duration": 3,
    "start_time": "2021-11-16T10:56:49.174Z"
   },
   {
    "duration": 4,
    "start_time": "2021-11-16T10:56:49.414Z"
   },
   {
    "duration": 3,
    "start_time": "2021-11-16T10:56:49.680Z"
   },
   {
    "duration": 3,
    "start_time": "2021-11-16T10:56:50.370Z"
   },
   {
    "duration": 114,
    "start_time": "2021-11-16T10:59:34.518Z"
   },
   {
    "duration": 3,
    "start_time": "2021-11-16T11:01:41.201Z"
   },
   {
    "duration": 116,
    "start_time": "2021-11-16T11:01:48.754Z"
   },
   {
    "duration": 3,
    "start_time": "2021-11-16T11:02:16.685Z"
   },
   {
    "duration": 3,
    "start_time": "2021-11-16T11:02:19.479Z"
   },
   {
    "duration": 3,
    "start_time": "2021-11-16T11:02:47.067Z"
   },
   {
    "duration": 3,
    "start_time": "2021-11-16T11:02:49.353Z"
   },
   {
    "duration": 3,
    "start_time": "2021-11-16T11:03:07.835Z"
   },
   {
    "duration": 3,
    "start_time": "2021-11-16T11:03:07.953Z"
   },
   {
    "duration": 112,
    "start_time": "2021-11-16T11:07:52.072Z"
   },
   {
    "duration": 187,
    "start_time": "2021-11-16T11:09:23.468Z"
   },
   {
    "duration": 4,
    "start_time": "2021-11-16T11:10:01.455Z"
   },
   {
    "duration": 3,
    "start_time": "2021-11-16T11:10:05.069Z"
   },
   {
    "duration": 4,
    "start_time": "2021-11-16T11:10:13.376Z"
   },
   {
    "duration": 3,
    "start_time": "2021-11-16T11:10:14.434Z"
   },
   {
    "duration": 3,
    "start_time": "2021-11-16T11:10:22.853Z"
   },
   {
    "duration": 4,
    "start_time": "2021-11-16T11:27:29.279Z"
   },
   {
    "duration": 4,
    "start_time": "2021-11-16T11:29:08.919Z"
   },
   {
    "duration": 118,
    "start_time": "2021-11-16T11:29:46.703Z"
   },
   {
    "duration": 437,
    "start_time": "2021-11-16T11:36:02.181Z"
   },
   {
    "duration": 157,
    "start_time": "2021-11-16T11:36:14.388Z"
   },
   {
    "duration": 207,
    "start_time": "2021-11-16T11:47:15.898Z"
   },
   {
    "duration": 3,
    "start_time": "2021-11-16T11:53:52.092Z"
   },
   {
    "duration": 3,
    "start_time": "2021-11-16T11:53:52.236Z"
   },
   {
    "duration": 3,
    "start_time": "2021-11-16T11:59:12.005Z"
   },
   {
    "duration": 112,
    "start_time": "2021-11-16T12:00:33.446Z"
   },
   {
    "duration": 3,
    "start_time": "2021-11-16T12:02:14.453Z"
   },
   {
    "duration": 3,
    "start_time": "2021-11-16T12:02:39.512Z"
   },
   {
    "duration": 106,
    "start_time": "2021-11-16T12:03:03.460Z"
   },
   {
    "duration": 3,
    "start_time": "2021-11-17T20:37:21.139Z"
   },
   {
    "duration": 3,
    "start_time": "2021-11-17T20:37:22.229Z"
   },
   {
    "duration": 3,
    "start_time": "2021-11-17T20:38:38.806Z"
   },
   {
    "duration": 3,
    "start_time": "2021-11-17T20:38:41.958Z"
   },
   {
    "duration": 3,
    "start_time": "2021-11-17T20:43:46.551Z"
   },
   {
    "duration": 4,
    "start_time": "2021-11-17T20:58:21.835Z"
   },
   {
    "duration": 3,
    "start_time": "2021-11-17T20:59:21.872Z"
   },
   {
    "duration": 4,
    "start_time": "2021-11-17T20:59:45.352Z"
   },
   {
    "duration": 4,
    "start_time": "2021-11-17T20:59:49.646Z"
   },
   {
    "duration": 159,
    "start_time": "2021-11-17T21:02:26.949Z"
   },
   {
    "duration": 3,
    "start_time": "2021-11-17T21:03:53.461Z"
   },
   {
    "duration": 3,
    "start_time": "2021-11-17T21:03:53.694Z"
   },
   {
    "duration": 3,
    "start_time": "2021-11-17T21:05:28.145Z"
   },
   {
    "duration": 116,
    "start_time": "2021-11-17T21:05:57.787Z"
   },
   {
    "duration": 3,
    "start_time": "2021-11-17T21:06:37.993Z"
   },
   {
    "duration": 3,
    "start_time": "2021-11-17T21:06:38.261Z"
   },
   {
    "duration": 3,
    "start_time": "2021-11-17T21:11:54.358Z"
   },
   {
    "duration": 3,
    "start_time": "2021-11-17T21:12:43.846Z"
   },
   {
    "duration": 4,
    "start_time": "2021-11-17T21:13:08.773Z"
   },
   {
    "duration": 3,
    "start_time": "2021-11-17T21:14:44.441Z"
   },
   {
    "duration": 3,
    "start_time": "2021-11-17T21:15:42.059Z"
   },
   {
    "duration": 4,
    "start_time": "2021-11-17T21:15:51.995Z"
   },
   {
    "duration": 3,
    "start_time": "2021-11-17T21:15:53.923Z"
   },
   {
    "duration": 3,
    "start_time": "2021-11-17T21:15:55.282Z"
   },
   {
    "duration": 3,
    "start_time": "2021-11-17T21:16:28.492Z"
   },
   {
    "duration": 3,
    "start_time": "2021-11-17T21:16:32.603Z"
   },
   {
    "duration": 3,
    "start_time": "2021-11-17T21:17:06.941Z"
   },
   {
    "duration": 98,
    "start_time": "2021-11-17T21:18:05.733Z"
   },
   {
    "duration": 4,
    "start_time": "2021-11-17T21:21:35.255Z"
   },
   {
    "duration": 3,
    "start_time": "2021-11-17T21:21:37.804Z"
   },
   {
    "duration": 4,
    "start_time": "2021-11-17T21:23:06.071Z"
   },
   {
    "duration": 3,
    "start_time": "2021-11-17T21:23:24.799Z"
   },
   {
    "duration": 3,
    "start_time": "2021-11-17T21:23:32.591Z"
   },
   {
    "duration": 98,
    "start_time": "2021-11-17T21:28:31.559Z"
   },
   {
    "duration": 3,
    "start_time": "2021-11-17T21:28:45.448Z"
   },
   {
    "duration": 3,
    "start_time": "2021-11-17T21:29:17.303Z"
   },
   {
    "duration": 3,
    "start_time": "2021-11-17T21:29:29.617Z"
   },
   {
    "duration": 3,
    "start_time": "2021-11-17T21:29:32.681Z"
   },
   {
    "duration": 3,
    "start_time": "2021-11-17T21:36:11.474Z"
   },
   {
    "duration": 3,
    "start_time": "2021-11-17T21:36:14.791Z"
   },
   {
    "duration": 3,
    "start_time": "2021-11-17T21:36:53.943Z"
   },
   {
    "duration": 3,
    "start_time": "2021-11-17T21:36:56.165Z"
   },
   {
    "duration": 4,
    "start_time": "2021-11-17T21:37:16.590Z"
   },
   {
    "duration": 3,
    "start_time": "2021-11-17T21:37:22.702Z"
   },
   {
    "duration": 4,
    "start_time": "2021-11-17T21:38:03.479Z"
   },
   {
    "duration": 3,
    "start_time": "2021-11-17T21:38:08.601Z"
   },
   {
    "duration": 3,
    "start_time": "2021-11-17T21:38:12.928Z"
   },
   {
    "duration": 3,
    "start_time": "2021-11-17T21:38:48.896Z"
   },
   {
    "duration": 2,
    "start_time": "2021-11-17T21:38:49.171Z"
   },
   {
    "duration": 4,
    "start_time": "2021-11-17T21:39:57.889Z"
   },
   {
    "duration": 3,
    "start_time": "2021-11-17T21:39:58.057Z"
   },
   {
    "duration": 3,
    "start_time": "2021-11-17T21:41:20.108Z"
   },
   {
    "duration": 3,
    "start_time": "2021-11-17T21:41:20.629Z"
   },
   {
    "duration": 3,
    "start_time": "2021-11-17T21:42:49.136Z"
   },
   {
    "duration": 3,
    "start_time": "2021-11-17T21:43:15.137Z"
   },
   {
    "duration": 4,
    "start_time": "2021-11-17T21:43:16.766Z"
   },
   {
    "duration": 4,
    "start_time": "2021-11-17T21:43:31.711Z"
   },
   {
    "duration": 3,
    "start_time": "2021-11-17T21:43:36.312Z"
   },
   {
    "duration": 4,
    "start_time": "2021-11-17T21:45:08.825Z"
   },
   {
    "duration": 4,
    "start_time": "2021-11-17T21:45:10.119Z"
   },
   {
    "duration": 4,
    "start_time": "2021-11-17T21:45:13.748Z"
   },
   {
    "duration": 3,
    "start_time": "2021-11-17T21:45:22.219Z"
   },
   {
    "duration": 3,
    "start_time": "2021-11-17T21:45:33.412Z"
   },
   {
    "duration": 2,
    "start_time": "2021-11-17T21:46:01.885Z"
   },
   {
    "duration": 3,
    "start_time": "2021-11-17T21:46:03.628Z"
   },
   {
    "duration": 107,
    "start_time": "2021-11-17T21:47:32.512Z"
   },
   {
    "duration": 103,
    "start_time": "2021-11-17T21:50:36.243Z"
   },
   {
    "duration": 3,
    "start_time": "2021-11-18T06:28:31.440Z"
   },
   {
    "duration": 3,
    "start_time": "2021-11-18T06:29:00.168Z"
   },
   {
    "duration": 3,
    "start_time": "2021-11-18T06:31:27.008Z"
   },
   {
    "duration": 2,
    "start_time": "2021-11-18T06:35:34.288Z"
   },
   {
    "duration": 2,
    "start_time": "2021-11-18T06:38:04.527Z"
   },
   {
    "duration": 570,
    "start_time": "2025-02-14T04:59:50.304Z"
   },
   {
    "duration": 558,
    "start_time": "2025-02-14T05:00:01.169Z"
   },
   {
    "duration": 62,
    "start_time": "2025-02-14T05:00:35.706Z"
   },
   {
    "duration": 64,
    "start_time": "2025-02-14T05:01:23.107Z"
   },
   {
    "duration": 62,
    "start_time": "2025-02-14T05:02:23.114Z"
   },
   {
    "duration": 235,
    "start_time": "2025-02-14T05:02:50.781Z"
   },
   {
    "duration": 154,
    "start_time": "2025-02-14T05:02:53.740Z"
   },
   {
    "duration": 9,
    "start_time": "2025-02-14T05:05:07.394Z"
   },
   {
    "duration": 5,
    "start_time": "2025-02-14T05:05:58.908Z"
   },
   {
    "duration": 8,
    "start_time": "2025-02-14T05:11:15.678Z"
   },
   {
    "duration": 164,
    "start_time": "2025-02-14T17:03:01.136Z"
   },
   {
    "duration": 652,
    "start_time": "2025-02-14T17:03:25.756Z"
   },
   {
    "duration": 161,
    "start_time": "2025-02-14T17:03:27.754Z"
   },
   {
    "duration": 8,
    "start_time": "2025-02-14T17:03:30.863Z"
   },
   {
    "duration": 11,
    "start_time": "2025-02-14T17:03:33.374Z"
   },
   {
    "duration": 8,
    "start_time": "2025-02-14T17:03:36.897Z"
   },
   {
    "duration": 6,
    "start_time": "2025-02-14T17:08:15.878Z"
   },
   {
    "duration": 7,
    "start_time": "2025-02-14T17:08:23.515Z"
   },
   {
    "duration": 8,
    "start_time": "2025-02-14T17:08:27.978Z"
   },
   {
    "duration": 5,
    "start_time": "2025-02-14T17:18:00.622Z"
   },
   {
    "duration": 7,
    "start_time": "2025-02-14T17:18:17.445Z"
   },
   {
    "duration": 6,
    "start_time": "2025-02-14T17:19:36.270Z"
   },
   {
    "duration": 6,
    "start_time": "2025-02-14T17:21:49.206Z"
   },
   {
    "duration": 6,
    "start_time": "2025-02-14T17:21:53.473Z"
   },
   {
    "duration": 7,
    "start_time": "2025-02-14T17:22:38.265Z"
   },
   {
    "duration": 6,
    "start_time": "2025-02-14T17:22:51.330Z"
   },
   {
    "duration": 5,
    "start_time": "2025-02-14T17:23:18.280Z"
   },
   {
    "duration": 61,
    "start_time": "2025-02-14T17:24:00.212Z"
   },
   {
    "duration": 7,
    "start_time": "2025-02-14T17:24:04.475Z"
   },
   {
    "duration": 8,
    "start_time": "2025-02-14T17:26:50.412Z"
   },
   {
    "duration": 9,
    "start_time": "2025-02-14T17:27:01.584Z"
   },
   {
    "duration": 18,
    "start_time": "2025-02-14T17:31:15.078Z"
   },
   {
    "duration": 16,
    "start_time": "2025-02-14T17:31:22.927Z"
   },
   {
    "duration": 21,
    "start_time": "2025-02-14T17:31:45.076Z"
   },
   {
    "duration": 16,
    "start_time": "2025-02-14T17:32:57.229Z"
   },
   {
    "duration": 154,
    "start_time": "2025-02-14T17:33:34.785Z"
   },
   {
    "duration": 4,
    "start_time": "2025-02-14T17:33:37.967Z"
   },
   {
    "duration": 5,
    "start_time": "2025-02-14T17:33:43.844Z"
   },
   {
    "duration": 7,
    "start_time": "2025-02-14T17:33:48.539Z"
   },
   {
    "duration": 4,
    "start_time": "2025-02-14T17:33:54.137Z"
   },
   {
    "duration": 5,
    "start_time": "2025-02-14T17:34:18.945Z"
   },
   {
    "duration": 6,
    "start_time": "2025-02-14T17:34:18.952Z"
   },
   {
    "duration": 0,
    "start_time": "2025-02-14T17:34:18.960Z"
   },
   {
    "duration": 0,
    "start_time": "2025-02-14T17:34:18.962Z"
   },
   {
    "duration": 0,
    "start_time": "2025-02-14T17:34:18.963Z"
   },
   {
    "duration": 0,
    "start_time": "2025-02-14T17:34:18.965Z"
   },
   {
    "duration": 0,
    "start_time": "2025-02-14T17:34:18.966Z"
   },
   {
    "duration": 0,
    "start_time": "2025-02-14T17:34:18.967Z"
   },
   {
    "duration": 3,
    "start_time": "2025-02-14T17:34:18.970Z"
   },
   {
    "duration": 2,
    "start_time": "2025-02-14T17:34:18.975Z"
   },
   {
    "duration": 2,
    "start_time": "2025-02-14T17:34:18.980Z"
   },
   {
    "duration": 3,
    "start_time": "2025-02-14T17:34:18.984Z"
   },
   {
    "duration": 3,
    "start_time": "2025-02-14T17:34:18.989Z"
   },
   {
    "duration": 52,
    "start_time": "2025-02-14T17:34:18.993Z"
   },
   {
    "duration": 2,
    "start_time": "2025-02-14T17:34:19.046Z"
   },
   {
    "duration": 2,
    "start_time": "2025-02-14T17:34:19.051Z"
   },
   {
    "duration": 3,
    "start_time": "2025-02-14T17:34:19.055Z"
   },
   {
    "duration": 3,
    "start_time": "2025-02-14T17:34:19.060Z"
   },
   {
    "duration": 2,
    "start_time": "2025-02-14T17:34:19.065Z"
   },
   {
    "duration": 3,
    "start_time": "2025-02-14T17:34:19.068Z"
   },
   {
    "duration": 3,
    "start_time": "2025-02-14T17:34:19.073Z"
   },
   {
    "duration": 2,
    "start_time": "2025-02-14T17:34:19.078Z"
   },
   {
    "duration": 3,
    "start_time": "2025-02-14T17:34:19.082Z"
   },
   {
    "duration": 2,
    "start_time": "2025-02-14T17:34:19.087Z"
   },
   {
    "duration": 2,
    "start_time": "2025-02-14T17:34:19.143Z"
   },
   {
    "duration": 3,
    "start_time": "2025-02-14T17:34:19.147Z"
   },
   {
    "duration": 4,
    "start_time": "2025-02-14T17:34:19.151Z"
   },
   {
    "duration": 4,
    "start_time": "2025-02-14T17:34:19.156Z"
   },
   {
    "duration": 4,
    "start_time": "2025-02-14T17:34:19.161Z"
   },
   {
    "duration": 3,
    "start_time": "2025-02-14T17:34:19.166Z"
   },
   {
    "duration": 4,
    "start_time": "2025-02-14T17:34:33.653Z"
   },
   {
    "duration": 4,
    "start_time": "2025-02-14T17:35:25.670Z"
   },
   {
    "duration": 163,
    "start_time": "2025-02-14T17:35:42.174Z"
   },
   {
    "duration": 4,
    "start_time": "2025-02-14T17:35:44.795Z"
   },
   {
    "duration": 9,
    "start_time": "2025-02-14T17:35:53.179Z"
   },
   {
    "duration": 6,
    "start_time": "2025-02-14T17:36:33.038Z"
   },
   {
    "duration": 8,
    "start_time": "2025-02-14T17:36:35.647Z"
   },
   {
    "duration": 3,
    "start_time": "2025-02-14T17:36:52.648Z"
   },
   {
    "duration": 174,
    "start_time": "2025-02-14T17:36:52.653Z"
   },
   {
    "duration": 5,
    "start_time": "2025-02-14T17:36:52.829Z"
   },
   {
    "duration": 15,
    "start_time": "2025-02-14T17:36:52.835Z"
   },
   {
    "duration": 6,
    "start_time": "2025-02-14T17:36:52.852Z"
   },
   {
    "duration": 6,
    "start_time": "2025-02-14T17:36:52.859Z"
   },
   {
    "duration": 7,
    "start_time": "2025-02-14T17:36:52.867Z"
   },
   {
    "duration": 7,
    "start_time": "2025-02-14T17:36:52.875Z"
   },
   {
    "duration": 2,
    "start_time": "2025-02-14T17:36:52.884Z"
   },
   {
    "duration": 3,
    "start_time": "2025-02-14T17:36:52.888Z"
   },
   {
    "duration": 2,
    "start_time": "2025-02-14T17:36:52.894Z"
   },
   {
    "duration": 3,
    "start_time": "2025-02-14T17:36:52.898Z"
   },
   {
    "duration": 2,
    "start_time": "2025-02-14T17:36:52.943Z"
   },
   {
    "duration": 3,
    "start_time": "2025-02-14T17:36:52.947Z"
   },
   {
    "duration": 3,
    "start_time": "2025-02-14T17:36:52.952Z"
   },
   {
    "duration": 2,
    "start_time": "2025-02-14T17:36:52.957Z"
   },
   {
    "duration": 2,
    "start_time": "2025-02-14T17:36:52.961Z"
   },
   {
    "duration": 3,
    "start_time": "2025-02-14T17:36:52.965Z"
   },
   {
    "duration": 2,
    "start_time": "2025-02-14T17:36:52.970Z"
   },
   {
    "duration": 3,
    "start_time": "2025-02-14T17:36:52.974Z"
   },
   {
    "duration": 3,
    "start_time": "2025-02-14T17:36:52.979Z"
   },
   {
    "duration": 3,
    "start_time": "2025-02-14T17:36:52.984Z"
   },
   {
    "duration": 2,
    "start_time": "2025-02-14T17:36:52.989Z"
   },
   {
    "duration": 49,
    "start_time": "2025-02-14T17:36:52.993Z"
   },
   {
    "duration": 3,
    "start_time": "2025-02-14T17:36:53.044Z"
   },
   {
    "duration": 3,
    "start_time": "2025-02-14T17:36:53.048Z"
   },
   {
    "duration": 4,
    "start_time": "2025-02-14T17:36:53.052Z"
   },
   {
    "duration": 2,
    "start_time": "2025-02-14T17:36:53.058Z"
   },
   {
    "duration": 2,
    "start_time": "2025-02-14T17:36:53.064Z"
   },
   {
    "duration": 2,
    "start_time": "2025-02-14T17:36:53.068Z"
   },
   {
    "duration": 20,
    "start_time": "2025-02-14T17:40:49.481Z"
   },
   {
    "duration": 6,
    "start_time": "2025-02-14T17:41:32.365Z"
   },
   {
    "duration": 20,
    "start_time": "2025-02-14T17:41:43.022Z"
   },
   {
    "duration": 10,
    "start_time": "2025-02-14T17:42:17.468Z"
   },
   {
    "duration": 8,
    "start_time": "2025-02-14T17:42:32.054Z"
   },
   {
    "duration": 8,
    "start_time": "2025-02-14T17:42:35.622Z"
   },
   {
    "duration": 12,
    "start_time": "2025-02-14T17:43:42.782Z"
   },
   {
    "duration": 9,
    "start_time": "2025-02-14T17:43:47.692Z"
   },
   {
    "duration": 14,
    "start_time": "2025-02-14T17:50:20.081Z"
   },
   {
    "duration": 4,
    "start_time": "2025-02-14T17:50:31.272Z"
   },
   {
    "duration": 9,
    "start_time": "2025-02-14T17:50:36.777Z"
   },
   {
    "duration": 9,
    "start_time": "2025-02-14T17:51:32.879Z"
   },
   {
    "duration": 9,
    "start_time": "2025-02-14T17:51:35.747Z"
   },
   {
    "duration": 8,
    "start_time": "2025-02-14T17:51:38.687Z"
   },
   {
    "duration": 9,
    "start_time": "2025-02-14T17:51:41.573Z"
   },
   {
    "duration": 9,
    "start_time": "2025-02-14T17:51:44.041Z"
   },
   {
    "duration": 6,
    "start_time": "2025-02-14T17:55:58.214Z"
   },
   {
    "duration": 10,
    "start_time": "2025-02-14T17:56:15.509Z"
   },
   {
    "duration": 7,
    "start_time": "2025-02-14T17:56:26.391Z"
   },
   {
    "duration": 223,
    "start_time": "2025-02-14T17:56:31.101Z"
   },
   {
    "duration": 8,
    "start_time": "2025-02-14T17:56:35.005Z"
   },
   {
    "duration": 37,
    "start_time": "2025-02-14T18:08:22.354Z"
   },
   {
    "duration": 3,
    "start_time": "2025-02-14T18:08:24.814Z"
   },
   {
    "duration": 4,
    "start_time": "2025-02-14T18:08:28.082Z"
   },
   {
    "duration": 12,
    "start_time": "2025-02-14T18:08:58.699Z"
   },
   {
    "duration": 16,
    "start_time": "2025-02-14T18:11:08.177Z"
   },
   {
    "duration": 16,
    "start_time": "2025-02-14T18:11:27.972Z"
   },
   {
    "duration": 17,
    "start_time": "2025-02-14T18:11:32.315Z"
   },
   {
    "duration": 17,
    "start_time": "2025-02-14T18:11:49.402Z"
   },
   {
    "duration": 8,
    "start_time": "2025-02-14T18:12:01.067Z"
   },
   {
    "duration": 11,
    "start_time": "2025-02-14T18:12:23.513Z"
   },
   {
    "duration": 5,
    "start_time": "2025-02-14T18:14:13.377Z"
   },
   {
    "duration": 9,
    "start_time": "2025-02-14T18:14:40.779Z"
   },
   {
    "duration": 6,
    "start_time": "2025-02-14T18:16:23.105Z"
   },
   {
    "duration": 8,
    "start_time": "2025-02-14T18:16:40.801Z"
   },
   {
    "duration": 12,
    "start_time": "2025-02-14T18:23:48.449Z"
   },
   {
    "duration": 28,
    "start_time": "2025-02-14T18:33:31.422Z"
   },
   {
    "duration": 328,
    "start_time": "2025-02-14T18:38:14.730Z"
   },
   {
    "duration": 10,
    "start_time": "2025-02-14T18:38:18.302Z"
   },
   {
    "duration": 24,
    "start_time": "2025-02-14T18:39:10.382Z"
   },
   {
    "duration": 10,
    "start_time": "2025-02-14T18:39:13.084Z"
   },
   {
    "duration": 23,
    "start_time": "2025-02-14T18:39:17.719Z"
   },
   {
    "duration": 11,
    "start_time": "2025-02-14T18:39:20.543Z"
   },
   {
    "duration": 345,
    "start_time": "2025-02-14T18:41:17.380Z"
   },
   {
    "duration": 10,
    "start_time": "2025-02-14T18:41:20.175Z"
   },
   {
    "duration": 399,
    "start_time": "2025-02-14T18:42:28.235Z"
   },
   {
    "duration": 9,
    "start_time": "2025-02-14T18:42:32.411Z"
   },
   {
    "duration": 31,
    "start_time": "2025-02-14T18:43:23.298Z"
   },
   {
    "duration": 464,
    "start_time": "2025-02-14T18:43:28.930Z"
   },
   {
    "duration": 396,
    "start_time": "2025-02-14T18:43:56.416Z"
   },
   {
    "duration": 41,
    "start_time": "2025-02-14T18:44:07.908Z"
   },
   {
    "duration": 5,
    "start_time": "2025-02-14T18:44:28.740Z"
   },
   {
    "duration": 6,
    "start_time": "2025-02-14T18:44:31.393Z"
   },
   {
    "duration": 10,
    "start_time": "2025-02-14T18:44:35.258Z"
   },
   {
    "duration": 5,
    "start_time": "2025-02-14T18:45:31.813Z"
   },
   {
    "duration": 11,
    "start_time": "2025-02-14T18:45:44.155Z"
   },
   {
    "duration": 313,
    "start_time": "2025-02-14T18:46:11.790Z"
   },
   {
    "duration": 45,
    "start_time": "2025-02-14T18:46:38.377Z"
   },
   {
    "duration": 12,
    "start_time": "2025-02-14T18:47:41.079Z"
   },
   {
    "duration": 13,
    "start_time": "2025-02-14T18:48:12.838Z"
   },
   {
    "duration": 8,
    "start_time": "2025-02-14T18:49:16.128Z"
   },
   {
    "duration": 235,
    "start_time": "2025-02-14T18:49:51.505Z"
   },
   {
    "duration": 21,
    "start_time": "2025-02-14T18:50:27.461Z"
   },
   {
    "duration": 236,
    "start_time": "2025-02-14T18:50:29.561Z"
   },
   {
    "duration": 233,
    "start_time": "2025-02-14T18:51:33.456Z"
   },
   {
    "duration": 8,
    "start_time": "2025-02-14T18:51:43.440Z"
   },
   {
    "duration": 11,
    "start_time": "2025-02-14T18:52:44.822Z"
   },
   {
    "duration": 8,
    "start_time": "2025-02-14T18:52:50.162Z"
   },
   {
    "duration": 11,
    "start_time": "2025-02-14T18:52:56.629Z"
   },
   {
    "duration": 8,
    "start_time": "2025-02-14T18:53:07.585Z"
   },
   {
    "duration": 8,
    "start_time": "2025-02-14T18:53:41.469Z"
   },
   {
    "duration": 10,
    "start_time": "2025-02-14T18:53:48.683Z"
   },
   {
    "duration": 160,
    "start_time": "2025-02-15T04:28:56.148Z"
   },
   {
    "duration": 13,
    "start_time": "2025-02-15T04:29:01.373Z"
   },
   {
    "duration": 631,
    "start_time": "2025-02-15T04:29:08.884Z"
   },
   {
    "duration": 241,
    "start_time": "2025-02-15T04:29:13.654Z"
   },
   {
    "duration": 9,
    "start_time": "2025-02-15T04:29:17.311Z"
   },
   {
    "duration": 9,
    "start_time": "2025-02-15T04:41:08.928Z"
   },
   {
    "duration": 15,
    "start_time": "2025-02-15T04:44:05.408Z"
   },
   {
    "duration": 14,
    "start_time": "2025-02-15T04:44:13.171Z"
   },
   {
    "duration": 18,
    "start_time": "2025-02-15T04:44:27.314Z"
   },
   {
    "duration": 4,
    "start_time": "2025-02-15T04:44:35.287Z"
   },
   {
    "duration": 297,
    "start_time": "2025-02-15T04:44:38.371Z"
   },
   {
    "duration": 80,
    "start_time": "2025-02-15T04:45:06.556Z"
   },
   {
    "duration": 3,
    "start_time": "2025-02-15T04:45:08.896Z"
   },
   {
    "duration": 99,
    "start_time": "2025-02-15T04:45:11.007Z"
   },
   {
    "duration": 83,
    "start_time": "2025-02-15T04:45:17.169Z"
   },
   {
    "duration": 9,
    "start_time": "2025-02-15T04:45:29.487Z"
   },
   {
    "duration": 3,
    "start_time": "2025-02-15T04:45:45.672Z"
   },
   {
    "duration": 9,
    "start_time": "2025-02-15T04:45:48.566Z"
   },
   {
    "duration": 10,
    "start_time": "2025-02-15T04:45:52.846Z"
   },
   {
    "duration": 8,
    "start_time": "2025-02-15T04:45:56.562Z"
   },
   {
    "duration": 9,
    "start_time": "2025-02-15T04:45:59.352Z"
   },
   {
    "duration": 9,
    "start_time": "2025-02-15T04:46:01.597Z"
   },
   {
    "duration": 90,
    "start_time": "2025-02-15T04:47:53.747Z"
   },
   {
    "duration": 144,
    "start_time": "2025-02-15T04:48:07.289Z"
   },
   {
    "duration": 81,
    "start_time": "2025-02-15T04:53:05.577Z"
   },
   {
    "duration": 9,
    "start_time": "2025-02-15T04:53:10.293Z"
   },
   {
    "duration": 8,
    "start_time": "2025-02-15T04:53:15.963Z"
   },
   {
    "duration": 9,
    "start_time": "2025-02-15T04:53:19.143Z"
   },
   {
    "duration": 9,
    "start_time": "2025-02-15T04:53:22.568Z"
   },
   {
    "duration": 81,
    "start_time": "2025-02-15T04:53:26.532Z"
   },
   {
    "duration": 86,
    "start_time": "2025-02-15T04:53:30.822Z"
   },
   {
    "duration": 3,
    "start_time": "2025-02-15T04:53:54.002Z"
   },
   {
    "duration": 169,
    "start_time": "2025-02-15T04:53:54.006Z"
   },
   {
    "duration": 9,
    "start_time": "2025-02-15T04:53:54.176Z"
   },
   {
    "duration": 8,
    "start_time": "2025-02-15T04:53:54.186Z"
   },
   {
    "duration": 7,
    "start_time": "2025-02-15T04:53:54.196Z"
   },
   {
    "duration": 6,
    "start_time": "2025-02-15T04:53:54.204Z"
   },
   {
    "duration": 9,
    "start_time": "2025-02-15T04:53:54.212Z"
   },
   {
    "duration": 9,
    "start_time": "2025-02-15T04:53:54.222Z"
   },
   {
    "duration": 6,
    "start_time": "2025-02-15T04:53:54.233Z"
   },
   {
    "duration": 47,
    "start_time": "2025-02-15T04:53:54.241Z"
   },
   {
    "duration": 6,
    "start_time": "2025-02-15T04:53:54.290Z"
   },
   {
    "duration": 9,
    "start_time": "2025-02-15T04:53:54.298Z"
   },
   {
    "duration": 468,
    "start_time": "2025-02-15T04:53:54.309Z"
   },
   {
    "duration": 16,
    "start_time": "2025-02-15T04:53:54.781Z"
   },
   {
    "duration": 6,
    "start_time": "2025-02-15T04:53:54.799Z"
   },
   {
    "duration": 8,
    "start_time": "2025-02-15T04:53:54.806Z"
   },
   {
    "duration": 22,
    "start_time": "2025-02-15T04:53:54.816Z"
   },
   {
    "duration": 256,
    "start_time": "2025-02-15T04:53:54.839Z"
   },
   {
    "duration": 6,
    "start_time": "2025-02-15T04:53:55.097Z"
   },
   {
    "duration": 9,
    "start_time": "2025-02-15T04:53:55.104Z"
   },
   {
    "duration": 353,
    "start_time": "2025-02-15T04:53:55.114Z"
   },
   {
    "duration": 18,
    "start_time": "2025-02-15T04:53:55.469Z"
   },
   {
    "duration": 2,
    "start_time": "2025-02-15T04:53:55.489Z"
   },
   {
    "duration": 3,
    "start_time": "2025-02-15T04:53:55.493Z"
   },
   {
    "duration": 3,
    "start_time": "2025-02-15T04:53:55.497Z"
   },
   {
    "duration": 3,
    "start_time": "2025-02-15T04:53:55.502Z"
   },
   {
    "duration": 3,
    "start_time": "2025-02-15T04:53:55.506Z"
   },
   {
    "duration": 3,
    "start_time": "2025-02-15T04:53:55.511Z"
   },
   {
    "duration": 4,
    "start_time": "2025-02-15T04:53:55.515Z"
   },
   {
    "duration": 3,
    "start_time": "2025-02-15T04:53:55.521Z"
   },
   {
    "duration": 3,
    "start_time": "2025-02-15T04:53:55.525Z"
   },
   {
    "duration": 3,
    "start_time": "2025-02-15T04:53:55.530Z"
   },
   {
    "duration": 3,
    "start_time": "2025-02-15T04:53:55.535Z"
   },
   {
    "duration": 3,
    "start_time": "2025-02-15T04:53:55.540Z"
   },
   {
    "duration": 43,
    "start_time": "2025-02-15T04:53:55.544Z"
   },
   {
    "duration": 3,
    "start_time": "2025-02-15T04:53:55.588Z"
   },
   {
    "duration": 4,
    "start_time": "2025-02-15T04:53:55.592Z"
   },
   {
    "duration": 4,
    "start_time": "2025-02-15T04:53:55.597Z"
   },
   {
    "duration": 12,
    "start_time": "2025-02-15T04:54:14.927Z"
   },
   {
    "duration": 11,
    "start_time": "2025-02-15T04:54:16.794Z"
   },
   {
    "duration": 12,
    "start_time": "2025-02-15T04:54:18.967Z"
   },
   {
    "duration": 11,
    "start_time": "2025-02-15T04:54:37.539Z"
   },
   {
    "duration": 3,
    "start_time": "2025-02-15T04:55:44.640Z"
   },
   {
    "duration": 159,
    "start_time": "2025-02-15T04:55:44.645Z"
   },
   {
    "duration": 8,
    "start_time": "2025-02-15T04:55:44.806Z"
   },
   {
    "duration": 8,
    "start_time": "2025-02-15T04:55:44.816Z"
   },
   {
    "duration": 6,
    "start_time": "2025-02-15T04:55:44.827Z"
   },
   {
    "duration": 5,
    "start_time": "2025-02-15T04:55:44.836Z"
   },
   {
    "duration": 9,
    "start_time": "2025-02-15T04:55:44.842Z"
   },
   {
    "duration": 40,
    "start_time": "2025-02-15T04:55:44.853Z"
   },
   {
    "duration": 7,
    "start_time": "2025-02-15T04:55:44.895Z"
   },
   {
    "duration": 9,
    "start_time": "2025-02-15T04:55:44.903Z"
   },
   {
    "duration": 6,
    "start_time": "2025-02-15T04:55:44.915Z"
   },
   {
    "duration": 10,
    "start_time": "2025-02-15T04:55:44.922Z"
   },
   {
    "duration": 492,
    "start_time": "2025-02-15T04:55:44.933Z"
   },
   {
    "duration": 12,
    "start_time": "2025-02-15T04:55:45.427Z"
   },
   {
    "duration": 6,
    "start_time": "2025-02-15T04:55:45.441Z"
   },
   {
    "duration": 7,
    "start_time": "2025-02-15T04:55:45.450Z"
   },
   {
    "duration": 45,
    "start_time": "2025-02-15T04:55:45.459Z"
   },
   {
    "duration": 236,
    "start_time": "2025-02-15T04:55:45.506Z"
   },
   {
    "duration": 7,
    "start_time": "2025-02-15T04:55:45.744Z"
   },
   {
    "duration": 8,
    "start_time": "2025-02-15T04:55:45.753Z"
   },
   {
    "duration": 366,
    "start_time": "2025-02-15T04:55:45.763Z"
   },
   {
    "duration": 12,
    "start_time": "2025-02-15T04:55:46.131Z"
   },
   {
    "duration": 2,
    "start_time": "2025-02-15T04:55:46.145Z"
   },
   {
    "duration": 3,
    "start_time": "2025-02-15T04:55:46.149Z"
   },
   {
    "duration": 2,
    "start_time": "2025-02-15T04:55:46.154Z"
   },
   {
    "duration": 4,
    "start_time": "2025-02-15T04:55:46.158Z"
   },
   {
    "duration": 3,
    "start_time": "2025-02-15T04:55:46.188Z"
   },
   {
    "duration": 3,
    "start_time": "2025-02-15T04:55:46.193Z"
   },
   {
    "duration": 2,
    "start_time": "2025-02-15T04:55:46.201Z"
   },
   {
    "duration": 3,
    "start_time": "2025-02-15T04:55:46.204Z"
   },
   {
    "duration": 3,
    "start_time": "2025-02-15T04:55:46.209Z"
   },
   {
    "duration": 3,
    "start_time": "2025-02-15T04:55:46.214Z"
   },
   {
    "duration": 3,
    "start_time": "2025-02-15T04:55:46.219Z"
   },
   {
    "duration": 3,
    "start_time": "2025-02-15T04:55:46.223Z"
   },
   {
    "duration": 3,
    "start_time": "2025-02-15T04:55:46.228Z"
   },
   {
    "duration": 3,
    "start_time": "2025-02-15T04:55:46.233Z"
   },
   {
    "duration": 2,
    "start_time": "2025-02-15T04:55:46.238Z"
   },
   {
    "duration": 2,
    "start_time": "2025-02-15T04:55:46.243Z"
   },
   {
    "duration": 319,
    "start_time": "2025-02-15T04:59:46.899Z"
   },
   {
    "duration": 7,
    "start_time": "2025-02-15T05:01:01.573Z"
   },
   {
    "duration": 9,
    "start_time": "2025-02-15T05:02:21.715Z"
   },
   {
    "duration": 9,
    "start_time": "2025-02-15T05:02:25.189Z"
   },
   {
    "duration": 9,
    "start_time": "2025-02-15T05:02:29.744Z"
   },
   {
    "duration": 9,
    "start_time": "2025-02-15T05:02:32.552Z"
   },
   {
    "duration": 9,
    "start_time": "2025-02-15T05:02:35.033Z"
   },
   {
    "duration": 16,
    "start_time": "2025-02-15T05:03:07.999Z"
   },
   {
    "duration": 13,
    "start_time": "2025-02-15T05:06:54.600Z"
   },
   {
    "duration": 14,
    "start_time": "2025-02-15T05:10:18.657Z"
   },
   {
    "duration": 9,
    "start_time": "2025-02-15T05:10:22.549Z"
   },
   {
    "duration": 3,
    "start_time": "2025-02-15T05:44:05.115Z"
   },
   {
    "duration": 164,
    "start_time": "2025-02-15T05:44:07.150Z"
   },
   {
    "duration": 11,
    "start_time": "2025-02-15T05:44:10.159Z"
   },
   {
    "duration": 8,
    "start_time": "2025-02-15T05:44:13.257Z"
   },
   {
    "duration": 7,
    "start_time": "2025-02-15T05:44:16.542Z"
   },
   {
    "duration": 5,
    "start_time": "2025-02-15T05:44:21.292Z"
   },
   {
    "duration": 9,
    "start_time": "2025-02-15T05:44:23.982Z"
   },
   {
    "duration": 8,
    "start_time": "2025-02-15T05:44:26.587Z"
   },
   {
    "duration": 6,
    "start_time": "2025-02-15T05:44:30.023Z"
   },
   {
    "duration": 10,
    "start_time": "2025-02-15T05:44:32.379Z"
   },
   {
    "duration": 18,
    "start_time": "2025-02-15T05:44:35.047Z"
   },
   {
    "duration": 9,
    "start_time": "2025-02-15T05:44:37.617Z"
   },
   {
    "duration": 440,
    "start_time": "2025-02-15T05:44:40.307Z"
   },
   {
    "duration": 10,
    "start_time": "2025-02-15T05:44:42.903Z"
   },
   {
    "duration": 12,
    "start_time": "2025-02-15T05:44:46.228Z"
   },
   {
    "duration": 7,
    "start_time": "2025-02-15T05:44:48.946Z"
   },
   {
    "duration": 22,
    "start_time": "2025-02-15T05:44:53.525Z"
   },
   {
    "duration": 228,
    "start_time": "2025-02-15T05:44:56.036Z"
   },
   {
    "duration": 14,
    "start_time": "2025-02-15T05:44:58.956Z"
   },
   {
    "duration": 8,
    "start_time": "2025-02-15T05:45:02.780Z"
   },
   {
    "duration": 337,
    "start_time": "2025-02-15T05:45:05.338Z"
   },
   {
    "duration": 12,
    "start_time": "2025-02-15T05:45:08.119Z"
   },
   {
    "duration": 274,
    "start_time": "2025-02-15T05:45:10.653Z"
   },
   {
    "duration": 5,
    "start_time": "2025-02-15T05:47:13.838Z"
   },
   {
    "duration": 5,
    "start_time": "2025-02-15T05:47:27.814Z"
   },
   {
    "duration": 5,
    "start_time": "2025-02-15T05:50:30.884Z"
   },
   {
    "duration": 28,
    "start_time": "2025-02-15T05:57:15.106Z"
   },
   {
    "duration": 325,
    "start_time": "2025-02-15T05:58:06.625Z"
   },
   {
    "duration": 41,
    "start_time": "2025-02-15T06:02:22.700Z"
   },
   {
    "duration": 39,
    "start_time": "2025-02-15T06:03:13.686Z"
   },
   {
    "duration": 41,
    "start_time": "2025-02-15T06:03:39.284Z"
   },
   {
    "duration": 470,
    "start_time": "2025-02-15T06:04:20.882Z"
   },
   {
    "duration": 488,
    "start_time": "2025-02-15T06:07:16.641Z"
   },
   {
    "duration": 568,
    "start_time": "2025-02-15T06:07:28.698Z"
   },
   {
    "duration": 80,
    "start_time": "2025-02-15T06:10:46.600Z"
   },
   {
    "duration": 503,
    "start_time": "2025-02-15T06:19:08.019Z"
   },
   {
    "duration": 490,
    "start_time": "2025-02-15T06:19:12.453Z"
   },
   {
    "duration": 591,
    "start_time": "2025-02-15T06:20:28.752Z"
   },
   {
    "duration": 421,
    "start_time": "2025-02-15T06:23:13.906Z"
   },
   {
    "duration": 503,
    "start_time": "2025-02-15T06:23:22.191Z"
   },
   {
    "duration": 3,
    "start_time": "2025-02-15T06:23:28.505Z"
   },
   {
    "duration": 180,
    "start_time": "2025-02-15T06:23:28.510Z"
   },
   {
    "duration": 9,
    "start_time": "2025-02-15T06:23:28.692Z"
   },
   {
    "duration": 8,
    "start_time": "2025-02-15T06:23:28.703Z"
   },
   {
    "duration": 6,
    "start_time": "2025-02-15T06:23:28.714Z"
   },
   {
    "duration": 7,
    "start_time": "2025-02-15T06:23:28.722Z"
   },
   {
    "duration": 9,
    "start_time": "2025-02-15T06:23:28.732Z"
   },
   {
    "duration": 43,
    "start_time": "2025-02-15T06:23:28.743Z"
   },
   {
    "duration": 9,
    "start_time": "2025-02-15T06:23:28.790Z"
   },
   {
    "duration": 12,
    "start_time": "2025-02-15T06:23:28.801Z"
   },
   {
    "duration": 22,
    "start_time": "2025-02-15T06:23:28.818Z"
   },
   {
    "duration": 11,
    "start_time": "2025-02-15T06:23:28.842Z"
   },
   {
    "duration": 477,
    "start_time": "2025-02-15T06:23:28.855Z"
   },
   {
    "duration": 13,
    "start_time": "2025-02-15T06:23:29.333Z"
   },
   {
    "duration": 13,
    "start_time": "2025-02-15T06:23:29.347Z"
   },
   {
    "duration": 7,
    "start_time": "2025-02-15T06:23:29.362Z"
   },
   {
    "duration": 20,
    "start_time": "2025-02-15T06:23:29.387Z"
   },
   {
    "duration": 259,
    "start_time": "2025-02-15T06:23:29.408Z"
   },
   {
    "duration": 23,
    "start_time": "2025-02-15T06:23:29.670Z"
   },
   {
    "duration": 10,
    "start_time": "2025-02-15T06:23:29.695Z"
   },
   {
    "duration": 374,
    "start_time": "2025-02-15T06:23:29.707Z"
   },
   {
    "duration": 11,
    "start_time": "2025-02-15T06:23:30.083Z"
   },
   {
    "duration": 5,
    "start_time": "2025-02-15T06:23:30.097Z"
   },
   {
    "duration": 29,
    "start_time": "2025-02-15T06:23:30.104Z"
   },
   {
    "duration": 0,
    "start_time": "2025-02-15T06:23:30.135Z"
   },
   {
    "duration": 0,
    "start_time": "2025-02-15T06:23:30.136Z"
   },
   {
    "duration": 0,
    "start_time": "2025-02-15T06:23:30.138Z"
   },
   {
    "duration": 0,
    "start_time": "2025-02-15T06:23:30.138Z"
   },
   {
    "duration": 0,
    "start_time": "2025-02-15T06:23:30.141Z"
   },
   {
    "duration": 0,
    "start_time": "2025-02-15T06:23:30.142Z"
   },
   {
    "duration": 0,
    "start_time": "2025-02-15T06:23:30.144Z"
   },
   {
    "duration": 0,
    "start_time": "2025-02-15T06:23:30.145Z"
   },
   {
    "duration": 0,
    "start_time": "2025-02-15T06:23:30.146Z"
   },
   {
    "duration": 0,
    "start_time": "2025-02-15T06:23:30.148Z"
   },
   {
    "duration": 0,
    "start_time": "2025-02-15T06:23:30.150Z"
   },
   {
    "duration": 0,
    "start_time": "2025-02-15T06:23:30.150Z"
   },
   {
    "duration": 0,
    "start_time": "2025-02-15T06:23:30.151Z"
   },
   {
    "duration": 1,
    "start_time": "2025-02-15T06:23:30.151Z"
   },
   {
    "duration": 30,
    "start_time": "2025-02-15T06:24:05.438Z"
   },
   {
    "duration": 30,
    "start_time": "2025-02-15T06:26:34.034Z"
   },
   {
    "duration": 591,
    "start_time": "2025-02-15T06:27:09.434Z"
   },
   {
    "duration": 427,
    "start_time": "2025-02-15T06:27:28.190Z"
   },
   {
    "duration": 473,
    "start_time": "2025-02-15T06:27:31.343Z"
   },
   {
    "duration": 475,
    "start_time": "2025-02-15T06:27:43.179Z"
   },
   {
    "duration": 28,
    "start_time": "2025-02-15T06:27:56.244Z"
   },
   {
    "duration": 506,
    "start_time": "2025-02-15T06:28:12.687Z"
   },
   {
    "duration": 593,
    "start_time": "2025-02-15T06:28:38.908Z"
   },
   {
    "duration": 54,
    "start_time": "2025-02-15T06:29:20.311Z"
   },
   {
    "duration": 206,
    "start_time": "2025-02-15T06:38:44.084Z"
   },
   {
    "duration": 449,
    "start_time": "2025-02-15T06:39:05.121Z"
   },
   {
    "duration": 538,
    "start_time": "2025-02-15T06:42:14.483Z"
   },
   {
    "duration": 332,
    "start_time": "2025-02-15T06:43:04.604Z"
   },
   {
    "duration": 256,
    "start_time": "2025-02-15T06:44:52.079Z"
   },
   {
    "duration": 16,
    "start_time": "2025-02-15T06:45:21.718Z"
   },
   {
    "duration": 13,
    "start_time": "2025-02-15T06:45:23.538Z"
   },
   {
    "duration": 19,
    "start_time": "2025-02-15T06:45:30.563Z"
   },
   {
    "duration": 236,
    "start_time": "2025-02-15T06:45:32.697Z"
   },
   {
    "duration": 28,
    "start_time": "2025-02-15T06:45:58.578Z"
   },
   {
    "duration": 5,
    "start_time": "2025-02-15T06:46:07.669Z"
   },
   {
    "duration": 331,
    "start_time": "2025-02-15T06:46:14.256Z"
   },
   {
    "duration": 6,
    "start_time": "2025-02-15T06:47:17.654Z"
   },
   {
    "duration": 221,
    "start_time": "2025-02-15T06:48:12.020Z"
   },
   {
    "duration": 338,
    "start_time": "2025-02-15T06:48:18.381Z"
   },
   {
    "duration": 2,
    "start_time": "2025-02-15T06:51:20.103Z"
   },
   {
    "duration": 155,
    "start_time": "2025-02-15T06:51:20.108Z"
   },
   {
    "duration": 8,
    "start_time": "2025-02-15T06:51:20.265Z"
   },
   {
    "duration": 11,
    "start_time": "2025-02-15T06:51:20.275Z"
   },
   {
    "duration": 6,
    "start_time": "2025-02-15T06:51:20.289Z"
   },
   {
    "duration": 5,
    "start_time": "2025-02-15T06:51:20.296Z"
   },
   {
    "duration": 8,
    "start_time": "2025-02-15T06:51:20.303Z"
   },
   {
    "duration": 8,
    "start_time": "2025-02-15T06:51:20.312Z"
   },
   {
    "duration": 7,
    "start_time": "2025-02-15T06:51:20.322Z"
   },
   {
    "duration": 10,
    "start_time": "2025-02-15T06:51:20.330Z"
   },
   {
    "duration": 53,
    "start_time": "2025-02-15T06:51:20.342Z"
   },
   {
    "duration": 9,
    "start_time": "2025-02-15T06:51:20.397Z"
   },
   {
    "duration": 456,
    "start_time": "2025-02-15T06:51:20.408Z"
   },
   {
    "duration": 21,
    "start_time": "2025-02-15T06:51:20.865Z"
   },
   {
    "duration": 14,
    "start_time": "2025-02-15T06:51:20.888Z"
   },
   {
    "duration": 7,
    "start_time": "2025-02-15T06:51:20.904Z"
   },
   {
    "duration": 25,
    "start_time": "2025-02-15T06:51:20.913Z"
   },
   {
    "duration": 251,
    "start_time": "2025-02-15T06:51:20.939Z"
   },
   {
    "duration": 15,
    "start_time": "2025-02-15T06:51:21.192Z"
   },
   {
    "duration": 10,
    "start_time": "2025-02-15T06:51:21.208Z"
   },
   {
    "duration": 357,
    "start_time": "2025-02-15T06:51:21.219Z"
   },
   {
    "duration": 13,
    "start_time": "2025-02-15T06:51:21.578Z"
   },
   {
    "duration": 5,
    "start_time": "2025-02-15T06:51:21.594Z"
   },
   {
    "duration": 522,
    "start_time": "2025-02-15T06:51:21.600Z"
   },
   {
    "duration": 52,
    "start_time": "2025-02-15T06:51:22.125Z"
   },
   {
    "duration": 338,
    "start_time": "2025-02-15T06:51:22.179Z"
   },
   {
    "duration": 2,
    "start_time": "2025-02-15T06:51:22.519Z"
   },
   {
    "duration": 2,
    "start_time": "2025-02-15T06:51:22.523Z"
   },
   {
    "duration": 1,
    "start_time": "2025-02-15T06:51:22.530Z"
   },
   {
    "duration": 3,
    "start_time": "2025-02-15T06:51:22.533Z"
   },
   {
    "duration": 3,
    "start_time": "2025-02-15T06:51:22.538Z"
   },
   {
    "duration": 3,
    "start_time": "2025-02-15T06:51:22.542Z"
   },
   {
    "duration": 4,
    "start_time": "2025-02-15T06:51:22.546Z"
   },
   {
    "duration": 3,
    "start_time": "2025-02-15T06:51:22.551Z"
   },
   {
    "duration": 3,
    "start_time": "2025-02-15T06:51:22.586Z"
   },
   {
    "duration": 3,
    "start_time": "2025-02-15T06:51:22.590Z"
   },
   {
    "duration": 3,
    "start_time": "2025-02-15T06:51:22.595Z"
   },
   {
    "duration": 3,
    "start_time": "2025-02-15T06:51:22.599Z"
   },
   {
    "duration": 331,
    "start_time": "2025-02-15T06:52:11.723Z"
   },
   {
    "duration": 43,
    "start_time": "2025-02-15T06:59:35.555Z"
   },
   {
    "duration": 40,
    "start_time": "2025-02-15T06:59:48.967Z"
   },
   {
    "duration": 426,
    "start_time": "2025-02-15T07:00:16.177Z"
   },
   {
    "duration": 3,
    "start_time": "2025-02-15T07:01:34.570Z"
   },
   {
    "duration": 161,
    "start_time": "2025-02-15T07:01:34.575Z"
   },
   {
    "duration": 9,
    "start_time": "2025-02-15T07:01:34.737Z"
   },
   {
    "duration": 8,
    "start_time": "2025-02-15T07:01:34.747Z"
   },
   {
    "duration": 6,
    "start_time": "2025-02-15T07:01:34.758Z"
   },
   {
    "duration": 23,
    "start_time": "2025-02-15T07:01:34.765Z"
   },
   {
    "duration": 8,
    "start_time": "2025-02-15T07:01:34.790Z"
   },
   {
    "duration": 9,
    "start_time": "2025-02-15T07:01:34.799Z"
   },
   {
    "duration": 7,
    "start_time": "2025-02-15T07:01:34.810Z"
   },
   {
    "duration": 8,
    "start_time": "2025-02-15T07:01:34.820Z"
   },
   {
    "duration": 16,
    "start_time": "2025-02-15T07:01:34.830Z"
   },
   {
    "duration": 42,
    "start_time": "2025-02-15T07:01:34.847Z"
   },
   {
    "duration": 454,
    "start_time": "2025-02-15T07:01:34.893Z"
   },
   {
    "duration": 11,
    "start_time": "2025-02-15T07:01:35.348Z"
   },
   {
    "duration": 25,
    "start_time": "2025-02-15T07:01:35.361Z"
   },
   {
    "duration": 7,
    "start_time": "2025-02-15T07:01:35.388Z"
   },
   {
    "duration": 25,
    "start_time": "2025-02-15T07:01:35.397Z"
   },
   {
    "duration": 254,
    "start_time": "2025-02-15T07:01:35.423Z"
   },
   {
    "duration": 19,
    "start_time": "2025-02-15T07:01:35.679Z"
   },
   {
    "duration": 9,
    "start_time": "2025-02-15T07:01:35.700Z"
   },
   {
    "duration": 348,
    "start_time": "2025-02-15T07:01:35.710Z"
   },
   {
    "duration": 10,
    "start_time": "2025-02-15T07:01:36.059Z"
   },
   {
    "duration": 17,
    "start_time": "2025-02-15T07:01:36.070Z"
   },
   {
    "duration": 528,
    "start_time": "2025-02-15T07:01:36.089Z"
   },
   {
    "duration": 67,
    "start_time": "2025-02-15T07:01:36.619Z"
   },
   {
    "duration": 233,
    "start_time": "2025-02-15T07:01:36.688Z"
   },
   {
    "duration": 426,
    "start_time": "2025-02-15T07:01:36.923Z"
   },
   {
    "duration": 3,
    "start_time": "2025-02-15T07:01:37.351Z"
   },
   {
    "duration": 2,
    "start_time": "2025-02-15T07:01:37.356Z"
   },
   {
    "duration": 3,
    "start_time": "2025-02-15T07:01:37.360Z"
   },
   {
    "duration": 4,
    "start_time": "2025-02-15T07:01:37.364Z"
   },
   {
    "duration": 4,
    "start_time": "2025-02-15T07:01:37.388Z"
   },
   {
    "duration": 3,
    "start_time": "2025-02-15T07:01:37.394Z"
   },
   {
    "duration": 3,
    "start_time": "2025-02-15T07:01:37.398Z"
   },
   {
    "duration": 3,
    "start_time": "2025-02-15T07:01:37.403Z"
   },
   {
    "duration": 4,
    "start_time": "2025-02-15T07:01:37.408Z"
   },
   {
    "duration": 3,
    "start_time": "2025-02-15T07:01:37.415Z"
   },
   {
    "duration": 2,
    "start_time": "2025-02-15T07:01:37.420Z"
   },
   {
    "duration": 3,
    "start_time": "2025-02-15T07:04:07.738Z"
   },
   {
    "duration": 156,
    "start_time": "2025-02-15T07:04:07.743Z"
   },
   {
    "duration": 9,
    "start_time": "2025-02-15T07:04:07.901Z"
   },
   {
    "duration": 7,
    "start_time": "2025-02-15T07:04:07.912Z"
   },
   {
    "duration": 6,
    "start_time": "2025-02-15T07:04:07.921Z"
   },
   {
    "duration": 6,
    "start_time": "2025-02-15T07:04:07.929Z"
   },
   {
    "duration": 9,
    "start_time": "2025-02-15T07:04:07.936Z"
   },
   {
    "duration": 9,
    "start_time": "2025-02-15T07:04:07.946Z"
   },
   {
    "duration": 8,
    "start_time": "2025-02-15T07:04:07.986Z"
   },
   {
    "duration": 9,
    "start_time": "2025-02-15T07:04:07.998Z"
   },
   {
    "duration": 16,
    "start_time": "2025-02-15T07:04:08.008Z"
   },
   {
    "duration": 9,
    "start_time": "2025-02-15T07:04:08.026Z"
   },
   {
    "duration": 479,
    "start_time": "2025-02-15T07:04:08.037Z"
   },
   {
    "duration": 12,
    "start_time": "2025-02-15T07:04:08.517Z"
   },
   {
    "duration": 12,
    "start_time": "2025-02-15T07:04:08.531Z"
   },
   {
    "duration": 7,
    "start_time": "2025-02-15T07:04:08.545Z"
   },
   {
    "duration": 46,
    "start_time": "2025-02-15T07:04:08.554Z"
   },
   {
    "duration": 243,
    "start_time": "2025-02-15T07:04:08.604Z"
   },
   {
    "duration": 14,
    "start_time": "2025-02-15T07:04:08.849Z"
   },
   {
    "duration": 22,
    "start_time": "2025-02-15T07:04:08.865Z"
   },
   {
    "duration": 346,
    "start_time": "2025-02-15T07:04:08.889Z"
   },
   {
    "duration": 9,
    "start_time": "2025-02-15T07:04:09.237Z"
   },
   {
    "duration": 7,
    "start_time": "2025-02-15T07:04:09.247Z"
   },
   {
    "duration": 531,
    "start_time": "2025-02-15T07:04:09.255Z"
   },
   {
    "duration": 52,
    "start_time": "2025-02-15T07:04:09.788Z"
   },
   {
    "duration": 357,
    "start_time": "2025-02-15T07:04:09.841Z"
   },
   {
    "duration": 425,
    "start_time": "2025-02-15T07:04:10.200Z"
   },
   {
    "duration": 2,
    "start_time": "2025-02-15T07:04:10.630Z"
   },
   {
    "duration": 3,
    "start_time": "2025-02-15T07:04:10.634Z"
   },
   {
    "duration": 2,
    "start_time": "2025-02-15T07:04:10.639Z"
   },
   {
    "duration": 3,
    "start_time": "2025-02-15T07:04:10.643Z"
   },
   {
    "duration": 3,
    "start_time": "2025-02-15T07:04:10.648Z"
   },
   {
    "duration": 3,
    "start_time": "2025-02-15T07:04:10.652Z"
   },
   {
    "duration": 30,
    "start_time": "2025-02-15T07:04:10.657Z"
   },
   {
    "duration": 3,
    "start_time": "2025-02-15T07:04:10.689Z"
   },
   {
    "duration": 3,
    "start_time": "2025-02-15T07:04:10.693Z"
   },
   {
    "duration": 3,
    "start_time": "2025-02-15T07:04:10.698Z"
   },
   {
    "duration": 3,
    "start_time": "2025-02-15T07:04:10.702Z"
   },
   {
    "duration": 404,
    "start_time": "2025-02-15T07:04:29.630Z"
   },
   {
    "duration": 30,
    "start_time": "2025-02-15T07:06:52.357Z"
   },
   {
    "duration": 33,
    "start_time": "2025-02-15T07:06:59.912Z"
   },
   {
    "duration": 40,
    "start_time": "2025-02-15T07:07:33.148Z"
   },
   {
    "duration": 2,
    "start_time": "2025-02-15T07:07:37.940Z"
   },
   {
    "duration": 149,
    "start_time": "2025-02-15T07:07:37.944Z"
   },
   {
    "duration": 8,
    "start_time": "2025-02-15T07:07:38.095Z"
   },
   {
    "duration": 8,
    "start_time": "2025-02-15T07:07:38.105Z"
   },
   {
    "duration": 8,
    "start_time": "2025-02-15T07:07:38.115Z"
   },
   {
    "duration": 9,
    "start_time": "2025-02-15T07:07:38.124Z"
   },
   {
    "duration": 10,
    "start_time": "2025-02-15T07:07:38.135Z"
   },
   {
    "duration": 8,
    "start_time": "2025-02-15T07:07:38.147Z"
   },
   {
    "duration": 36,
    "start_time": "2025-02-15T07:07:38.157Z"
   },
   {
    "duration": 10,
    "start_time": "2025-02-15T07:07:38.194Z"
   },
   {
    "duration": 15,
    "start_time": "2025-02-15T07:07:38.207Z"
   },
   {
    "duration": 10,
    "start_time": "2025-02-15T07:07:38.223Z"
   },
   {
    "duration": 482,
    "start_time": "2025-02-15T07:07:38.235Z"
   },
   {
    "duration": 10,
    "start_time": "2025-02-15T07:07:38.719Z"
   },
   {
    "duration": 13,
    "start_time": "2025-02-15T07:07:38.730Z"
   },
   {
    "duration": 8,
    "start_time": "2025-02-15T07:07:38.744Z"
   },
   {
    "duration": 41,
    "start_time": "2025-02-15T07:07:38.754Z"
   },
   {
    "duration": 241,
    "start_time": "2025-02-15T07:07:38.797Z"
   },
   {
    "duration": 15,
    "start_time": "2025-02-15T07:07:39.040Z"
   },
   {
    "duration": 9,
    "start_time": "2025-02-15T07:07:39.056Z"
   },
   {
    "duration": 364,
    "start_time": "2025-02-15T07:07:39.067Z"
   },
   {
    "duration": 8,
    "start_time": "2025-02-15T07:07:39.433Z"
   },
   {
    "duration": 6,
    "start_time": "2025-02-15T07:07:39.443Z"
   },
   {
    "duration": 541,
    "start_time": "2025-02-15T07:07:39.450Z"
   },
   {
    "duration": 55,
    "start_time": "2025-02-15T07:07:39.993Z"
   },
   {
    "duration": 237,
    "start_time": "2025-02-15T07:07:40.050Z"
   },
   {
    "duration": 28,
    "start_time": "2025-02-15T07:07:40.289Z"
   },
   {
    "duration": 0,
    "start_time": "2025-02-15T07:07:40.319Z"
   },
   {
    "duration": 0,
    "start_time": "2025-02-15T07:07:40.321Z"
   },
   {
    "duration": 0,
    "start_time": "2025-02-15T07:07:40.322Z"
   },
   {
    "duration": 0,
    "start_time": "2025-02-15T07:07:40.323Z"
   },
   {
    "duration": 0,
    "start_time": "2025-02-15T07:07:40.324Z"
   },
   {
    "duration": 0,
    "start_time": "2025-02-15T07:07:40.325Z"
   },
   {
    "duration": 0,
    "start_time": "2025-02-15T07:07:40.326Z"
   },
   {
    "duration": 0,
    "start_time": "2025-02-15T07:07:40.327Z"
   },
   {
    "duration": 0,
    "start_time": "2025-02-15T07:07:40.328Z"
   },
   {
    "duration": 0,
    "start_time": "2025-02-15T07:07:40.329Z"
   },
   {
    "duration": 0,
    "start_time": "2025-02-15T07:07:40.330Z"
   },
   {
    "duration": 54,
    "start_time": "2025-02-15T07:08:02.836Z"
   },
   {
    "duration": 13,
    "start_time": "2025-02-15T07:08:56.902Z"
   },
   {
    "duration": 3,
    "start_time": "2025-02-15T07:09:08.141Z"
   },
   {
    "duration": 159,
    "start_time": "2025-02-15T07:09:08.146Z"
   },
   {
    "duration": 9,
    "start_time": "2025-02-15T07:09:08.307Z"
   },
   {
    "duration": 7,
    "start_time": "2025-02-15T07:09:08.319Z"
   },
   {
    "duration": 8,
    "start_time": "2025-02-15T07:09:08.328Z"
   },
   {
    "duration": 7,
    "start_time": "2025-02-15T07:09:08.338Z"
   },
   {
    "duration": 10,
    "start_time": "2025-02-15T07:09:08.346Z"
   },
   {
    "duration": 10,
    "start_time": "2025-02-15T07:09:08.386Z"
   },
   {
    "duration": 7,
    "start_time": "2025-02-15T07:09:08.398Z"
   },
   {
    "duration": 9,
    "start_time": "2025-02-15T07:09:08.407Z"
   },
   {
    "duration": 15,
    "start_time": "2025-02-15T07:09:08.420Z"
   },
   {
    "duration": 9,
    "start_time": "2025-02-15T07:09:08.437Z"
   },
   {
    "duration": 477,
    "start_time": "2025-02-15T07:09:08.449Z"
   },
   {
    "duration": 10,
    "start_time": "2025-02-15T07:09:08.928Z"
   },
   {
    "duration": 12,
    "start_time": "2025-02-15T07:09:08.941Z"
   },
   {
    "duration": 7,
    "start_time": "2025-02-15T07:09:08.954Z"
   },
   {
    "duration": 42,
    "start_time": "2025-02-15T07:09:08.963Z"
   },
   {
    "duration": 245,
    "start_time": "2025-02-15T07:09:09.006Z"
   },
   {
    "duration": 15,
    "start_time": "2025-02-15T07:09:09.253Z"
   },
   {
    "duration": 22,
    "start_time": "2025-02-15T07:09:09.270Z"
   },
   {
    "duration": 344,
    "start_time": "2025-02-15T07:09:09.293Z"
   },
   {
    "duration": 10,
    "start_time": "2025-02-15T07:09:09.639Z"
   },
   {
    "duration": 7,
    "start_time": "2025-02-15T07:09:09.650Z"
   },
   {
    "duration": 536,
    "start_time": "2025-02-15T07:09:09.658Z"
   },
   {
    "duration": 53,
    "start_time": "2025-02-15T07:09:10.196Z"
   },
   {
    "duration": 345,
    "start_time": "2025-02-15T07:09:10.251Z"
   },
   {
    "duration": 45,
    "start_time": "2025-02-15T07:09:10.598Z"
   },
   {
    "duration": 3,
    "start_time": "2025-02-15T07:09:10.645Z"
   },
   {
    "duration": 2,
    "start_time": "2025-02-15T07:09:10.652Z"
   },
   {
    "duration": 4,
    "start_time": "2025-02-15T07:09:10.655Z"
   },
   {
    "duration": 27,
    "start_time": "2025-02-15T07:09:10.660Z"
   },
   {
    "duration": 3,
    "start_time": "2025-02-15T07:09:10.689Z"
   },
   {
    "duration": 3,
    "start_time": "2025-02-15T07:09:10.694Z"
   },
   {
    "duration": 4,
    "start_time": "2025-02-15T07:09:10.698Z"
   },
   {
    "duration": 4,
    "start_time": "2025-02-15T07:09:10.703Z"
   },
   {
    "duration": 3,
    "start_time": "2025-02-15T07:09:10.708Z"
   },
   {
    "duration": 3,
    "start_time": "2025-02-15T07:09:10.713Z"
   },
   {
    "duration": 3,
    "start_time": "2025-02-15T07:09:10.718Z"
   },
   {
    "duration": 437,
    "start_time": "2025-02-15T07:10:03.042Z"
   },
   {
    "duration": 3,
    "start_time": "2025-02-15T07:10:19.698Z"
   },
   {
    "duration": 154,
    "start_time": "2025-02-15T07:10:19.703Z"
   },
   {
    "duration": 7,
    "start_time": "2025-02-15T07:10:19.859Z"
   },
   {
    "duration": 8,
    "start_time": "2025-02-15T07:10:19.869Z"
   },
   {
    "duration": 6,
    "start_time": "2025-02-15T07:10:19.887Z"
   },
   {
    "duration": 5,
    "start_time": "2025-02-15T07:10:19.895Z"
   },
   {
    "duration": 9,
    "start_time": "2025-02-15T07:10:19.902Z"
   },
   {
    "duration": 8,
    "start_time": "2025-02-15T07:10:19.912Z"
   },
   {
    "duration": 7,
    "start_time": "2025-02-15T07:10:19.921Z"
   },
   {
    "duration": 10,
    "start_time": "2025-02-15T07:10:19.929Z"
   },
   {
    "duration": 51,
    "start_time": "2025-02-15T07:10:19.940Z"
   },
   {
    "duration": 8,
    "start_time": "2025-02-15T07:10:19.993Z"
   },
   {
    "duration": 449,
    "start_time": "2025-02-15T07:10:20.003Z"
   },
   {
    "duration": 11,
    "start_time": "2025-02-15T07:10:20.456Z"
   },
   {
    "duration": 23,
    "start_time": "2025-02-15T07:10:20.469Z"
   },
   {
    "duration": 7,
    "start_time": "2025-02-15T07:10:20.494Z"
   },
   {
    "duration": 23,
    "start_time": "2025-02-15T07:10:20.503Z"
   },
   {
    "duration": 256,
    "start_time": "2025-02-15T07:10:20.528Z"
   },
   {
    "duration": 15,
    "start_time": "2025-02-15T07:10:20.786Z"
   },
   {
    "duration": 10,
    "start_time": "2025-02-15T07:10:20.803Z"
   },
   {
    "duration": 355,
    "start_time": "2025-02-15T07:10:20.815Z"
   },
   {
    "duration": 20,
    "start_time": "2025-02-15T07:10:21.171Z"
   },
   {
    "duration": 4,
    "start_time": "2025-02-15T07:10:21.193Z"
   },
   {
    "duration": 529,
    "start_time": "2025-02-15T07:10:21.199Z"
   },
   {
    "duration": 57,
    "start_time": "2025-02-15T07:10:21.730Z"
   },
   {
    "duration": 355,
    "start_time": "2025-02-15T07:10:21.788Z"
   },
   {
    "duration": 308,
    "start_time": "2025-02-15T07:10:22.145Z"
   },
   {
    "duration": 4,
    "start_time": "2025-02-15T07:10:22.456Z"
   },
   {
    "duration": 3,
    "start_time": "2025-02-15T07:10:22.462Z"
   },
   {
    "duration": 3,
    "start_time": "2025-02-15T07:10:22.466Z"
   },
   {
    "duration": 15,
    "start_time": "2025-02-15T07:10:22.471Z"
   },
   {
    "duration": 2,
    "start_time": "2025-02-15T07:10:22.488Z"
   },
   {
    "duration": 3,
    "start_time": "2025-02-15T07:10:22.492Z"
   },
   {
    "duration": 3,
    "start_time": "2025-02-15T07:10:22.496Z"
   },
   {
    "duration": 2,
    "start_time": "2025-02-15T07:10:22.502Z"
   },
   {
    "duration": 4,
    "start_time": "2025-02-15T07:10:22.505Z"
   },
   {
    "duration": 4,
    "start_time": "2025-02-15T07:10:22.510Z"
   },
   {
    "duration": 3,
    "start_time": "2025-02-15T07:10:22.516Z"
   },
   {
    "duration": 403,
    "start_time": "2025-02-15T07:10:56.416Z"
   },
   {
    "duration": 3,
    "start_time": "2025-02-15T07:11:05.829Z"
   },
   {
    "duration": 152,
    "start_time": "2025-02-15T07:11:05.835Z"
   },
   {
    "duration": 9,
    "start_time": "2025-02-15T07:11:05.990Z"
   },
   {
    "duration": 8,
    "start_time": "2025-02-15T07:11:06.001Z"
   },
   {
    "duration": 7,
    "start_time": "2025-02-15T07:11:06.012Z"
   },
   {
    "duration": 6,
    "start_time": "2025-02-15T07:11:06.021Z"
   },
   {
    "duration": 9,
    "start_time": "2025-02-15T07:11:06.028Z"
   },
   {
    "duration": 9,
    "start_time": "2025-02-15T07:11:06.039Z"
   },
   {
    "duration": 39,
    "start_time": "2025-02-15T07:11:06.050Z"
   },
   {
    "duration": 10,
    "start_time": "2025-02-15T07:11:06.091Z"
   },
   {
    "duration": 18,
    "start_time": "2025-02-15T07:11:06.102Z"
   },
   {
    "duration": 10,
    "start_time": "2025-02-15T07:11:06.121Z"
   },
   {
    "duration": 466,
    "start_time": "2025-02-15T07:11:06.134Z"
   },
   {
    "duration": 10,
    "start_time": "2025-02-15T07:11:06.603Z"
   },
   {
    "duration": 12,
    "start_time": "2025-02-15T07:11:06.615Z"
   },
   {
    "duration": 7,
    "start_time": "2025-02-15T07:11:06.629Z"
   },
   {
    "duration": 48,
    "start_time": "2025-02-15T07:11:06.638Z"
   },
   {
    "duration": 234,
    "start_time": "2025-02-15T07:11:06.688Z"
   },
   {
    "duration": 15,
    "start_time": "2025-02-15T07:11:06.924Z"
   },
   {
    "duration": 9,
    "start_time": "2025-02-15T07:11:06.941Z"
   },
   {
    "duration": 361,
    "start_time": "2025-02-15T07:11:06.952Z"
   },
   {
    "duration": 10,
    "start_time": "2025-02-15T07:11:07.315Z"
   },
   {
    "duration": 5,
    "start_time": "2025-02-15T07:11:07.328Z"
   },
   {
    "duration": 653,
    "start_time": "2025-02-15T07:11:07.334Z"
   },
   {
    "duration": 59,
    "start_time": "2025-02-15T07:11:07.989Z"
   },
   {
    "duration": 237,
    "start_time": "2025-02-15T07:11:08.050Z"
   },
   {
    "duration": 501,
    "start_time": "2025-02-15T07:11:08.290Z"
   },
   {
    "duration": 3,
    "start_time": "2025-02-15T07:11:08.793Z"
   },
   {
    "duration": 3,
    "start_time": "2025-02-15T07:11:08.797Z"
   },
   {
    "duration": 2,
    "start_time": "2025-02-15T07:11:08.802Z"
   },
   {
    "duration": 2,
    "start_time": "2025-02-15T07:11:08.806Z"
   },
   {
    "duration": 2,
    "start_time": "2025-02-15T07:11:08.810Z"
   },
   {
    "duration": 5,
    "start_time": "2025-02-15T07:11:08.814Z"
   },
   {
    "duration": 2,
    "start_time": "2025-02-15T07:11:08.820Z"
   },
   {
    "duration": 2,
    "start_time": "2025-02-15T07:11:08.824Z"
   },
   {
    "duration": 2,
    "start_time": "2025-02-15T07:11:08.828Z"
   },
   {
    "duration": 56,
    "start_time": "2025-02-15T07:11:08.833Z"
   },
   {
    "duration": 2,
    "start_time": "2025-02-15T07:11:08.892Z"
   },
   {
    "duration": 17,
    "start_time": "2025-02-15T07:14:16.754Z"
   },
   {
    "duration": 16,
    "start_time": "2025-02-15T07:14:33.797Z"
   },
   {
    "duration": 2,
    "start_time": "2025-02-15T07:14:57.741Z"
   },
   {
    "duration": 151,
    "start_time": "2025-02-15T07:14:57.747Z"
   },
   {
    "duration": 8,
    "start_time": "2025-02-15T07:14:57.900Z"
   },
   {
    "duration": 8,
    "start_time": "2025-02-15T07:14:57.910Z"
   },
   {
    "duration": 6,
    "start_time": "2025-02-15T07:14:57.920Z"
   },
   {
    "duration": 5,
    "start_time": "2025-02-15T07:14:57.929Z"
   },
   {
    "duration": 7,
    "start_time": "2025-02-15T07:14:57.936Z"
   },
   {
    "duration": 8,
    "start_time": "2025-02-15T07:14:57.946Z"
   },
   {
    "duration": 36,
    "start_time": "2025-02-15T07:14:57.955Z"
   },
   {
    "duration": 10,
    "start_time": "2025-02-15T07:14:57.993Z"
   },
   {
    "duration": 14,
    "start_time": "2025-02-15T07:14:58.004Z"
   },
   {
    "duration": 9,
    "start_time": "2025-02-15T07:14:58.020Z"
   },
   {
    "duration": 480,
    "start_time": "2025-02-15T07:14:58.030Z"
   },
   {
    "duration": 10,
    "start_time": "2025-02-15T07:14:58.513Z"
   },
   {
    "duration": 12,
    "start_time": "2025-02-15T07:14:58.527Z"
   },
   {
    "duration": 6,
    "start_time": "2025-02-15T07:14:58.541Z"
   },
   {
    "duration": 40,
    "start_time": "2025-02-15T07:14:58.549Z"
   },
   {
    "duration": 233,
    "start_time": "2025-02-15T07:14:58.591Z"
   },
   {
    "duration": 15,
    "start_time": "2025-02-15T07:14:58.826Z"
   },
   {
    "duration": 9,
    "start_time": "2025-02-15T07:14:58.842Z"
   },
   {
    "duration": 362,
    "start_time": "2025-02-15T07:14:58.852Z"
   },
   {
    "duration": 10,
    "start_time": "2025-02-15T07:14:59.215Z"
   },
   {
    "duration": 5,
    "start_time": "2025-02-15T07:14:59.227Z"
   },
   {
    "duration": 513,
    "start_time": "2025-02-15T07:14:59.234Z"
   },
   {
    "duration": 54,
    "start_time": "2025-02-15T07:14:59.749Z"
   },
   {
    "duration": 229,
    "start_time": "2025-02-15T07:14:59.805Z"
   },
   {
    "duration": 409,
    "start_time": "2025-02-15T07:15:00.035Z"
   },
   {
    "duration": 16,
    "start_time": "2025-02-15T07:15:00.447Z"
   },
   {
    "duration": 2,
    "start_time": "2025-02-15T07:15:00.465Z"
   },
   {
    "duration": 19,
    "start_time": "2025-02-15T07:15:00.468Z"
   },
   {
    "duration": 2,
    "start_time": "2025-02-15T07:15:00.488Z"
   },
   {
    "duration": 2,
    "start_time": "2025-02-15T07:15:00.492Z"
   },
   {
    "duration": 3,
    "start_time": "2025-02-15T07:15:00.496Z"
   },
   {
    "duration": 3,
    "start_time": "2025-02-15T07:15:00.501Z"
   },
   {
    "duration": 3,
    "start_time": "2025-02-15T07:15:00.505Z"
   },
   {
    "duration": 3,
    "start_time": "2025-02-15T07:15:00.510Z"
   },
   {
    "duration": 4,
    "start_time": "2025-02-15T07:15:00.514Z"
   },
   {
    "duration": 3,
    "start_time": "2025-02-15T07:15:00.520Z"
   },
   {
    "duration": 1133,
    "start_time": "2025-02-15T07:15:44.980Z"
   },
   {
    "duration": 1125,
    "start_time": "2025-02-15T07:18:38.798Z"
   },
   {
    "duration": 1148,
    "start_time": "2025-02-15T07:18:42.948Z"
   },
   {
    "duration": 1131,
    "start_time": "2025-02-15T07:18:47.137Z"
   },
   {
    "duration": 1022,
    "start_time": "2025-02-15T07:18:50.400Z"
   },
   {
    "duration": 1140,
    "start_time": "2025-02-15T07:18:55.082Z"
   },
   {
    "duration": 1168,
    "start_time": "2025-02-15T07:19:31.707Z"
   },
   {
    "duration": 3,
    "start_time": "2025-02-15T07:23:38.465Z"
   },
   {
    "duration": 3,
    "start_time": "2025-02-15T07:23:41.077Z"
   },
   {
    "duration": 6,
    "start_time": "2025-02-15T07:23:57.414Z"
   },
   {
    "duration": 118,
    "start_time": "2025-02-15T07:24:19.802Z"
   },
   {
    "duration": 3,
    "start_time": "2025-02-15T07:24:31.064Z"
   },
   {
    "duration": 163,
    "start_time": "2025-02-15T07:24:31.069Z"
   },
   {
    "duration": 11,
    "start_time": "2025-02-15T07:24:31.234Z"
   },
   {
    "duration": 11,
    "start_time": "2025-02-15T07:24:31.246Z"
   },
   {
    "duration": 8,
    "start_time": "2025-02-15T07:24:31.263Z"
   },
   {
    "duration": 18,
    "start_time": "2025-02-15T07:24:31.273Z"
   },
   {
    "duration": 9,
    "start_time": "2025-02-15T07:24:31.293Z"
   },
   {
    "duration": 10,
    "start_time": "2025-02-15T07:24:31.304Z"
   },
   {
    "duration": 8,
    "start_time": "2025-02-15T07:24:31.316Z"
   },
   {
    "duration": 9,
    "start_time": "2025-02-15T07:24:31.328Z"
   },
   {
    "duration": 46,
    "start_time": "2025-02-15T07:24:31.341Z"
   },
   {
    "duration": 9,
    "start_time": "2025-02-15T07:24:31.390Z"
   },
   {
    "duration": 487,
    "start_time": "2025-02-15T07:24:31.401Z"
   },
   {
    "duration": 12,
    "start_time": "2025-02-15T07:24:31.893Z"
   },
   {
    "duration": 12,
    "start_time": "2025-02-15T07:24:31.906Z"
   },
   {
    "duration": 7,
    "start_time": "2025-02-15T07:24:31.920Z"
   },
   {
    "duration": 21,
    "start_time": "2025-02-15T07:24:31.930Z"
   },
   {
    "duration": 264,
    "start_time": "2025-02-15T07:24:31.953Z"
   },
   {
    "duration": 15,
    "start_time": "2025-02-15T07:24:32.218Z"
   },
   {
    "duration": 9,
    "start_time": "2025-02-15T07:24:32.235Z"
   },
   {
    "duration": 363,
    "start_time": "2025-02-15T07:24:32.246Z"
   },
   {
    "duration": 10,
    "start_time": "2025-02-15T07:24:32.611Z"
   },
   {
    "duration": 4,
    "start_time": "2025-02-15T07:24:32.623Z"
   },
   {
    "duration": 574,
    "start_time": "2025-02-15T07:24:32.629Z"
   },
   {
    "duration": 61,
    "start_time": "2025-02-15T07:24:33.205Z"
   },
   {
    "duration": 369,
    "start_time": "2025-02-15T07:24:33.269Z"
   },
   {
    "duration": 318,
    "start_time": "2025-02-15T07:24:33.640Z"
   },
   {
    "duration": 1156,
    "start_time": "2025-02-15T07:24:33.960Z"
   },
   {
    "duration": 2,
    "start_time": "2025-02-15T07:24:35.118Z"
   },
   {
    "duration": 198,
    "start_time": "2025-02-15T07:24:35.122Z"
   },
   {
    "duration": 0,
    "start_time": "2025-02-15T07:24:35.322Z"
   },
   {
    "duration": 0,
    "start_time": "2025-02-15T07:24:35.323Z"
   },
   {
    "duration": 0,
    "start_time": "2025-02-15T07:24:35.324Z"
   },
   {
    "duration": 0,
    "start_time": "2025-02-15T07:24:35.325Z"
   },
   {
    "duration": 0,
    "start_time": "2025-02-15T07:24:35.327Z"
   },
   {
    "duration": 0,
    "start_time": "2025-02-15T07:24:35.327Z"
   },
   {
    "duration": 0,
    "start_time": "2025-02-15T07:24:35.328Z"
   },
   {
    "duration": 0,
    "start_time": "2025-02-15T07:24:35.329Z"
   },
   {
    "duration": 1127,
    "start_time": "2025-02-15T07:25:17.810Z"
   },
   {
    "duration": 1202,
    "start_time": "2025-02-15T07:26:01.428Z"
   },
   {
    "duration": 1210,
    "start_time": "2025-02-15T07:27:50.827Z"
   },
   {
    "duration": 1220,
    "start_time": "2025-02-15T07:28:16.317Z"
   },
   {
    "duration": 1099,
    "start_time": "2025-02-15T07:29:29.845Z"
   },
   {
    "duration": 84,
    "start_time": "2025-02-15T07:31:06.494Z"
   },
   {
    "duration": 244,
    "start_time": "2025-02-15T07:32:37.164Z"
   },
   {
    "duration": 73,
    "start_time": "2025-02-15T07:33:14.301Z"
   },
   {
    "duration": 4,
    "start_time": "2025-02-15T07:33:23.249Z"
   },
   {
    "duration": 149,
    "start_time": "2025-02-15T07:33:23.255Z"
   },
   {
    "duration": 9,
    "start_time": "2025-02-15T07:33:23.406Z"
   },
   {
    "duration": 8,
    "start_time": "2025-02-15T07:33:23.417Z"
   },
   {
    "duration": 7,
    "start_time": "2025-02-15T07:33:23.426Z"
   },
   {
    "duration": 5,
    "start_time": "2025-02-15T07:33:23.435Z"
   },
   {
    "duration": 9,
    "start_time": "2025-02-15T07:33:23.442Z"
   },
   {
    "duration": 36,
    "start_time": "2025-02-15T07:33:23.452Z"
   },
   {
    "duration": 8,
    "start_time": "2025-02-15T07:33:23.489Z"
   },
   {
    "duration": 10,
    "start_time": "2025-02-15T07:33:23.501Z"
   },
   {
    "duration": 19,
    "start_time": "2025-02-15T07:33:23.512Z"
   },
   {
    "duration": 9,
    "start_time": "2025-02-15T07:33:23.533Z"
   },
   {
    "duration": 499,
    "start_time": "2025-02-15T07:33:23.544Z"
   },
   {
    "duration": 11,
    "start_time": "2025-02-15T07:33:24.045Z"
   },
   {
    "duration": 12,
    "start_time": "2025-02-15T07:33:24.058Z"
   },
   {
    "duration": 7,
    "start_time": "2025-02-15T07:33:24.086Z"
   },
   {
    "duration": 21,
    "start_time": "2025-02-15T07:33:24.095Z"
   },
   {
    "duration": 246,
    "start_time": "2025-02-15T07:33:24.117Z"
   },
   {
    "duration": 22,
    "start_time": "2025-02-15T07:33:24.365Z"
   },
   {
    "duration": 8,
    "start_time": "2025-02-15T07:33:24.389Z"
   },
   {
    "duration": 354,
    "start_time": "2025-02-15T07:33:24.399Z"
   },
   {
    "duration": 9,
    "start_time": "2025-02-15T07:33:24.755Z"
   },
   {
    "duration": 5,
    "start_time": "2025-02-15T07:33:24.766Z"
   },
   {
    "duration": 557,
    "start_time": "2025-02-15T07:33:24.786Z"
   },
   {
    "duration": 69,
    "start_time": "2025-02-15T07:33:25.345Z"
   },
   {
    "duration": 226,
    "start_time": "2025-02-15T07:33:25.416Z"
   },
   {
    "duration": 429,
    "start_time": "2025-02-15T07:33:25.644Z"
   },
   {
    "duration": 1171,
    "start_time": "2025-02-15T07:33:26.077Z"
   },
   {
    "duration": 3,
    "start_time": "2025-02-15T07:33:27.250Z"
   },
   {
    "duration": 73,
    "start_time": "2025-02-15T07:33:27.255Z"
   },
   {
    "duration": 0,
    "start_time": "2025-02-15T07:33:27.330Z"
   },
   {
    "duration": 0,
    "start_time": "2025-02-15T07:33:27.332Z"
   },
   {
    "duration": 0,
    "start_time": "2025-02-15T07:33:27.333Z"
   },
   {
    "duration": 0,
    "start_time": "2025-02-15T07:33:27.334Z"
   },
   {
    "duration": 0,
    "start_time": "2025-02-15T07:33:27.335Z"
   },
   {
    "duration": 0,
    "start_time": "2025-02-15T07:33:27.336Z"
   },
   {
    "duration": 0,
    "start_time": "2025-02-15T07:33:27.337Z"
   },
   {
    "duration": 0,
    "start_time": "2025-02-15T07:33:27.339Z"
   },
   {
    "duration": 126,
    "start_time": "2025-02-15T07:37:24.615Z"
   },
   {
    "duration": 76,
    "start_time": "2025-02-15T07:38:26.369Z"
   },
   {
    "duration": 236,
    "start_time": "2025-02-15T07:38:42.751Z"
   },
   {
    "duration": 125,
    "start_time": "2025-02-15T07:39:06.180Z"
   },
   {
    "duration": 77,
    "start_time": "2025-02-15T07:40:44.076Z"
   },
   {
    "duration": 212,
    "start_time": "2025-02-15T07:40:54.014Z"
   },
   {
    "duration": 181,
    "start_time": "2025-02-15T07:43:52.579Z"
   },
   {
    "duration": 295,
    "start_time": "2025-02-15T07:45:45.221Z"
   },
   {
    "duration": 169,
    "start_time": "2025-02-15T07:46:59.305Z"
   },
   {
    "duration": 177,
    "start_time": "2025-02-15T07:47:08.183Z"
   },
   {
    "duration": 272,
    "start_time": "2025-02-15T17:51:59.803Z"
   },
   {
    "duration": 687,
    "start_time": "2025-02-15T17:52:14.427Z"
   },
   {
    "duration": 265,
    "start_time": "2025-02-15T17:52:15.116Z"
   },
   {
    "duration": 12,
    "start_time": "2025-02-15T17:52:15.382Z"
   },
   {
    "duration": 13,
    "start_time": "2025-02-15T17:52:15.397Z"
   },
   {
    "duration": 8,
    "start_time": "2025-02-15T17:52:15.412Z"
   },
   {
    "duration": 7,
    "start_time": "2025-02-15T17:52:15.432Z"
   },
   {
    "duration": 10,
    "start_time": "2025-02-15T17:52:15.442Z"
   },
   {
    "duration": 11,
    "start_time": "2025-02-15T17:52:15.453Z"
   },
   {
    "duration": 8,
    "start_time": "2025-02-15T17:52:15.466Z"
   },
   {
    "duration": 11,
    "start_time": "2025-02-15T17:52:15.478Z"
   },
   {
    "duration": 54,
    "start_time": "2025-02-15T17:52:15.491Z"
   },
   {
    "duration": 10,
    "start_time": "2025-02-15T17:52:15.547Z"
   },
   {
    "duration": 475,
    "start_time": "2025-02-15T17:52:15.560Z"
   },
   {
    "duration": 17,
    "start_time": "2025-02-15T17:52:16.037Z"
   },
   {
    "duration": 14,
    "start_time": "2025-02-15T17:52:16.056Z"
   },
   {
    "duration": 7,
    "start_time": "2025-02-15T17:52:16.073Z"
   },
   {
    "duration": 59,
    "start_time": "2025-02-15T17:52:16.082Z"
   },
   {
    "duration": 263,
    "start_time": "2025-02-15T17:52:16.143Z"
   },
   {
    "duration": 28,
    "start_time": "2025-02-15T17:52:16.408Z"
   },
   {
    "duration": 10,
    "start_time": "2025-02-15T17:52:16.438Z"
   },
   {
    "duration": 350,
    "start_time": "2025-02-15T17:52:16.450Z"
   },
   {
    "duration": 11,
    "start_time": "2025-02-15T17:52:16.802Z"
   },
   {
    "duration": 18,
    "start_time": "2025-02-15T17:52:16.815Z"
   },
   {
    "duration": 504,
    "start_time": "2025-02-15T17:52:16.835Z"
   },
   {
    "duration": 59,
    "start_time": "2025-02-15T17:52:17.341Z"
   },
   {
    "duration": 334,
    "start_time": "2025-02-15T17:52:17.402Z"
   },
   {
    "duration": 395,
    "start_time": "2025-02-15T17:52:17.738Z"
   },
   {
    "duration": 1074,
    "start_time": "2025-02-15T17:52:18.150Z"
   },
   {
    "duration": 9,
    "start_time": "2025-02-15T17:52:19.225Z"
   },
   {
    "duration": 1637,
    "start_time": "2025-02-15T17:52:19.236Z"
   },
   {
    "duration": 2,
    "start_time": "2025-02-15T17:52:20.932Z"
   },
   {
    "duration": 3,
    "start_time": "2025-02-15T17:52:20.936Z"
   },
   {
    "duration": 3,
    "start_time": "2025-02-15T17:52:20.941Z"
   },
   {
    "duration": 2,
    "start_time": "2025-02-15T17:52:20.946Z"
   },
   {
    "duration": 3,
    "start_time": "2025-02-15T17:52:20.950Z"
   },
   {
    "duration": 3,
    "start_time": "2025-02-15T17:52:20.955Z"
   },
   {
    "duration": 3,
    "start_time": "2025-02-15T17:52:20.960Z"
   },
   {
    "duration": 3,
    "start_time": "2025-02-15T17:52:20.966Z"
   },
   {
    "duration": 3,
    "start_time": "2025-02-15T17:54:41.158Z"
   },
   {
    "duration": 2129,
    "start_time": "2025-02-15T17:54:45.852Z"
   },
   {
    "duration": 395,
    "start_time": "2025-02-15T17:55:18.009Z"
   },
   {
    "duration": 351,
    "start_time": "2025-02-15T17:56:09.591Z"
   },
   {
    "duration": 299,
    "start_time": "2025-02-15T17:56:43.661Z"
   },
   {
    "duration": 380,
    "start_time": "2025-02-15T17:56:48.389Z"
   },
   {
    "duration": 5,
    "start_time": "2025-02-15T17:57:36.830Z"
   },
   {
    "duration": 331,
    "start_time": "2025-02-15T17:57:48.920Z"
   },
   {
    "duration": 331,
    "start_time": "2025-02-15T17:58:20.623Z"
   },
   {
    "duration": 313,
    "start_time": "2025-02-15T17:58:46.849Z"
   },
   {
    "duration": 2,
    "start_time": "2025-02-15T17:59:08.832Z"
   },
   {
    "duration": 7,
    "start_time": "2025-02-15T17:59:59.522Z"
   },
   {
    "duration": 295,
    "start_time": "2025-02-15T18:00:53.628Z"
   },
   {
    "duration": 8,
    "start_time": "2025-02-15T18:01:08.612Z"
   },
   {
    "duration": 76,
    "start_time": "2025-02-15T18:02:26.789Z"
   },
   {
    "duration": 221,
    "start_time": "2025-02-15T18:02:33.439Z"
   },
   {
    "duration": 195,
    "start_time": "2025-02-15T18:02:55.776Z"
   },
   {
    "duration": 228,
    "start_time": "2025-02-15T18:03:00.838Z"
   },
   {
    "duration": 104,
    "start_time": "2025-02-15T18:04:53.028Z"
   },
   {
    "duration": 672,
    "start_time": "2025-02-15T18:05:01.413Z"
   },
   {
    "duration": 673,
    "start_time": "2025-02-15T18:06:17.449Z"
   },
   {
    "duration": 317,
    "start_time": "2025-02-15T18:07:38.964Z"
   },
   {
    "duration": 331,
    "start_time": "2025-02-15T18:08:30.620Z"
   },
   {
    "duration": 616,
    "start_time": "2025-02-15T18:08:39.553Z"
   },
   {
    "duration": 2475,
    "start_time": "2025-02-15T23:25:57.232Z"
   },
   {
    "duration": 3,
    "start_time": "2025-02-15T23:26:02.081Z"
   },
   {
    "duration": 222,
    "start_time": "2025-02-15T23:26:02.086Z"
   },
   {
    "duration": 9,
    "start_time": "2025-02-15T23:26:02.310Z"
   },
   {
    "duration": 9,
    "start_time": "2025-02-15T23:26:02.322Z"
   },
   {
    "duration": 6,
    "start_time": "2025-02-15T23:26:02.333Z"
   },
   {
    "duration": 6,
    "start_time": "2025-02-15T23:26:02.340Z"
   },
   {
    "duration": 8,
    "start_time": "2025-02-15T23:26:02.347Z"
   },
   {
    "duration": 7,
    "start_time": "2025-02-15T23:26:02.357Z"
   },
   {
    "duration": 7,
    "start_time": "2025-02-15T23:26:02.367Z"
   },
   {
    "duration": 37,
    "start_time": "2025-02-15T23:26:02.375Z"
   },
   {
    "duration": 15,
    "start_time": "2025-02-15T23:26:02.414Z"
   },
   {
    "duration": 10,
    "start_time": "2025-02-15T23:26:02.430Z"
   },
   {
    "duration": 472,
    "start_time": "2025-02-15T23:26:02.442Z"
   },
   {
    "duration": 11,
    "start_time": "2025-02-15T23:26:02.916Z"
   },
   {
    "duration": 12,
    "start_time": "2025-02-15T23:26:02.928Z"
   },
   {
    "duration": 7,
    "start_time": "2025-02-15T23:26:02.942Z"
   },
   {
    "duration": 21,
    "start_time": "2025-02-15T23:26:02.951Z"
   },
   {
    "duration": 275,
    "start_time": "2025-02-15T23:26:02.974Z"
   },
   {
    "duration": 13,
    "start_time": "2025-02-15T23:26:03.251Z"
   },
   {
    "duration": 8,
    "start_time": "2025-02-15T23:26:03.266Z"
   },
   {
    "duration": 539,
    "start_time": "2025-02-15T23:26:03.276Z"
   },
   {
    "duration": 14,
    "start_time": "2025-02-15T23:26:03.818Z"
   },
   {
    "duration": 8,
    "start_time": "2025-02-15T23:26:03.833Z"
   },
   {
    "duration": 648,
    "start_time": "2025-02-15T23:26:03.846Z"
   },
   {
    "duration": 62,
    "start_time": "2025-02-15T23:26:04.496Z"
   },
   {
    "duration": 274,
    "start_time": "2025-02-15T23:26:04.559Z"
   },
   {
    "duration": 354,
    "start_time": "2025-02-15T23:26:04.835Z"
   },
   {
    "duration": 994,
    "start_time": "2025-02-15T23:26:05.191Z"
   },
   {
    "duration": 3,
    "start_time": "2025-02-15T23:26:06.186Z"
   },
   {
    "duration": 1125,
    "start_time": "2025-02-15T23:26:06.190Z"
   },
   {
    "duration": 323,
    "start_time": "2025-02-15T23:26:07.317Z"
   },
   {
    "duration": 334,
    "start_time": "2025-02-15T23:26:07.642Z"
   },
   {
    "duration": 7,
    "start_time": "2025-02-15T23:26:07.978Z"
   },
   {
    "duration": 249,
    "start_time": "2025-02-15T23:26:07.987Z"
   },
   {
    "duration": 693,
    "start_time": "2025-02-15T23:26:08.238Z"
   },
   {
    "duration": 714,
    "start_time": "2025-02-15T23:26:08.933Z"
   },
   {
    "duration": 3,
    "start_time": "2025-02-15T23:26:09.648Z"
   },
   {
    "duration": 3,
    "start_time": "2025-02-15T23:26:09.652Z"
   },
   {
    "duration": 7,
    "start_time": "2025-02-15T23:26:32.815Z"
   },
   {
    "duration": 7,
    "start_time": "2025-02-15T23:26:59.174Z"
   },
   {
    "duration": 6,
    "start_time": "2025-02-15T23:27:50.503Z"
   },
   {
    "duration": 630,
    "start_time": "2025-02-15T23:30:17.423Z"
   },
   {
    "duration": 3,
    "start_time": "2025-02-15T23:36:24.362Z"
   },
   {
    "duration": 161,
    "start_time": "2025-02-15T23:36:24.367Z"
   },
   {
    "duration": 8,
    "start_time": "2025-02-15T23:36:24.530Z"
   },
   {
    "duration": 8,
    "start_time": "2025-02-15T23:36:24.540Z"
   },
   {
    "duration": 5,
    "start_time": "2025-02-15T23:36:24.552Z"
   },
   {
    "duration": 5,
    "start_time": "2025-02-15T23:36:24.559Z"
   },
   {
    "duration": 8,
    "start_time": "2025-02-15T23:36:24.566Z"
   },
   {
    "duration": 38,
    "start_time": "2025-02-15T23:36:24.575Z"
   },
   {
    "duration": 7,
    "start_time": "2025-02-15T23:36:24.615Z"
   },
   {
    "duration": 9,
    "start_time": "2025-02-15T23:36:24.624Z"
   },
   {
    "duration": 15,
    "start_time": "2025-02-15T23:36:24.634Z"
   },
   {
    "duration": 9,
    "start_time": "2025-02-15T23:36:24.650Z"
   },
   {
    "duration": 508,
    "start_time": "2025-02-15T23:36:24.661Z"
   },
   {
    "duration": 11,
    "start_time": "2025-02-15T23:36:25.173Z"
   },
   {
    "duration": 13,
    "start_time": "2025-02-15T23:36:25.185Z"
   },
   {
    "duration": 22,
    "start_time": "2025-02-15T23:36:25.199Z"
   },
   {
    "duration": 21,
    "start_time": "2025-02-15T23:36:25.223Z"
   },
   {
    "duration": 250,
    "start_time": "2025-02-15T23:36:25.246Z"
   },
   {
    "duration": 20,
    "start_time": "2025-02-15T23:36:25.497Z"
   },
   {
    "duration": 8,
    "start_time": "2025-02-15T23:36:25.518Z"
   },
   {
    "duration": 385,
    "start_time": "2025-02-15T23:36:25.528Z"
   },
   {
    "duration": 12,
    "start_time": "2025-02-15T23:36:25.915Z"
   },
   {
    "duration": 4,
    "start_time": "2025-02-15T23:36:25.929Z"
   },
   {
    "duration": 792,
    "start_time": "2025-02-15T23:36:25.935Z"
   },
   {
    "duration": 51,
    "start_time": "2025-02-15T23:36:26.728Z"
   },
   {
    "duration": 311,
    "start_time": "2025-02-15T23:36:26.780Z"
   },
   {
    "duration": 385,
    "start_time": "2025-02-15T23:36:27.092Z"
   },
   {
    "duration": 1103,
    "start_time": "2025-02-15T23:36:27.479Z"
   },
   {
    "duration": 3,
    "start_time": "2025-02-15T23:36:28.583Z"
   },
   {
    "duration": 1242,
    "start_time": "2025-02-15T23:36:28.588Z"
   },
   {
    "duration": 309,
    "start_time": "2025-02-15T23:36:29.832Z"
   },
   {
    "duration": 325,
    "start_time": "2025-02-15T23:36:30.143Z"
   },
   {
    "duration": 7,
    "start_time": "2025-02-15T23:36:30.469Z"
   },
   {
    "duration": 252,
    "start_time": "2025-02-15T23:36:30.478Z"
   },
   {
    "duration": 616,
    "start_time": "2025-02-15T23:36:30.731Z"
   },
   {
    "duration": 664,
    "start_time": "2025-02-15T23:36:31.349Z"
   },
   {
    "duration": 7,
    "start_time": "2025-02-15T23:36:32.015Z"
   },
   {
    "duration": 6,
    "start_time": "2025-02-15T23:36:32.023Z"
   },
   {
    "duration": 6,
    "start_time": "2025-02-15T23:36:51.636Z"
   },
   {
    "duration": 7,
    "start_time": "2025-02-15T23:36:53.855Z"
   },
   {
    "duration": 7,
    "start_time": "2025-02-15T23:36:55.933Z"
   },
   {
    "duration": 3,
    "start_time": "2025-02-15T23:37:00.135Z"
   },
   {
    "duration": 154,
    "start_time": "2025-02-15T23:37:00.141Z"
   },
   {
    "duration": 9,
    "start_time": "2025-02-15T23:37:00.296Z"
   },
   {
    "duration": 7,
    "start_time": "2025-02-15T23:37:00.311Z"
   },
   {
    "duration": 6,
    "start_time": "2025-02-15T23:37:00.320Z"
   },
   {
    "duration": 6,
    "start_time": "2025-02-15T23:37:00.327Z"
   },
   {
    "duration": 8,
    "start_time": "2025-02-15T23:37:00.334Z"
   },
   {
    "duration": 8,
    "start_time": "2025-02-15T23:37:00.344Z"
   },
   {
    "duration": 6,
    "start_time": "2025-02-15T23:37:00.356Z"
   },
   {
    "duration": 9,
    "start_time": "2025-02-15T23:37:00.364Z"
   },
   {
    "duration": 52,
    "start_time": "2025-02-15T23:37:00.374Z"
   },
   {
    "duration": 9,
    "start_time": "2025-02-15T23:37:00.428Z"
   },
   {
    "duration": 463,
    "start_time": "2025-02-15T23:37:00.439Z"
   },
   {
    "duration": 12,
    "start_time": "2025-02-15T23:37:00.904Z"
   },
   {
    "duration": 11,
    "start_time": "2025-02-15T23:37:00.918Z"
   },
   {
    "duration": 6,
    "start_time": "2025-02-15T23:37:00.931Z"
   },
   {
    "duration": 21,
    "start_time": "2025-02-15T23:37:00.939Z"
   },
   {
    "duration": 261,
    "start_time": "2025-02-15T23:37:00.962Z"
   },
   {
    "duration": 13,
    "start_time": "2025-02-15T23:37:01.225Z"
   },
   {
    "duration": 7,
    "start_time": "2025-02-15T23:37:01.240Z"
   },
   {
    "duration": 359,
    "start_time": "2025-02-15T23:37:01.249Z"
   },
   {
    "duration": 9,
    "start_time": "2025-02-15T23:37:01.610Z"
   },
   {
    "duration": 5,
    "start_time": "2025-02-15T23:37:01.621Z"
   },
   {
    "duration": 602,
    "start_time": "2025-02-15T23:37:01.630Z"
   },
   {
    "duration": 49,
    "start_time": "2025-02-15T23:37:02.234Z"
   },
   {
    "duration": 241,
    "start_time": "2025-02-15T23:37:02.285Z"
   },
   {
    "duration": 376,
    "start_time": "2025-02-15T23:37:02.527Z"
   },
   {
    "duration": 1107,
    "start_time": "2025-02-15T23:37:02.906Z"
   },
   {
    "duration": 4,
    "start_time": "2025-02-15T23:37:04.014Z"
   },
   {
    "duration": 1239,
    "start_time": "2025-02-15T23:37:04.020Z"
   },
   {
    "duration": 339,
    "start_time": "2025-02-15T23:37:05.261Z"
   },
   {
    "duration": 326,
    "start_time": "2025-02-15T23:37:05.602Z"
   },
   {
    "duration": 7,
    "start_time": "2025-02-15T23:37:05.930Z"
   },
   {
    "duration": 215,
    "start_time": "2025-02-15T23:37:05.939Z"
   },
   {
    "duration": 685,
    "start_time": "2025-02-15T23:37:06.156Z"
   },
   {
    "duration": 611,
    "start_time": "2025-02-15T23:37:06.844Z"
   },
   {
    "duration": 8,
    "start_time": "2025-02-15T23:37:07.456Z"
   },
   {
    "duration": 7,
    "start_time": "2025-02-15T23:37:07.466Z"
   },
   {
    "duration": 6,
    "start_time": "2025-02-15T23:37:24.796Z"
   },
   {
    "duration": 7,
    "start_time": "2025-02-15T23:37:54.122Z"
   },
   {
    "duration": 3,
    "start_time": "2025-02-15T23:39:29.905Z"
   },
   {
    "duration": 7,
    "start_time": "2025-02-15T23:43:33.252Z"
   },
   {
    "duration": 7,
    "start_time": "2025-02-15T23:43:45.275Z"
   },
   {
    "duration": 7,
    "start_time": "2025-02-15T23:43:55.723Z"
   },
   {
    "duration": 4,
    "start_time": "2025-02-15T23:44:00.614Z"
   },
   {
    "duration": 162,
    "start_time": "2025-02-15T23:44:00.620Z"
   },
   {
    "duration": 9,
    "start_time": "2025-02-15T23:44:00.783Z"
   },
   {
    "duration": 8,
    "start_time": "2025-02-15T23:44:00.794Z"
   },
   {
    "duration": 6,
    "start_time": "2025-02-15T23:44:00.813Z"
   },
   {
    "duration": 4,
    "start_time": "2025-02-15T23:44:00.821Z"
   },
   {
    "duration": 8,
    "start_time": "2025-02-15T23:44:00.827Z"
   },
   {
    "duration": 8,
    "start_time": "2025-02-15T23:44:00.836Z"
   },
   {
    "duration": 6,
    "start_time": "2025-02-15T23:44:00.846Z"
   },
   {
    "duration": 9,
    "start_time": "2025-02-15T23:44:00.854Z"
   },
   {
    "duration": 46,
    "start_time": "2025-02-15T23:44:00.865Z"
   },
   {
    "duration": 8,
    "start_time": "2025-02-15T23:44:00.913Z"
   },
   {
    "duration": 466,
    "start_time": "2025-02-15T23:44:00.923Z"
   },
   {
    "duration": 19,
    "start_time": "2025-02-15T23:44:01.394Z"
   },
   {
    "duration": 12,
    "start_time": "2025-02-15T23:44:01.414Z"
   },
   {
    "duration": 7,
    "start_time": "2025-02-15T23:44:01.429Z"
   },
   {
    "duration": 20,
    "start_time": "2025-02-15T23:44:01.437Z"
   },
   {
    "duration": 254,
    "start_time": "2025-02-15T23:44:01.458Z"
   },
   {
    "duration": 14,
    "start_time": "2025-02-15T23:44:01.714Z"
   },
   {
    "duration": 10,
    "start_time": "2025-02-15T23:44:01.729Z"
   },
   {
    "duration": 360,
    "start_time": "2025-02-15T23:44:01.740Z"
   },
   {
    "duration": 18,
    "start_time": "2025-02-15T23:44:02.102Z"
   },
   {
    "duration": 5,
    "start_time": "2025-02-15T23:44:02.121Z"
   },
   {
    "duration": 579,
    "start_time": "2025-02-15T23:44:02.127Z"
   },
   {
    "duration": 51,
    "start_time": "2025-02-15T23:44:02.707Z"
   },
   {
    "duration": 227,
    "start_time": "2025-02-15T23:44:02.760Z"
   },
   {
    "duration": 371,
    "start_time": "2025-02-15T23:44:02.989Z"
   },
   {
    "duration": 1077,
    "start_time": "2025-02-15T23:44:03.362Z"
   },
   {
    "duration": 3,
    "start_time": "2025-02-15T23:44:04.440Z"
   },
   {
    "duration": 1236,
    "start_time": "2025-02-15T23:44:04.447Z"
   },
   {
    "duration": 328,
    "start_time": "2025-02-15T23:44:05.685Z"
   },
   {
    "duration": 323,
    "start_time": "2025-02-15T23:44:06.015Z"
   },
   {
    "duration": 7,
    "start_time": "2025-02-15T23:44:06.340Z"
   },
   {
    "duration": 198,
    "start_time": "2025-02-15T23:44:06.348Z"
   },
   {
    "duration": 680,
    "start_time": "2025-02-15T23:44:06.548Z"
   },
   {
    "duration": 629,
    "start_time": "2025-02-15T23:44:07.231Z"
   },
   {
    "duration": 8,
    "start_time": "2025-02-15T23:44:07.861Z"
   },
   {
    "duration": 6,
    "start_time": "2025-02-15T23:44:07.872Z"
   },
   {
    "duration": 7,
    "start_time": "2025-02-16T00:10:47.274Z"
   },
   {
    "duration": 18,
    "start_time": "2025-02-16T00:11:22.780Z"
   },
   {
    "duration": 19,
    "start_time": "2025-02-16T00:11:47.095Z"
   },
   {
    "duration": 7,
    "start_time": "2025-02-16T00:21:09.247Z"
   },
   {
    "duration": 7,
    "start_time": "2025-02-16T00:21:29.442Z"
   },
   {
    "duration": 7,
    "start_time": "2025-02-16T00:21:34.457Z"
   },
   {
    "duration": 6,
    "start_time": "2025-02-16T00:50:21.222Z"
   },
   {
    "duration": 172,
    "start_time": "2025-02-16T17:19:47.423Z"
   },
   {
    "duration": 2800,
    "start_time": "2025-02-16T17:20:11.796Z"
   },
   {
    "duration": 284,
    "start_time": "2025-02-16T17:20:14.598Z"
   },
   {
    "duration": 11,
    "start_time": "2025-02-16T17:20:14.884Z"
   },
   {
    "duration": 10,
    "start_time": "2025-02-16T17:20:14.897Z"
   },
   {
    "duration": 7,
    "start_time": "2025-02-16T17:20:14.909Z"
   },
   {
    "duration": 7,
    "start_time": "2025-02-16T17:20:14.917Z"
   },
   {
    "duration": 9,
    "start_time": "2025-02-16T17:20:14.926Z"
   },
   {
    "duration": 9,
    "start_time": "2025-02-16T17:20:14.936Z"
   },
   {
    "duration": 44,
    "start_time": "2025-02-16T17:20:14.946Z"
   },
   {
    "duration": 11,
    "start_time": "2025-02-16T17:20:14.992Z"
   },
   {
    "duration": 19,
    "start_time": "2025-02-16T17:20:15.005Z"
   },
   {
    "duration": 11,
    "start_time": "2025-02-16T17:20:15.026Z"
   },
   {
    "duration": 497,
    "start_time": "2025-02-16T17:20:15.038Z"
   },
   {
    "duration": 10,
    "start_time": "2025-02-16T17:20:15.540Z"
   },
   {
    "duration": 12,
    "start_time": "2025-02-16T17:20:15.553Z"
   },
   {
    "duration": 25,
    "start_time": "2025-02-16T17:20:15.567Z"
   },
   {
    "duration": 22,
    "start_time": "2025-02-16T17:20:15.594Z"
   },
   {
    "duration": 303,
    "start_time": "2025-02-16T17:20:15.618Z"
   },
   {
    "duration": 14,
    "start_time": "2025-02-16T17:20:15.926Z"
   },
   {
    "duration": 8,
    "start_time": "2025-02-16T17:20:15.942Z"
   },
   {
    "duration": 365,
    "start_time": "2025-02-16T17:20:15.952Z"
   },
   {
    "duration": 11,
    "start_time": "2025-02-16T17:20:16.318Z"
   },
   {
    "duration": 5,
    "start_time": "2025-02-16T17:20:16.330Z"
   },
   {
    "duration": 545,
    "start_time": "2025-02-16T17:20:16.336Z"
   },
   {
    "duration": 0,
    "start_time": "2025-02-16T17:20:16.886Z"
   },
   {
    "duration": 0,
    "start_time": "2025-02-16T17:20:16.888Z"
   },
   {
    "duration": 0,
    "start_time": "2025-02-16T17:20:16.889Z"
   },
   {
    "duration": 0,
    "start_time": "2025-02-16T17:20:16.890Z"
   },
   {
    "duration": 0,
    "start_time": "2025-02-16T17:20:16.891Z"
   },
   {
    "duration": 0,
    "start_time": "2025-02-16T17:20:16.892Z"
   },
   {
    "duration": 0,
    "start_time": "2025-02-16T17:20:16.893Z"
   },
   {
    "duration": 0,
    "start_time": "2025-02-16T17:20:16.894Z"
   },
   {
    "duration": 0,
    "start_time": "2025-02-16T17:20:16.895Z"
   },
   {
    "duration": 0,
    "start_time": "2025-02-16T17:20:16.896Z"
   },
   {
    "duration": 0,
    "start_time": "2025-02-16T17:20:16.897Z"
   },
   {
    "duration": 0,
    "start_time": "2025-02-16T17:20:16.899Z"
   },
   {
    "duration": 0,
    "start_time": "2025-02-16T17:20:16.900Z"
   },
   {
    "duration": 0,
    "start_time": "2025-02-16T17:20:16.901Z"
   },
   {
    "duration": 0,
    "start_time": "2025-02-16T17:20:16.903Z"
   },
   {
    "duration": 491,
    "start_time": "2025-02-16T17:21:34.291Z"
   },
   {
    "duration": 12,
    "start_time": "2025-02-16T17:31:14.528Z"
   },
   {
    "duration": 10,
    "start_time": "2025-02-16T17:32:26.924Z"
   },
   {
    "duration": 11,
    "start_time": "2025-02-16T17:32:52.678Z"
   },
   {
    "duration": 2,
    "start_time": "2025-02-16T17:34:21.136Z"
   },
   {
    "duration": 161,
    "start_time": "2025-02-16T17:34:21.140Z"
   },
   {
    "duration": 9,
    "start_time": "2025-02-16T17:34:21.303Z"
   },
   {
    "duration": 8,
    "start_time": "2025-02-16T17:34:21.314Z"
   },
   {
    "duration": 7,
    "start_time": "2025-02-16T17:34:21.324Z"
   },
   {
    "duration": 455,
    "start_time": "2025-02-16T17:34:21.333Z"
   },
   {
    "duration": 0,
    "start_time": "2025-02-16T17:34:21.792Z"
   },
   {
    "duration": 0,
    "start_time": "2025-02-16T17:34:21.793Z"
   },
   {
    "duration": 0,
    "start_time": "2025-02-16T17:34:21.794Z"
   },
   {
    "duration": 0,
    "start_time": "2025-02-16T17:34:21.795Z"
   },
   {
    "duration": 0,
    "start_time": "2025-02-16T17:34:21.796Z"
   },
   {
    "duration": 0,
    "start_time": "2025-02-16T17:34:21.798Z"
   },
   {
    "duration": 0,
    "start_time": "2025-02-16T17:34:21.799Z"
   },
   {
    "duration": 0,
    "start_time": "2025-02-16T17:34:21.800Z"
   },
   {
    "duration": 0,
    "start_time": "2025-02-16T17:34:21.801Z"
   },
   {
    "duration": 0,
    "start_time": "2025-02-16T17:34:21.802Z"
   },
   {
    "duration": 0,
    "start_time": "2025-02-16T17:34:21.803Z"
   },
   {
    "duration": 0,
    "start_time": "2025-02-16T17:34:21.804Z"
   },
   {
    "duration": 0,
    "start_time": "2025-02-16T17:34:21.806Z"
   },
   {
    "duration": 0,
    "start_time": "2025-02-16T17:34:21.807Z"
   },
   {
    "duration": 0,
    "start_time": "2025-02-16T17:34:21.808Z"
   },
   {
    "duration": 0,
    "start_time": "2025-02-16T17:34:21.809Z"
   },
   {
    "duration": 0,
    "start_time": "2025-02-16T17:34:21.811Z"
   },
   {
    "duration": 0,
    "start_time": "2025-02-16T17:34:21.812Z"
   },
   {
    "duration": 0,
    "start_time": "2025-02-16T17:34:21.813Z"
   },
   {
    "duration": 0,
    "start_time": "2025-02-16T17:34:21.814Z"
   },
   {
    "duration": 0,
    "start_time": "2025-02-16T17:34:21.815Z"
   },
   {
    "duration": 0,
    "start_time": "2025-02-16T17:34:21.816Z"
   },
   {
    "duration": 0,
    "start_time": "2025-02-16T17:34:21.817Z"
   },
   {
    "duration": 0,
    "start_time": "2025-02-16T17:34:21.818Z"
   },
   {
    "duration": 0,
    "start_time": "2025-02-16T17:34:21.820Z"
   },
   {
    "duration": 0,
    "start_time": "2025-02-16T17:34:21.821Z"
   },
   {
    "duration": 0,
    "start_time": "2025-02-16T17:34:21.822Z"
   },
   {
    "duration": 0,
    "start_time": "2025-02-16T17:34:21.823Z"
   },
   {
    "duration": 0,
    "start_time": "2025-02-16T17:34:21.824Z"
   },
   {
    "duration": 0,
    "start_time": "2025-02-16T17:34:21.824Z"
   },
   {
    "duration": 0,
    "start_time": "2025-02-16T17:34:21.825Z"
   },
   {
    "duration": 0,
    "start_time": "2025-02-16T17:34:21.826Z"
   },
   {
    "duration": 0,
    "start_time": "2025-02-16T17:34:21.827Z"
   },
   {
    "duration": 58,
    "start_time": "2025-02-16T17:34:36.009Z"
   },
   {
    "duration": 3,
    "start_time": "2025-02-16T17:34:52.916Z"
   },
   {
    "duration": 163,
    "start_time": "2025-02-16T17:34:54.895Z"
   },
   {
    "duration": 13,
    "start_time": "2025-02-16T17:34:57.864Z"
   },
   {
    "duration": 8,
    "start_time": "2025-02-16T17:35:00.129Z"
   },
   {
    "duration": 7,
    "start_time": "2025-02-16T17:35:02.608Z"
   },
   {
    "duration": 42,
    "start_time": "2025-02-16T17:35:19.602Z"
   },
   {
    "duration": 9,
    "start_time": "2025-02-16T17:35:30.859Z"
   },
   {
    "duration": 9,
    "start_time": "2025-02-16T17:37:53.868Z"
   },
   {
    "duration": 370,
    "start_time": "2025-02-16T17:38:12.298Z"
   },
   {
    "duration": 11,
    "start_time": "2025-02-16T17:38:14.607Z"
   },
   {
    "duration": 9,
    "start_time": "2025-02-16T17:40:54.127Z"
   },
   {
    "duration": 17,
    "start_time": "2025-02-16T17:41:14.360Z"
   },
   {
    "duration": 9,
    "start_time": "2025-02-16T17:41:17.098Z"
   },
   {
    "duration": 344,
    "start_time": "2025-02-16T17:41:26.674Z"
   },
   {
    "duration": 9,
    "start_time": "2025-02-16T17:41:29.258Z"
   },
   {
    "duration": 5,
    "start_time": "2025-02-16T17:41:40.511Z"
   },
   {
    "duration": 9,
    "start_time": "2025-02-16T17:42:11.917Z"
   },
   {
    "duration": 3,
    "start_time": "2025-02-16T17:42:17.625Z"
   },
   {
    "duration": 164,
    "start_time": "2025-02-16T17:42:17.630Z"
   },
   {
    "duration": 10,
    "start_time": "2025-02-16T17:42:17.796Z"
   },
   {
    "duration": 8,
    "start_time": "2025-02-16T17:42:17.808Z"
   },
   {
    "duration": 6,
    "start_time": "2025-02-16T17:42:17.819Z"
   },
   {
    "duration": 12,
    "start_time": "2025-02-16T17:42:17.827Z"
   },
   {
    "duration": 9,
    "start_time": "2025-02-16T17:42:17.840Z"
   },
   {
    "duration": 35,
    "start_time": "2025-02-16T17:42:17.853Z"
   },
   {
    "duration": 8,
    "start_time": "2025-02-16T17:42:17.890Z"
   },
   {
    "duration": 9,
    "start_time": "2025-02-16T17:42:17.899Z"
   },
   {
    "duration": 19,
    "start_time": "2025-02-16T17:42:17.910Z"
   },
   {
    "duration": 8,
    "start_time": "2025-02-16T17:42:17.931Z"
   },
   {
    "duration": 516,
    "start_time": "2025-02-16T17:42:17.942Z"
   },
   {
    "duration": 11,
    "start_time": "2025-02-16T17:42:18.462Z"
   },
   {
    "duration": 17,
    "start_time": "2025-02-16T17:42:18.475Z"
   },
   {
    "duration": 8,
    "start_time": "2025-02-16T17:42:18.494Z"
   },
   {
    "duration": 32,
    "start_time": "2025-02-16T17:42:18.505Z"
   },
   {
    "duration": 286,
    "start_time": "2025-02-16T17:42:18.539Z"
   },
   {
    "duration": 15,
    "start_time": "2025-02-16T17:42:18.827Z"
   },
   {
    "duration": 10,
    "start_time": "2025-02-16T17:42:18.843Z"
   },
   {
    "duration": 432,
    "start_time": "2025-02-16T17:42:18.855Z"
   },
   {
    "duration": 10,
    "start_time": "2025-02-16T17:42:19.290Z"
   },
   {
    "duration": 5,
    "start_time": "2025-02-16T17:42:19.302Z"
   },
   {
    "duration": 494,
    "start_time": "2025-02-16T17:42:19.308Z"
   },
   {
    "duration": 50,
    "start_time": "2025-02-16T17:42:19.804Z"
   },
   {
    "duration": 305,
    "start_time": "2025-02-16T17:42:19.856Z"
   },
   {
    "duration": 423,
    "start_time": "2025-02-16T17:42:20.163Z"
   },
   {
    "duration": 1433,
    "start_time": "2025-02-16T17:42:20.588Z"
   },
   {
    "duration": 3,
    "start_time": "2025-02-16T17:42:22.023Z"
   },
   {
    "duration": 1527,
    "start_time": "2025-02-16T17:42:22.028Z"
   },
   {
    "duration": 363,
    "start_time": "2025-02-16T17:42:23.557Z"
   },
   {
    "duration": 432,
    "start_time": "2025-02-16T17:42:23.922Z"
   },
   {
    "duration": 8,
    "start_time": "2025-02-16T17:42:24.356Z"
   },
   {
    "duration": 255,
    "start_time": "2025-02-16T17:42:24.365Z"
   },
   {
    "duration": 705,
    "start_time": "2025-02-16T17:42:24.622Z"
   },
   {
    "duration": 678,
    "start_time": "2025-02-16T17:42:25.329Z"
   },
   {
    "duration": 20,
    "start_time": "2025-02-16T17:42:26.012Z"
   },
   {
    "duration": 6,
    "start_time": "2025-02-16T17:42:26.034Z"
   },
   {
    "duration": 6,
    "start_time": "2025-02-16T17:42:26.044Z"
   },
   {
    "duration": 6,
    "start_time": "2025-02-16T17:42:31.055Z"
   },
   {
    "duration": 13,
    "start_time": "2025-02-16T17:42:49.694Z"
   },
   {
    "duration": 12,
    "start_time": "2025-02-16T17:42:59.137Z"
   },
   {
    "duration": 3,
    "start_time": "2025-02-16T17:43:10.736Z"
   },
   {
    "duration": 164,
    "start_time": "2025-02-16T17:43:10.741Z"
   },
   {
    "duration": 10,
    "start_time": "2025-02-16T17:43:10.906Z"
   },
   {
    "duration": 10,
    "start_time": "2025-02-16T17:43:10.918Z"
   },
   {
    "duration": 7,
    "start_time": "2025-02-16T17:43:10.930Z"
   },
   {
    "duration": 8,
    "start_time": "2025-02-16T17:43:10.940Z"
   },
   {
    "duration": 9,
    "start_time": "2025-02-16T17:43:10.950Z"
   },
   {
    "duration": 28,
    "start_time": "2025-02-16T17:43:10.961Z"
   },
   {
    "duration": 7,
    "start_time": "2025-02-16T17:43:10.992Z"
   },
   {
    "duration": 10,
    "start_time": "2025-02-16T17:43:11.001Z"
   },
   {
    "duration": 18,
    "start_time": "2025-02-16T17:43:11.012Z"
   },
   {
    "duration": 8,
    "start_time": "2025-02-16T17:43:11.032Z"
   },
   {
    "duration": 500,
    "start_time": "2025-02-16T17:43:11.042Z"
   },
   {
    "duration": 11,
    "start_time": "2025-02-16T17:43:11.545Z"
   },
   {
    "duration": 27,
    "start_time": "2025-02-16T17:43:11.558Z"
   },
   {
    "duration": 8,
    "start_time": "2025-02-16T17:43:11.586Z"
   },
   {
    "duration": 21,
    "start_time": "2025-02-16T17:43:11.595Z"
   },
   {
    "duration": 254,
    "start_time": "2025-02-16T17:43:11.618Z"
   },
   {
    "duration": 36,
    "start_time": "2025-02-16T17:43:11.874Z"
   },
   {
    "duration": 14,
    "start_time": "2025-02-16T17:43:11.912Z"
   },
   {
    "duration": 371,
    "start_time": "2025-02-16T17:43:11.927Z"
   },
   {
    "duration": 11,
    "start_time": "2025-02-16T17:43:12.302Z"
   },
   {
    "duration": 5,
    "start_time": "2025-02-16T17:43:12.315Z"
   },
   {
    "duration": 586,
    "start_time": "2025-02-16T17:43:12.322Z"
   },
   {
    "duration": 54,
    "start_time": "2025-02-16T17:43:12.910Z"
   },
   {
    "duration": 267,
    "start_time": "2025-02-16T17:43:12.966Z"
   },
   {
    "duration": 421,
    "start_time": "2025-02-16T17:43:13.235Z"
   },
   {
    "duration": 1190,
    "start_time": "2025-02-16T17:43:13.659Z"
   },
   {
    "duration": 3,
    "start_time": "2025-02-16T17:43:14.851Z"
   },
   {
    "duration": 1298,
    "start_time": "2025-02-16T17:43:14.855Z"
   },
   {
    "duration": 346,
    "start_time": "2025-02-16T17:43:16.155Z"
   },
   {
    "duration": 382,
    "start_time": "2025-02-16T17:43:16.502Z"
   },
   {
    "duration": 8,
    "start_time": "2025-02-16T17:43:16.885Z"
   },
   {
    "duration": 225,
    "start_time": "2025-02-16T17:43:16.895Z"
   },
   {
    "duration": 1006,
    "start_time": "2025-02-16T17:43:17.122Z"
   },
   {
    "duration": 960,
    "start_time": "2025-02-16T17:43:18.130Z"
   },
   {
    "duration": 20,
    "start_time": "2025-02-16T17:43:19.092Z"
   },
   {
    "duration": 6,
    "start_time": "2025-02-16T17:43:19.114Z"
   },
   {
    "duration": 7,
    "start_time": "2025-02-16T17:43:19.122Z"
   },
   {
    "duration": 10,
    "start_time": "2025-02-16T17:43:23.905Z"
   },
   {
    "duration": 13,
    "start_time": "2025-02-16T17:45:41.459Z"
   },
   {
    "duration": 4,
    "start_time": "2025-02-16T17:46:16.103Z"
   },
   {
    "duration": 153,
    "start_time": "2025-02-16T17:46:16.109Z"
   },
   {
    "duration": 8,
    "start_time": "2025-02-16T17:46:16.264Z"
   },
   {
    "duration": 13,
    "start_time": "2025-02-16T17:46:16.274Z"
   },
   {
    "duration": 6,
    "start_time": "2025-02-16T17:46:16.290Z"
   },
   {
    "duration": 9,
    "start_time": "2025-02-16T17:46:16.298Z"
   },
   {
    "duration": 9,
    "start_time": "2025-02-16T17:46:16.308Z"
   },
   {
    "duration": 10,
    "start_time": "2025-02-16T17:46:16.318Z"
   },
   {
    "duration": 9,
    "start_time": "2025-02-16T17:46:16.329Z"
   },
   {
    "duration": 11,
    "start_time": "2025-02-16T17:46:16.339Z"
   },
   {
    "duration": 53,
    "start_time": "2025-02-16T17:46:16.351Z"
   },
   {
    "duration": 11,
    "start_time": "2025-02-16T17:46:16.406Z"
   },
   {
    "duration": 499,
    "start_time": "2025-02-16T17:46:16.418Z"
   },
   {
    "duration": 12,
    "start_time": "2025-02-16T17:46:16.921Z"
   },
   {
    "duration": 16,
    "start_time": "2025-02-16T17:46:16.935Z"
   },
   {
    "duration": 9,
    "start_time": "2025-02-16T17:46:16.953Z"
   },
   {
    "duration": 34,
    "start_time": "2025-02-16T17:46:16.965Z"
   },
   {
    "duration": 264,
    "start_time": "2025-02-16T17:46:17.001Z"
   },
   {
    "duration": 23,
    "start_time": "2025-02-16T17:46:17.268Z"
   },
   {
    "duration": 9,
    "start_time": "2025-02-16T17:46:17.292Z"
   },
   {
    "duration": 378,
    "start_time": "2025-02-16T17:46:17.303Z"
   },
   {
    "duration": 12,
    "start_time": "2025-02-16T17:46:17.686Z"
   },
   {
    "duration": 5,
    "start_time": "2025-02-16T17:46:17.700Z"
   },
   {
    "duration": 650,
    "start_time": "2025-02-16T17:46:17.706Z"
   },
   {
    "duration": 64,
    "start_time": "2025-02-16T17:46:18.358Z"
   },
   {
    "duration": 232,
    "start_time": "2025-02-16T17:46:18.424Z"
   },
   {
    "duration": 407,
    "start_time": "2025-02-16T17:46:18.659Z"
   },
   {
    "duration": 1142,
    "start_time": "2025-02-16T17:46:19.067Z"
   },
   {
    "duration": 3,
    "start_time": "2025-02-16T17:46:20.211Z"
   },
   {
    "duration": 1383,
    "start_time": "2025-02-16T17:46:20.216Z"
   },
   {
    "duration": 606,
    "start_time": "2025-02-16T17:46:21.601Z"
   },
   {
    "duration": 334,
    "start_time": "2025-02-16T17:46:22.209Z"
   },
   {
    "duration": 8,
    "start_time": "2025-02-16T17:46:22.545Z"
   },
   {
    "duration": 259,
    "start_time": "2025-02-16T17:46:22.554Z"
   },
   {
    "duration": 722,
    "start_time": "2025-02-16T17:46:22.814Z"
   },
   {
    "duration": 707,
    "start_time": "2025-02-16T17:46:23.538Z"
   },
   {
    "duration": 23,
    "start_time": "2025-02-16T17:46:24.247Z"
   },
   {
    "duration": 19,
    "start_time": "2025-02-16T17:46:24.271Z"
   },
   {
    "duration": 7,
    "start_time": "2025-02-16T17:46:24.292Z"
   },
   {
    "duration": 578,
    "start_time": "2025-02-16T17:46:32.332Z"
   },
   {
    "duration": 397,
    "start_time": "2025-02-16T17:48:07.703Z"
   },
   {
    "duration": 392,
    "start_time": "2025-02-16T17:49:10.438Z"
   },
   {
    "duration": 2,
    "start_time": "2025-02-16T17:49:18.449Z"
   },
   {
    "duration": 170,
    "start_time": "2025-02-16T17:49:18.453Z"
   },
   {
    "duration": 10,
    "start_time": "2025-02-16T17:49:18.624Z"
   },
   {
    "duration": 8,
    "start_time": "2025-02-16T17:49:18.635Z"
   },
   {
    "duration": 7,
    "start_time": "2025-02-16T17:49:18.645Z"
   },
   {
    "duration": 11,
    "start_time": "2025-02-16T17:49:18.653Z"
   },
   {
    "duration": 25,
    "start_time": "2025-02-16T17:49:18.666Z"
   },
   {
    "duration": 8,
    "start_time": "2025-02-16T17:49:18.692Z"
   },
   {
    "duration": 7,
    "start_time": "2025-02-16T17:49:18.702Z"
   },
   {
    "duration": 10,
    "start_time": "2025-02-16T17:49:18.710Z"
   },
   {
    "duration": 20,
    "start_time": "2025-02-16T17:49:18.721Z"
   },
   {
    "duration": 11,
    "start_time": "2025-02-16T17:49:18.743Z"
   },
   {
    "duration": 535,
    "start_time": "2025-02-16T17:49:18.756Z"
   },
   {
    "duration": 12,
    "start_time": "2025-02-16T17:49:19.292Z"
   },
   {
    "duration": 15,
    "start_time": "2025-02-16T17:49:19.305Z"
   },
   {
    "duration": 7,
    "start_time": "2025-02-16T17:49:19.324Z"
   },
   {
    "duration": 22,
    "start_time": "2025-02-16T17:49:19.332Z"
   },
   {
    "duration": 256,
    "start_time": "2025-02-16T17:49:19.356Z"
   },
   {
    "duration": 16,
    "start_time": "2025-02-16T17:49:19.614Z"
   },
   {
    "duration": 9,
    "start_time": "2025-02-16T17:49:19.632Z"
   },
   {
    "duration": 379,
    "start_time": "2025-02-16T17:49:19.643Z"
   },
   {
    "duration": 13,
    "start_time": "2025-02-16T17:49:20.024Z"
   },
   {
    "duration": 4,
    "start_time": "2025-02-16T17:49:20.040Z"
   },
   {
    "duration": 558,
    "start_time": "2025-02-16T17:49:20.046Z"
   },
   {
    "duration": 84,
    "start_time": "2025-02-16T17:49:20.607Z"
   },
   {
    "duration": 351,
    "start_time": "2025-02-16T17:49:20.693Z"
   },
   {
    "duration": 401,
    "start_time": "2025-02-16T17:49:24.847Z"
   },
   {
    "duration": 396,
    "start_time": "2025-02-16T17:51:40.871Z"
   },
   {
    "duration": 1037,
    "start_time": "2025-02-16T17:52:36.086Z"
   },
   {
    "duration": 3,
    "start_time": "2025-02-16T17:52:45.412Z"
   },
   {
    "duration": 1403,
    "start_time": "2025-02-16T17:53:00.123Z"
   },
   {
    "duration": 1141,
    "start_time": "2025-02-16T17:54:11.061Z"
   },
   {
    "duration": 754,
    "start_time": "2025-02-16T17:55:51.782Z"
   },
   {
    "duration": 8,
    "start_time": "2025-02-16T17:56:23.010Z"
   },
   {
    "duration": 8,
    "start_time": "2025-02-16T17:56:35.408Z"
   },
   {
    "duration": 3,
    "start_time": "2025-02-16T17:56:48.297Z"
   },
   {
    "duration": 159,
    "start_time": "2025-02-16T17:56:48.303Z"
   },
   {
    "duration": 8,
    "start_time": "2025-02-16T17:56:48.464Z"
   },
   {
    "duration": 15,
    "start_time": "2025-02-16T17:56:48.475Z"
   },
   {
    "duration": 7,
    "start_time": "2025-02-16T17:56:48.492Z"
   },
   {
    "duration": 8,
    "start_time": "2025-02-16T17:56:48.500Z"
   },
   {
    "duration": 8,
    "start_time": "2025-02-16T17:56:48.510Z"
   },
   {
    "duration": 8,
    "start_time": "2025-02-16T17:56:48.520Z"
   },
   {
    "duration": 7,
    "start_time": "2025-02-16T17:56:48.529Z"
   },
   {
    "duration": 9,
    "start_time": "2025-02-16T17:56:48.538Z"
   },
   {
    "duration": 54,
    "start_time": "2025-02-16T17:56:48.548Z"
   },
   {
    "duration": 10,
    "start_time": "2025-02-16T17:56:48.603Z"
   },
   {
    "duration": 468,
    "start_time": "2025-02-16T17:56:48.614Z"
   },
   {
    "duration": 10,
    "start_time": "2025-02-16T17:56:49.086Z"
   },
   {
    "duration": 13,
    "start_time": "2025-02-16T17:56:49.098Z"
   },
   {
    "duration": 7,
    "start_time": "2025-02-16T17:56:49.112Z"
   },
   {
    "duration": 22,
    "start_time": "2025-02-16T17:56:49.121Z"
   },
   {
    "duration": 290,
    "start_time": "2025-02-16T17:56:49.145Z"
   },
   {
    "duration": 15,
    "start_time": "2025-02-16T17:56:49.436Z"
   },
   {
    "duration": 9,
    "start_time": "2025-02-16T17:56:49.453Z"
   },
   {
    "duration": 358,
    "start_time": "2025-02-16T17:56:49.464Z"
   },
   {
    "duration": 12,
    "start_time": "2025-02-16T17:56:49.823Z"
   },
   {
    "duration": 5,
    "start_time": "2025-02-16T17:56:49.837Z"
   },
   {
    "duration": 496,
    "start_time": "2025-02-16T17:56:49.843Z"
   },
   {
    "duration": 58,
    "start_time": "2025-02-16T17:56:50.341Z"
   },
   {
    "duration": 311,
    "start_time": "2025-02-16T17:56:50.401Z"
   },
   {
    "duration": 389,
    "start_time": "2025-02-16T17:56:50.714Z"
   },
   {
    "duration": 1052,
    "start_time": "2025-02-16T17:56:51.107Z"
   },
   {
    "duration": 2,
    "start_time": "2025-02-16T17:56:52.161Z"
   },
   {
    "duration": 1268,
    "start_time": "2025-02-16T17:56:52.165Z"
   },
   {
    "duration": 355,
    "start_time": "2025-02-16T17:56:53.435Z"
   },
   {
    "duration": 321,
    "start_time": "2025-02-16T17:56:53.792Z"
   },
   {
    "duration": 8,
    "start_time": "2025-02-16T17:56:54.115Z"
   },
   {
    "duration": 201,
    "start_time": "2025-02-16T17:56:54.124Z"
   },
   {
    "duration": 681,
    "start_time": "2025-02-16T17:56:54.327Z"
   },
   {
    "duration": 731,
    "start_time": "2025-02-16T17:56:55.010Z"
   },
   {
    "duration": 21,
    "start_time": "2025-02-16T17:56:55.743Z"
   },
   {
    "duration": 22,
    "start_time": "2025-02-16T17:56:55.766Z"
   },
   {
    "duration": 7,
    "start_time": "2025-02-16T17:56:55.789Z"
   },
   {
    "duration": 3,
    "start_time": "2025-02-16T17:59:32.711Z"
   },
   {
    "duration": 160,
    "start_time": "2025-02-16T17:59:32.716Z"
   },
   {
    "duration": 10,
    "start_time": "2025-02-16T17:59:32.877Z"
   },
   {
    "duration": 8,
    "start_time": "2025-02-16T17:59:32.889Z"
   },
   {
    "duration": 6,
    "start_time": "2025-02-16T17:59:32.899Z"
   },
   {
    "duration": 7,
    "start_time": "2025-02-16T17:59:32.907Z"
   },
   {
    "duration": 8,
    "start_time": "2025-02-16T17:59:32.916Z"
   },
   {
    "duration": 8,
    "start_time": "2025-02-16T17:59:32.926Z"
   },
   {
    "duration": 7,
    "start_time": "2025-02-16T17:59:32.935Z"
   },
   {
    "duration": 43,
    "start_time": "2025-02-16T17:59:32.944Z"
   },
   {
    "duration": 17,
    "start_time": "2025-02-16T17:59:32.989Z"
   },
   {
    "duration": 10,
    "start_time": "2025-02-16T17:59:33.007Z"
   },
   {
    "duration": 494,
    "start_time": "2025-02-16T17:59:33.020Z"
   },
   {
    "duration": 11,
    "start_time": "2025-02-16T17:59:33.515Z"
   },
   {
    "duration": 13,
    "start_time": "2025-02-16T17:59:33.528Z"
   },
   {
    "duration": 8,
    "start_time": "2025-02-16T17:59:33.542Z"
   },
   {
    "duration": 50,
    "start_time": "2025-02-16T17:59:33.551Z"
   },
   {
    "duration": 257,
    "start_time": "2025-02-16T17:59:33.603Z"
   },
   {
    "duration": 15,
    "start_time": "2025-02-16T17:59:33.862Z"
   },
   {
    "duration": 9,
    "start_time": "2025-02-16T17:59:33.887Z"
   },
   {
    "duration": 357,
    "start_time": "2025-02-16T17:59:33.898Z"
   },
   {
    "duration": 13,
    "start_time": "2025-02-16T17:59:34.256Z"
   },
   {
    "duration": 17,
    "start_time": "2025-02-16T17:59:34.271Z"
   },
   {
    "duration": 486,
    "start_time": "2025-02-16T17:59:34.289Z"
   },
   {
    "duration": 55,
    "start_time": "2025-02-16T17:59:34.777Z"
   },
   {
    "duration": 312,
    "start_time": "2025-02-16T17:59:34.833Z"
   },
   {
    "duration": 381,
    "start_time": "2025-02-16T17:59:35.147Z"
   },
   {
    "duration": 1073,
    "start_time": "2025-02-16T17:59:35.529Z"
   },
   {
    "duration": 5,
    "start_time": "2025-02-16T17:59:36.604Z"
   },
   {
    "duration": 1252,
    "start_time": "2025-02-16T17:59:36.611Z"
   },
   {
    "duration": 341,
    "start_time": "2025-02-16T17:59:37.865Z"
   },
   {
    "duration": 325,
    "start_time": "2025-02-16T17:59:38.208Z"
   },
   {
    "duration": 8,
    "start_time": "2025-02-16T17:59:38.535Z"
   },
   {
    "duration": 247,
    "start_time": "2025-02-16T17:59:38.545Z"
   },
   {
    "duration": 634,
    "start_time": "2025-02-16T17:59:38.794Z"
   },
   {
    "duration": 670,
    "start_time": "2025-02-16T17:59:39.431Z"
   },
   {
    "duration": 19,
    "start_time": "2025-02-16T17:59:40.105Z"
   },
   {
    "duration": 7,
    "start_time": "2025-02-16T17:59:40.125Z"
   },
   {
    "duration": 6,
    "start_time": "2025-02-16T17:59:40.133Z"
   },
   {
    "duration": 628,
    "start_time": "2025-02-16T18:00:32.702Z"
   },
   {
    "duration": 507,
    "start_time": "2025-02-16T18:00:52.048Z"
   },
   {
    "duration": 493,
    "start_time": "2025-02-16T18:00:57.448Z"
   },
   {
    "duration": 630,
    "start_time": "2025-02-16T18:01:03.528Z"
   },
   {
    "duration": 3,
    "start_time": "2025-02-16T18:01:07.207Z"
   },
   {
    "duration": 147,
    "start_time": "2025-02-16T18:01:07.212Z"
   },
   {
    "duration": 8,
    "start_time": "2025-02-16T18:01:07.362Z"
   },
   {
    "duration": 8,
    "start_time": "2025-02-16T18:01:07.372Z"
   },
   {
    "duration": 7,
    "start_time": "2025-02-16T18:01:07.388Z"
   },
   {
    "duration": 8,
    "start_time": "2025-02-16T18:01:07.396Z"
   },
   {
    "duration": 7,
    "start_time": "2025-02-16T18:01:07.406Z"
   },
   {
    "duration": 9,
    "start_time": "2025-02-16T18:01:07.414Z"
   },
   {
    "duration": 6,
    "start_time": "2025-02-16T18:01:07.425Z"
   },
   {
    "duration": 9,
    "start_time": "2025-02-16T18:01:07.433Z"
   },
   {
    "duration": 48,
    "start_time": "2025-02-16T18:01:07.445Z"
   },
   {
    "duration": 9,
    "start_time": "2025-02-16T18:01:07.495Z"
   },
   {
    "duration": 491,
    "start_time": "2025-02-16T18:01:07.508Z"
   },
   {
    "duration": 10,
    "start_time": "2025-02-16T18:01:08.001Z"
   },
   {
    "duration": 15,
    "start_time": "2025-02-16T18:01:08.012Z"
   },
   {
    "duration": 7,
    "start_time": "2025-02-16T18:01:08.029Z"
   },
   {
    "duration": 22,
    "start_time": "2025-02-16T18:01:08.039Z"
   },
   {
    "duration": 248,
    "start_time": "2025-02-16T18:01:08.086Z"
   },
   {
    "duration": 15,
    "start_time": "2025-02-16T18:01:08.336Z"
   },
   {
    "duration": 8,
    "start_time": "2025-02-16T18:01:08.352Z"
   },
   {
    "duration": 354,
    "start_time": "2025-02-16T18:01:08.362Z"
   },
   {
    "duration": 12,
    "start_time": "2025-02-16T18:01:08.718Z"
   },
   {
    "duration": 5,
    "start_time": "2025-02-16T18:01:08.731Z"
   },
   {
    "duration": 533,
    "start_time": "2025-02-16T18:01:08.738Z"
   },
   {
    "duration": 59,
    "start_time": "2025-02-16T18:01:09.273Z"
   },
   {
    "duration": 302,
    "start_time": "2025-02-16T18:01:09.334Z"
   },
   {
    "duration": 415,
    "start_time": "2025-02-16T18:01:09.638Z"
   },
   {
    "duration": 1173,
    "start_time": "2025-02-16T18:01:10.055Z"
   },
   {
    "duration": 3,
    "start_time": "2025-02-16T18:01:11.230Z"
   },
   {
    "duration": 1172,
    "start_time": "2025-02-16T18:01:11.235Z"
   },
   {
    "duration": 298,
    "start_time": "2025-02-16T18:01:12.409Z"
   },
   {
    "duration": 420,
    "start_time": "2025-02-16T18:01:12.709Z"
   },
   {
    "duration": 8,
    "start_time": "2025-02-16T18:01:13.131Z"
   },
   {
    "duration": 256,
    "start_time": "2025-02-16T18:01:13.141Z"
   },
   {
    "duration": 660,
    "start_time": "2025-02-16T18:01:13.399Z"
   },
   {
    "duration": 662,
    "start_time": "2025-02-16T18:01:14.061Z"
   },
   {
    "duration": 22,
    "start_time": "2025-02-16T18:01:14.728Z"
   },
   {
    "duration": 6,
    "start_time": "2025-02-16T18:01:14.754Z"
   },
   {
    "duration": 27,
    "start_time": "2025-02-16T18:01:14.762Z"
   },
   {
    "duration": 598,
    "start_time": "2025-02-16T18:01:54.738Z"
   },
   {
    "duration": 582,
    "start_time": "2025-02-16T18:03:49.598Z"
   },
   {
    "duration": 633,
    "start_time": "2025-02-16T18:03:58.672Z"
   },
   {
    "duration": 515,
    "start_time": "2025-02-16T18:04:41.671Z"
   },
   {
    "duration": 483,
    "start_time": "2025-02-16T18:05:33.703Z"
   },
   {
    "duration": 3,
    "start_time": "2025-02-16T18:05:51.213Z"
   },
   {
    "duration": 169,
    "start_time": "2025-02-16T18:05:51.219Z"
   },
   {
    "duration": 9,
    "start_time": "2025-02-16T18:05:51.392Z"
   },
   {
    "duration": 9,
    "start_time": "2025-02-16T18:05:51.403Z"
   },
   {
    "duration": 7,
    "start_time": "2025-02-16T18:05:51.413Z"
   },
   {
    "duration": 9,
    "start_time": "2025-02-16T18:05:51.422Z"
   },
   {
    "duration": 8,
    "start_time": "2025-02-16T18:05:51.433Z"
   },
   {
    "duration": 13,
    "start_time": "2025-02-16T18:05:51.448Z"
   },
   {
    "duration": 25,
    "start_time": "2025-02-16T18:05:51.462Z"
   },
   {
    "duration": 8,
    "start_time": "2025-02-16T18:05:51.490Z"
   },
   {
    "duration": 19,
    "start_time": "2025-02-16T18:05:51.500Z"
   },
   {
    "duration": 9,
    "start_time": "2025-02-16T18:05:51.521Z"
   },
   {
    "duration": 489,
    "start_time": "2025-02-16T18:05:51.532Z"
   },
   {
    "duration": 11,
    "start_time": "2025-02-16T18:05:52.023Z"
   },
   {
    "duration": 13,
    "start_time": "2025-02-16T18:05:52.036Z"
   },
   {
    "duration": 8,
    "start_time": "2025-02-16T18:05:52.052Z"
   },
   {
    "duration": 42,
    "start_time": "2025-02-16T18:05:52.062Z"
   },
   {
    "duration": 243,
    "start_time": "2025-02-16T18:05:52.106Z"
   },
   {
    "duration": 16,
    "start_time": "2025-02-16T18:05:52.350Z"
   },
   {
    "duration": 20,
    "start_time": "2025-02-16T18:05:52.368Z"
   },
   {
    "duration": 368,
    "start_time": "2025-02-16T18:05:52.390Z"
   },
   {
    "duration": 15,
    "start_time": "2025-02-16T18:05:52.760Z"
   },
   {
    "duration": 14,
    "start_time": "2025-02-16T18:05:52.777Z"
   },
   {
    "duration": 642,
    "start_time": "2025-02-16T18:05:52.793Z"
   },
   {
    "duration": 60,
    "start_time": "2025-02-16T18:05:53.438Z"
   },
   {
    "duration": 241,
    "start_time": "2025-02-16T18:05:53.500Z"
   },
   {
    "duration": 409,
    "start_time": "2025-02-16T18:05:53.743Z"
   },
   {
    "duration": 1158,
    "start_time": "2025-02-16T18:05:54.157Z"
   },
   {
    "duration": 4,
    "start_time": "2025-02-16T18:05:55.317Z"
   },
   {
    "duration": 1214,
    "start_time": "2025-02-16T18:05:55.324Z"
   },
   {
    "duration": 364,
    "start_time": "2025-02-16T18:05:56.540Z"
   },
   {
    "duration": 410,
    "start_time": "2025-02-16T18:05:56.906Z"
   },
   {
    "duration": 9,
    "start_time": "2025-02-16T18:05:57.318Z"
   },
   {
    "duration": 209,
    "start_time": "2025-02-16T18:05:57.330Z"
   },
   {
    "duration": 705,
    "start_time": "2025-02-16T18:05:57.541Z"
   },
   {
    "duration": 689,
    "start_time": "2025-02-16T18:05:58.248Z"
   },
   {
    "duration": 21,
    "start_time": "2025-02-16T18:05:58.940Z"
   },
   {
    "duration": 7,
    "start_time": "2025-02-16T18:05:58.963Z"
   },
   {
    "duration": 20,
    "start_time": "2025-02-16T18:05:58.972Z"
   },
   {
    "duration": 581,
    "start_time": "2025-02-16T18:06:48.788Z"
   }
  ],
  "colab": {
   "provenance": []
  },
  "kernelspec": {
   "display_name": "Python 3 (ipykernel)",
   "language": "python",
   "name": "python3"
  },
  "language_info": {
   "codemirror_mode": {
    "name": "ipython",
    "version": 3
   },
   "file_extension": ".py",
   "mimetype": "text/x-python",
   "name": "python",
   "nbconvert_exporter": "python",
   "pygments_lexer": "ipython3",
   "version": "3.9.19"
  },
  "toc": {
   "base_numbering": 1,
   "nav_menu": {},
   "number_sections": true,
   "sideBar": true,
   "skip_h1_title": false,
   "title_cell": "Table of Contents",
   "title_sidebar": "Contents",
   "toc_cell": false,
   "toc_position": {
    "height": "calc(100% - 180px)",
    "left": "10px",
    "top": "150px",
    "width": "380.797px"
   },
   "toc_section_display": true,
   "toc_window_display": true
  }
 },
 "nbformat": 4,
 "nbformat_minor": 1
}
