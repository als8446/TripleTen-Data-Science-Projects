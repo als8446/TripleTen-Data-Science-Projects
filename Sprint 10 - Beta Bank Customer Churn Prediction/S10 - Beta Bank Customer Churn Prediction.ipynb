{
 "cells": [
  {
   "cell_type": "markdown",
   "metadata": {},
   "source": [
    "# Beta Bank Customer Churn Prediction"
   ]
  },
  {
   "cell_type": "markdown",
   "metadata": {},
   "source": [
    "### Descarga y prepara los datos."
   ]
  },
  {
   "cell_type": "code",
   "execution_count": 31,
   "metadata": {},
   "outputs": [
    {
     "name": "stdout",
     "output_type": "stream",
     "text": [
      "Vista previa de los datos:\n",
      "   RowNumber  CustomerId   Surname  CreditScore Geography  Gender  Age  \\\n",
      "0          1    15634602  Hargrave          619    France  Female   42   \n",
      "1          2    15647311      Hill          608     Spain  Female   41   \n",
      "2          3    15619304      Onio          502    France  Female   42   \n",
      "3          4    15701354      Boni          699    France  Female   39   \n",
      "4          5    15737888  Mitchell          850     Spain  Female   43   \n",
      "\n",
      "   Tenure    Balance  NumOfProducts  HasCrCard  IsActiveMember  \\\n",
      "0     2.0       0.00              1          1               1   \n",
      "1     1.0   83807.86              1          0               1   \n",
      "2     8.0  159660.80              3          1               0   \n",
      "3     1.0       0.00              2          0               0   \n",
      "4     2.0  125510.82              1          1               1   \n",
      "\n",
      "   EstimatedSalary  Exited  \n",
      "0        101348.88       1  \n",
      "1        112542.58       0  \n",
      "2        113931.57       1  \n",
      "3         93826.63       0  \n",
      "4         79084.10       0  \n",
      "\n",
      "Informacion sobre los datos:\n",
      "<class 'pandas.core.frame.DataFrame'>\n",
      "RangeIndex: 10000 entries, 0 to 9999\n",
      "Data columns (total 14 columns):\n",
      " #   Column           Non-Null Count  Dtype  \n",
      "---  ------           --------------  -----  \n",
      " 0   RowNumber        10000 non-null  int64  \n",
      " 1   CustomerId       10000 non-null  int64  \n",
      " 2   Surname          10000 non-null  object \n",
      " 3   CreditScore      10000 non-null  int64  \n",
      " 4   Geography        10000 non-null  object \n",
      " 5   Gender           10000 non-null  object \n",
      " 6   Age              10000 non-null  int64  \n",
      " 7   Tenure           9091 non-null   float64\n",
      " 8   Balance          10000 non-null  float64\n",
      " 9   NumOfProducts    10000 non-null  int64  \n",
      " 10  HasCrCard        10000 non-null  int64  \n",
      " 11  IsActiveMember   10000 non-null  int64  \n",
      " 12  EstimatedSalary  10000 non-null  float64\n",
      " 13  Exited           10000 non-null  int64  \n",
      "dtypes: float64(3), int64(8), object(3)\n",
      "memory usage: 1.1+ MB\n",
      "None\n"
     ]
    }
   ],
   "source": [
    "import pandas as pd\n",
    "import numpy as np\n",
    "import matplotlib.pyplot as plt\n",
    "import seaborn as sns\n",
    "from sklearn.model_selection import train_test_split, GridSearchCV\n",
    "from sklearn.preprocessing import StandardScaler\n",
    "from sklearn.ensemble import RandomForestClassifier\n",
    "from sklearn.metrics import f1_score, roc_auc_score, precision_score, recall_score, confusion_matrix\n",
    "\n",
    "# Cargar de datos y visualizacion\n",
    "data = pd.read_csv('/datasets/Churn.csv')\n",
    "print(\"Vista previa de los datos:\")\n",
    "print(data.head())\n",
    "print(\"\\nInformacion sobre los datos:\")\n",
    "print(data.info())\n",
    "\n",
    "#Quitamos las columnas irrelevantes\n",
    "data = data.drop(['RowNumber', 'CustomerId', 'Surname'], axis=1)\n",
    "\n",
    "#Codificacion con dummies de variables categoricas\n",
    "data = pd.get_dummies(data, drop_first=True)\n",
    "\n",
    "#Correccion de valores nulos e infinitos\n",
    "data.fillna(0, inplace=True)\n",
    "data.replace([np.inf, -np.inf], 0, inplace=True)\n",
    "\n",
    "#Separamos Features y target\n",
    "features = data.drop('Exited', axis=1)\n",
    "target = data['Exited']\n",
    "\n",
    "#Dividimos el conjunto de datos\n",
    "features_train, features_test, target_train, target_test = train_test_split(\n",
    "    features, target, test_size=0.2, stratify=target, random_state=42\n",
    ")\n",
    "features_train, features_valid, target_train, target_valid = train_test_split(\n",
    "    features_train, target_train, test_size=0.25, stratify=target_train, random_state=42\n",
    ")\n",
    "\n",
    "#Escalados de features\n",
    "scaler = StandardScaler()\n",
    "features_train_scaled = scaler.fit_transform(features_train)\n",
    "features_valid_scaled = scaler.transform(features_valid)\n",
    "features_test_scaled = scaler.transform(features_test)"
   ]
  },
  {
   "cell_type": "markdown",
   "metadata": {},
   "source": [
    "### Examina el equilibrio de clases. Entrena el modelo sin tener en cuenta el desequilibrio. \n",
    "\n",
    "Se procedio a realizar el seleccionamiento de caracteristicas con importacia en Random Forest.\n",
    "\n",
    "El modelo nos ha señalado 11 variables clave que son de importancia y podrian influir en la prediccion de abandono de clientes, entre las varibles se encuentran Age, Balance, CreditScore y Tenure el cual juegan un papel fundamental para lo que es la retencion de clientes. Adicionalmente, el adicionar las variables Geography_Germany y Geography_Spain nos dice que la ubicacion geografica si es una de las variables que realmente influye en la tasa de abandono."
   ]
  },
  {
   "cell_type": "code",
   "execution_count": 32,
   "metadata": {},
   "outputs": [
    {
     "name": "stdout",
     "output_type": "stream",
     "text": [
      "Caracteristicas seleccionadas: ['Age', 'Balance', 'EstimatedSalary', 'CreditScore', 'NumOfProducts', 'Tenure', 'IsActiveMember', 'Geography_Germany', 'Gender_Male', 'HasCrCard', 'Geography_Spain']\n"
     ]
    }
   ],
   "source": [
    "#Modelo para analizar importancia de caracteristicas\n",
    "rf_temp = RandomForestClassifier(random_state=42, class_weight='balanced')\n",
    "rf_temp.fit(features_train_scaled, target_train)\n",
    "\n",
    "#Obtencion de importancia de caractersticas\n",
    "importances = pd.Series(rf_temp.feature_importances_, index=features.columns)\n",
    "importances = importances.sort_values(ascending=False)\n",
    "\n",
    "#Filtramos caracteristicas con importancia mayor a 0.01\n",
    "selected_features = importances[importances > 0.01].index.tolist()\n",
    "features_train_selected = features_train[selected_features]\n",
    "features_valid_selected = features_valid[selected_features]\n",
    "features_test_selected = features_test[selected_features]\n",
    "\n",
    "print(f\"Caracteristicas seleccionadas: {selected_features}\")"
   ]
  },
  {
   "cell_type": "markdown",
   "metadata": {},
   "source": [
    "### Mejora la calidad del modelo.\n",
    "\n",
    "Se realizo la optimizacion de hiperparametros en Random Forest"
   ]
  },
  {
   "cell_type": "code",
   "execution_count": 33,
   "metadata": {},
   "outputs": [
    {
     "name": "stdout",
     "output_type": "stream",
     "text": [
      "Mejores hiperparametros encontrados: {'max_depth': 10, 'min_samples_leaf': 2, 'min_samples_split': 5, 'n_estimators': 100}\n"
     ]
    }
   ],
   "source": [
    "param_grid = {\n",
    "    'n_estimators': [50, 100, 150],\n",
    "    'max_depth': [10, 20, 30],\n",
    "    'min_samples_split': [2, 5],\n",
    "    'min_samples_leaf': [1, 2]\n",
    "}\n",
    "\n",
    "rf = RandomForestClassifier(random_state=42, class_weight='balanced')\n",
    "\n",
    "grid_search = GridSearchCV(rf, param_grid, scoring='f1', cv=3, n_jobs=-1)\n",
    "grid_search.fit(features_train_selected, target_train)\n",
    "\n",
    "best_rf = grid_search.best_estimator_\n",
    "print(\"Mejores hiperparametros encontrados:\", grid_search.best_params_)"
   ]
  },
  {
   "cell_type": "markdown",
   "metadata": {},
   "source": [
    "### Prueba final.\n",
    "\n",
    "Tambien se ajusto el umbral de decision para poder estar mar cerca de de F1 requerido en el proyecto,ya que el umbral optimo encontrado 0.55 balancea mejor la precision y el recall, reduciendo los falsos negativos (FN) sin comprometer en exceso la precision."
   ]
  },
  {
   "cell_type": "code",
   "execution_count": 34,
   "metadata": {},
   "outputs": [
    {
     "name": "stdout",
     "output_type": "stream",
     "text": [
      "Mejor umbral ajustado: 0.55\n",
      "F1 Score en validacion: 0.6243523316062175\n"
     ]
    }
   ],
   "source": [
    "probs_valid = best_rf.predict_proba(features_valid_selected)[:, 1]\n",
    "\n",
    "optimal_thresholds = np.arange(0.55, 0.6, 0.01)\n",
    "best_f1 = 0\n",
    "best_threshold = 0.5\n",
    "\n",
    "for threshold in optimal_thresholds:\n",
    "    preds_adjusted = (probs_valid > threshold).astype(int)\n",
    "    f1 = f1_score(target_valid, preds_adjusted)\n",
    "    if f1 > best_f1:\n",
    "        best_f1 = f1\n",
    "        best_threshold = threshold\n",
    "\n",
    "print(f\"Mejor umbral ajustado: {best_threshold}\")\n",
    "print(f\"F1 Score en validacion: {best_f1}\")"
   ]
  },
  {
   "cell_type": "markdown",
   "metadata": {},
   "source": [
    "Ya finalmente se realizo la evaluacion final del conjunton de pureba.\n",
    "\n",
    "Adicionalmente, en la evaluacion final el F1 Score en validacion (0.624) nos dice que hay un buen equilibrio entre precision y recall. \n",
    "\n",
    "F1 Score en prueba fina (0.617) se llega a mantener estable, por el otro lado en el AUC-ROC (0.86) nos llega demostrar una buena capacidad del modelo para distinguir entre clientes que abandonan y los que permanecen."
   ]
  },
  {
   "cell_type": "code",
   "execution_count": 35,
   "metadata": {},
   "outputs": [
    {
     "name": "stdout",
     "output_type": "stream",
     "text": [
      "Resultado final en conjunto de prueba\n",
      "F1 Score: 0.6171875\n",
      "AUC-ROC: 0.8637528129053553\n",
      "Matriz de confusion:\n",
      "[[1469  124]\n",
      " [ 170  237]]\n"
     ]
    }
   ],
   "source": [
    "probs_test = best_rf.predict_proba(features_test_selected)[:, 1]\n",
    "preds_test_adjusted = (probs_test > best_threshold).astype(int)\n",
    "\n",
    "print(\"Resultado final en conjunto de prueba\")\n",
    "print(\"F1 Score:\", f1_score(target_test, preds_test_adjusted))\n",
    "print(\"AUC-ROC:\", roc_auc_score(target_test, probs_test))\n",
    "\n",
    "print(\"Matriz de confusion:\")\n",
    "print(confusion_matrix(target_test, preds_test_adjusted))"
   ]
  },
  {
   "cell_type": "markdown",
   "metadata": {},
   "source": [
    "# Conclusion\n",
    "\n",
    "Con este modelo podemos ofrecer una prediccion confiable para nuestro cliente Beta Bank para que pueda estar anuente sobre la retencion de sus clientes, con un F1 Score por arriba de la meta solicitada (0.59) y un AUC-ROC elevado (0.86). Ahora bien, la combinacion de seleccion de caracteristicas optimizada, ajuste de hiperparametros y correccion del umbral nos ha permitido tener una mejora sustancial en la precision del modelo, asegurando una clasificacion mas efectiva en si.\n",
    "\n",
    "Si bien tenemos falsos negativos en la prediccion con el ajuste del umbral ha reducido el impacto y lo cual mantiene una buena capacidad para identificar clientes en riesgo de abandono, por lo tanto que nuestro cliente(Beta Bank) pueda diseñar un plan de accion estrategico enfocado en la retencion en los perfiles que potencialmente podrian ser propensos a abandonar, dandole un buen margen de tiempo de reaccion ante algun abandono.\n"
   ]
  }
 ],
 "metadata": {
  "ExecuteTimeLog": [
   {
    "duration": 2792,
    "start_time": "2025-05-10T22:57:17.483Z"
   },
   {
    "duration": 139,
    "start_time": "2025-05-10T22:58:14.772Z"
   },
   {
    "duration": 114,
    "start_time": "2025-05-10T22:58:32.385Z"
   },
   {
    "duration": 24,
    "start_time": "2025-05-10T22:59:17.150Z"
   },
   {
    "duration": 9,
    "start_time": "2025-05-10T22:59:34.883Z"
   },
   {
    "duration": 13,
    "start_time": "2025-05-10T23:00:01.737Z"
   },
   {
    "duration": 2,
    "start_time": "2025-05-10T23:13:45.984Z"
   },
   {
    "duration": 39,
    "start_time": "2025-05-10T23:15:27.637Z"
   },
   {
    "duration": 39,
    "start_time": "2025-05-10T23:16:50.791Z"
   },
   {
    "duration": 38,
    "start_time": "2025-05-10T23:17:48.763Z"
   },
   {
    "duration": 9,
    "start_time": "2025-05-10T23:19:03.877Z"
   },
   {
    "duration": 72,
    "start_time": "2025-05-10T23:19:22.858Z"
   },
   {
    "duration": 9,
    "start_time": "2025-05-10T23:19:26.661Z"
   },
   {
    "duration": 2673,
    "start_time": "2025-05-11T03:47:02.522Z"
   },
   {
    "duration": 9,
    "start_time": "2025-05-11T03:47:05.198Z"
   },
   {
    "duration": 13,
    "start_time": "2025-05-11T03:47:10.231Z"
   },
   {
    "duration": 394,
    "start_time": "2025-05-11T03:47:59.123Z"
   },
   {
    "duration": 48,
    "start_time": "2025-05-11T03:49:18.679Z"
   },
   {
    "duration": 50,
    "start_time": "2025-05-11T03:49:49.180Z"
   },
   {
    "duration": 43,
    "start_time": "2025-05-11T03:49:56.967Z"
   },
   {
    "duration": 9,
    "start_time": "2025-05-11T03:49:57.012Z"
   },
   {
    "duration": 8,
    "start_time": "2025-05-11T03:49:57.023Z"
   },
   {
    "duration": 68,
    "start_time": "2025-05-11T03:49:57.033Z"
   },
   {
    "duration": 0,
    "start_time": "2025-05-11T03:49:57.103Z"
   },
   {
    "duration": 0,
    "start_time": "2025-05-11T03:49:57.105Z"
   },
   {
    "duration": 41,
    "start_time": "2025-05-11T03:50:06.735Z"
   },
   {
    "duration": 8,
    "start_time": "2025-05-11T03:50:06.779Z"
   },
   {
    "duration": 9,
    "start_time": "2025-05-11T03:50:06.788Z"
   },
   {
    "duration": 72,
    "start_time": "2025-05-11T03:50:06.798Z"
   },
   {
    "duration": 0,
    "start_time": "2025-05-11T03:50:06.871Z"
   },
   {
    "duration": 0,
    "start_time": "2025-05-11T03:50:06.872Z"
   },
   {
    "duration": 41,
    "start_time": "2025-05-11T03:50:33.153Z"
   },
   {
    "duration": 9,
    "start_time": "2025-05-11T03:50:43.621Z"
   },
   {
    "duration": 9,
    "start_time": "2025-05-11T03:51:50.545Z"
   },
   {
    "duration": 140,
    "start_time": "2025-05-11T03:52:02.164Z"
   },
   {
    "duration": 37,
    "start_time": "2025-05-11T03:52:46.476Z"
   },
   {
    "duration": 34,
    "start_time": "2025-05-11T03:53:11.188Z"
   },
   {
    "duration": 36,
    "start_time": "2025-05-11T03:55:00.424Z"
   },
   {
    "duration": 9,
    "start_time": "2025-05-11T03:55:12.283Z"
   },
   {
    "duration": 27,
    "start_time": "2025-05-11T03:55:13.993Z"
   },
   {
    "duration": 12,
    "start_time": "2025-05-11T03:55:19.911Z"
   },
   {
    "duration": 27,
    "start_time": "2025-05-11T03:55:28.454Z"
   },
   {
    "duration": 9,
    "start_time": "2025-05-11T03:55:58.452Z"
   },
   {
    "duration": 10,
    "start_time": "2025-05-11T03:56:00.527Z"
   },
   {
    "duration": 24,
    "start_time": "2025-05-11T03:56:09.978Z"
   },
   {
    "duration": 8,
    "start_time": "2025-05-11T03:57:18.115Z"
   },
   {
    "duration": 10,
    "start_time": "2025-05-11T03:57:23.477Z"
   },
   {
    "duration": 9,
    "start_time": "2025-05-11T03:57:23.972Z"
   },
   {
    "duration": 291,
    "start_time": "2025-05-11T03:57:28.362Z"
   },
   {
    "duration": 106,
    "start_time": "2025-05-11T03:57:32.019Z"
   },
   {
    "duration": 63,
    "start_time": "2025-05-11T03:57:35.026Z"
   },
   {
    "duration": 293,
    "start_time": "2025-05-11T03:57:44.857Z"
   },
   {
    "duration": 62,
    "start_time": "2025-05-11T03:57:52.363Z"
   },
   {
    "duration": 9,
    "start_time": "2025-05-11T04:02:14.891Z"
   },
   {
    "duration": 8,
    "start_time": "2025-05-11T04:02:17.638Z"
   },
   {
    "duration": 288,
    "start_time": "2025-05-11T04:02:21.969Z"
   },
   {
    "duration": 55,
    "start_time": "2025-05-11T04:02:26.787Z"
   },
   {
    "duration": 424,
    "start_time": "2025-05-11T04:05:55.982Z"
   },
   {
    "duration": 13,
    "start_time": "2025-05-11T04:06:41.036Z"
   },
   {
    "duration": 105,
    "start_time": "2025-05-11T04:16:12.756Z"
   },
   {
    "duration": 1405,
    "start_time": "2025-05-11T04:18:06.875Z"
   },
   {
    "duration": 2803,
    "start_time": "2025-05-11T21:38:42.171Z"
   },
   {
    "duration": 645,
    "start_time": "2025-05-11T21:39:09.049Z"
   },
   {
    "duration": 1233,
    "start_time": "2025-05-11T21:39:54.016Z"
   },
   {
    "duration": 1201,
    "start_time": "2025-05-11T21:40:04.537Z"
   },
   {
    "duration": 599,
    "start_time": "2025-05-11T21:40:11.841Z"
   },
   {
    "duration": 67,
    "start_time": "2025-05-11T21:40:29.099Z"
   },
   {
    "duration": 37,
    "start_time": "2025-05-11T21:43:52.450Z"
   },
   {
    "duration": 1205,
    "start_time": "2025-05-11T21:48:12.234Z"
   },
   {
    "duration": 592,
    "start_time": "2025-05-11T21:50:28.761Z"
   },
   {
    "duration": 65,
    "start_time": "2025-05-11T21:51:09.866Z"
   },
   {
    "duration": 66,
    "start_time": "2025-05-11T21:51:18.831Z"
   },
   {
    "duration": 645,
    "start_time": "2025-05-11T21:51:58.049Z"
   },
   {
    "duration": 255,
    "start_time": "2025-05-11T22:22:56.333Z"
   },
   {
    "duration": 26,
    "start_time": "2025-05-11T22:23:29.669Z"
   },
   {
    "duration": 24,
    "start_time": "2025-05-11T22:26:33.515Z"
   },
   {
    "duration": 15,
    "start_time": "2025-05-11T22:27:19.663Z"
   },
   {
    "duration": 17,
    "start_time": "2025-05-11T22:27:40.885Z"
   },
   {
    "duration": 19,
    "start_time": "2025-05-11T22:28:12.181Z"
   },
   {
    "duration": 2411,
    "start_time": "2025-05-11T22:29:02.145Z"
   },
   {
    "duration": 1221,
    "start_time": "2025-05-11T22:29:32.914Z"
   },
   {
    "duration": 37,
    "start_time": "2025-05-11T22:30:24.795Z"
   },
   {
    "duration": 11,
    "start_time": "2025-05-11T22:30:36.382Z"
   },
   {
    "duration": 936,
    "start_time": "2025-05-11T22:30:50.497Z"
   },
   {
    "duration": 86,
    "start_time": "2025-05-11T22:31:27.644Z"
   },
   {
    "duration": 18,
    "start_time": "2025-05-11T22:31:46.241Z"
   },
   {
    "duration": 12,
    "start_time": "2025-05-11T22:33:44.847Z"
   },
   {
    "duration": 51,
    "start_time": "2025-05-11T22:33:47.532Z"
   },
   {
    "duration": 38,
    "start_time": "2025-05-11T22:33:50.312Z"
   },
   {
    "duration": 33,
    "start_time": "2025-05-11T22:37:59.801Z"
   },
   {
    "duration": 34,
    "start_time": "2025-05-11T22:39:10.783Z"
   },
   {
    "duration": 9,
    "start_time": "2025-05-11T22:39:22.271Z"
   },
   {
    "duration": 774,
    "start_time": "2025-05-11T22:39:30.394Z"
   },
   {
    "duration": 759,
    "start_time": "2025-05-11T22:41:37.941Z"
   },
   {
    "duration": 36,
    "start_time": "2025-05-11T22:43:15.150Z"
   },
   {
    "duration": 33,
    "start_time": "2025-05-11T22:43:17.769Z"
   },
   {
    "duration": 11,
    "start_time": "2025-05-11T22:43:28.442Z"
   },
   {
    "duration": 42,
    "start_time": "2025-05-11T22:43:44.750Z"
   },
   {
    "duration": 12,
    "start_time": "2025-05-11T22:45:03.021Z"
   },
   {
    "duration": 34,
    "start_time": "2025-05-11T22:45:38.022Z"
   },
   {
    "duration": 12,
    "start_time": "2025-05-11T22:45:46.628Z"
   },
   {
    "duration": 1062,
    "start_time": "2025-05-11T22:50:35.217Z"
   },
   {
    "duration": 17,
    "start_time": "2025-05-11T22:50:36.750Z"
   },
   {
    "duration": 59,
    "start_time": "2025-05-11T22:52:41.966Z"
   },
   {
    "duration": 55,
    "start_time": "2025-05-11T22:52:42.027Z"
   },
   {
    "duration": 199,
    "start_time": "2025-05-11T22:52:51.128Z"
   },
   {
    "duration": 1141,
    "start_time": "2025-05-11T22:53:03.168Z"
   },
   {
    "duration": 16,
    "start_time": "2025-05-11T22:53:05.274Z"
   },
   {
    "duration": 5223,
    "start_time": "2025-05-11T22:53:07.169Z"
   },
   {
    "duration": 36,
    "start_time": "2025-05-11T22:53:12.395Z"
   },
   {
    "duration": 19,
    "start_time": "2025-05-11T22:53:12.433Z"
   },
   {
    "duration": 52,
    "start_time": "2025-05-11T22:56:01.344Z"
   },
   {
    "duration": 547,
    "start_time": "2025-05-11T22:56:11.997Z"
   },
   {
    "duration": 40992,
    "start_time": "2025-05-11T22:56:32.252Z"
   },
   {
    "duration": 34,
    "start_time": "2025-05-11T22:57:51.818Z"
   },
   {
    "duration": 41,
    "start_time": "2025-05-11T22:58:03.859Z"
   },
   {
    "duration": 33,
    "start_time": "2025-05-11T23:02:21.041Z"
   },
   {
    "duration": 41,
    "start_time": "2025-05-11T23:02:29.988Z"
   },
   {
    "duration": 37,
    "start_time": "2025-05-11T23:03:00.747Z"
   },
   {
    "duration": 43,
    "start_time": "2025-05-11T23:03:03.131Z"
   },
   {
    "duration": 538,
    "start_time": "2025-05-11T23:03:06.610Z"
   },
   {
    "duration": 39581,
    "start_time": "2025-05-11T23:03:10.451Z"
   },
   {
    "duration": 34,
    "start_time": "2025-05-11T23:09:48.914Z"
   },
   {
    "duration": 34,
    "start_time": "2025-05-11T23:09:52.771Z"
   },
   {
    "duration": 35,
    "start_time": "2025-05-11T23:49:08.275Z"
   },
   {
    "duration": 527,
    "start_time": "2025-05-11T23:50:31.099Z"
   },
   {
    "duration": 541,
    "start_time": "2025-05-11T23:50:46.249Z"
   },
   {
    "duration": 33,
    "start_time": "2025-05-11T23:50:59.070Z"
   },
   {
    "duration": 107,
    "start_time": "2025-05-11T23:51:38.208Z"
   },
   {
    "duration": 43,
    "start_time": "2025-05-11T23:51:48.875Z"
   },
   {
    "duration": 44,
    "start_time": "2025-05-11T23:53:00.532Z"
   },
   {
    "duration": 42,
    "start_time": "2025-05-11T23:53:11.671Z"
   },
   {
    "duration": 528,
    "start_time": "2025-05-11T23:53:20.604Z"
   },
   {
    "duration": 34,
    "start_time": "2025-05-11T23:53:44.970Z"
   },
   {
    "duration": 32,
    "start_time": "2025-05-11T23:53:52.389Z"
   },
   {
    "duration": 43,
    "start_time": "2025-05-11T23:53:56.390Z"
   },
   {
    "duration": 534,
    "start_time": "2025-05-11T23:53:56.437Z"
   },
   {
    "duration": 39060,
    "start_time": "2025-05-11T23:53:56.973Z"
   },
   {
    "duration": 35,
    "start_time": "2025-05-11T23:54:36.036Z"
   },
   {
    "duration": 30,
    "start_time": "2025-05-11T23:54:36.073Z"
   }
  ],
  "kernelspec": {
   "display_name": "Python 3 (ipykernel)",
   "language": "python",
   "name": "python3"
  },
  "language_info": {
   "codemirror_mode": {
    "name": "ipython",
    "version": 3
   },
   "file_extension": ".py",
   "mimetype": "text/x-python",
   "name": "python",
   "nbconvert_exporter": "python",
   "pygments_lexer": "ipython3",
   "version": "3.9.22"
  },
  "toc": {
   "base_numbering": 1,
   "nav_menu": {},
   "number_sections": true,
   "sideBar": true,
   "skip_h1_title": true,
   "title_cell": "Table of Contents",
   "title_sidebar": "Contents",
   "toc_cell": false,
   "toc_position": {},
   "toc_section_display": true,
   "toc_window_display": false
  }
 },
 "nbformat": 4,
 "nbformat_minor": 4
}
