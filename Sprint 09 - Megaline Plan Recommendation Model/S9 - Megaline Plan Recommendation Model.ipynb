{
 "cells": [
  {
   "cell_type": "markdown",
   "metadata": {},
   "source": [
    "# Megaline Plan Recommendation Model"
   ]
  },
  {
   "cell_type": "code",
   "execution_count": 1,
   "metadata": {
    "trusted": true
   },
   "outputs": [
    {
     "name": "stdout",
     "output_type": "stream",
     "text": [
      "   calls  minutes  messages   mb_used  is_ultra\n",
      "0   40.0   311.90      83.0  19915.42         0\n",
      "1   85.0   516.75      56.0  22696.96         0\n",
      "2   77.0   467.66      86.0  21060.45         0\n",
      "3  106.0   745.53      81.0   8437.39         1\n",
      "4   66.0   418.74       1.0  14502.75         0\n",
      "<class 'pandas.core.frame.DataFrame'>\n",
      "RangeIndex: 3214 entries, 0 to 3213\n",
      "Data columns (total 5 columns):\n",
      " #   Column    Non-Null Count  Dtype  \n",
      "---  ------    --------------  -----  \n",
      " 0   calls     3214 non-null   float64\n",
      " 1   minutes   3214 non-null   float64\n",
      " 2   messages  3214 non-null   float64\n",
      " 3   mb_used   3214 non-null   float64\n",
      " 4   is_ultra  3214 non-null   int64  \n",
      "dtypes: float64(4), int64(1)\n",
      "memory usage: 125.7 KB\n",
      "None\n",
      "             calls      minutes     messages       mb_used     is_ultra\n",
      "count  3214.000000  3214.000000  3214.000000   3214.000000  3214.000000\n",
      "mean     63.038892   438.208787    38.281269  17207.673836     0.306472\n",
      "std      33.236368   234.569872    36.148326   7570.968246     0.461100\n",
      "min       0.000000     0.000000     0.000000      0.000000     0.000000\n",
      "25%      40.000000   274.575000     9.000000  12491.902500     0.000000\n",
      "50%      62.000000   430.600000    30.000000  16943.235000     0.000000\n",
      "75%      82.000000   571.927500    57.000000  21424.700000     1.000000\n",
      "max     244.000000  1632.060000   224.000000  49745.730000     1.000000\n"
     ]
    }
   ],
   "source": [
    "#Importar librerias, cargar y examinacion de datos\n",
    "import pandas as pd\n",
    "from sklearn.model_selection import train_test_split\n",
    "from sklearn.tree import DecisionTreeClassifier\n",
    "from sklearn.ensemble import RandomForestClassifier\n",
    "from sklearn.linear_model import LogisticRegression\n",
    "from sklearn.dummy import DummyClassifier\n",
    "from sklearn.metrics import accuracy_score\n",
    "\n",
    "data = pd.read_csv('/datasets/users_behavior.csv')\n",
    "\n",
    "print(data.head())\n",
    "print(data.info())\n",
    "print(data.describe())"
   ]
  },
  {
   "cell_type": "code",
   "execution_count": 2,
   "metadata": {
    "trusted": true
   },
   "outputs": [],
   "source": [
    "#Preparar caracteristicas y objetivo\n",
    "features = data[['calls', 'minutes', 'messages', 'mb_used']]\n",
    "target = data['is_ultra']"
   ]
  },
  {
   "cell_type": "code",
   "execution_count": 3,
   "metadata": {
    "trusted": true
   },
   "outputs": [
    {
     "name": "stdout",
     "output_type": "stream",
     "text": [
      "Tamaño de train: (1928, 4)\n",
      "Tamaño de validacion: (643, 4)\n",
      "Tamaño de prueba: (643, 4)\n"
     ]
    }
   ],
   "source": [
    "#Dividir los datos en 60% train, 20% validation y 20% test, (0.25 de 0.8 = 0.2)\n",
    "features_temp, features_test, target_temp, target_test = train_test_split(features, target, test_size=0.2, random_state=12345)\n",
    "features_train, features_valid, target_train, target_valid = train_test_split(features_temp, target_temp, test_size=0.25, random_state=12345)\n",
    "\n",
    "\n",
    "print('Tamaño de train:', features_train.shape)\n",
    "print('Tamaño de validacion:', features_valid.shape)\n",
    "print('Tamaño de prueba:', features_test.shape)"
   ]
  },
  {
   "cell_type": "markdown",
   "metadata": {},
   "source": [
    "### ¿Segmentaste correctamente los datos en conjuntos de entrenamiento, validación y prueba?\n",
    "Si, se dividieron los datos en tres partes: entrenamiento (60%), validación (20%) y prueba (20%), utilizando la funcion train_test_split en dos pasos.\n",
    "\n"
   ]
  },
  {
   "cell_type": "markdown",
   "metadata": {},
   "source": [
    "### ¿Cómo escogiste el tamaño de los conjuntos?\n",
    "Primero se separo el 60% para entrenamiento y el 40% restante se dividió en dos mitades iguales: 20% para validacion y 20% para prueba, ya que este tamaño permite entrenar el modelo con suficientes datos y tener conjuntos independientes para evaluar y ajustar."
   ]
  },
  {
   "cell_type": "code",
   "execution_count": 4,
   "metadata": {
    "trusted": true
   },
   "outputs": [
    {
     "name": "stdout",
     "output_type": "stream",
     "text": [
      "Mejor exactitud arbol de decision: 0.774 con profundidad 7\n",
      "Mejor exactitud bosque aleatorio: 0.799 con 80 arboles\n",
      "Exactitud regresion logistica: 0.729\n"
     ]
    }
   ],
   "source": [
    "#Entrenamos modelos\n",
    "\n",
    "#1 decision tree\n",
    "best_tree_accuracy = 0\n",
    "best_tree_depth = 0\n",
    "\n",
    "for depth in range(1, 21):\n",
    "    model_tree = DecisionTreeClassifier(max_depth=depth, random_state=12345)\n",
    "    model_tree.fit(features_train, target_train)\n",
    "    preds_valid = model_tree.predict(features_valid)\n",
    "    acc = accuracy_score(target_valid, preds_valid)\n",
    "    if acc > best_tree_accuracy:\n",
    "        best_tree_accuracy = acc\n",
    "        best_tree_depth = depth\n",
    "\n",
    "print(f'Mejor exactitud arbol de decision: {best_tree_accuracy:.3f} con profundidad {best_tree_depth}')\n",
    "\n",
    "#2 random forest\n",
    "best_forest_accuracy = 0\n",
    "best_forest_estimators = 0\n",
    "\n",
    "for est in range(10, 101, 10):\n",
    "    model_forest = RandomForestClassifier(n_estimators=est, random_state=12345)\n",
    "    model_forest.fit(features_train, target_train)\n",
    "    preds_valid = model_forest.predict(features_valid)\n",
    "    acc = accuracy_score(target_valid, preds_valid)\n",
    "    if acc > best_forest_accuracy:\n",
    "        best_forest_accuracy = acc\n",
    "        best_forest_estimators = est\n",
    "\n",
    "print(f'Mejor exactitud bosque aleatorio: {best_forest_accuracy:.3f} con {best_forest_estimators} arboles')\n",
    "\n",
    "#3 regresion logistica\n",
    "model_logreg = LogisticRegression(random_state=12345, solver='liblinear')\n",
    "model_logreg.fit(features_train, target_train)\n",
    "preds_valid = model_logreg.predict(features_valid)\n",
    "logreg_accuracy = accuracy_score(target_valid, preds_valid)\n",
    "\n",
    "print(f'Exactitud regresion logistica: {logreg_accuracy:.3f}')"
   ]
  },
  {
   "cell_type": "markdown",
   "metadata": {},
   "source": [
    "### ¿Evaluaste correctamente la calidad del modelo?\n",
    "Si, la calidad del modelo fue evaluada utilizando la metrica de exactitud (accuracy) en el conjunto de prueba."
   ]
  },
  {
   "cell_type": "code",
   "execution_count": 5,
   "metadata": {
    "trusted": true
   },
   "outputs": [
    {
     "name": "stdout",
     "output_type": "stream",
     "text": [
      "Modelo seleccionado: Random Forest\n"
     ]
    }
   ],
   "source": [
    "#Seleccionamos el mejor modelo\n",
    "if best_forest_accuracy >= best_tree_accuracy and best_forest_accuracy >= logreg_accuracy:\n",
    "    final_model = RandomForestClassifier(n_estimators=best_forest_estimators, random_state=12345)\n",
    "    print('Modelo seleccionado: Random Forest')\n",
    "elif best_tree_accuracy >= best_forest_accuracy and best_tree_accuracy >= logreg_accuracy:\n",
    "    final_model = DecisionTreeClassifier(max_depth=best_tree_depth, random_state=12345)\n",
    "    print('Modelo seleccionado: Decision Tree')\n",
    "else:\n",
    "    final_model = LogisticRegression(random_state=12345, solver='liblinear')\n",
    "    print('Modelo seleccionado: Logistic Regression')"
   ]
  },
  {
   "cell_type": "markdown",
   "metadata": {},
   "source": [
    "### ¿Qué modelos e hiperparámetros usaste?\n",
    "Probe los siguientes modelos:\n",
    "1. DecisionTreeClassifier\n",
    "2. RandomForestClassifier\n",
    "3. LogisticRegression\n",
    "\n",
    "\n",
    "### ¿Cuáles fueron tus hallazgos?\n",
    "1. El Random Forest fue el mejor modelo en terminos de exactitud como tal.\n",
    "2. El arbol de decision tuvo una exactitud decente pero menor que Random Forest por lo que fue descartado.\n",
    "3. La regresion logistica quedo por debajo de los arboles en desempeño por ende tambien fue descartado.\n",
    "4. El mejor desempeño se logró alcanzando una exactitud de 0.787 en el conjunto de prueba suoerando el umbral requerido de 0.75 de exactitud.\n",
    "\n",
    "### ¿Probaste los modelos correctamente?\n",
    "Desde mi perspectiva si, ya que realice las pruebas de todos modelos usando el conjunto de validacion antes de hacer la evaluacion final en el conjunto de prueba."
   ]
  },
  {
   "cell_type": "code",
   "execution_count": 6,
   "metadata": {
    "trusted": true
   },
   "outputs": [
    {
     "name": "stdout",
     "output_type": "stream",
     "text": [
      "Exactitud final en conjunto de prueba: 0.787\n"
     ]
    }
   ],
   "source": [
    "# 7. Entrenar el modelo final y evaluar en test\n",
    "final_model.fit(features_train, target_train)\n",
    "preds_test = final_model.predict(features_test)\n",
    "final_accuracy = accuracy_score(target_test, preds_test)\n",
    "\n",
    "print(f'Exactitud final en conjunto de prueba: {final_accuracy:.3f}')"
   ]
  },
  {
   "cell_type": "markdown",
   "metadata": {},
   "source": [
    "### ¿Cuál es tu puntuación de exactitud?\n",
    "\n",
    "La exactitud final en el conjunto de prueba fue de 0.787 (78.7%)."
   ]
  },
  {
   "cell_type": "code",
   "execution_count": 7,
   "metadata": {
    "trusted": true
   },
   "outputs": [
    {
     "name": "stdout",
     "output_type": "stream",
     "text": [
      "Exactitud del modelo aleatorio (dummy): 0.695\n"
     ]
    }
   ],
   "source": [
    "#Hacemos la prueba de cordura usando dummy classifier\n",
    "dummy = DummyClassifier(strategy=\"most_frequent\", random_state=12345)\n",
    "dummy.fit(features_train, target_train)\n",
    "dummy_preds = dummy.predict(features_test)\n",
    "dummy_accuracy = accuracy_score(target_test, dummy_preds)\n",
    "\n",
    "print(f'Exactitud del modelo aleatorio (dummy): {dummy_accuracy:.3f}')"
   ]
  },
  {
   "cell_type": "code",
   "execution_count": 8,
   "metadata": {
    "scrolled": true,
    "trusted": true
   },
   "outputs": [
    {
     "name": "stdout",
     "output_type": "stream",
     "text": [
      "El modelo es mejor que uno aleatorio.\n"
     ]
    }
   ],
   "source": [
    "#Conclusion\n",
    "if final_accuracy > dummy_accuracy:\n",
    "    print('El modelo es mejor que uno aleatorio.')\n",
    "else:\n",
    "    print('El modelo no supera a uno aleatorio. Hay que revisar el enfoque.')"
   ]
  },
  {
   "cell_type": "markdown",
   "metadata": {},
   "source": [
    "# Conclusion \n",
    "\n",
    "Desarrolle un modelo de clasificacion para recomendar el plan mas adecuado (Smart o Ultra) a los clientes de Megaline.\n",
    "\n",
    "Ahora bien, despues de un analisis de resultados seleccione utilize el modelo Random Forest, el modelo final logro una exactitud de un 78.1%, superando el umbral minimo establecido del 75%.\n",
    "\n",
    "El modelo fue de ayuda para evitar el sobreajuste mediante una separación eficiente de los datos y una evaluacion transparente, ya que con estos resultados, desde mi perspectiva el modelo puede ser utilizado para asistir en la recomendacion de planes a los clientes de manera confiable."
   ]
  }
 ],
 "metadata": {
  "ExecuteTimeLog": [
   {
    "duration": 183,
    "start_time": "2025-04-27T02:09:23.982Z"
   },
   {
    "duration": 902,
    "start_time": "2025-04-27T02:09:26.525Z"
   },
   {
    "duration": 21,
    "start_time": "2025-04-27T02:09:30.199Z"
   },
   {
    "duration": 7,
    "start_time": "2025-04-27T02:09:58.398Z"
   },
   {
    "duration": 6356,
    "start_time": "2025-04-27T02:10:29.033Z"
   },
   {
    "duration": 43,
    "start_time": "2025-04-27T02:10:54.646Z"
   },
   {
    "duration": 14,
    "start_time": "2025-04-27T02:10:55.412Z"
   },
   {
    "duration": 6446,
    "start_time": "2025-04-27T02:12:38.531Z"
   },
   {
    "duration": 15,
    "start_time": "2025-04-27T02:12:44.979Z"
   },
   {
    "duration": 6319,
    "start_time": "2025-04-27T02:12:54.466Z"
   },
   {
    "duration": 42,
    "start_time": "2025-04-27T02:14:34.733Z"
   },
   {
    "duration": 11,
    "start_time": "2025-04-27T02:14:56.198Z"
   },
   {
    "duration": 12,
    "start_time": "2025-04-27T02:15:06.553Z"
   },
   {
    "duration": 16,
    "start_time": "2025-04-27T02:15:23.368Z"
   },
   {
    "duration": 6,
    "start_time": "2025-04-27T02:15:23.387Z"
   },
   {
    "duration": 6592,
    "start_time": "2025-04-27T02:15:23.394Z"
   },
   {
    "duration": 43,
    "start_time": "2025-04-27T02:15:29.988Z"
   },
   {
    "duration": 13,
    "start_time": "2025-04-27T02:15:30.035Z"
   },
   {
    "duration": 6833,
    "start_time": "2025-04-27T02:15:37.503Z"
   },
   {
    "duration": 22,
    "start_time": "2025-04-27T02:18:57.060Z"
   },
   {
    "duration": 6,
    "start_time": "2025-04-27T02:18:57.085Z"
   },
   {
    "duration": 6867,
    "start_time": "2025-04-27T02:18:57.093Z"
   },
   {
    "duration": 33,
    "start_time": "2025-04-27T02:19:03.963Z"
   },
   {
    "duration": 13,
    "start_time": "2025-04-27T02:19:03.998Z"
   },
   {
    "duration": 14,
    "start_time": "2025-04-27T02:19:55.312Z"
   },
   {
    "duration": 13,
    "start_time": "2025-04-27T02:19:55.328Z"
   },
   {
    "duration": 7122,
    "start_time": "2025-04-27T02:19:55.344Z"
   },
   {
    "duration": 41,
    "start_time": "2025-04-27T02:20:02.478Z"
   },
   {
    "duration": 32,
    "start_time": "2025-04-27T02:20:02.522Z"
   },
   {
    "duration": 2162,
    "start_time": "2025-04-27T02:31:33.703Z"
   },
   {
    "duration": 26,
    "start_time": "2025-04-27T02:37:13.412Z"
   },
   {
    "duration": 26,
    "start_time": "2025-04-27T02:43:22.208Z"
   },
   {
    "duration": 3,
    "start_time": "2025-04-27T02:43:22.236Z"
   },
   {
    "duration": 6,
    "start_time": "2025-04-27T02:43:22.242Z"
   },
   {
    "duration": 7,
    "start_time": "2025-04-27T02:43:22.250Z"
   },
   {
    "duration": 0,
    "start_time": "2025-04-27T02:43:22.259Z"
   },
   {
    "duration": 0,
    "start_time": "2025-04-27T02:43:22.260Z"
   },
   {
    "duration": 0,
    "start_time": "2025-04-27T02:43:22.261Z"
   },
   {
    "duration": 0,
    "start_time": "2025-04-27T02:43:22.262Z"
   },
   {
    "duration": 24,
    "start_time": "2025-04-27T02:43:35.959Z"
   },
   {
    "duration": 3,
    "start_time": "2025-04-27T02:43:35.985Z"
   },
   {
    "duration": 7,
    "start_time": "2025-04-27T02:43:35.990Z"
   },
   {
    "duration": 1889,
    "start_time": "2025-04-27T02:43:35.998Z"
   },
   {
    "duration": 4,
    "start_time": "2025-04-27T02:43:37.890Z"
   },
   {
    "duration": 266,
    "start_time": "2025-04-27T02:43:37.896Z"
   },
   {
    "duration": 5,
    "start_time": "2025-04-27T02:43:38.164Z"
   },
   {
    "duration": 4,
    "start_time": "2025-04-27T02:43:38.171Z"
   },
   {
    "duration": 5,
    "start_time": "2025-04-27T02:44:19.732Z"
   },
   {
    "duration": 3,
    "start_time": "2025-04-27T02:44:23.444Z"
   },
   {
    "duration": 1984,
    "start_time": "2025-04-27T02:48:41.257Z"
   },
   {
    "duration": 1956,
    "start_time": "2025-04-27T02:49:01.559Z"
   },
   {
    "duration": 1984,
    "start_time": "2025-04-27T02:49:08.573Z"
   },
   {
    "duration": 830,
    "start_time": "2025-04-27T04:59:12.535Z"
   },
   {
    "duration": 3,
    "start_time": "2025-04-27T04:59:13.368Z"
   },
   {
    "duration": 5,
    "start_time": "2025-04-27T04:59:13.373Z"
   },
   {
    "duration": 1841,
    "start_time": "2025-04-27T04:59:13.380Z"
   },
   {
    "duration": 3,
    "start_time": "2025-04-27T04:59:15.224Z"
   },
   {
    "duration": 263,
    "start_time": "2025-04-27T04:59:15.229Z"
   },
   {
    "duration": 5,
    "start_time": "2025-04-27T04:59:15.494Z"
   },
   {
    "duration": 3,
    "start_time": "2025-04-27T04:59:15.511Z"
   },
   {
    "duration": 24,
    "start_time": "2025-04-27T05:02:05.238Z"
   },
   {
    "duration": 877,
    "start_time": "2025-04-28T03:51:30.012Z"
   },
   {
    "duration": 3,
    "start_time": "2025-04-28T03:51:30.891Z"
   },
   {
    "duration": 5,
    "start_time": "2025-04-28T03:51:30.896Z"
   },
   {
    "duration": 1867,
    "start_time": "2025-04-28T03:51:30.903Z"
   },
   {
    "duration": 5,
    "start_time": "2025-04-28T03:51:32.773Z"
   },
   {
    "duration": 259,
    "start_time": "2025-04-28T03:51:32.779Z"
   },
   {
    "duration": 4,
    "start_time": "2025-04-28T03:51:33.040Z"
   },
   {
    "duration": 3,
    "start_time": "2025-04-28T03:51:33.046Z"
   }
  ],
  "kernelspec": {
   "display_name": "Python 3 (ipykernel)",
   "language": "python",
   "name": "python3"
  },
  "language_info": {
   "codemirror_mode": {
    "name": "ipython",
    "version": 3
   },
   "file_extension": ".py",
   "mimetype": "text/x-python",
   "name": "python",
   "nbconvert_exporter": "python",
   "pygments_lexer": "ipython3",
   "version": "3.9.19"
  },
  "toc": {
   "base_numbering": 1,
   "nav_menu": {},
   "number_sections": true,
   "sideBar": true,
   "skip_h1_title": true,
   "title_cell": "Table of Contents",
   "title_sidebar": "Contents",
   "toc_cell": false,
   "toc_position": {},
   "toc_section_display": true,
   "toc_window_display": false
  }
 },
 "nbformat": 4,
 "nbformat_minor": 2
}
