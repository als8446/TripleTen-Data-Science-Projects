{
 "cells": [
  {
   "cell_type": "markdown",
   "metadata": {
    "id": "E0vqbgi9ay0H"
   },
   "source": [
    "# Déjame escuchar la música"
   ]
  },
  {
   "cell_type": "markdown",
   "metadata": {
    "id": "fhq_eyov_Zcs"
   },
   "source": [
    "# Contenido <a id='back'></a>\n",
    "\n",
    "* [Introducción](#intro)\n",
    "* [Etapa 1. Descripción de los datos](#data_review)\n",
    "    * [Conclusiones](#data_review_conclusions)\n",
    "* [Etapa 2. Preprocesamiento de datos](#data_preprocessing)\n",
    "    * [2.1 Estilo del encabezado](#header_style)\n",
    "    * [2.2 Valores ausentes](#missing_values)\n",
    "    * [2.3 Duplicados](#duplicates)\n",
    "    * [2.4 Conclusiones](#data_preprocessing_conclusions)\n",
    "* [Etapa 3. Prueba de hipótesis](#hypothesis)\n",
    "    * [3.1 Hipótesis 1: actividad de los usuarios y las usuarias en las dos ciudades](#activity)\n",
    "* [Conclusiones](#end)"
   ]
  },
  {
   "cell_type": "markdown",
   "metadata": {
    "id": "VUC88oWjTJw2"
   },
   "source": [
    "## Introducción <a id='intro'></a>\n",
    "Como analista de datos, tu trabajo consiste en analizar datos para extraer información valiosa y tomar decisiones basadas en ellos. Esto implica diferentes etapas, como la descripción general de los datos, el preprocesamiento y la prueba de hipótesis.\n",
    "\n",
    "Siempre que investigamos, necesitamos formular hipótesis que después podamos probar. A veces aceptamos estas hipótesis; otras veces, las rechazamos. Para tomar las decisiones correctas, una empresa debe ser capaz de entender si está haciendo las suposiciones correctas.\n",
    "\n",
    "En este proyecto, compararás las preferencias musicales de las ciudades de Springfield y Shelbyville. Estudiarás datos reales de transmisión de música online para probar la hipótesis a continuación y comparar el comportamiento de los usuarios y las usuarias de estas dos ciudades.\n",
    "\n",
    "### Objetivo:\n",
    "Prueba la hipótesis:\n",
    "1. La actividad de los usuarios y las usuarias difiere según el día de la semana y dependiendo de la ciudad.\n",
    "\n",
    "\n",
    "### Etapas\n",
    "Los datos del comportamiento del usuario se almacenan en el archivo `/datasets/music_project_en.csv`. No hay ninguna información sobre la calidad de los datos, así que necesitarás examinarlos antes de probar la hipótesis.\n",
    "\n",
    "Primero, evaluarás la calidad de los datos y verás si los problemas son significativos. Entonces, durante el preprocesamiento de datos, tomarás en cuenta los problemas más críticos.\n",
    "\n",
    "Tu proyecto consistirá en tres etapas:\n",
    " 1. Descripción de los datos.\n",
    " 2. Preprocesamiento de datos.\n",
    " 3. Prueba de hipótesis.\n",
    "\n",
    "\n",
    "\n",
    "\n",
    "\n",
    "\n"
   ]
  },
  {
   "cell_type": "markdown",
   "metadata": {
    "id": "hDt6pg-Rw-1U"
   },
   "source": [
    "[Volver a Contenidos](#back)"
   ]
  },
  {
   "cell_type": "markdown",
   "metadata": {
    "id": "Ml1hmfXC_Zcs"
   },
   "source": [
    "## Etapa 1. Descripción de los datos <a id='data_review'></a>\n",
    "\n",
    "Abre los datos y examínalos."
   ]
  },
  {
   "cell_type": "markdown",
   "metadata": {
    "id": "57eAOGIz_Zcs"
   },
   "source": [
    "Necesitarás `pandas`, así que impórtalo."
   ]
  },
  {
   "cell_type": "code",
   "execution_count": 139,
   "metadata": {
    "id": "AXN7PHPN_Zcs",
    "trusted": true
   },
   "outputs": [],
   "source": [
    "# Importar pandas\n",
    "import pandas as pd"
   ]
  },
  {
   "cell_type": "markdown",
   "metadata": {
    "id": "SG23P8tt_Zcs"
   },
   "source": [
    "Lee el archivo `music_project_en.csv` de la carpeta `/datasets/` y guárdalo en la variable `df`:"
   ]
  },
  {
   "cell_type": "code",
   "execution_count": 140,
   "metadata": {
    "id": "fFVu7vqh_Zct",
    "trusted": true
   },
   "outputs": [],
   "source": [
    "# Leer el archivo y almacenarlo en df\n",
    "df = pd.read_csv('/datasets/music_project_en.csv')"
   ]
  },
  {
   "cell_type": "markdown",
   "metadata": {
    "id": "rDoOMd3uTqnZ"
   },
   "source": [
    "Muestra las 10 primeras filas de la tabla:"
   ]
  },
  {
   "cell_type": "code",
   "execution_count": 141,
   "metadata": {
    "id": "oWTVX3gW_Zct",
    "trusted": true
   },
   "outputs": [
    {
     "data": {
      "text/html": [
       "<div>\n",
       "<style scoped>\n",
       "    .dataframe tbody tr th:only-of-type {\n",
       "        vertical-align: middle;\n",
       "    }\n",
       "\n",
       "    .dataframe tbody tr th {\n",
       "        vertical-align: top;\n",
       "    }\n",
       "\n",
       "    .dataframe thead th {\n",
       "        text-align: right;\n",
       "    }\n",
       "</style>\n",
       "<table border=\"1\" class=\"dataframe\">\n",
       "  <thead>\n",
       "    <tr style=\"text-align: right;\">\n",
       "      <th></th>\n",
       "      <th>userID</th>\n",
       "      <th>Track</th>\n",
       "      <th>artist</th>\n",
       "      <th>genre</th>\n",
       "      <th>City</th>\n",
       "      <th>time</th>\n",
       "      <th>Day</th>\n",
       "    </tr>\n",
       "  </thead>\n",
       "  <tbody>\n",
       "    <tr>\n",
       "      <th>0</th>\n",
       "      <td>FFB692EC</td>\n",
       "      <td>Kamigata To Boots</td>\n",
       "      <td>The Mass Missile</td>\n",
       "      <td>rock</td>\n",
       "      <td>Shelbyville</td>\n",
       "      <td>20:28:33</td>\n",
       "      <td>Wednesday</td>\n",
       "    </tr>\n",
       "    <tr>\n",
       "      <th>1</th>\n",
       "      <td>55204538</td>\n",
       "      <td>Delayed Because of Accident</td>\n",
       "      <td>Andreas Rönnberg</td>\n",
       "      <td>rock</td>\n",
       "      <td>Springfield</td>\n",
       "      <td>14:07:09</td>\n",
       "      <td>Friday</td>\n",
       "    </tr>\n",
       "    <tr>\n",
       "      <th>2</th>\n",
       "      <td>20EC38</td>\n",
       "      <td>Funiculì funiculà</td>\n",
       "      <td>Mario Lanza</td>\n",
       "      <td>pop</td>\n",
       "      <td>Shelbyville</td>\n",
       "      <td>20:58:07</td>\n",
       "      <td>Wednesday</td>\n",
       "    </tr>\n",
       "    <tr>\n",
       "      <th>3</th>\n",
       "      <td>A3DD03C9</td>\n",
       "      <td>Dragons in the Sunset</td>\n",
       "      <td>Fire + Ice</td>\n",
       "      <td>folk</td>\n",
       "      <td>Shelbyville</td>\n",
       "      <td>08:37:09</td>\n",
       "      <td>Monday</td>\n",
       "    </tr>\n",
       "    <tr>\n",
       "      <th>4</th>\n",
       "      <td>E2DC1FAE</td>\n",
       "      <td>Soul People</td>\n",
       "      <td>Space Echo</td>\n",
       "      <td>dance</td>\n",
       "      <td>Springfield</td>\n",
       "      <td>08:34:34</td>\n",
       "      <td>Monday</td>\n",
       "    </tr>\n",
       "    <tr>\n",
       "      <th>5</th>\n",
       "      <td>842029A1</td>\n",
       "      <td>Chains</td>\n",
       "      <td>Obladaet</td>\n",
       "      <td>rusrap</td>\n",
       "      <td>Shelbyville</td>\n",
       "      <td>13:09:41</td>\n",
       "      <td>Friday</td>\n",
       "    </tr>\n",
       "    <tr>\n",
       "      <th>6</th>\n",
       "      <td>4CB90AA5</td>\n",
       "      <td>True</td>\n",
       "      <td>Roman Messer</td>\n",
       "      <td>dance</td>\n",
       "      <td>Springfield</td>\n",
       "      <td>13:00:07</td>\n",
       "      <td>Wednesday</td>\n",
       "    </tr>\n",
       "    <tr>\n",
       "      <th>7</th>\n",
       "      <td>F03E1C1F</td>\n",
       "      <td>Feeling This Way</td>\n",
       "      <td>Polina Griffith</td>\n",
       "      <td>dance</td>\n",
       "      <td>Springfield</td>\n",
       "      <td>20:47:49</td>\n",
       "      <td>Wednesday</td>\n",
       "    </tr>\n",
       "    <tr>\n",
       "      <th>8</th>\n",
       "      <td>8FA1D3BE</td>\n",
       "      <td>L’estate</td>\n",
       "      <td>Julia Dalia</td>\n",
       "      <td>ruspop</td>\n",
       "      <td>Springfield</td>\n",
       "      <td>09:17:40</td>\n",
       "      <td>Friday</td>\n",
       "    </tr>\n",
       "    <tr>\n",
       "      <th>9</th>\n",
       "      <td>E772D5C0</td>\n",
       "      <td>Pessimist</td>\n",
       "      <td>NaN</td>\n",
       "      <td>dance</td>\n",
       "      <td>Shelbyville</td>\n",
       "      <td>21:20:49</td>\n",
       "      <td>Wednesday</td>\n",
       "    </tr>\n",
       "  </tbody>\n",
       "</table>\n",
       "</div>"
      ],
      "text/plain": [
       "     userID                        Track            artist   genre  \\\n",
       "0  FFB692EC            Kamigata To Boots  The Mass Missile    rock   \n",
       "1  55204538  Delayed Because of Accident  Andreas Rönnberg    rock   \n",
       "2    20EC38            Funiculì funiculà       Mario Lanza     pop   \n",
       "3  A3DD03C9        Dragons in the Sunset        Fire + Ice    folk   \n",
       "4  E2DC1FAE                  Soul People        Space Echo   dance   \n",
       "5  842029A1                       Chains          Obladaet  rusrap   \n",
       "6  4CB90AA5                         True      Roman Messer   dance   \n",
       "7  F03E1C1F             Feeling This Way   Polina Griffith   dance   \n",
       "8  8FA1D3BE                     L’estate       Julia Dalia  ruspop   \n",
       "9  E772D5C0                    Pessimist               NaN   dance   \n",
       "\n",
       "        City        time        Day  \n",
       "0  Shelbyville  20:28:33  Wednesday  \n",
       "1  Springfield  14:07:09     Friday  \n",
       "2  Shelbyville  20:58:07  Wednesday  \n",
       "3  Shelbyville  08:37:09     Monday  \n",
       "4  Springfield  08:34:34     Monday  \n",
       "5  Shelbyville  13:09:41     Friday  \n",
       "6  Springfield  13:00:07  Wednesday  \n",
       "7  Springfield  20:47:49  Wednesday  \n",
       "8  Springfield  09:17:40     Friday  \n",
       "9  Shelbyville  21:20:49  Wednesday  "
      ]
     },
     "execution_count": 141,
     "metadata": {},
     "output_type": "execute_result"
    }
   ],
   "source": [
    "# Obtener las 10 primeras filas de la tabla df\n",
    "df.head(10)"
   ]
  },
  {
   "cell_type": "markdown",
   "metadata": {
    "id": "EO73Kwic_Zct"
   },
   "source": [
    "Obtén la información general sobre la tabla con un comando. Conoces el método que muestra la información general que necesitamos."
   ]
  },
  {
   "cell_type": "code",
   "execution_count": 142,
   "metadata": {
    "id": "DSf2kIb-_Zct",
    "trusted": true
   },
   "outputs": [
    {
     "name": "stdout",
     "output_type": "stream",
     "text": [
      "<class 'pandas.core.frame.DataFrame'>\n",
      "RangeIndex: 65079 entries, 0 to 65078\n",
      "Data columns (total 7 columns):\n",
      " #   Column    Non-Null Count  Dtype \n",
      "---  ------    --------------  ----- \n",
      " 0     userID  65079 non-null  object\n",
      " 1   Track     63736 non-null  object\n",
      " 2   artist    57512 non-null  object\n",
      " 3   genre     63881 non-null  object\n",
      " 4     City    65079 non-null  object\n",
      " 5   time      65079 non-null  object\n",
      " 6   Day       65079 non-null  object\n",
      "dtypes: object(7)\n",
      "memory usage: 3.5+ MB\n"
     ]
    }
   ],
   "source": [
    "# Obtener la información general sobre nuestros datos\n",
    "df.info()"
   ]
  },
  {
   "cell_type": "markdown",
   "metadata": {
    "id": "TaQ2Iwbr_Zct"
   },
   "source": [
    "Estas son nuestras observaciones sobre la tabla. Contiene siete columnas. Almacenan los mismos tipos de datos: `object`.\n",
    "\n",
    "Según la documentación:\n",
    "- `' userID'`: identificador del usuario o la usuaria;\n",
    "- `'Track'`: título de la canción;\n",
    "- `'artist'`: nombre del artista;\n",
    "- `'genre'`: género de la pista;\n",
    "- `'City'`: ciudad del usuario o la usuaria;\n",
    "- `'time'`: la hora exacta en la que se reprodujo la canción;\n",
    "- `'Day'`: día de la semana.\n",
    "\n",
    "Podemos ver tres problemas con el estilo en los encabezados de la tabla:\n",
    "1. Algunos encabezados están en mayúsculas, otros en minúsculas.\n",
    "2. Hay espacios en algunos encabezados.\n",
    "3. `Detecta el tercer problema por tu cuenta y descríbelo aquí`.\n",
    "\n",
    "\n"
   ]
  },
  {
   "cell_type": "markdown",
   "metadata": {
    "id": "MCB6-dXG_Zct"
   },
   "source": [
    "### Escribe observaciones de tu parte. Estas son algunas de las preguntas que pueden ser útiles: <a id='data_review_conclusions'></a>\n",
    "\n",
    "`1.   ¿Qué tipo de datos tenemos a nuestra disposición en las filas? ¿Y cómo podemos entender lo que almacenan las columnas?`\n",
    "Respuesta/ Los datos que observamos son de preferencias musicales de los usuarios de la plataforma donde podemos ver que las filas contienen nombres de las canciones, artistas, su genero, ciudad de ubicacion del usuario/a, asi como la hora y el dia; ahora bien, para entender lo que almacena las columnas genralmente debemos recurrir a la fuente o dueño del archvio, sin embargo, inicialmente podemos revisar los nombres de las columnas posteriormente observamos los datos en dichas columnas, procedemos a consultar la documentacion o esquemas disponibles para llegar a comprender lo que almacenas dichas columnas.\n",
    "\n",
    "`2.   ¿Hay suficientes datos para proporcionar respuestas a nuestra hipótesis o necesitamos más información?`\n",
    "Respuesta/ Si vamos a requerir de mas datos para poder dar las respuestas que nuestro cliente final anda buscando y fundamentar nuestra hipotesis con bases solidas.\n",
    "\n",
    "`3.   ¿Notaste algún problema en los datos, como valores ausentes, duplicados o tipos de datos incorrectos?`\n",
    "Respuesta/ Si note que hay faltante de informacion en algunas columnas que nos va dificultar el poder  dar la respuesta adecuada, por ende debemos de procesar de la mejor forma los datos para posteriormente limpiarlos y tengamos una respuesta veridica para nuestra hipotesis."
   ]
  },
  {
   "cell_type": "markdown",
   "metadata": {
    "id": "3eL__vcwViOi"
   },
   "source": [
    "[Volver a Contenidos](#back)"
   ]
  },
  {
   "cell_type": "markdown",
   "metadata": {
    "id": "SjYF6Ub9_Zct"
   },
   "source": [
    "## Etapa 2. Preprocesamiento de datos <a id='data_preprocessing'></a>\n",
    "\n",
    "El objetivo aquí es preparar los datos para que sean analizados.\n",
    "El primer paso es resolver cualquier problema con los encabezados. Luego podemos avanzar a los valores ausentes y duplicados. Empecemos.\n",
    "\n",
    "Corrige el formato en los encabezados de la tabla.\n"
   ]
  },
  {
   "cell_type": "markdown",
   "metadata": {
    "id": "dIaKXr29_Zct"
   },
   "source": [
    "### Estilo del encabezado <a id='header_style'></a>\n",
    "Muestra los encabezados de la tabla (los nombres de las columnas):"
   ]
  },
  {
   "cell_type": "code",
   "execution_count": 143,
   "metadata": {
    "id": "oKOTdF_Q_Zct",
    "trusted": true
   },
   "outputs": [
    {
     "name": "stdout",
     "output_type": "stream",
     "text": [
      "Index(['  userID', 'Track', 'artist', 'genre', '  City  ', 'time', 'Day'], dtype='object')\n"
     ]
    }
   ],
   "source": [
    "# Muestra los nombres de las columnas\n",
    "print(df.columns)"
   ]
  },
  {
   "cell_type": "markdown",
   "metadata": {
    "id": "zj5534cv_Zct"
   },
   "source": [
    "Cambia los encabezados de la tabla de acuerdo con las reglas del buen estilo:\n",
    "* Todos los caracteres deben ser minúsculas.\n",
    "* Elimina los espacios.\n",
    "* Si el nombre tiene varias palabras, utiliza snake_case."
   ]
  },
  {
   "cell_type": "markdown",
   "metadata": {
    "id": "Xu0zkfe5zNJe"
   },
   "source": [
    "Anteriormente, aprendiste acerca de la forma automática de cambiar el nombre de las columnas. Vamos a aplicarla ahora. Utiliza el bucle for para iterar sobre los nombres de las columnas y poner todos los caracteres en minúsculas. Cuando hayas terminado, vuelve a mostrar los encabezados de la tabla:"
   ]
  },
  {
   "cell_type": "code",
   "execution_count": 144,
   "metadata": {
    "id": "6I_RwwMhzM4e",
    "trusted": true
   },
   "outputs": [
    {
     "name": "stdout",
     "output_type": "stream",
     "text": [
      "Index(['  userid', 'track', 'artist', 'genre', '  city  ', 'time', 'day'], dtype='object')\n"
     ]
    }
   ],
   "source": [
    "# Bucle en los encabezados poniendo todo en minúsculas\n",
    "new_col_names = []\n",
    "for old_name in df.columns:\n",
    "    name_lowered = old_name.lower()\n",
    "    new_col_names.append(name_lowered)\n",
    "    \n",
    "df.columns = new_col_names\n",
    "\n",
    "    \n",
    "print(df.columns)"
   ]
  },
  {
   "cell_type": "markdown",
   "metadata": {
    "id": "pweIRxjSzPYW"
   },
   "source": [
    "Ahora, utilizando el mismo método, elimina los espacios al principio y al final de los nombres de las columnas e imprime los nombres de las columnas nuevamente:"
   ]
  },
  {
   "cell_type": "code",
   "execution_count": 145,
   "metadata": {
    "id": "vVQXbFyJzSYl",
    "trusted": true
   },
   "outputs": [
    {
     "name": "stdout",
     "output_type": "stream",
     "text": [
      "Index(['userid', 'track', 'artist', 'genre', 'city', 'time', 'day'], dtype='object')\n"
     ]
    }
   ],
   "source": [
    "# Bucle en los encabezados eliminando los espacios\n",
    "new_col_names = []\n",
    "for old_name in df.columns:\n",
    "    name_lowered = old_name.lower()\n",
    "    name_stripped =name_lowered.strip()\n",
    "    new_col_names.append(name_stripped)\n",
    "    \n",
    "df.columns = new_col_names\n",
    "\n",
    "    \n",
    "print(df.columns)"
   ]
  },
  {
   "cell_type": "markdown",
   "metadata": {
    "id": "yCb8MW1JzURd"
   },
   "source": [
    "Necesitamos aplicar la regla de snake_case a la columna `userid`. Debe ser `user_id`. Cambia el nombre de esta columna y muestra los nombres de todas las columnas cuando hayas terminado."
   ]
  },
  {
   "cell_type": "code",
   "execution_count": 146,
   "metadata": {
    "id": "ISlFqs5y_Zct",
    "trusted": true
   },
   "outputs": [
    {
     "name": "stdout",
     "output_type": "stream",
     "text": [
      "Index(['user_id', 'track', 'artist', 'genre', 'city', 'time', 'day'], dtype='object')\n"
     ]
    }
   ],
   "source": [
    "# Cambiar el nombre de la columna \"userid\"\n",
    "new_col_names = []\n",
    "for old_name in df.columns:\n",
    "    name_lowered = old_name.lower()\n",
    "    name_stripped =name_lowered.strip()\n",
    "    name_no_spaces = name_stripped.replace(' ', '_')\n",
    "    new_col_names.append(name_no_spaces)\n",
    "    \n",
    "df.columns = new_col_names\n",
    "df = df.rename(columns={'userid': 'user_id'})\n",
    "\n",
    "    \n",
    "print(df.columns)"
   ]
  },
  {
   "cell_type": "markdown",
   "metadata": {
    "id": "1dqbh00J_Zct"
   },
   "source": [
    "Comprueba el resultado. Muestra los encabezados una vez más:"
   ]
  },
  {
   "cell_type": "code",
   "execution_count": 147,
   "metadata": {
    "id": "d4NOAmTW_Zct",
    "trusted": true
   },
   "outputs": [
    {
     "name": "stdout",
     "output_type": "stream",
     "text": [
      "Index(['user_id', 'track', 'artist', 'genre', 'city', 'time', 'day'], dtype='object')\n"
     ]
    }
   ],
   "source": [
    "# Comprobar el resultado: la lista de encabezados\n",
    "print(df.columns)"
   ]
  },
  {
   "cell_type": "markdown",
   "metadata": {
    "id": "xYJk6ksJVpOl"
   },
   "source": [
    "[Volver a Contenidos](#back)"
   ]
  },
  {
   "cell_type": "markdown",
   "metadata": {
    "id": "5ISfbcfY_Zct"
   },
   "source": [
    "### Valores ausentes <a id='missing_values'></a>\n",
    " Primero, encuentra el número de valores ausentes en la tabla. Debes utilizar dos métodos en una secuencia para obtener el número de valores ausentes."
   ]
  },
  {
   "cell_type": "code",
   "execution_count": 148,
   "metadata": {
    "id": "RskX29qr_Zct",
    "trusted": true
   },
   "outputs": [
    {
     "name": "stdout",
     "output_type": "stream",
     "text": [
      "user_id       0\n",
      "track      1343\n",
      "artist     7567\n",
      "genre      1198\n",
      "city          0\n",
      "time          0\n",
      "day           0\n",
      "dtype: int64\n"
     ]
    }
   ],
   "source": [
    "# Calcular el número de valores ausentes\n",
    "print(df.isna().sum())"
   ]
  },
  {
   "cell_type": "markdown",
   "metadata": {
    "id": "qubhgnlO_Zct"
   },
   "source": [
    "No todos los valores ausentes afectan a la investigación. Por ejemplo, los valores ausentes en `track` y `artist` no son cruciales. Simplemente puedes reemplazarlos con valores predeterminados como el string `'unknown'` (desconocido).\n",
    "\n",
    "Pero los valores ausentes en `'genre'` pueden afectar la comparación entre las preferencias musicales de Springfield y Shelbyville. En la vida real, sería útil saber las razones por las cuales hay datos ausentes e intentar recuperarlos. Pero no tenemos esa oportunidad en este proyecto. Así que tendrás que:\n",
    "* rellenar estos valores ausentes con un valor predeterminado;\n",
    "* evaluar cuánto podrían afectar los valores ausentes a tus cómputos;"
   ]
  },
  {
   "cell_type": "markdown",
   "metadata": {
    "id": "fSv2laPA_Zct"
   },
   "source": [
    "Reemplazar los valores ausentes en las columnas `'track'`, `'artist'` y `'genre'` con el string `'unknown'`. Como mostramos anteriormente en las lecciones, la mejor forma de hacerlo es crear una lista que almacene los nombres de las columnas donde se necesita el reemplazo. Luego, utiliza esta lista e itera sobre las columnas donde se necesita el reemplazo haciendo el propio reemplazo."
   ]
  },
  {
   "cell_type": "code",
   "execution_count": 149,
   "metadata": {
    "id": "KplB5qWs_Zct",
    "trusted": true
   },
   "outputs": [
    {
     "name": "stdout",
     "output_type": "stream",
     "text": [
      "user_id    0\n",
      "track      0\n",
      "artist     0\n",
      "genre      0\n",
      "city       0\n",
      "time       0\n",
      "day        0\n",
      "dtype: int64\n"
     ]
    }
   ],
   "source": [
    "# Bucle en los encabezados reemplazando los valores ausentes con 'unknown'\n",
    "columns_to_replace = ['track', 'artist', 'genre']\n",
    "\n",
    "for col in columns_to_replace:\n",
    "    df[col].fillna('unknown', inplace=True)\n",
    "       \n",
    "print(df.isna().sum())"
   ]
  },
  {
   "cell_type": "markdown",
   "metadata": {
    "id": "Ilsm-MZo_Zct"
   },
   "source": [
    "Ahora comprueba el resultado para asegurarte de que después del reemplazo no haya valores ausentes en el conjunto de datos. Para hacer esto, cuenta los valores ausentes nuevamente."
   ]
  },
  {
   "cell_type": "code",
   "execution_count": 150,
   "metadata": {
    "id": "Tq4nYRX4_Zct",
    "trusted": true
   },
   "outputs": [
    {
     "name": "stdout",
     "output_type": "stream",
     "text": [
      "user_id    0\n",
      "track      0\n",
      "artist     0\n",
      "genre      0\n",
      "city       0\n",
      "time       0\n",
      "day        0\n",
      "dtype: int64\n"
     ]
    }
   ],
   "source": [
    "# Contar valores ausentes\n",
    "print(df.isna().sum())"
   ]
  },
  {
   "cell_type": "markdown",
   "metadata": {
    "id": "74ZIBmq9VrsK"
   },
   "source": [
    "[Volver a Contenidos](#back)"
   ]
  },
  {
   "cell_type": "markdown",
   "metadata": {
    "id": "BWKRtBJ3_Zct"
   },
   "source": [
    "### Duplicados <a id='duplicates'></a>\n",
    "Encuentra el número de duplicados explícitos en la tabla. Una vez más, debes aplicar dos métodos en una secuencia para obtener la cantidad de duplicados explícitos."
   ]
  },
  {
   "cell_type": "code",
   "execution_count": 151,
   "metadata": {
    "id": "36eES_S0_Zct",
    "trusted": true
   },
   "outputs": [
    {
     "name": "stdout",
     "output_type": "stream",
     "text": [
      "3826\n"
     ]
    }
   ],
   "source": [
    "# Contar duplicados explícitos\n",
    "print(df.duplicated().sum())"
   ]
  },
  {
   "cell_type": "markdown",
   "metadata": {
    "id": "Ot25h6XR_Zct"
   },
   "source": [
    "Ahora, elimina todos los duplicados. Para ello, llama al método que hace exactamente esto."
   ]
  },
  {
   "cell_type": "code",
   "execution_count": 152,
   "metadata": {
    "id": "exFHq6tt_Zct",
    "trusted": true
   },
   "outputs": [
    {
     "name": "stdout",
     "output_type": "stream",
     "text": [
      "0\n"
     ]
    }
   ],
   "source": [
    "# Eliminar duplicados explícitos\n",
    "df = df.drop_duplicates()\n",
    "print(df.duplicated().sum())"
   ]
  },
  {
   "cell_type": "markdown",
   "metadata": {
    "id": "Im2YwBEG_Zct"
   },
   "source": [
    "Comprobemos ahora si eliminamos con éxito todos los duplicados. Cuenta los duplicados explícitos una vez más para asegurarte de haberlos eliminado todos:"
   ]
  },
  {
   "cell_type": "code",
   "execution_count": 153,
   "metadata": {
    "id": "-8PuNWQ0_Zct",
    "trusted": true
   },
   "outputs": [
    {
     "name": "stdout",
     "output_type": "stream",
     "text": [
      "0\n"
     ]
    }
   ],
   "source": [
    "# Comprobar de nuevo si hay duplicados\n",
    "print(df.duplicated().sum())"
   ]
  },
  {
   "cell_type": "markdown",
   "metadata": {
    "id": "QlFBsxAr_Zct"
   },
   "source": [
    "Ahora queremos deshacernos de los duplicados implícitos en la columna `genre`. Por ejemplo, el nombre de un género se puede escribir de varias formas. Dichos errores también pueden afectar al resultado."
   ]
  },
  {
   "cell_type": "markdown",
   "metadata": {
    "id": "eSjWwsOh_Zct"
   },
   "source": [
    "Para hacerlo, primero mostremos una lista de nombres de género únicos, ordenados en orden alfabético. Para ello:\n",
    "* Extrae la columna `genre` del DataFrame.\n",
    "* Llama al método que devolverá todos los valores únicos en la columna extraída.\n"
   ]
  },
  {
   "cell_type": "code",
   "execution_count": 156,
   "metadata": {
    "id": "JIUcqzZN_Zct",
    "scrolled": false,
    "trusted": true
   },
   "outputs": [
    {
     "name": "stdout",
     "output_type": "stream",
     "text": [
      "['acid', 'acoustic', 'action', 'adult', 'africa', 'afrikaans', 'alternative', 'ambient', 'americana', 'animated', 'anime', 'arabesk', 'arabic', 'arena', 'argentinetango', 'art', 'audiobook', 'avantgarde', 'axé', 'baile', 'balkan', 'beats', 'bigroom', 'black', 'bluegrass', 'blues', 'bollywood', 'bossa', 'brazilian', 'breakbeat', 'breaks', 'broadway', 'cantautori', 'cantopop', 'canzone', 'caribbean', 'caucasian', 'celtic', 'chamber', 'children', 'chill', 'chinese', 'choral', 'christian', 'christmas', 'classical', 'classicmetal', 'club', 'colombian', 'comedy', 'conjazz', 'contemporary', 'country', 'cuban', 'dance', 'dancehall', 'dancepop', 'dark', 'death', 'deep', 'deutschrock', 'deutschspr', 'dirty', 'disco', 'dnb', 'documentary', 'downbeat', 'downtempo', 'drum', 'dub', 'dubstep', 'eastern', 'easy', 'electronic', 'electropop', 'emo', 'entehno', 'epicmetal', 'estrada', 'ethnic', 'eurofolk', 'european', 'experimental', 'extrememetal', 'fado', 'film', 'fitness', 'flamenco', 'folk', 'folklore', 'folkmetal', 'folkrock', 'folktronica', 'forró', 'frankreich', 'französisch', 'french', 'funk', 'future', 'gangsta', 'garage', 'german', 'ghazal', 'gitarre', 'glitch', 'gospel', 'gothic', 'grime', 'grunge', 'gypsy', 'handsup', \"hard'n'heavy\", 'hardcore', 'hardstyle', 'hardtechno', 'hip', 'hip-hop', 'hiphop', 'historisch', 'holiday', 'hop', 'horror', 'house', 'idm', 'independent', 'indian', 'indie', 'indipop', 'industrial', 'inspirational', 'instrumental', 'international', 'irish', 'jam', 'japanese', 'jazz', 'jewish', 'jpop', 'jungle', 'k-pop', 'karadeniz', 'karaoke', 'kayokyoku', 'korean', 'laiko', 'latin', 'latino', 'leftfield', 'local', 'lounge', 'loungeelectronic', 'lovers', 'malaysian', 'mandopop', 'marschmusik', 'meditative', 'mediterranean', 'melodic', 'metal', 'metalcore', 'mexican', 'middle', 'minimal', 'miscellaneous', 'modern', 'mood', 'mpb', 'muslim', 'native', 'neoklassik', 'neue', 'new', 'newage', 'newwave', 'nu', 'nujazz', 'numetal', 'oceania', 'old', 'opera', 'orchestral', 'other', 'piano', 'pop', 'popelectronic', 'popeurodance', 'post', 'posthardcore', 'postrock', 'power', 'progmetal', 'progressive', 'psychedelic', 'punjabi', 'punk', 'quebecois', 'ragga', 'ram', 'rancheras', 'rap', 'rave', 'reggae', 'reggaeton', 'regional', 'relax', 'religious', 'retro', 'rhythm', 'rnb', 'rnr', 'rock', 'rockabilly', 'romance', 'roots', 'ruspop', 'rusrap', 'rusrock', 'salsa', 'samba', 'schlager', 'self', 'sertanejo', 'shoegazing', 'showtunes', 'singer', 'ska', 'slow', 'smooth', 'soul', 'soulful', 'sound', 'soundtrack', 'southern', 'specialty', 'speech', 'spiritual', 'sport', 'stonerrock', 'surf', 'swing', 'synthpop', 'sängerportrait', 'tango', 'tanzorchester', 'taraftar', 'tech', 'techno', 'thrash', 'top', 'traditional', 'tradjazz', 'trance', 'tribal', 'trip', 'triphop', 'tropical', 'türk', 'türkçe', 'unknown', 'urban', 'uzbek', 'variété', 'vi', 'videogame', 'vocal', 'western', 'world', 'worldbeat', 'ïîï']\n",
      "\n",
      "Cantidad total de elementos unicos antes de procesar los cambios: 269\n"
     ]
    }
   ],
   "source": [
    "# Inspeccionar los nombres de géneros únicos\n",
    "print(sorted(df['genre'].unique()))\n",
    "\n",
    "print()\n",
    "\n",
    "print(f\"Cantidad total de elementos unicos antes de procesar los cambios:\", df['genre'].nunique())"
   ]
  },
  {
   "cell_type": "markdown",
   "metadata": {
    "id": "qej-Qmuo_Zct"
   },
   "source": [
    "Busca en la lista para encontrar duplicados implícitos del género `hiphop`. Estos pueden ser nombres escritos incorrectamente o nombres alternativos para el mismo género.\n",
    "\n",
    "Verás los siguientes duplicados implícitos:\n",
    "* `hip`\n",
    "* `hop`\n",
    "* `hip-hop`\n",
    "\n",
    "Para deshacerte de ellos, crea una función llamada `replace_wrong_genres()` con dos parámetros:\n",
    "* `wrong_genres=`: esta es una lista que contiene todos los valores que necesitas reemplazar.\n",
    "* `correct_genre=`: este es un string que vas a utilizar como reemplazo.\n",
    "\n",
    "Como resultado, la función debería corregir los nombres en la columna `'genre'` de la tabla `df`, es decir, remplazar cada valor de la lista `wrong_genres` por el valor en `correct_genre`.\n",
    "\n",
    "Dentro del cuerpo de la función, utiliza un bucle `'for'` para iterar sobre la lista de géneros incorrectos, extrae la columna `'genre'` y aplica el método `replace` para hacer correcciones."
   ]
  },
  {
   "cell_type": "code",
   "execution_count": 157,
   "metadata": {
    "id": "ErNDkmns_Zct",
    "trusted": true
   },
   "outputs": [
    {
     "name": "stdout",
     "output_type": "stream",
     "text": [
      "pop               8323\n",
      "dance             6367\n",
      "rock              5844\n",
      "electronic        5522\n",
      "hiphop            3056\n",
      "                  ... \n",
      "folktronica          1\n",
      "frankreich           1\n",
      "sängerportrait       1\n",
      "forró                1\n",
      "rave                 1\n",
      "Name: genre, Length: 266, dtype: int64\n"
     ]
    }
   ],
   "source": [
    "# Función para reemplazar duplicados implícitos\n",
    "wrong_genres= ['hip', 'hop', 'hip-hop']\n",
    "\n",
    "correct_genre= 'hiphop'\n",
    "\n",
    "\n",
    "def replace_wrong_genres(df, column, wrong_genres, correct_genre):\n",
    "    for genre in correct_genre:\n",
    "        df[column] = df[column].replace(wrong_genres, correct_genre)\n",
    "    return df\n",
    "    \n",
    "df = replace_wrong_genres(df, 'genre', wrong_genres, correct_genre)\n",
    "\n",
    "print(df['genre'].value_counts())\n"
   ]
  },
  {
   "cell_type": "markdown",
   "metadata": {
    "id": "aDoBJxbA_Zct"
   },
   "source": [
    "Ahora, llama a `replace_wrong_genres()` y pásale tales argumentos para que retire los duplicados implícitos (`hip`, `hop` y `hip-hop`) y los reemplace por `hiphop`:"
   ]
  },
  {
   "cell_type": "code",
   "execution_count": 158,
   "metadata": {
    "id": "YN5i2hpmSo09",
    "trusted": true
   },
   "outputs": [
    {
     "name": "stdout",
     "output_type": "stream",
     "text": [
      "pop               8323\n",
      "dance             6367\n",
      "rock              5844\n",
      "electronic        5522\n",
      "hiphop            3056\n",
      "                  ... \n",
      "folktronica          1\n",
      "frankreich           1\n",
      "sängerportrait       1\n",
      "forró                1\n",
      "rave                 1\n",
      "Name: genre, Length: 266, dtype: int64\n"
     ]
    }
   ],
   "source": [
    "# Eliminar duplicados implícitos\n",
    "df = replace_wrong_genres(df, 'genre', wrong_genres, correct_genre)\n",
    "\n",
    "print(df['genre'].value_counts())"
   ]
  },
  {
   "cell_type": "markdown",
   "metadata": {
    "id": "zQKF16_RG15m"
   },
   "source": [
    "Asegúrate de que los nombres duplicados han sido eliminados. Muestra la lista de valores únicos de la columna `'genre'` una vez más:"
   ]
  },
  {
   "cell_type": "code",
   "execution_count": 159,
   "metadata": {
    "id": "wvixALnFG15m",
    "trusted": true
   },
   "outputs": [
    {
     "name": "stdout",
     "output_type": "stream",
     "text": [
      "['acid', 'acoustic', 'action', 'adult', 'africa', 'afrikaans', 'alternative', 'ambient', 'americana', 'animated', 'anime', 'arabesk', 'arabic', 'arena', 'argentinetango', 'art', 'audiobook', 'avantgarde', 'axé', 'baile', 'balkan', 'beats', 'bigroom', 'black', 'bluegrass', 'blues', 'bollywood', 'bossa', 'brazilian', 'breakbeat', 'breaks', 'broadway', 'cantautori', 'cantopop', 'canzone', 'caribbean', 'caucasian', 'celtic', 'chamber', 'children', 'chill', 'chinese', 'choral', 'christian', 'christmas', 'classical', 'classicmetal', 'club', 'colombian', 'comedy', 'conjazz', 'contemporary', 'country', 'cuban', 'dance', 'dancehall', 'dancepop', 'dark', 'death', 'deep', 'deutschrock', 'deutschspr', 'dirty', 'disco', 'dnb', 'documentary', 'downbeat', 'downtempo', 'drum', 'dub', 'dubstep', 'eastern', 'easy', 'electronic', 'electropop', 'emo', 'entehno', 'epicmetal', 'estrada', 'ethnic', 'eurofolk', 'european', 'experimental', 'extrememetal', 'fado', 'film', 'fitness', 'flamenco', 'folk', 'folklore', 'folkmetal', 'folkrock', 'folktronica', 'forró', 'frankreich', 'französisch', 'french', 'funk', 'future', 'gangsta', 'garage', 'german', 'ghazal', 'gitarre', 'glitch', 'gospel', 'gothic', 'grime', 'grunge', 'gypsy', 'handsup', \"hard'n'heavy\", 'hardcore', 'hardstyle', 'hardtechno', 'hiphop', 'historisch', 'holiday', 'horror', 'house', 'idm', 'independent', 'indian', 'indie', 'indipop', 'industrial', 'inspirational', 'instrumental', 'international', 'irish', 'jam', 'japanese', 'jazz', 'jewish', 'jpop', 'jungle', 'k-pop', 'karadeniz', 'karaoke', 'kayokyoku', 'korean', 'laiko', 'latin', 'latino', 'leftfield', 'local', 'lounge', 'loungeelectronic', 'lovers', 'malaysian', 'mandopop', 'marschmusik', 'meditative', 'mediterranean', 'melodic', 'metal', 'metalcore', 'mexican', 'middle', 'minimal', 'miscellaneous', 'modern', 'mood', 'mpb', 'muslim', 'native', 'neoklassik', 'neue', 'new', 'newage', 'newwave', 'nu', 'nujazz', 'numetal', 'oceania', 'old', 'opera', 'orchestral', 'other', 'piano', 'pop', 'popelectronic', 'popeurodance', 'post', 'posthardcore', 'postrock', 'power', 'progmetal', 'progressive', 'psychedelic', 'punjabi', 'punk', 'quebecois', 'ragga', 'ram', 'rancheras', 'rap', 'rave', 'reggae', 'reggaeton', 'regional', 'relax', 'religious', 'retro', 'rhythm', 'rnb', 'rnr', 'rock', 'rockabilly', 'romance', 'roots', 'ruspop', 'rusrap', 'rusrock', 'salsa', 'samba', 'schlager', 'self', 'sertanejo', 'shoegazing', 'showtunes', 'singer', 'ska', 'slow', 'smooth', 'soul', 'soulful', 'sound', 'soundtrack', 'southern', 'specialty', 'speech', 'spiritual', 'sport', 'stonerrock', 'surf', 'swing', 'synthpop', 'sängerportrait', 'tango', 'tanzorchester', 'taraftar', 'tech', 'techno', 'thrash', 'top', 'traditional', 'tradjazz', 'trance', 'tribal', 'trip', 'triphop', 'tropical', 'türk', 'türkçe', 'unknown', 'urban', 'uzbek', 'variété', 'vi', 'videogame', 'vocal', 'western', 'world', 'worldbeat', 'ïîï']\n",
      "\n",
      "Cantidad total de elementos unicos despues de procesar los cambios: 266\n"
     ]
    }
   ],
   "source": [
    "# Comprobación de duplicados implícitos\n",
    "print(sorted(df['genre'].unique()))\n",
    "\n",
    "print()\n",
    "\n",
    "#Aqui mejore la legibilidad como indicaste al contar la cantidad de elementos\n",
    "print(f\"Cantidad total de elementos unicos despues de procesar los cambios:\", df['genre'].nunique())"
   ]
  },
  {
   "cell_type": "markdown",
   "metadata": {
    "id": "ALgNbvF3VtPA"
   },
   "source": [
    "[Volver a Contenidos](#back)"
   ]
  },
  {
   "cell_type": "markdown",
   "metadata": {
    "id": "jz6a9-7HQUDd"
   },
   "source": [
    "### Tus observaciones <a id='data_preprocessing_conclusions'></a>\n",
    "\n",
    "`Describe brevemente lo que has notado al analizar duplicados, cómo abordaste sus eliminaciones y qué resultados obtuviste.`\n",
    "\n",
    "Se nota una clara duplicidad en el genero hiphop, ya que el genero fue intruducido por error en tres ocaciones causando, el codigo que fue visto en clase fue de gran utilidad para poder ponerlo en practica y generar un nuevo codigo que me ayudara a eliminarlo de forma correcta, y los resultados obtenidos fueron positivos ya que se logro eliminar correctamente."
   ]
  },
  {
   "cell_type": "markdown",
   "metadata": {
    "id": "eK1es74rVujj"
   },
   "source": [
    "[Volver a Contenidos](#back)"
   ]
  },
  {
   "cell_type": "markdown",
   "metadata": {
    "id": "WttZHXH0SqKk"
   },
   "source": [
    "## Etapa 3. Prueba de hipótesis <a id='hypothesis'></a>"
   ]
  },
  {
   "cell_type": "markdown",
   "metadata": {
    "id": "Im936VVi_Zcu"
   },
   "source": [
    "### Hipótesis: comparar el comportamiento del usuario o la usuaria en las dos ciudades <a id='activity'></a>"
   ]
  },
  {
   "cell_type": "markdown",
   "metadata": {
    "id": "nwt_MuaL_Zcu"
   },
   "source": [
    "La hipótesis afirma que existen diferencias en la forma en que los usuarios y las usuarias de Springfield y Shelbyville consumen música. Para comprobar esto, usa los datos de tres días de la semana: lunes, miércoles y viernes.\n",
    "\n",
    "* Agrupa a los usuarios y las usuarias por ciudad.\n",
    "* Compara el número de canciones que cada grupo reprodujo el lunes, el miércoles y el viernes.\n"
   ]
  },
  {
   "cell_type": "markdown",
   "metadata": {
    "id": "8Dw_YMmT_Zcu"
   },
   "source": [
    "Realiza cada cálculo por separado.\n",
    "\n",
    "El primer paso es evaluar la actividad del usuario en cada ciudad. Recuerda las etapas dividir-aplicar-combinar de las que hablamos anteriormente en la lección. Tu objetivo ahora es agrupar los datos por ciudad, aplicar el método apropiado para contar durante la etapa de aplicación y luego encontrar la cantidad de canciones reproducidas en cada grupo especificando la columna para obtener el recuento.\n",
    "\n",
    "A continuación se muestra un ejemplo de cómo debería verse el resultado final:\n",
    "`df.groupby(by='....')['column'].method()`Realiza cada cálculo por separado.\n",
    "\n",
    "Para evaluar la actividad de los usuarios y las usuarias en cada ciudad, agrupa los datos por ciudad y encuentra la cantidad de canciones reproducidas en cada grupo.\n",
    "\n"
   ]
  },
  {
   "cell_type": "code",
   "execution_count": 166,
   "metadata": {
    "id": "0_Qs96oh_Zcu",
    "scrolled": true,
    "trusted": true
   },
   "outputs": [
    {
     "name": "stdout",
     "output_type": "stream",
     "text": [
      "city\n",
      "Shelbyville    18512\n",
      "Springfield    42741\n",
      "Name: track, dtype: int64\n"
     ]
    }
   ],
   "source": [
    "# Contar las canciones reproducidas en cada ciudad\n",
    "#No encontraba 'City' por lo que tuve que quitar los espacios para mitigar el error\n",
    "df.columns = df.columns.str.strip()\n",
    "\n",
    "canciones_reproducidas_por_ciudad = df.groupby(by='city')['track'].count()\n",
    "\n",
    "print(canciones_reproducidas_por_ciudad)"
   ]
  },
  {
   "cell_type": "markdown",
   "metadata": {
    "id": "t_Qx-3NewAnK"
   },
   "source": [
    "`Comenta tus observaciones aquí`"
   ]
  },
  {
   "cell_type": "markdown",
   "metadata": {
    "id": "dzli3w8o_Zcu"
   },
   "source": [
    "Ahora agrupemos los datos por día de la semana y encontremos el número de canciones reproducidas el lunes, miércoles y viernes. Utiliza el mismo método que antes, pero ahora necesitamos una agrupación diferente.\n"
   ]
  },
  {
   "cell_type": "code",
   "execution_count": 167,
   "metadata": {
    "id": "uZMKjiJz_Zcu",
    "scrolled": true,
    "trusted": true
   },
   "outputs": [
    {
     "name": "stdout",
     "output_type": "stream",
     "text": [
      "Total de cacnciones reproducidas por ciudad: city\n",
      "Shelbyville    18512\n",
      "Springfield    42741\n",
      "Name: track, dtype: int64\n",
      "\n",
      "Filtrada por dia lunes y contada por ciudad: city\n",
      "Shelbyville     5614\n",
      "Springfield    15740\n",
      "dtype: int64\n",
      "\n",
      "Filtrada por dia miercoles y contada por ciudad: city\n",
      "Shelbyville     7003\n",
      "Springfield    11056\n",
      "dtype: int64\n",
      "\n",
      "Filtrada por dia viernes y contada por ciudad: city\n",
      "Shelbyville     5895\n",
      "Springfield    15945\n",
      "dtype: int64\n"
     ]
    }
   ],
   "source": [
    "# Calcular las canciones reproducidas en cada uno de los tres días\n",
    "canciones_reproducidas_por_ciudad = df.groupby(by='city')['track'].count()\n",
    "\n",
    "print(f\"Total de cacnciones reproducidas por ciudad:\",canciones_reproducidas_por_ciudad)\n",
    "\n",
    "print()\n",
    "\n",
    "lunes_counts = df[df['day'] == 'Monday'].groupby(by='city').size()\n",
    "print(f\"Filtrada por dia lunes y contada por ciudad:\", lunes_counts)\n",
    "\n",
    "print()\n",
    "\n",
    "miercoles_counts = df[df['day'] == 'Wednesday'].groupby(by='city').size()\n",
    "print(f\"Filtrada por dia miercoles y contada por ciudad:\", miercoles_counts)\n",
    "\n",
    "print()\n",
    "\n",
    "viernes_counts = df[df['day'] == 'Friday'].groupby(by='city').size()\n",
    "print(f\"Filtrada por dia viernes y contada por ciudad:\", viernes_counts)"
   ]
  },
  {
   "cell_type": "markdown",
   "metadata": {
    "id": "cC2tNrlL_Zcu"
   },
   "source": [
    "`Comenta tus observaciones aquí`\n",
    "\n",
    "Es importante ver cada detalle de la base de datos para que cualquier espacio o detalle que altere la posible resolucion sea observado, para que se realice las correcciones y de esta forma tengamos informacion mas limpia para la toma de decisiones."
   ]
  },
  {
   "cell_type": "markdown",
   "metadata": {
    "id": "POzs8bGa_Zcu"
   },
   "source": [
    "Ya sabes cómo contar entradas agrupándolas por ciudad o día. Ahora necesitas escribir una función que pueda contar entradas según ambos criterios simultáneamente.\n",
    "\n",
    "Crea la función `number_tracks()` para calcular el número de canciones reproducidas en un determinado día **y** ciudad. La función debe aceptar dos parámetros:\n",
    "\n",
    "- `day`: un día de la semana para filtrar. Por ejemplo, `'Monday'` (lunes).\n",
    "- `city`: una ciudad para filtrar. Por ejemplo, `'Springfield'`.\n",
    "\n",
    "Dentro de la función, aplicarás un filtrado consecutivo con indexación lógica.\n",
    "\n",
    "Primero filtra los datos por día y luego filtra la tabla resultante por ciudad.\n",
    "\n",
    "Después de filtrar los datos por dos criterios, cuenta el número de valores de la columna 'user_id' en la tabla resultante. Este recuento representa el número de entradas que estás buscando. Guarda el resultado en una nueva variable y devuélvelo desde la función."
   ]
  },
  {
   "cell_type": "code",
   "execution_count": 173,
   "metadata": {
    "id": "Nz3GdQB1_Zcu",
    "trusted": true
   },
   "outputs": [],
   "source": [
    "# Declara la función number_tracks() con dos parámetros: day= y city=.\n",
    "\n",
    "def number_tracks(day, city):\n",
    "    filtered_por_dia = df[df['day'] == day]\n",
    "    filtered_por_ciudad = filtered_por_dia[filtered_por_dia['city'] == city]\n",
    "    count = filtered_por_ciudad['user_id'].count()\n",
    "    return count\n",
    "\n",
    "lunes_springfield = number_tracks(day='Monday', city='Springfield')\n",
    "miercoles_springfield = number_tracks(day='Wednesday', city='Springfield')\n",
    "viernes_springfield = number_tracks(day='Friday', city='Springfield')\n",
    "\n",
    "lunes_shelbyville = number_tracks(day='Monday', city='Shelbyville')\n",
    "miercoles_shelbyville = number_tracks(day='Wednesday', city='Shelbyville')\n",
    "viernes_shelbyville = number_tracks(day='Friday', city='Shelbyville')\n"
   ]
  },
  {
   "cell_type": "markdown",
   "metadata": {
    "id": "ytf7xFrFJQ2r"
   },
   "source": [
    "Llama a `number_tracks()` seis veces, cambiando los valores de los parámetros para que recuperes los datos de ambas ciudades para cada uno de los tres días."
   ]
  },
  {
   "cell_type": "code",
   "execution_count": 174,
   "metadata": {
    "id": "rJcRATNQ_Zcu",
    "trusted": true
   },
   "outputs": [
    {
     "name": "stdout",
     "output_type": "stream",
     "text": [
      "Canciones reproducidas en Springfield el lunes: 15740\n"
     ]
    }
   ],
   "source": [
    "# El número de canciones reproducidas en Springfield el lunes\n",
    "print(f\"Canciones reproducidas en Springfield el lunes: {lunes_springfield}\")"
   ]
  },
  {
   "cell_type": "code",
   "execution_count": 175,
   "metadata": {
    "id": "hq_ncZ5T_Zcu",
    "trusted": true
   },
   "outputs": [
    {
     "name": "stdout",
     "output_type": "stream",
     "text": [
      "Canciones reproducidas en Shelbyville el lunes: 5614\n"
     ]
    }
   ],
   "source": [
    "# El número de canciones reproducidas en Shelbyville el lunes\n",
    "print(f\"Canciones reproducidas en Shelbyville el lunes: {lunes_shelbyville}\")"
   ]
  },
  {
   "cell_type": "code",
   "execution_count": 176,
   "metadata": {
    "id": "_NTy2VPU_Zcu",
    "trusted": true
   },
   "outputs": [
    {
     "name": "stdout",
     "output_type": "stream",
     "text": [
      "Canciones reproducidas en Springfield el miercoles: 11056\n"
     ]
    }
   ],
   "source": [
    "# El número de canciones reproducidas en Springfield el miércoles\n",
    "print(f\"Canciones reproducidas en Springfield el miercoles: {miercoles_springfield}\")"
   ]
  },
  {
   "cell_type": "code",
   "execution_count": 177,
   "metadata": {
    "id": "j2y3TAwo_Zcu",
    "trusted": true
   },
   "outputs": [
    {
     "name": "stdout",
     "output_type": "stream",
     "text": [
      "Canciones reproducidas en Shelbyville el miercoles: 7003\n"
     ]
    }
   ],
   "source": [
    "# El número de canciones reproducidas en Shelbyville el miércoles\n",
    "print(f\"Canciones reproducidas en Shelbyville el miercoles: {miercoles_shelbyville}\")"
   ]
  },
  {
   "cell_type": "code",
   "execution_count": 178,
   "metadata": {
    "id": "vYDw5u_K_Zcu",
    "trusted": true
   },
   "outputs": [
    {
     "name": "stdout",
     "output_type": "stream",
     "text": [
      "Canciones reproducidas en Springfield el viernes: 15945\n"
     ]
    }
   ],
   "source": [
    "# El número de canciones reproducidas en Springfield el viernes\n",
    "print(f\"Canciones reproducidas en Springfield el viernes: {viernes_springfield}\")"
   ]
  },
  {
   "cell_type": "code",
   "execution_count": 179,
   "metadata": {
    "id": "8_yzFtW3_Zcu",
    "trusted": true
   },
   "outputs": [
    {
     "name": "stdout",
     "output_type": "stream",
     "text": [
      "Canciones reproducidas en Shelbyville el viernes: 5895\n"
     ]
    }
   ],
   "source": [
    "# El número de canciones reproducidas en Shelbyville el viernes\n",
    "print(f\"Canciones reproducidas en Shelbyville el viernes: {viernes_shelbyville}\")"
   ]
  },
  {
   "cell_type": "markdown",
   "metadata": {
    "id": "-EgPIHYu_Zcu"
   },
   "source": [
    "**Conclusiones**\n",
    "\n",
    "`Comenta si la hipótesis es correcta o se debe rechazar. Explica tu razonamiento.`\n",
    "\n",
    "Desde mi punto de vista la hipótesis es correcta, ya que es claro que el consumo de música es bastante diferente entre los usuarios de la ciudad de Springfield en comparación a los usuarios de la ciudad de Shelbyville, ya que los volúmenes totales reproducidas en los lunes, miércoles y viernes es consistentemente mas alto en cuanto a los usuarios de Springfield en los días lunes y viernes.\n"
   ]
  },
  {
   "cell_type": "markdown",
   "metadata": {
    "id": "p7nFQajCVw5B"
   },
   "source": [
    "[Volver a Contenidos](#back)"
   ]
  },
  {
   "cell_type": "markdown",
   "metadata": {
    "id": "ykKQ0N65_Zcv"
   },
   "source": [
    "# Conclusiones <a id='end'></a>"
   ]
  },
  {
   "cell_type": "markdown",
   "metadata": {
    "id": "tjUwbHb3_Zcv"
   },
   "source": [
    "`Resume aquí tus conclusiones sobre la hipótesis.`\n",
    "\n",
    "En conclusión, en Shelbyville el día más alto según el análisis son los miércoles en comparación con los usuarios de la ciudad de Springfield, esto nos dice que en las 2 ciudades podría haber diferencias culturales como la cantidad de población que puedan cambiar los hábitos de dichos usuarios, por ende concluyo que el consumo de música entre los usuarios de ambas ciudades existen diferencias claras como en consumo total así como la distribución diaria del mismo."
   ]
  },
  {
   "cell_type": "markdown",
   "metadata": {
    "id": "azLHu64yOIp7"
   },
   "source": [
    "### Nota\n",
    "En proyectos de investigación reales, la prueba de hipótesis estadística es más precisa y cuantitativa. También ten en cuenta que no siempre se pueden sacar conclusiones sobre una ciudad entera a partir de datos de una sola fuente.\n",
    "\n",
    "Aprenderás más sobre la prueba de hipótesis en el sprint de análisis estadístico de datos."
   ]
  },
  {
   "cell_type": "markdown",
   "metadata": {
    "id": "Ju4AHDSgV1FE"
   },
   "source": [
    "[Volver a Contenidos](#back)"
   ]
  }
 ],
 "metadata": {
  "ExecuteTimeLog": [
   {
    "duration": 328,
    "start_time": "2025-01-17T21:14:53.989Z"
   },
   {
    "duration": 2,
    "start_time": "2025-01-17T21:14:57.309Z"
   },
   {
    "duration": 5,
    "start_time": "2025-01-17T21:15:02.454Z"
   },
   {
    "duration": 188,
    "start_time": "2025-01-17T21:15:17.518Z"
   },
   {
    "duration": 4,
    "start_time": "2025-01-17T21:15:29.659Z"
   },
   {
    "duration": 17,
    "start_time": "2025-01-17T21:15:32.721Z"
   },
   {
    "duration": 116,
    "start_time": "2025-01-17T21:15:42.740Z"
   },
   {
    "duration": 93,
    "start_time": "2025-01-17T21:16:41.213Z"
   },
   {
    "duration": 7,
    "start_time": "2025-01-17T21:17:08.157Z"
   },
   {
    "duration": 97,
    "start_time": "2025-01-17T21:17:39.454Z"
   },
   {
    "duration": 22,
    "start_time": "2025-01-17T21:18:02.619Z"
   },
   {
    "duration": 3,
    "start_time": "2025-01-17T21:59:09.900Z"
   },
   {
    "duration": 3,
    "start_time": "2025-01-17T21:59:20.218Z"
   },
   {
    "duration": 97,
    "start_time": "2025-01-17T21:59:28.810Z"
   },
   {
    "duration": 107,
    "start_time": "2025-01-17T22:01:26.447Z"
   },
   {
    "duration": 92,
    "start_time": "2025-01-17T22:08:23.382Z"
   },
   {
    "duration": 90,
    "start_time": "2025-01-17T22:08:31.064Z"
   },
   {
    "duration": 12,
    "start_time": "2025-01-17T22:16:08.455Z"
   },
   {
    "duration": 13,
    "start_time": "2025-01-17T22:16:14.255Z"
   },
   {
    "duration": 103,
    "start_time": "2025-01-17T22:21:18.948Z"
   },
   {
    "duration": 104,
    "start_time": "2025-01-17T22:21:43.660Z"
   },
   {
    "duration": 97,
    "start_time": "2025-01-17T22:22:53.285Z"
   },
   {
    "duration": 95,
    "start_time": "2025-01-17T22:24:29.858Z"
   },
   {
    "duration": 95,
    "start_time": "2025-01-17T22:27:44.956Z"
   },
   {
    "duration": 97,
    "start_time": "2025-01-17T22:30:29.444Z"
   },
   {
    "duration": 5,
    "start_time": "2025-01-17T22:32:17.445Z"
   },
   {
    "duration": 124,
    "start_time": "2025-01-17T22:32:28.742Z"
   },
   {
    "duration": 104,
    "start_time": "2025-01-17T22:33:59.182Z"
   },
   {
    "duration": 107,
    "start_time": "2025-01-17T22:34:32.130Z"
   },
   {
    "duration": 135,
    "start_time": "2025-01-17T22:35:07.752Z"
   },
   {
    "duration": 98,
    "start_time": "2025-01-17T22:35:19.629Z"
   },
   {
    "duration": 3,
    "start_time": "2025-01-17T22:36:05.591Z"
   },
   {
    "duration": 23,
    "start_time": "2025-01-17T22:58:09.152Z"
   },
   {
    "duration": 30,
    "start_time": "2025-01-17T23:01:18.086Z"
   },
   {
    "duration": 465,
    "start_time": "2025-01-17T23:04:45.577Z"
   },
   {
    "duration": 124,
    "start_time": "2025-01-17T23:05:16.904Z"
   },
   {
    "duration": 125,
    "start_time": "2025-01-17T23:08:39.879Z"
   },
   {
    "duration": 123,
    "start_time": "2025-01-17T23:10:11.401Z"
   },
   {
    "duration": 144,
    "start_time": "2025-01-17T23:11:35.179Z"
   },
   {
    "duration": 92,
    "start_time": "2025-01-17T23:12:12.992Z"
   },
   {
    "duration": 118,
    "start_time": "2025-01-17T23:12:51.154Z"
   },
   {
    "duration": 89,
    "start_time": "2025-01-17T23:13:14.932Z"
   },
   {
    "duration": 113,
    "start_time": "2025-01-17T23:15:56.002Z"
   },
   {
    "duration": 20,
    "start_time": "2025-01-17T23:16:51.140Z"
   },
   {
    "duration": 53,
    "start_time": "2025-01-17T23:18:08.155Z"
   },
   {
    "duration": 83,
    "start_time": "2025-01-17T23:19:50.707Z"
   },
   {
    "duration": 39,
    "start_time": "2025-01-17T23:20:30.902Z"
   },
   {
    "duration": 6,
    "start_time": "2025-01-17T23:25:00.381Z"
   },
   {
    "duration": 5,
    "start_time": "2025-01-17T23:27:10.117Z"
   },
   {
    "duration": 125,
    "start_time": "2025-01-17T23:50:27.363Z"
   },
   {
    "duration": 23,
    "start_time": "2025-01-17T23:51:00.768Z"
   },
   {
    "duration": 129,
    "start_time": "2025-01-17T23:55:46.863Z"
   },
   {
    "duration": 7,
    "start_time": "2025-01-17T23:57:53.492Z"
   },
   {
    "duration": 27,
    "start_time": "2025-01-18T00:01:32.191Z"
   },
   {
    "duration": 34,
    "start_time": "2025-01-18T00:02:21.624Z"
   },
   {
    "duration": 140,
    "start_time": "2025-01-18T00:02:36.168Z"
   },
   {
    "duration": 143,
    "start_time": "2025-01-18T00:02:39.239Z"
   },
   {
    "duration": 143,
    "start_time": "2025-01-18T00:02:42.513Z"
   },
   {
    "duration": 182,
    "start_time": "2025-01-18T00:04:23.836Z"
   },
   {
    "duration": 9,
    "start_time": "2025-01-18T00:04:43.026Z"
   },
   {
    "duration": 196,
    "start_time": "2025-01-18T00:08:43.428Z"
   },
   {
    "duration": 4,
    "start_time": "2025-01-18T00:08:58.806Z"
   },
   {
    "duration": 59,
    "start_time": "2025-01-18T00:11:30.639Z"
   },
   {
    "duration": 14,
    "start_time": "2025-01-18T00:12:14.618Z"
   },
   {
    "duration": 9,
    "start_time": "2025-01-18T00:12:27.400Z"
   },
   {
    "duration": 279,
    "start_time": "2025-01-18T00:40:12.974Z"
   },
   {
    "duration": 127,
    "start_time": "2025-01-18T00:40:30.909Z"
   },
   {
    "duration": 85,
    "start_time": "2025-01-18T00:41:07.260Z"
   },
   {
    "duration": 128,
    "start_time": "2025-01-18T00:41:45.646Z"
   },
   {
    "duration": 90,
    "start_time": "2025-01-18T00:42:19.104Z"
   },
   {
    "duration": 91,
    "start_time": "2025-01-18T00:43:18.637Z"
   },
   {
    "duration": 93,
    "start_time": "2025-01-18T00:43:27.503Z"
   },
   {
    "duration": 93,
    "start_time": "2025-01-18T00:45:57.604Z"
   },
   {
    "duration": 92,
    "start_time": "2025-01-18T00:46:48.910Z"
   },
   {
    "duration": 165,
    "start_time": "2025-01-18T00:54:37.175Z"
   },
   {
    "duration": 88,
    "start_time": "2025-01-18T00:55:52.661Z"
   },
   {
    "duration": 127,
    "start_time": "2025-01-18T00:56:40.791Z"
   },
   {
    "duration": 100,
    "start_time": "2025-01-18T00:57:56.776Z"
   },
   {
    "duration": 123,
    "start_time": "2025-01-18T00:58:15.729Z"
   },
   {
    "duration": 93,
    "start_time": "2025-01-18T00:58:25.953Z"
   },
   {
    "duration": 98,
    "start_time": "2025-01-18T00:58:35.129Z"
   },
   {
    "duration": 116,
    "start_time": "2025-01-18T00:58:42.620Z"
   },
   {
    "duration": 102,
    "start_time": "2025-01-18T00:59:32.607Z"
   },
   {
    "duration": 114,
    "start_time": "2025-01-18T01:01:43.543Z"
   },
   {
    "duration": 113,
    "start_time": "2025-01-18T01:02:07.458Z"
   },
   {
    "duration": 118,
    "start_time": "2025-01-18T01:02:22.490Z"
   },
   {
    "duration": 108,
    "start_time": "2025-01-18T01:03:14.222Z"
   },
   {
    "duration": 115,
    "start_time": "2025-01-18T01:03:38.800Z"
   },
   {
    "duration": 110,
    "start_time": "2025-01-18T01:03:51.715Z"
   },
   {
    "duration": 120,
    "start_time": "2025-01-18T01:04:14.002Z"
   },
   {
    "duration": 130,
    "start_time": "2025-01-18T01:04:57.410Z"
   },
   {
    "duration": 134,
    "start_time": "2025-01-18T01:05:30.380Z"
   },
   {
    "duration": 119,
    "start_time": "2025-01-18T01:06:40.018Z"
   },
   {
    "duration": 188,
    "start_time": "2025-01-18T01:08:52.021Z"
   },
   {
    "duration": 115,
    "start_time": "2025-01-18T01:09:06.107Z"
   },
   {
    "duration": 125,
    "start_time": "2025-01-18T01:10:46.646Z"
   },
   {
    "duration": 138,
    "start_time": "2025-01-18T01:11:55.937Z"
   },
   {
    "duration": 103,
    "start_time": "2025-01-18T01:25:41.889Z"
   },
   {
    "duration": 4,
    "start_time": "2025-01-18T01:25:53.927Z"
   },
   {
    "duration": 13,
    "start_time": "2025-01-18T01:26:11.849Z"
   },
   {
    "duration": 3,
    "start_time": "2025-01-18T01:26:12.999Z"
   },
   {
    "duration": 104,
    "start_time": "2025-01-18T01:26:26.803Z"
   },
   {
    "duration": 146,
    "start_time": "2025-01-18T01:26:36.403Z"
   },
   {
    "duration": 103,
    "start_time": "2025-01-18T01:27:10.457Z"
   },
   {
    "duration": 139,
    "start_time": "2025-01-18T01:27:34.703Z"
   },
   {
    "duration": 139,
    "start_time": "2025-01-18T01:28:17.419Z"
   },
   {
    "duration": 108,
    "start_time": "2025-01-18T01:29:25.704Z"
   },
   {
    "duration": 3,
    "start_time": "2025-01-18T01:29:40.346Z"
   },
   {
    "duration": 118,
    "start_time": "2025-01-18T01:29:51.523Z"
   },
   {
    "duration": 150,
    "start_time": "2025-01-18T01:32:22.218Z"
   },
   {
    "duration": 3,
    "start_time": "2025-01-18T01:33:01.262Z"
   },
   {
    "duration": 3,
    "start_time": "2025-01-18T01:33:19.363Z"
   },
   {
    "duration": 3,
    "start_time": "2025-01-18T01:33:33.706Z"
   },
   {
    "duration": 3,
    "start_time": "2025-01-18T01:33:59.460Z"
   },
   {
    "duration": 3,
    "start_time": "2025-01-18T01:34:46.709Z"
   },
   {
    "duration": 3,
    "start_time": "2025-01-18T01:34:50.642Z"
   },
   {
    "duration": 128,
    "start_time": "2025-01-18T01:48:24.948Z"
   },
   {
    "duration": 158,
    "start_time": "2025-01-18T04:18:51.961Z"
   },
   {
    "duration": 11,
    "start_time": "2025-01-18T04:20:22.284Z"
   },
   {
    "duration": 12,
    "start_time": "2025-01-18T04:20:40.252Z"
   },
   {
    "duration": 13,
    "start_time": "2025-01-18T04:20:47.664Z"
   },
   {
    "duration": 12,
    "start_time": "2025-01-18T04:21:55.866Z"
   },
   {
    "duration": 11,
    "start_time": "2025-01-18T04:22:38.935Z"
   },
   {
    "duration": 16,
    "start_time": "2025-01-18T04:24:09.728Z"
   },
   {
    "duration": 32,
    "start_time": "2025-01-18T04:24:38.245Z"
   },
   {
    "duration": 14,
    "start_time": "2025-01-18T04:24:59.759Z"
   },
   {
    "duration": 14,
    "start_time": "2025-01-18T04:25:07.590Z"
   },
   {
    "duration": 12,
    "start_time": "2025-01-18T04:26:13.631Z"
   },
   {
    "duration": 12,
    "start_time": "2025-01-18T04:27:22.821Z"
   },
   {
    "duration": 10,
    "start_time": "2025-01-18T04:27:43.394Z"
   },
   {
    "duration": 13,
    "start_time": "2025-01-18T04:28:01.082Z"
   },
   {
    "duration": 14,
    "start_time": "2025-01-18T04:28:19.160Z"
   },
   {
    "duration": 12,
    "start_time": "2025-01-18T04:30:11.580Z"
   },
   {
    "duration": 276,
    "start_time": "2025-01-18T04:30:15.912Z"
   },
   {
    "duration": 115,
    "start_time": "2025-01-18T04:30:16.191Z"
   },
   {
    "duration": 12,
    "start_time": "2025-01-18T04:30:16.308Z"
   },
   {
    "duration": 20,
    "start_time": "2025-01-18T04:30:16.323Z"
   },
   {
    "duration": 3,
    "start_time": "2025-01-18T04:30:16.346Z"
   },
   {
    "duration": 103,
    "start_time": "2025-01-18T04:30:16.350Z"
   },
   {
    "duration": 3,
    "start_time": "2025-01-18T04:30:16.455Z"
   },
   {
    "duration": 11,
    "start_time": "2025-01-18T04:30:16.460Z"
   },
   {
    "duration": 4,
    "start_time": "2025-01-18T04:30:16.473Z"
   },
   {
    "duration": 17,
    "start_time": "2025-01-18T04:30:16.479Z"
   },
   {
    "duration": 434,
    "start_time": "2025-01-18T04:30:16.498Z"
   },
   {
    "duration": 0,
    "start_time": "2025-01-18T04:30:16.935Z"
   },
   {
    "duration": 0,
    "start_time": "2025-01-18T04:30:16.935Z"
   },
   {
    "duration": 0,
    "start_time": "2025-01-18T04:30:16.937Z"
   },
   {
    "duration": 0,
    "start_time": "2025-01-18T04:30:16.938Z"
   },
   {
    "duration": 0,
    "start_time": "2025-01-18T04:30:16.938Z"
   },
   {
    "duration": 0,
    "start_time": "2025-01-18T04:30:16.940Z"
   },
   {
    "duration": 0,
    "start_time": "2025-01-18T04:30:16.941Z"
   },
   {
    "duration": 0,
    "start_time": "2025-01-18T04:30:16.943Z"
   },
   {
    "duration": 0,
    "start_time": "2025-01-18T04:30:16.944Z"
   },
   {
    "duration": 0,
    "start_time": "2025-01-18T04:30:16.945Z"
   },
   {
    "duration": 0,
    "start_time": "2025-01-18T04:30:16.947Z"
   },
   {
    "duration": 0,
    "start_time": "2025-01-18T04:30:16.948Z"
   },
   {
    "duration": 0,
    "start_time": "2025-01-18T04:30:16.951Z"
   },
   {
    "duration": 0,
    "start_time": "2025-01-18T04:30:16.952Z"
   },
   {
    "duration": 0,
    "start_time": "2025-01-18T04:30:16.954Z"
   },
   {
    "duration": 0,
    "start_time": "2025-01-18T04:30:16.955Z"
   },
   {
    "duration": 0,
    "start_time": "2025-01-18T04:30:16.956Z"
   },
   {
    "duration": 213,
    "start_time": "2025-01-18T04:31:22.858Z"
   },
   {
    "duration": 2,
    "start_time": "2025-01-18T04:31:45.011Z"
   },
   {
    "duration": 94,
    "start_time": "2025-01-18T04:31:45.015Z"
   },
   {
    "duration": 20,
    "start_time": "2025-01-18T04:31:45.111Z"
   },
   {
    "duration": 21,
    "start_time": "2025-01-18T04:31:45.133Z"
   },
   {
    "duration": 3,
    "start_time": "2025-01-18T04:31:45.155Z"
   },
   {
    "duration": 114,
    "start_time": "2025-01-18T04:31:45.160Z"
   },
   {
    "duration": 4,
    "start_time": "2025-01-18T04:31:45.277Z"
   },
   {
    "duration": 8,
    "start_time": "2025-01-18T04:31:45.282Z"
   },
   {
    "duration": 3,
    "start_time": "2025-01-18T04:31:45.293Z"
   },
   {
    "duration": 39,
    "start_time": "2025-01-18T04:31:45.297Z"
   },
   {
    "duration": 40,
    "start_time": "2025-01-18T04:31:45.339Z"
   },
   {
    "duration": 0,
    "start_time": "2025-01-18T04:31:45.381Z"
   },
   {
    "duration": 0,
    "start_time": "2025-01-18T04:31:45.382Z"
   },
   {
    "duration": 0,
    "start_time": "2025-01-18T04:31:45.383Z"
   },
   {
    "duration": 0,
    "start_time": "2025-01-18T04:31:45.384Z"
   },
   {
    "duration": 0,
    "start_time": "2025-01-18T04:31:45.385Z"
   },
   {
    "duration": 0,
    "start_time": "2025-01-18T04:31:45.386Z"
   },
   {
    "duration": 0,
    "start_time": "2025-01-18T04:31:45.388Z"
   },
   {
    "duration": 0,
    "start_time": "2025-01-18T04:31:45.388Z"
   },
   {
    "duration": 0,
    "start_time": "2025-01-18T04:31:45.389Z"
   },
   {
    "duration": 0,
    "start_time": "2025-01-18T04:31:45.390Z"
   },
   {
    "duration": 0,
    "start_time": "2025-01-18T04:31:45.392Z"
   },
   {
    "duration": 0,
    "start_time": "2025-01-18T04:31:45.393Z"
   },
   {
    "duration": 0,
    "start_time": "2025-01-18T04:31:45.394Z"
   },
   {
    "duration": 0,
    "start_time": "2025-01-18T04:31:45.395Z"
   },
   {
    "duration": 0,
    "start_time": "2025-01-18T04:31:45.396Z"
   },
   {
    "duration": 0,
    "start_time": "2025-01-18T04:31:45.398Z"
   },
   {
    "duration": 0,
    "start_time": "2025-01-18T04:31:45.430Z"
   },
   {
    "duration": 2,
    "start_time": "2025-01-18T04:32:42.748Z"
   },
   {
    "duration": 93,
    "start_time": "2025-01-18T04:32:42.753Z"
   },
   {
    "duration": 8,
    "start_time": "2025-01-18T04:32:42.848Z"
   },
   {
    "duration": 20,
    "start_time": "2025-01-18T04:32:42.857Z"
   },
   {
    "duration": 3,
    "start_time": "2025-01-18T04:32:42.880Z"
   },
   {
    "duration": 112,
    "start_time": "2025-01-18T04:32:42.884Z"
   },
   {
    "duration": 4,
    "start_time": "2025-01-18T04:32:42.999Z"
   },
   {
    "duration": 10,
    "start_time": "2025-01-18T04:32:43.004Z"
   },
   {
    "duration": 3,
    "start_time": "2025-01-18T04:32:43.032Z"
   },
   {
    "duration": 17,
    "start_time": "2025-01-18T04:32:43.037Z"
   },
   {
    "duration": 44,
    "start_time": "2025-01-18T04:32:43.058Z"
   },
   {
    "duration": 0,
    "start_time": "2025-01-18T04:32:43.103Z"
   },
   {
    "duration": 0,
    "start_time": "2025-01-18T04:32:43.105Z"
   },
   {
    "duration": 0,
    "start_time": "2025-01-18T04:32:43.106Z"
   },
   {
    "duration": 0,
    "start_time": "2025-01-18T04:32:43.131Z"
   },
   {
    "duration": 0,
    "start_time": "2025-01-18T04:32:43.132Z"
   },
   {
    "duration": 0,
    "start_time": "2025-01-18T04:32:43.133Z"
   },
   {
    "duration": 0,
    "start_time": "2025-01-18T04:32:43.134Z"
   },
   {
    "duration": 0,
    "start_time": "2025-01-18T04:32:43.135Z"
   },
   {
    "duration": 0,
    "start_time": "2025-01-18T04:32:43.136Z"
   },
   {
    "duration": 0,
    "start_time": "2025-01-18T04:32:43.137Z"
   },
   {
    "duration": 0,
    "start_time": "2025-01-18T04:32:43.137Z"
   },
   {
    "duration": 0,
    "start_time": "2025-01-18T04:32:43.138Z"
   },
   {
    "duration": 0,
    "start_time": "2025-01-18T04:32:43.140Z"
   },
   {
    "duration": 0,
    "start_time": "2025-01-18T04:32:43.142Z"
   },
   {
    "duration": 0,
    "start_time": "2025-01-18T04:32:43.143Z"
   },
   {
    "duration": 0,
    "start_time": "2025-01-18T04:32:43.144Z"
   },
   {
    "duration": 0,
    "start_time": "2025-01-18T04:32:43.145Z"
   },
   {
    "duration": 8,
    "start_time": "2025-01-18T04:33:13.513Z"
   },
   {
    "duration": 90,
    "start_time": "2025-01-18T04:33:18.101Z"
   },
   {
    "duration": 2,
    "start_time": "2025-01-18T04:33:28.225Z"
   },
   {
    "duration": 92,
    "start_time": "2025-01-18T04:33:31.473Z"
   },
   {
    "duration": 8,
    "start_time": "2025-01-18T04:33:35.151Z"
   },
   {
    "duration": 23,
    "start_time": "2025-01-18T04:34:16.992Z"
   },
   {
    "duration": 24,
    "start_time": "2025-01-18T04:34:26.117Z"
   },
   {
    "duration": 38,
    "start_time": "2025-01-18T04:34:31.854Z"
   },
   {
    "duration": 76,
    "start_time": "2025-01-18T04:34:35.487Z"
   },
   {
    "duration": 37,
    "start_time": "2025-01-18T04:34:40.577Z"
   },
   {
    "duration": 5,
    "start_time": "2025-01-18T04:34:46.727Z"
   },
   {
    "duration": 37,
    "start_time": "2025-01-18T04:37:41.369Z"
   },
   {
    "duration": 30,
    "start_time": "2025-01-18T04:37:47.239Z"
   },
   {
    "duration": 32,
    "start_time": "2025-01-18T04:37:51.589Z"
   },
   {
    "duration": 7,
    "start_time": "2025-01-18T04:38:03.204Z"
   },
   {
    "duration": 17,
    "start_time": "2025-01-18T04:39:12.999Z"
   },
   {
    "duration": 5,
    "start_time": "2025-01-18T04:39:26.346Z"
   },
   {
    "duration": 4,
    "start_time": "2025-01-18T04:39:46.636Z"
   },
   {
    "duration": 3,
    "start_time": "2025-01-18T04:39:52.025Z"
   },
   {
    "duration": 8,
    "start_time": "2025-01-18T04:40:00.304Z"
   },
   {
    "duration": 17,
    "start_time": "2025-01-18T04:41:03.088Z"
   },
   {
    "duration": 5,
    "start_time": "2025-01-18T04:41:08.538Z"
   },
   {
    "duration": 9,
    "start_time": "2025-01-18T04:41:51.525Z"
   },
   {
    "duration": 10,
    "start_time": "2025-01-18T04:42:02.135Z"
   },
   {
    "duration": 5,
    "start_time": "2025-01-18T04:42:30.521Z"
   },
   {
    "duration": 3,
    "start_time": "2025-01-18T04:45:00.734Z"
   },
   {
    "duration": 102,
    "start_time": "2025-01-18T04:45:00.739Z"
   },
   {
    "duration": 9,
    "start_time": "2025-01-18T04:45:00.843Z"
   },
   {
    "duration": 22,
    "start_time": "2025-01-18T04:45:00.854Z"
   },
   {
    "duration": 3,
    "start_time": "2025-01-18T04:45:00.878Z"
   },
   {
    "duration": 117,
    "start_time": "2025-01-18T04:45:00.883Z"
   },
   {
    "duration": 4,
    "start_time": "2025-01-18T04:45:01.002Z"
   },
   {
    "duration": 7,
    "start_time": "2025-01-18T04:45:01.008Z"
   },
   {
    "duration": 3,
    "start_time": "2025-01-18T04:45:01.032Z"
   },
   {
    "duration": 17,
    "start_time": "2025-01-18T04:45:01.036Z"
   },
   {
    "duration": 41,
    "start_time": "2025-01-18T04:45:01.055Z"
   },
   {
    "duration": 0,
    "start_time": "2025-01-18T04:45:01.098Z"
   },
   {
    "duration": 0,
    "start_time": "2025-01-18T04:45:01.100Z"
   },
   {
    "duration": 0,
    "start_time": "2025-01-18T04:45:01.100Z"
   },
   {
    "duration": 0,
    "start_time": "2025-01-18T04:45:01.101Z"
   },
   {
    "duration": 0,
    "start_time": "2025-01-18T04:45:01.103Z"
   },
   {
    "duration": 0,
    "start_time": "2025-01-18T04:45:01.104Z"
   },
   {
    "duration": 0,
    "start_time": "2025-01-18T04:45:01.106Z"
   },
   {
    "duration": 0,
    "start_time": "2025-01-18T04:45:01.131Z"
   },
   {
    "duration": 0,
    "start_time": "2025-01-18T04:45:01.133Z"
   },
   {
    "duration": 0,
    "start_time": "2025-01-18T04:45:01.134Z"
   },
   {
    "duration": 0,
    "start_time": "2025-01-18T04:45:01.135Z"
   },
   {
    "duration": 0,
    "start_time": "2025-01-18T04:45:01.136Z"
   },
   {
    "duration": 0,
    "start_time": "2025-01-18T04:45:01.138Z"
   },
   {
    "duration": 0,
    "start_time": "2025-01-18T04:45:01.139Z"
   },
   {
    "duration": 0,
    "start_time": "2025-01-18T04:45:01.140Z"
   },
   {
    "duration": 0,
    "start_time": "2025-01-18T04:45:01.142Z"
   },
   {
    "duration": 0,
    "start_time": "2025-01-18T04:45:01.143Z"
   },
   {
    "duration": 9,
    "start_time": "2025-01-18T04:46:36.515Z"
   },
   {
    "duration": 14,
    "start_time": "2025-01-18T04:46:52.125Z"
   },
   {
    "duration": 39,
    "start_time": "2025-01-18T04:47:04.971Z"
   },
   {
    "duration": 16,
    "start_time": "2025-01-18T04:56:18.792Z"
   },
   {
    "duration": 15,
    "start_time": "2025-01-18T04:58:12.304Z"
   },
   {
    "duration": 313,
    "start_time": "2025-01-18T04:58:18.571Z"
   },
   {
    "duration": 60,
    "start_time": "2025-01-18T05:00:44.923Z"
   },
   {
    "duration": 58,
    "start_time": "2025-01-18T05:01:14.404Z"
   },
   {
    "duration": 42,
    "start_time": "2025-01-18T05:02:08.528Z"
   },
   {
    "duration": 39,
    "start_time": "2025-01-18T05:02:53.018Z"
   },
   {
    "duration": 94,
    "start_time": "2025-01-18T05:03:16.160Z"
   },
   {
    "duration": 100,
    "start_time": "2025-01-18T05:03:28.452Z"
   },
   {
    "duration": 6,
    "start_time": "2025-01-18T05:04:06.539Z"
   },
   {
    "duration": 18,
    "start_time": "2025-01-18T05:04:23.097Z"
   },
   {
    "duration": 6,
    "start_time": "2025-01-18T05:04:34.640Z"
   },
   {
    "duration": 6,
    "start_time": "2025-01-18T05:04:39.005Z"
   },
   {
    "duration": 13,
    "start_time": "2025-01-18T05:05:01.570Z"
   },
   {
    "duration": 11,
    "start_time": "2025-01-18T05:06:09.182Z"
   },
   {
    "duration": 11,
    "start_time": "2025-01-18T05:06:19.355Z"
   },
   {
    "duration": 9,
    "start_time": "2025-01-18T05:07:00.487Z"
   },
   {
    "duration": 11,
    "start_time": "2025-01-18T05:08:29.354Z"
   },
   {
    "duration": 43,
    "start_time": "2025-01-18T05:08:54.223Z"
   },
   {
    "duration": 39,
    "start_time": "2025-01-18T05:09:20.012Z"
   },
   {
    "duration": 11,
    "start_time": "2025-01-18T05:09:41.389Z"
   },
   {
    "duration": 10,
    "start_time": "2025-01-18T05:10:04.814Z"
   },
   {
    "duration": 34,
    "start_time": "2025-01-18T05:10:10.714Z"
   },
   {
    "duration": 51,
    "start_time": "2025-01-18T05:10:17.120Z"
   },
   {
    "duration": 64,
    "start_time": "2025-01-18T05:10:25.232Z"
   },
   {
    "duration": 2,
    "start_time": "2025-01-18T05:10:30.025Z"
   },
   {
    "duration": 3,
    "start_time": "2025-01-18T05:10:32.297Z"
   },
   {
    "duration": 2,
    "start_time": "2025-01-18T05:10:33.171Z"
   },
   {
    "duration": 3,
    "start_time": "2025-01-18T05:10:33.636Z"
   },
   {
    "duration": 3,
    "start_time": "2025-01-18T05:10:34.364Z"
   },
   {
    "duration": 3,
    "start_time": "2025-01-18T05:10:36.900Z"
   },
   {
    "duration": 34,
    "start_time": "2025-01-18T05:10:50.638Z"
   },
   {
    "duration": 33,
    "start_time": "2025-01-18T05:10:55.559Z"
   },
   {
    "duration": 72,
    "start_time": "2025-01-18T05:11:04.273Z"
   },
   {
    "duration": 35,
    "start_time": "2025-01-18T05:11:06.886Z"
   },
   {
    "duration": 17,
    "start_time": "2025-01-18T05:11:15.165Z"
   },
   {
    "duration": 23,
    "start_time": "2025-01-18T05:11:27.219Z"
   },
   {
    "duration": 91,
    "start_time": "2025-01-18T05:12:05.034Z"
   },
   {
    "duration": 415,
    "start_time": "2025-01-19T00:18:24.577Z"
   },
   {
    "duration": 111,
    "start_time": "2025-01-19T00:18:24.994Z"
   },
   {
    "duration": 12,
    "start_time": "2025-01-19T00:18:25.106Z"
   },
   {
    "duration": 24,
    "start_time": "2025-01-19T00:18:25.121Z"
   },
   {
    "duration": 3,
    "start_time": "2025-01-19T00:18:25.147Z"
   },
   {
    "duration": 111,
    "start_time": "2025-01-19T00:18:25.152Z"
   },
   {
    "duration": 4,
    "start_time": "2025-01-19T00:18:25.265Z"
   },
   {
    "duration": 8,
    "start_time": "2025-01-19T00:18:25.271Z"
   },
   {
    "duration": 4,
    "start_time": "2025-01-19T00:18:25.280Z"
   },
   {
    "duration": 16,
    "start_time": "2025-01-19T00:18:25.288Z"
   },
   {
    "duration": 554,
    "start_time": "2025-01-19T00:18:25.305Z"
   },
   {
    "duration": 0,
    "start_time": "2025-01-19T00:18:25.861Z"
   },
   {
    "duration": 0,
    "start_time": "2025-01-19T00:18:25.862Z"
   },
   {
    "duration": 0,
    "start_time": "2025-01-19T00:18:25.863Z"
   },
   {
    "duration": 0,
    "start_time": "2025-01-19T00:18:25.864Z"
   },
   {
    "duration": 0,
    "start_time": "2025-01-19T00:18:25.866Z"
   },
   {
    "duration": 0,
    "start_time": "2025-01-19T00:18:25.867Z"
   },
   {
    "duration": 0,
    "start_time": "2025-01-19T00:18:25.868Z"
   },
   {
    "duration": 0,
    "start_time": "2025-01-19T00:18:25.869Z"
   },
   {
    "duration": 0,
    "start_time": "2025-01-19T00:18:25.870Z"
   },
   {
    "duration": 0,
    "start_time": "2025-01-19T00:18:25.871Z"
   },
   {
    "duration": 0,
    "start_time": "2025-01-19T00:18:25.872Z"
   },
   {
    "duration": 0,
    "start_time": "2025-01-19T00:18:25.873Z"
   },
   {
    "duration": 0,
    "start_time": "2025-01-19T00:18:25.875Z"
   },
   {
    "duration": 0,
    "start_time": "2025-01-19T00:18:25.876Z"
   },
   {
    "duration": 0,
    "start_time": "2025-01-19T00:18:25.877Z"
   },
   {
    "duration": 0,
    "start_time": "2025-01-19T00:18:25.878Z"
   },
   {
    "duration": 0,
    "start_time": "2025-01-19T00:18:25.880Z"
   },
   {
    "duration": 17,
    "start_time": "2025-01-19T00:18:54.266Z"
   },
   {
    "duration": 42,
    "start_time": "2025-01-19T00:18:54.286Z"
   },
   {
    "duration": 75,
    "start_time": "2025-01-19T00:18:54.330Z"
   },
   {
    "duration": 44,
    "start_time": "2025-01-19T00:18:54.407Z"
   },
   {
    "duration": 14,
    "start_time": "2025-01-19T00:18:54.453Z"
   },
   {
    "duration": 0,
    "start_time": "2025-01-19T00:18:54.469Z"
   },
   {
    "duration": 0,
    "start_time": "2025-01-19T00:18:54.470Z"
   },
   {
    "duration": 0,
    "start_time": "2025-01-19T00:18:54.471Z"
   },
   {
    "duration": 0,
    "start_time": "2025-01-19T00:18:54.472Z"
   },
   {
    "duration": 0,
    "start_time": "2025-01-19T00:18:54.473Z"
   },
   {
    "duration": 0,
    "start_time": "2025-01-19T00:18:54.474Z"
   },
   {
    "duration": 0,
    "start_time": "2025-01-19T00:18:54.475Z"
   },
   {
    "duration": 0,
    "start_time": "2025-01-19T00:18:54.476Z"
   },
   {
    "duration": 0,
    "start_time": "2025-01-19T00:18:54.478Z"
   },
   {
    "duration": 0,
    "start_time": "2025-01-19T00:18:54.479Z"
   },
   {
    "duration": 0,
    "start_time": "2025-01-19T00:18:54.481Z"
   },
   {
    "duration": 0,
    "start_time": "2025-01-19T00:18:54.482Z"
   },
   {
    "duration": 4,
    "start_time": "2025-01-19T00:20:25.292Z"
   },
   {
    "duration": 5,
    "start_time": "2025-01-19T00:20:35.663Z"
   },
   {
    "duration": 14,
    "start_time": "2025-01-19T00:20:41.572Z"
   },
   {
    "duration": 5,
    "start_time": "2025-01-19T00:20:48.086Z"
   },
   {
    "duration": 6,
    "start_time": "2025-01-19T00:21:17.156Z"
   },
   {
    "duration": 22,
    "start_time": "2025-01-19T00:21:20.388Z"
   },
   {
    "duration": 5,
    "start_time": "2025-01-19T00:21:22.310Z"
   },
   {
    "duration": 158,
    "start_time": "2025-01-19T01:21:19.293Z"
   },
   {
    "duration": 287,
    "start_time": "2025-01-19T01:21:36.286Z"
   },
   {
    "duration": 108,
    "start_time": "2025-01-19T01:21:36.575Z"
   },
   {
    "duration": 12,
    "start_time": "2025-01-19T01:21:36.685Z"
   },
   {
    "duration": 30,
    "start_time": "2025-01-19T01:21:36.699Z"
   },
   {
    "duration": 3,
    "start_time": "2025-01-19T01:21:36.731Z"
   },
   {
    "duration": 4,
    "start_time": "2025-01-19T01:21:36.735Z"
   },
   {
    "duration": 3,
    "start_time": "2025-01-19T01:21:36.741Z"
   },
   {
    "duration": 8,
    "start_time": "2025-01-19T01:21:36.746Z"
   },
   {
    "duration": 3,
    "start_time": "2025-01-19T01:21:36.756Z"
   },
   {
    "duration": 50,
    "start_time": "2025-01-19T01:21:36.762Z"
   },
   {
    "duration": 543,
    "start_time": "2025-01-19T01:21:36.814Z"
   },
   {
    "duration": 0,
    "start_time": "2025-01-19T01:21:37.359Z"
   },
   {
    "duration": 0,
    "start_time": "2025-01-19T01:21:37.360Z"
   },
   {
    "duration": 0,
    "start_time": "2025-01-19T01:21:37.362Z"
   },
   {
    "duration": 0,
    "start_time": "2025-01-19T01:21:37.364Z"
   },
   {
    "duration": 0,
    "start_time": "2025-01-19T01:21:37.365Z"
   },
   {
    "duration": 0,
    "start_time": "2025-01-19T01:21:37.367Z"
   },
   {
    "duration": 0,
    "start_time": "2025-01-19T01:21:37.369Z"
   },
   {
    "duration": 0,
    "start_time": "2025-01-19T01:21:37.370Z"
   },
   {
    "duration": 0,
    "start_time": "2025-01-19T01:21:37.372Z"
   },
   {
    "duration": 0,
    "start_time": "2025-01-19T01:21:37.373Z"
   },
   {
    "duration": 0,
    "start_time": "2025-01-19T01:21:37.375Z"
   },
   {
    "duration": 0,
    "start_time": "2025-01-19T01:21:37.376Z"
   },
   {
    "duration": 0,
    "start_time": "2025-01-19T01:21:37.405Z"
   },
   {
    "duration": 0,
    "start_time": "2025-01-19T01:21:37.407Z"
   },
   {
    "duration": 0,
    "start_time": "2025-01-19T01:21:37.408Z"
   },
   {
    "duration": 0,
    "start_time": "2025-01-19T01:21:37.410Z"
   },
   {
    "duration": 0,
    "start_time": "2025-01-19T01:21:37.411Z"
   },
   {
    "duration": 15,
    "start_time": "2025-01-19T01:22:22.348Z"
   },
   {
    "duration": 13,
    "start_time": "2025-01-19T01:22:25.393Z"
   },
   {
    "duration": 13,
    "start_time": "2025-01-19T01:22:28.068Z"
   },
   {
    "duration": 2,
    "start_time": "2025-01-19T01:22:35.890Z"
   },
   {
    "duration": 89,
    "start_time": "2025-01-19T01:22:35.894Z"
   },
   {
    "duration": 8,
    "start_time": "2025-01-19T01:22:35.985Z"
   },
   {
    "duration": 28,
    "start_time": "2025-01-19T01:22:35.996Z"
   },
   {
    "duration": 3,
    "start_time": "2025-01-19T01:22:36.026Z"
   },
   {
    "duration": 3,
    "start_time": "2025-01-19T01:22:36.031Z"
   },
   {
    "duration": 3,
    "start_time": "2025-01-19T01:22:36.036Z"
   },
   {
    "duration": 7,
    "start_time": "2025-01-19T01:22:36.041Z"
   },
   {
    "duration": 3,
    "start_time": "2025-01-19T01:22:36.050Z"
   },
   {
    "duration": 53,
    "start_time": "2025-01-19T01:22:36.055Z"
   },
   {
    "duration": 38,
    "start_time": "2025-01-19T01:22:36.111Z"
   },
   {
    "duration": 0,
    "start_time": "2025-01-19T01:22:36.151Z"
   },
   {
    "duration": 0,
    "start_time": "2025-01-19T01:22:36.152Z"
   },
   {
    "duration": 0,
    "start_time": "2025-01-19T01:22:36.153Z"
   },
   {
    "duration": 0,
    "start_time": "2025-01-19T01:22:36.154Z"
   },
   {
    "duration": 0,
    "start_time": "2025-01-19T01:22:36.155Z"
   },
   {
    "duration": 0,
    "start_time": "2025-01-19T01:22:36.156Z"
   },
   {
    "duration": 0,
    "start_time": "2025-01-19T01:22:36.157Z"
   },
   {
    "duration": 0,
    "start_time": "2025-01-19T01:22:36.158Z"
   },
   {
    "duration": 0,
    "start_time": "2025-01-19T01:22:36.159Z"
   },
   {
    "duration": 0,
    "start_time": "2025-01-19T01:22:36.161Z"
   },
   {
    "duration": 0,
    "start_time": "2025-01-19T01:22:36.162Z"
   },
   {
    "duration": 0,
    "start_time": "2025-01-19T01:22:36.163Z"
   },
   {
    "duration": 0,
    "start_time": "2025-01-19T01:22:36.164Z"
   },
   {
    "duration": 0,
    "start_time": "2025-01-19T01:22:36.165Z"
   },
   {
    "duration": 0,
    "start_time": "2025-01-19T01:22:36.166Z"
   },
   {
    "duration": 0,
    "start_time": "2025-01-19T01:22:36.167Z"
   },
   {
    "duration": 0,
    "start_time": "2025-01-19T01:22:36.168Z"
   },
   {
    "duration": 2,
    "start_time": "2025-01-19T01:22:47.724Z"
   },
   {
    "duration": 89,
    "start_time": "2025-01-19T01:22:49.579Z"
   },
   {
    "duration": 8,
    "start_time": "2025-01-19T01:22:51.764Z"
   },
   {
    "duration": 20,
    "start_time": "2025-01-19T01:22:55.655Z"
   },
   {
    "duration": 3,
    "start_time": "2025-01-19T01:23:01.552Z"
   },
   {
    "duration": 3,
    "start_time": "2025-01-19T01:23:05.397Z"
   },
   {
    "duration": 3,
    "start_time": "2025-01-19T01:23:16.161Z"
   },
   {
    "duration": 7,
    "start_time": "2025-01-19T01:23:20.330Z"
   },
   {
    "duration": 3,
    "start_time": "2025-01-19T01:23:24.310Z"
   },
   {
    "duration": 19,
    "start_time": "2025-01-19T01:23:27.181Z"
   },
   {
    "duration": 41,
    "start_time": "2025-01-19T01:23:31.277Z"
   },
   {
    "duration": 23,
    "start_time": "2025-01-19T01:23:52.832Z"
   },
   {
    "duration": 18,
    "start_time": "2025-01-19T01:24:08.220Z"
   },
   {
    "duration": 42,
    "start_time": "2025-01-19T01:24:11.436Z"
   },
   {
    "duration": 82,
    "start_time": "2025-01-19T01:24:15.254Z"
   },
   {
    "duration": 41,
    "start_time": "2025-01-19T01:24:17.116Z"
   },
   {
    "duration": 11,
    "start_time": "2025-01-19T01:24:20.393Z"
   },
   {
    "duration": 38,
    "start_time": "2025-01-19T01:24:29.694Z"
   },
   {
    "duration": 48,
    "start_time": "2025-01-19T01:24:39.450Z"
   },
   {
    "duration": 17,
    "start_time": "2025-01-19T01:27:27.424Z"
   },
   {
    "duration": 37,
    "start_time": "2025-01-19T01:27:48.101Z"
   },
   {
    "duration": 12,
    "start_time": "2025-01-19T01:27:52.454Z"
   },
   {
    "duration": 12,
    "start_time": "2025-01-19T01:27:54.902Z"
   },
   {
    "duration": 37,
    "start_time": "2025-01-19T01:28:36.982Z"
   },
   {
    "duration": 11,
    "start_time": "2025-01-19T01:29:11.715Z"
   },
   {
    "duration": 11,
    "start_time": "2025-01-19T01:29:17.141Z"
   },
   {
    "duration": 10,
    "start_time": "2025-01-19T01:30:20.827Z"
   },
   {
    "duration": 12,
    "start_time": "2025-01-19T01:30:34.134Z"
   },
   {
    "duration": 214,
    "start_time": "2025-01-19T01:31:09.815Z"
   },
   {
    "duration": 3,
    "start_time": "2025-01-19T01:31:26.916Z"
   },
   {
    "duration": 98,
    "start_time": "2025-01-19T01:31:26.921Z"
   },
   {
    "duration": 8,
    "start_time": "2025-01-19T01:31:27.022Z"
   },
   {
    "duration": 27,
    "start_time": "2025-01-19T01:31:27.032Z"
   },
   {
    "duration": 2,
    "start_time": "2025-01-19T01:31:27.062Z"
   },
   {
    "duration": 3,
    "start_time": "2025-01-19T01:31:27.066Z"
   },
   {
    "duration": 4,
    "start_time": "2025-01-19T01:31:27.071Z"
   },
   {
    "duration": 32,
    "start_time": "2025-01-19T01:31:27.077Z"
   },
   {
    "duration": 2,
    "start_time": "2025-01-19T01:31:27.111Z"
   },
   {
    "duration": 18,
    "start_time": "2025-01-19T01:31:27.121Z"
   },
   {
    "duration": 24,
    "start_time": "2025-01-19T01:31:27.142Z"
   },
   {
    "duration": 38,
    "start_time": "2025-01-19T01:31:27.169Z"
   },
   {
    "duration": 52,
    "start_time": "2025-01-19T01:31:27.209Z"
   },
   {
    "duration": 80,
    "start_time": "2025-01-19T01:31:27.263Z"
   },
   {
    "duration": 61,
    "start_time": "2025-01-19T01:31:27.345Z"
   },
   {
    "duration": 9,
    "start_time": "2025-01-19T01:31:27.408Z"
   },
   {
    "duration": 37,
    "start_time": "2025-01-19T01:31:27.419Z"
   },
   {
    "duration": 53,
    "start_time": "2025-01-19T01:31:27.458Z"
   },
   {
    "duration": 10,
    "start_time": "2025-01-19T01:31:27.513Z"
   },
   {
    "duration": 41,
    "start_time": "2025-01-19T01:31:27.525Z"
   },
   {
    "duration": 0,
    "start_time": "2025-01-19T01:31:27.568Z"
   },
   {
    "duration": 0,
    "start_time": "2025-01-19T01:31:27.569Z"
   },
   {
    "duration": 0,
    "start_time": "2025-01-19T01:31:27.570Z"
   },
   {
    "duration": 0,
    "start_time": "2025-01-19T01:31:27.571Z"
   },
   {
    "duration": 0,
    "start_time": "2025-01-19T01:31:27.572Z"
   },
   {
    "duration": 0,
    "start_time": "2025-01-19T01:31:27.573Z"
   },
   {
    "duration": 0,
    "start_time": "2025-01-19T01:31:27.574Z"
   },
   {
    "duration": 0,
    "start_time": "2025-01-19T01:31:27.574Z"
   },
   {
    "duration": 43,
    "start_time": "2025-01-19T01:31:40.405Z"
   },
   {
    "duration": 40,
    "start_time": "2025-01-19T01:32:16.453Z"
   },
   {
    "duration": 10,
    "start_time": "2025-01-19T01:32:20.557Z"
   },
   {
    "duration": 46,
    "start_time": "2025-01-19T01:33:05.711Z"
   },
   {
    "duration": 46,
    "start_time": "2025-01-19T01:33:20.821Z"
   },
   {
    "duration": 48,
    "start_time": "2025-01-19T01:33:24.946Z"
   },
   {
    "duration": 12,
    "start_time": "2025-01-19T01:33:39.635Z"
   },
   {
    "duration": 23,
    "start_time": "2025-01-19T01:34:15.633Z"
   },
   {
    "duration": 23,
    "start_time": "2025-01-19T01:34:46.198Z"
   },
   {
    "duration": 11,
    "start_time": "2025-01-19T01:34:49.655Z"
   },
   {
    "duration": 23,
    "start_time": "2025-01-19T01:34:52.439Z"
   },
   {
    "duration": 12,
    "start_time": "2025-01-19T01:35:15.088Z"
   },
   {
    "duration": 35,
    "start_time": "2025-01-19T01:35:18.919Z"
   },
   {
    "duration": 36,
    "start_time": "2025-01-19T01:35:23.232Z"
   },
   {
    "duration": 10,
    "start_time": "2025-01-19T01:35:27.648Z"
   },
   {
    "duration": 37,
    "start_time": "2025-01-19T01:35:30.313Z"
   },
   {
    "duration": 72,
    "start_time": "2025-01-19T01:35:31.904Z"
   },
   {
    "duration": 36,
    "start_time": "2025-01-19T01:35:33.935Z"
   },
   {
    "duration": 17,
    "start_time": "2025-01-19T01:35:36.671Z"
   },
   {
    "duration": 24,
    "start_time": "2025-01-19T01:35:39.904Z"
   },
   {
    "duration": 16,
    "start_time": "2025-01-19T01:35:47.240Z"
   },
   {
    "duration": 3,
    "start_time": "2025-01-19T01:35:49.584Z"
   },
   {
    "duration": 6,
    "start_time": "2025-01-19T01:35:52.797Z"
   },
   {
    "duration": 4,
    "start_time": "2025-01-19T01:35:55.891Z"
   },
   {
    "duration": 4,
    "start_time": "2025-01-19T01:35:58.541Z"
   },
   {
    "duration": 3,
    "start_time": "2025-01-19T01:36:02.465Z"
   },
   {
    "duration": 19,
    "start_time": "2025-01-19T01:36:07.425Z"
   },
   {
    "duration": 9,
    "start_time": "2025-01-19T01:36:11.497Z"
   },
   {
    "duration": 88,
    "start_time": "2025-01-19T01:36:13.165Z"
   },
   {
    "duration": 2,
    "start_time": "2025-01-19T01:36:15.750Z"
   },
   {
    "duration": 93,
    "start_time": "2025-01-19T01:36:17.337Z"
   },
   {
    "duration": 12,
    "start_time": "2025-01-19T01:36:22.320Z"
   },
   {
    "duration": 54,
    "start_time": "2025-01-19T01:36:42.432Z"
   },
   {
    "duration": 45,
    "start_time": "2025-01-19T01:37:26.630Z"
   },
   {
    "duration": 15,
    "start_time": "2025-01-19T01:37:35.065Z"
   },
   {
    "duration": 42,
    "start_time": "2025-01-19T01:38:02.737Z"
   },
   {
    "duration": 39,
    "start_time": "2025-01-19T01:38:09.944Z"
   },
   {
    "duration": 15,
    "start_time": "2025-01-19T01:38:17.790Z"
   },
   {
    "duration": 40,
    "start_time": "2025-01-19T01:38:20.675Z"
   },
   {
    "duration": 15,
    "start_time": "2025-01-19T01:38:23.809Z"
   },
   {
    "duration": 40,
    "start_time": "2025-01-19T01:38:27.944Z"
   },
   {
    "duration": 15,
    "start_time": "2025-01-19T01:38:33.679Z"
   },
   {
    "duration": 4,
    "start_time": "2025-01-19T01:38:38.120Z"
   },
   {
    "duration": 87,
    "start_time": "2025-01-19T01:38:38.126Z"
   },
   {
    "duration": 9,
    "start_time": "2025-01-19T01:38:38.215Z"
   },
   {
    "duration": 20,
    "start_time": "2025-01-19T01:38:38.225Z"
   },
   {
    "duration": 2,
    "start_time": "2025-01-19T01:38:38.247Z"
   },
   {
    "duration": 3,
    "start_time": "2025-01-19T01:38:38.251Z"
   },
   {
    "duration": 4,
    "start_time": "2025-01-19T01:38:38.256Z"
   },
   {
    "duration": 6,
    "start_time": "2025-01-19T01:38:38.261Z"
   },
   {
    "duration": 37,
    "start_time": "2025-01-19T01:38:38.268Z"
   },
   {
    "duration": 18,
    "start_time": "2025-01-19T01:38:38.306Z"
   },
   {
    "duration": 25,
    "start_time": "2025-01-19T01:38:38.325Z"
   },
   {
    "duration": 16,
    "start_time": "2025-01-19T01:38:38.352Z"
   },
   {
    "duration": 65,
    "start_time": "2025-01-19T01:38:38.370Z"
   },
   {
    "duration": 81,
    "start_time": "2025-01-19T01:38:38.436Z"
   },
   {
    "duration": 38,
    "start_time": "2025-01-19T01:38:38.519Z"
   },
   {
    "duration": 10,
    "start_time": "2025-01-19T01:38:38.559Z"
   },
   {
    "duration": 61,
    "start_time": "2025-01-19T01:38:38.571Z"
   },
   {
    "duration": 35,
    "start_time": "2025-01-19T01:38:38.634Z"
   },
   {
    "duration": 10,
    "start_time": "2025-01-19T01:38:38.672Z"
   },
   {
    "duration": 23,
    "start_time": "2025-01-19T01:38:38.684Z"
   },
   {
    "duration": 23,
    "start_time": "2025-01-19T01:38:38.708Z"
   },
   {
    "duration": 47,
    "start_time": "2025-01-19T01:38:38.733Z"
   },
   {
    "duration": 0,
    "start_time": "2025-01-19T01:38:38.782Z"
   },
   {
    "duration": 0,
    "start_time": "2025-01-19T01:38:38.783Z"
   },
   {
    "duration": 0,
    "start_time": "2025-01-19T01:38:38.806Z"
   },
   {
    "duration": 0,
    "start_time": "2025-01-19T01:38:38.808Z"
   },
   {
    "duration": 0,
    "start_time": "2025-01-19T01:38:38.809Z"
   },
   {
    "duration": 0,
    "start_time": "2025-01-19T01:38:38.810Z"
   },
   {
    "duration": 2,
    "start_time": "2025-01-19T01:38:46.208Z"
   },
   {
    "duration": 88,
    "start_time": "2025-01-19T01:38:48.122Z"
   },
   {
    "duration": 9,
    "start_time": "2025-01-19T01:38:49.798Z"
   },
   {
    "duration": 21,
    "start_time": "2025-01-19T01:38:54.512Z"
   },
   {
    "duration": 3,
    "start_time": "2025-01-19T01:39:04.307Z"
   },
   {
    "duration": 4,
    "start_time": "2025-01-19T01:39:09.617Z"
   },
   {
    "duration": 4,
    "start_time": "2025-01-19T01:39:18.702Z"
   },
   {
    "duration": 5,
    "start_time": "2025-01-19T01:39:22.448Z"
   },
   {
    "duration": 4,
    "start_time": "2025-01-19T01:39:32.263Z"
   },
   {
    "duration": 18,
    "start_time": "2025-01-19T01:39:38.486Z"
   },
   {
    "duration": 25,
    "start_time": "2025-01-19T01:39:43.615Z"
   },
   {
    "duration": 17,
    "start_time": "2025-01-19T01:39:48.401Z"
   },
   {
    "duration": 41,
    "start_time": "2025-01-19T01:39:51.537Z"
   },
   {
    "duration": 88,
    "start_time": "2025-01-19T01:39:53.377Z"
   },
   {
    "duration": 38,
    "start_time": "2025-01-19T01:39:55.578Z"
   },
   {
    "duration": 11,
    "start_time": "2025-01-19T01:39:58.824Z"
   },
   {
    "duration": 11,
    "start_time": "2025-01-19T01:40:04.571Z"
   },
   {
    "duration": 11,
    "start_time": "2025-01-19T01:40:14.098Z"
   },
   {
    "duration": 38,
    "start_time": "2025-01-19T01:40:21.705Z"
   },
   {
    "duration": 37,
    "start_time": "2025-01-19T01:40:30.921Z"
   },
   {
    "duration": 11,
    "start_time": "2025-01-19T01:40:36.414Z"
   },
   {
    "duration": 11,
    "start_time": "2025-01-19T01:40:45.010Z"
   },
   {
    "duration": 30,
    "start_time": "2025-01-19T01:40:56.301Z"
   },
   {
    "duration": 32,
    "start_time": "2025-01-19T01:43:04.106Z"
   },
   {
    "duration": 43,
    "start_time": "2025-01-19T01:43:17.906Z"
   },
   {
    "duration": 42,
    "start_time": "2025-01-19T01:43:38.491Z"
   },
   {
    "duration": 13,
    "start_time": "2025-01-19T01:43:45.074Z"
   },
   {
    "duration": 10,
    "start_time": "2025-01-19T01:44:48.283Z"
   },
   {
    "duration": 33,
    "start_time": "2025-01-19T01:44:58.391Z"
   },
   {
    "duration": 62,
    "start_time": "2025-01-19T01:45:12.524Z"
   },
   {
    "duration": 49,
    "start_time": "2025-01-19T01:45:22.515Z"
   },
   {
    "duration": 71,
    "start_time": "2025-01-19T01:45:42.031Z"
   },
   {
    "duration": 91,
    "start_time": "2025-01-19T01:46:11.193Z"
   },
   {
    "duration": 71,
    "start_time": "2025-01-19T01:46:30.998Z"
   },
   {
    "duration": 52,
    "start_time": "2025-01-19T01:46:34.223Z"
   },
   {
    "duration": 3,
    "start_time": "2025-01-19T01:46:38.419Z"
   },
   {
    "duration": 3,
    "start_time": "2025-01-19T01:46:41.226Z"
   },
   {
    "duration": 6,
    "start_time": "2025-01-19T01:46:43.115Z"
   },
   {
    "duration": 3,
    "start_time": "2025-01-19T01:46:45.195Z"
   },
   {
    "duration": 3,
    "start_time": "2025-01-19T01:46:47.005Z"
   },
   {
    "duration": 2,
    "start_time": "2025-01-19T01:46:48.938Z"
   }
  ],
  "colab": {
   "collapsed_sections": [
    "E0vqbgi9ay0H",
    "VUC88oWjTJw2"
   ],
   "provenance": []
  },
  "kernelspec": {
   "display_name": "Python 3 (ipykernel)",
   "language": "python",
   "name": "python3"
  },
  "language_info": {
   "codemirror_mode": {
    "name": "ipython",
    "version": 3
   },
   "file_extension": ".py",
   "mimetype": "text/x-python",
   "name": "python",
   "nbconvert_exporter": "python",
   "pygments_lexer": "ipython3",
   "version": "3.9.19"
  },
  "toc": {
   "base_numbering": 1,
   "nav_menu": {},
   "number_sections": true,
   "sideBar": true,
   "skip_h1_title": true,
   "title_cell": "Table of Contents",
   "title_sidebar": "Contents",
   "toc_cell": false,
   "toc_position": {},
   "toc_section_display": true,
   "toc_window_display": false
  }
 },
 "nbformat": 4,
 "nbformat_minor": 1
}
